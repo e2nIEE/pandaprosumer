{
 "cells": [
  {
   "metadata": {},
   "cell_type": "markdown",
   "source": "# PANDAPROSUMER EXAMPLE: HEAT PUMP WITH HEAT STRATIFIED STORAGE",
   "id": "1d72e27bb53ef49c"
  },
  {
   "metadata": {},
   "cell_type": "markdown",
   "source": [
    "## DESCRIPTION:\n",
    "This example describes how to create a single heat pump element in pandaprosumer and connect it to a heat stratified storage unit which is then connected to a single consumer (heat demand). The demand and source temperature data is read from an Excel file and stored in pandas dataframe. It includes the information about the power required by the consumer and source temperature at each time step.\n",
    "\n",
    "This tutorial illustrates how to use the **Stratified Heat Storage** controller\n",
    "\n",
    "\n",
    "![title](img/hp_shs_hd.png)"
   ],
   "id": "1a1460d5f91388be"
  },
  {
   "metadata": {},
   "cell_type": "markdown",
   "source": [
    "## Glossary:\n",
    "- Network: A configuration of connected energy generators and energy consumers\n",
    "- Element: A single energy generator or a single energy consumer\n",
    "- Controller: The logic of an element that defines its behaviour and its limits\n",
    "- Prosumer/Container: A pandaprosumer data structure that holds data related to elements and their controllers.\n",
    "- Const Profile Controller: The initial controller in the network that interacts with other element controllers; it also manages external data via time series.\n",
    "- Map / mapping: A connection between two controllers that specifies what information is exchanged between the corresponding elements."
   ],
   "id": "500262c6f62f99c2"
  },
  {
   "metadata": {},
   "cell_type": "markdown",
   "source": [
    "## Network design philosophy:\n",
    "In pandaprosumer, a system's component is represented by a network element. Each element is assigned a container and its own element controller. A container is a structure that contains the component's configuration data (static input data), which can include information that will not change in the analysis such as size, nominal power, efficiency, etc. The behaviour of an element is governed by its controller. Connections between elements are defined in maps, which couple output parameters of one controller to the input parameter of a controller of a connected element. The network is managed by a controller called ConstProfileController. This controller is connected to all element controllers and manages dynamic input data from external sources (e.g. Excel file). For each time step it distributes the dynamic input data to the relevant element controllers."
   ],
   "id": "455096554daf4b7c"
  },
  {
   "metadata": {},
   "cell_type": "markdown",
   "source": [
    "# 1 - INPUT DATA:\n",
    "First let's import libraries required for data management."
   ],
   "id": "c42b371621c904bf"
  },
  {
   "metadata": {
    "ExecuteTime": {
     "end_time": "2025-05-08T07:49:21.608045Z",
     "start_time": "2025-05-08T07:49:18.274563Z"
    }
   },
   "cell_type": "code",
   "source": [
    "import pandas as pd\n",
    "from pandapower.timeseries.data_sources.frame_data import DFData"
   ],
   "id": "142082ad59af444",
   "outputs": [],
   "execution_count": 1
  },
  {
   "metadata": {},
   "cell_type": "markdown",
   "source": [
    "Next we need to define properties of the heat pump which are treated as static input data, i.e. data (characteristics) that don't change during an analysis. In this case the properties for the heat pump are :\n",
    "\n",
    "- `carnot_efficiency`: The efficiency of the heat pump relative to the Carnot cycle (dimensionless, between 0 and 1).\n",
    "- `pinch_c`: The pinch point temperature difference (°C), which represents the minimum temperature difference in the heat exchanger.\n",
    "- `delta_t_evap_c`: The temperature difference at the evaporator (°C).\n",
    "- `max_p_comp_kw`: The maximum compressor power (kW), which limits the heat pump's capacity.\n",
    "- `name`: A label identifying the heat pump.\n",
    "\n",
    "\n",
    "Next, we define the properties of the **stratified heat storage (SHS)**, which is used to store thermal energy. The SHS parameters include physical dimensions, insulation properties, and temperature constraints.\n",
    "\n",
    "- `tank_height_m`: The height of the storage tank (meters).\n",
    "- `tank_internal_radius_m`: The internal radius of the tank (meters).\n",
    "- `tank_external_radius_m`: The external radius of the tank (meters).\n",
    "- `insulation_thickness_m`: The thickness of the tank's insulation (meters).\n",
    "- `n_layers`: The number of discrete layers used for thermal stratification.\n",
    "- `min_useful_temp_c`: The minimum temperature (°C) at which stored heat is considered useful.\n",
    "- `t_ext_c`: The external ambient temperature (°C).\n",
    "- `name`: A label for the heat storage system.\n",
    "\n",
    " While these arguments are generally optional, in our specific case they are required in order to fully configure the heat exchanger. Other optional arguments are also available for more advanced configurations.\n",
    "\n"
   ],
   "id": "2d7c1bd4bd7fa9e9"
  },
  {
   "metadata": {
    "ExecuteTime": {
     "end_time": "2025-05-08T07:49:21.623745Z",
     "start_time": "2025-05-08T07:49:21.612757Z"
    }
   },
   "cell_type": "code",
   "source": [
    "hp_params = {\"carnot_efficiency\": 0.5,\n",
    "             \"pinch_c\": 0,\n",
    "             \"delta_t_evap_c\": 5,\n",
    "             \"max_p_comp_kw\": 200,\n",
    "             \"name\":'air_water_heat_pump'}\n",
    "\n",
    "shs_params = {\"tank_height_m\": 10.,\n",
    "              \"tank_internal_radius_m\": 0.564,\n",
    "              \"tank_external_radius_m\": 0.664,\n",
    "              \"insulation_thickness_m\": .1,\n",
    "              \"n_layers\": 100,\n",
    "              \"min_useful_temp_c\": 80,\n",
    "              \"t_ext_c\": 20,\n",
    "              \"max_dt_s\": 1,\n",
    "              \"t_discharge_out_tol_c\": 1,\n",
    "              \"name\":'tank_heat_storage'}\n",
    "\n",
    "hd_params = {\"name\": 'heat_consumer'}\n"
   ],
   "id": "d09e6948fed57f3",
   "outputs": [],
   "execution_count": 2
  },
  {
   "metadata": {},
   "cell_type": "markdown",
   "source": "We define the analysis time series.",
   "id": "e2e94621f3d0f86d"
  },
  {
   "metadata": {
    "ExecuteTime": {
     "end_time": "2025-05-08T07:49:21.924456Z",
     "start_time": "2025-05-08T07:49:21.910164Z"
    }
   },
   "cell_type": "code",
   "source": [
    "start = '2020-01-01 00:00:00'\n",
    "end = '2020-01-01 23:59:59'\n",
    "time_resolution_s = 900"
   ],
   "id": "3ecbe4b60147ccf6",
   "outputs": [],
   "execution_count": 3
  },
  {
   "metadata": {},
   "cell_type": "markdown",
   "source": "Now we import our demand data and transform it into an appropriate DFData object. All data of an individual element is stored in a dedicated DFData object.",
   "id": "ecd5c572e5fbb1b1"
  },
  {
   "metadata": {
    "ExecuteTime": {
     "end_time": "2025-05-08T07:49:22.017672Z",
     "start_time": "2025-05-08T07:49:21.973791Z"
    }
   },
   "cell_type": "code",
   "source": [
    "import sys\n",
    "import os\n",
    "\n",
    "current_directory = os.getcwd()\n",
    "parent_directory = os.path.dirname(current_directory)\n",
    "sys.path.append(parent_directory)\n",
    "\n",
    "demand_data = pd.read_excel('data/hp_data.xlsx')\n",
    "\n",
    "dur = pd.date_range(start=start, end=end, freq='900s',tz='utc')\n",
    "demand_data.index = dur\n",
    "demand_input = DFData(demand_data)\n",
    "demand_input.df.head(10)\n"
   ],
   "id": "a4022973615f828b",
   "outputs": [
    {
     "data": {
      "text/plain": [
       "                           t_air  demand_power  t_feed_demand_c  \\\n",
       "2020-01-01 00:00:00+00:00     25             0               80   \n",
       "2020-01-01 00:15:00+00:00     25             0               80   \n",
       "2020-01-01 00:30:00+00:00     25             0               80   \n",
       "2020-01-01 00:45:00+00:00     25             0               80   \n",
       "2020-01-01 01:00:00+00:00     25             0               80   \n",
       "2020-01-01 01:15:00+00:00     25           500               80   \n",
       "2020-01-01 01:30:00+00:00     25           500               80   \n",
       "2020-01-01 01:45:00+00:00     25           500               80   \n",
       "2020-01-01 02:00:00+00:00     25           321               80   \n",
       "2020-01-01 02:15:00+00:00     25           321               80   \n",
       "\n",
       "                           t_return_demand_c  \n",
       "2020-01-01 00:00:00+00:00                 20  \n",
       "2020-01-01 00:15:00+00:00                 20  \n",
       "2020-01-01 00:30:00+00:00                 20  \n",
       "2020-01-01 00:45:00+00:00                 20  \n",
       "2020-01-01 01:00:00+00:00                 20  \n",
       "2020-01-01 01:15:00+00:00                 20  \n",
       "2020-01-01 01:30:00+00:00                 20  \n",
       "2020-01-01 01:45:00+00:00                 20  \n",
       "2020-01-01 02:00:00+00:00                 20  \n",
       "2020-01-01 02:15:00+00:00                 20  "
      ],
      "text/html": [
       "<div>\n",
       "<style scoped>\n",
       "    .dataframe tbody tr th:only-of-type {\n",
       "        vertical-align: middle;\n",
       "    }\n",
       "\n",
       "    .dataframe tbody tr th {\n",
       "        vertical-align: top;\n",
       "    }\n",
       "\n",
       "    .dataframe thead th {\n",
       "        text-align: right;\n",
       "    }\n",
       "</style>\n",
       "<table border=\"1\" class=\"dataframe\">\n",
       "  <thead>\n",
       "    <tr style=\"text-align: right;\">\n",
       "      <th></th>\n",
       "      <th>t_air</th>\n",
       "      <th>demand_power</th>\n",
       "      <th>t_feed_demand_c</th>\n",
       "      <th>t_return_demand_c</th>\n",
       "    </tr>\n",
       "  </thead>\n",
       "  <tbody>\n",
       "    <tr>\n",
       "      <th>2020-01-01 00:00:00+00:00</th>\n",
       "      <td>25</td>\n",
       "      <td>0</td>\n",
       "      <td>80</td>\n",
       "      <td>20</td>\n",
       "    </tr>\n",
       "    <tr>\n",
       "      <th>2020-01-01 00:15:00+00:00</th>\n",
       "      <td>25</td>\n",
       "      <td>0</td>\n",
       "      <td>80</td>\n",
       "      <td>20</td>\n",
       "    </tr>\n",
       "    <tr>\n",
       "      <th>2020-01-01 00:30:00+00:00</th>\n",
       "      <td>25</td>\n",
       "      <td>0</td>\n",
       "      <td>80</td>\n",
       "      <td>20</td>\n",
       "    </tr>\n",
       "    <tr>\n",
       "      <th>2020-01-01 00:45:00+00:00</th>\n",
       "      <td>25</td>\n",
       "      <td>0</td>\n",
       "      <td>80</td>\n",
       "      <td>20</td>\n",
       "    </tr>\n",
       "    <tr>\n",
       "      <th>2020-01-01 01:00:00+00:00</th>\n",
       "      <td>25</td>\n",
       "      <td>0</td>\n",
       "      <td>80</td>\n",
       "      <td>20</td>\n",
       "    </tr>\n",
       "    <tr>\n",
       "      <th>2020-01-01 01:15:00+00:00</th>\n",
       "      <td>25</td>\n",
       "      <td>500</td>\n",
       "      <td>80</td>\n",
       "      <td>20</td>\n",
       "    </tr>\n",
       "    <tr>\n",
       "      <th>2020-01-01 01:30:00+00:00</th>\n",
       "      <td>25</td>\n",
       "      <td>500</td>\n",
       "      <td>80</td>\n",
       "      <td>20</td>\n",
       "    </tr>\n",
       "    <tr>\n",
       "      <th>2020-01-01 01:45:00+00:00</th>\n",
       "      <td>25</td>\n",
       "      <td>500</td>\n",
       "      <td>80</td>\n",
       "      <td>20</td>\n",
       "    </tr>\n",
       "    <tr>\n",
       "      <th>2020-01-01 02:00:00+00:00</th>\n",
       "      <td>25</td>\n",
       "      <td>321</td>\n",
       "      <td>80</td>\n",
       "      <td>20</td>\n",
       "    </tr>\n",
       "    <tr>\n",
       "      <th>2020-01-01 02:15:00+00:00</th>\n",
       "      <td>25</td>\n",
       "      <td>321</td>\n",
       "      <td>80</td>\n",
       "      <td>20</td>\n",
       "    </tr>\n",
       "  </tbody>\n",
       "</table>\n",
       "</div>"
      ]
     },
     "execution_count": 4,
     "metadata": {},
     "output_type": "execute_result"
    }
   ],
   "execution_count": 4
  },
  {
   "metadata": {},
   "cell_type": "markdown",
   "source": "We can plot the evolution of the demand from the Excel file.",
   "id": "20bf208b14962417"
  },
  {
   "metadata": {
    "ExecuteTime": {
     "end_time": "2025-05-08T07:49:22.436818Z",
     "start_time": "2025-05-08T07:49:22.082490Z"
    }
   },
   "cell_type": "code",
   "source": [
    "import matplotlib.pyplot as plt\n",
    "\n",
    "demand_input.df.plot(y='demand_power')\n",
    "plt.title(\"Heat Consumer demand power\")\n",
    "plt.ylabel(\"Thermal power (kW)\")\n",
    "plt.show()"
   ],
   "id": "acc208ed485f2f86",
   "outputs": [
    {
     "data": {
      "text/plain": [
       "<Figure size 640x480 with 1 Axes>"
      ],
      "image/png": "[encoded data removed]"
     },
     "metadata": {},
     "output_type": "display_data"
    }
   ],
   "execution_count": 5
  },
  {
   "metadata": {},
   "cell_type": "markdown",
   "source": [
    "# 2 - CREATING ELEMENTS OF THE NETWORK:\n",
    "In this example, the network is made up of three elements: a source, storage and a consumer. The source is represented by a single heat pump, storage is defined by heat stratified storage element and the consumer is modelled by a single heat demand element.\n",
    "\n",
    "We begin by defining an empty prosumer container object and then add the different elements and their respective controllers to it."
   ],
   "id": "b6f84d92889144d6"
  },
  {
   "metadata": {
    "ExecuteTime": {
     "end_time": "2025-05-08T07:49:22.857022Z",
     "start_time": "2025-05-08T07:49:22.485535Z"
    }
   },
   "cell_type": "code",
   "source": [
    "from pandaprosumer.create import create_empty_prosumer_container\n",
    "\n",
    "prosumer = create_empty_prosumer_container()"
   ],
   "id": "4bfed1f46eef0b4",
   "outputs": [],
   "execution_count": 6
  },
  {
   "metadata": {},
   "cell_type": "markdown",
   "source": "Then we define the period of the analysis using input data about the analysis of time and also timezone and period name.",
   "id": "37f38b289e5ee8a6"
  },
  {
   "metadata": {
    "ExecuteTime": {
     "end_time": "2025-05-08T07:49:22.887634Z",
     "start_time": "2025-05-08T07:49:22.865805Z"
    }
   },
   "cell_type": "code",
   "source": [
    "from pandaprosumer.create import create_period\n",
    "\n",
    "period_id = create_period(prosumer, time_resolution_s, start, end, 'utc', 'default')"
   ],
   "id": "3bb1a6fd52d77654",
   "outputs": [],
   "execution_count": 7
  },
  {
   "metadata": {},
   "cell_type": "markdown",
   "source": [
    "Now we can create the controllers connected to their respective containers and data. We also define the topology of the network by setting the elements' priority. In this example, the network has a linear configuration (the direction of energy flow goes in one direction), so only the order parameter is set:\n",
    "\n",
    "- The const profile controller is always the first element in the network and is the only one that reads data from external sources (order 0, level 0),\n",
    "- As the source, the heat pump controller is the second element (order 0, level 1) in the network,\n",
    "- Third element represents heat storage(order 1, level 1),\n",
    " -The final order is the demand (order 2, level 1).\n",
    "\n",
    "We begin by creating the Const Profile Controller."
   ],
   "id": "94601c61127ef2e5"
  },
  {
   "metadata": {
    "ExecuteTime": {
     "end_time": "2025-05-08T07:49:22.950169Z",
     "start_time": "2025-05-08T07:49:22.923579Z"
    }
   },
   "cell_type": "code",
   "source": [
    "from pandaprosumer.create_controlled import create_controlled_const_profile\n",
    "\n",
    "cp_input_columns = [\"t_air\", \"demand_power\", \"t_feed_demand_c\", \"t_return_demand_c\"]\n",
    "cp_result_columns = [\"t_evap_in_c\", \"qdemand_kw\", \"t_feed_demand_c\", \"t_return_demand_c\"]\n",
    "cp_controller_index = create_controlled_const_profile(prosumer, cp_input_columns, cp_result_columns, demand_input, period_id, 0, 0)"
   ],
   "id": "a593b8cd32003abc",
   "outputs": [],
   "execution_count": 8
  },
  {
   "metadata": {},
   "cell_type": "markdown",
   "source": "The heat pump, Stratified Heat Storage and Heat demand controllers are now created",
   "id": "84444f62864b16ef"
  },
  {
   "metadata": {
    "ExecuteTime": {
     "end_time": "2025-05-08T07:49:23.043423Z",
     "start_time": "2025-05-08T07:49:22.987058Z"
    }
   },
   "cell_type": "code",
   "source": [
    "from pandaprosumer.create_controlled import create_controlled_heat_pump,create_controlled_stratified_heat_storage,create_controlled_heat_demand\n",
    "\n",
    "hp_controller_index = create_controlled_heat_pump(prosumer, period=period_id, level=1, order=0, **hp_params)\n",
    "shs_controller_index = create_controlled_stratified_heat_storage(prosumer, period=period_id, level=1, order=1, **shs_params)\n",
    "hd_controller_index = create_controlled_heat_demand(prosumer, period=period_id, level=1, order = 2,**hd_params)"
   ],
   "id": "ff55fcc76370bf3b",
   "outputs": [],
   "execution_count": 9
  },
  {
   "metadata": {},
   "cell_type": "markdown",
   "source": "We can check that the elements were connected added to the prosumer with the specified parameters",
   "id": "f23591df7fae5f0"
  },
  {
   "metadata": {
    "ExecuteTime": {
     "end_time": "2025-05-08T07:49:23.121083Z",
     "start_time": "2025-05-08T07:49:23.092291Z"
    }
   },
   "cell_type": "code",
   "source": "prosumer.heat_pump",
   "id": "e06b44aa1db18a71",
   "outputs": [
    {
     "data": {
      "text/plain": [
       "                  name  delta_t_evap_c  carnot_efficiency  pinch_c  \\\n",
       "0  air_water_heat_pump             5.0                0.5      0.0   \n",
       "\n",
       "   delta_t_hot_default_c  max_p_comp_kw  min_p_comp_kw  max_t_cond_out_c  \\\n",
       "0                    5.0          200.0            NaN               NaN   \n",
       "\n",
       "   max_cop cond_fluid evap_fluid  in_service  \n",
       "0      NaN      water      water        True  "
      ],
      "text/html": [
       "<div>\n",
       "<style scoped>\n",
       "    .dataframe tbody tr th:only-of-type {\n",
       "        vertical-align: middle;\n",
       "    }\n",
       "\n",
       "    .dataframe tbody tr th {\n",
       "        vertical-align: top;\n",
       "    }\n",
       "\n",
       "    .dataframe thead th {\n",
       "        text-align: right;\n",
       "    }\n",
       "</style>\n",
       "<table border=\"1\" class=\"dataframe\">\n",
       "  <thead>\n",
       "    <tr style=\"text-align: right;\">\n",
       "      <th></th>\n",
       "      <th>name</th>\n",
       "      <th>delta_t_evap_c</th>\n",
       "      <th>carnot_efficiency</th>\n",
       "      <th>pinch_c</th>\n",
       "      <th>delta_t_hot_default_c</th>\n",
       "      <th>max_p_comp_kw</th>\n",
       "      <th>min_p_comp_kw</th>\n",
       "      <th>max_t_cond_out_c</th>\n",
       "      <th>max_cop</th>\n",
       "      <th>cond_fluid</th>\n",
       "      <th>evap_fluid</th>\n",
       "      <th>in_service</th>\n",
       "    </tr>\n",
       "  </thead>\n",
       "  <tbody>\n",
       "    <tr>\n",
       "      <th>0</th>\n",
       "      <td>air_water_heat_pump</td>\n",
       "      <td>5.0</td>\n",
       "      <td>0.5</td>\n",
       "      <td>0.0</td>\n",
       "      <td>5.0</td>\n",
       "      <td>200.0</td>\n",
       "      <td>NaN</td>\n",
       "      <td>NaN</td>\n",
       "      <td>NaN</td>\n",
       "      <td>water</td>\n",
       "      <td>water</td>\n",
       "      <td>True</td>\n",
       "    </tr>\n",
       "  </tbody>\n",
       "</table>\n",
       "</div>"
      ]
     },
     "execution_count": 10,
     "metadata": {},
     "output_type": "execute_result"
    }
   ],
   "execution_count": 10
  },
  {
   "metadata": {
    "ExecuteTime": {
     "end_time": "2025-05-08T07:49:23.304592Z",
     "start_time": "2025-05-08T07:49:23.262407Z"
    }
   },
   "cell_type": "code",
   "source": "prosumer.stratified_heat_storage",
   "id": "10e2840f555cc4fe",
   "outputs": [
    {
     "data": {
      "text/plain": [
       "                name  tank_height_m  tank_internal_radius_m  \\\n",
       "0  tank_heat_storage           10.0                   0.564   \n",
       "\n",
       "   tank_external_radius_m  insulation_thickness_m  n_layers  \\\n",
       "0                   0.664                     0.1       100   \n",
       "\n",
       "   min_useful_temp_c  k_fluid_w_per_mk  k_insu_w_per_mk  k_wall_w_per_mk  \\\n",
       "0               80.0             0.598            0.028             45.0   \n",
       "\n",
       "   h_ext_w_per_m2k  t_ext_c  max_remaining_capacity_kwh  \\\n",
       "0             12.5     20.0                         1.0   \n",
       "\n",
       "   t_discharge_out_tol_c  max_dt_s  height_charge_in_m  height_charge_out_m  \\\n",
       "0                    1.0       1.0                 NaN                  0.0   \n",
       "\n",
       "   height_discharge_out_m  height_discharge_in_m  in_service  \n",
       "0                     NaN                    0.0        True  "
      ],
      "text/html": [
       "<div>\n",
       "<style scoped>\n",
       "    .dataframe tbody tr th:only-of-type {\n",
       "        vertical-align: middle;\n",
       "    }\n",
       "\n",
       "    .dataframe tbody tr th {\n",
       "        vertical-align: top;\n",
       "    }\n",
       "\n",
       "    .dataframe thead th {\n",
       "        text-align: right;\n",
       "    }\n",
       "</style>\n",
       "<table border=\"1\" class=\"dataframe\">\n",
       "  <thead>\n",
       "    <tr style=\"text-align: right;\">\n",
       "      <th></th>\n",
       "      <th>name</th>\n",
       "      <th>tank_height_m</th>\n",
       "      <th>tank_internal_radius_m</th>\n",
       "      <th>tank_external_radius_m</th>\n",
       "      <th>insulation_thickness_m</th>\n",
       "      <th>n_layers</th>\n",
       "      <th>min_useful_temp_c</th>\n",
       "      <th>k_fluid_w_per_mk</th>\n",
       "      <th>k_insu_w_per_mk</th>\n",
       "      <th>k_wall_w_per_mk</th>\n",
       "      <th>h_ext_w_per_m2k</th>\n",
       "      <th>t_ext_c</th>\n",
       "      <th>max_remaining_capacity_kwh</th>\n",
       "      <th>t_discharge_out_tol_c</th>\n",
       "      <th>max_dt_s</th>\n",
       "      <th>height_charge_in_m</th>\n",
       "      <th>height_charge_out_m</th>\n",
       "      <th>height_discharge_out_m</th>\n",
       "      <th>height_discharge_in_m</th>\n",
       "      <th>in_service</th>\n",
       "    </tr>\n",
       "  </thead>\n",
       "  <tbody>\n",
       "    <tr>\n",
       "      <th>0</th>\n",
       "      <td>tank_heat_storage</td>\n",
       "      <td>10.0</td>\n",
       "      <td>0.564</td>\n",
       "      <td>0.664</td>\n",
       "      <td>0.1</td>\n",
       "      <td>100</td>\n",
       "      <td>80.0</td>\n",
       "      <td>0.598</td>\n",
       "      <td>0.028</td>\n",
       "      <td>45.0</td>\n",
       "      <td>12.5</td>\n",
       "      <td>20.0</td>\n",
       "      <td>1.0</td>\n",
       "      <td>1.0</td>\n",
       "      <td>1.0</td>\n",
       "      <td>NaN</td>\n",
       "      <td>0.0</td>\n",
       "      <td>NaN</td>\n",
       "      <td>0.0</td>\n",
       "      <td>True</td>\n",
       "    </tr>\n",
       "  </tbody>\n",
       "</table>\n",
       "</div>"
      ]
     },
     "execution_count": 11,
     "metadata": {},
     "output_type": "execute_result"
    }
   ],
   "execution_count": 11
  },
  {
   "metadata": {
    "ExecuteTime": {
     "end_time": "2025-05-08T07:49:23.507827Z",
     "start_time": "2025-05-08T07:49:23.480394Z"
    }
   },
   "cell_type": "code",
   "source": "prosumer.heat_demand",
   "id": "6e89d7d9842eb04c",
   "outputs": [
    {
     "data": {
      "text/plain": [
       "            name  scaling  in_service\n",
       "0  heat_consumer      1.0        True"
      ],
      "text/html": [
       "<div>\n",
       "<style scoped>\n",
       "    .dataframe tbody tr th:only-of-type {\n",
       "        vertical-align: middle;\n",
       "    }\n",
       "\n",
       "    .dataframe tbody tr th {\n",
       "        vertical-align: top;\n",
       "    }\n",
       "\n",
       "    .dataframe thead th {\n",
       "        text-align: right;\n",
       "    }\n",
       "</style>\n",
       "<table border=\"1\" class=\"dataframe\">\n",
       "  <thead>\n",
       "    <tr style=\"text-align: right;\">\n",
       "      <th></th>\n",
       "      <th>name</th>\n",
       "      <th>scaling</th>\n",
       "      <th>in_service</th>\n",
       "    </tr>\n",
       "  </thead>\n",
       "  <tbody>\n",
       "    <tr>\n",
       "      <th>0</th>\n",
       "      <td>heat_consumer</td>\n",
       "      <td>1.0</td>\n",
       "      <td>True</td>\n",
       "    </tr>\n",
       "  </tbody>\n",
       "</table>\n",
       "</div>"
      ]
     },
     "execution_count": 12,
     "metadata": {},
     "output_type": "execute_result"
    }
   ],
   "execution_count": 12
  },
  {
   "metadata": {},
   "cell_type": "markdown",
   "source": "Additionnaly, we can check that for each element, a controller has been added to the prosumer",
   "id": "8efe3429e7115fe8"
  },
  {
   "metadata": {
    "ExecuteTime": {
     "end_time": "2025-05-08T07:49:23.806788Z",
     "start_time": "2025-05-08T07:49:23.778792Z"
    }
   },
   "cell_type": "code",
   "source": "prosumer.controller",
   "id": "9ecf4204c73aec04",
   "outputs": [
    {
     "data": {
      "text/plain": [
       "                            object  in_service order level initial_run recycle\n",
       "0           ConstProfileController        True     0     0        True   False\n",
       "1               HeatPumpController        True     0     1        True   False\n",
       "2  StratifiedHeatStorageController        True     1     1        True   False\n",
       "3             HeatDemandController        True     2     1        True   False"
      ],
      "text/html": [
       "<div>\n",
       "<style scoped>\n",
       "    .dataframe tbody tr th:only-of-type {\n",
       "        vertical-align: middle;\n",
       "    }\n",
       "\n",
       "    .dataframe tbody tr th {\n",
       "        vertical-align: top;\n",
       "    }\n",
       "\n",
       "    .dataframe thead th {\n",
       "        text-align: right;\n",
       "    }\n",
       "</style>\n",
       "<table border=\"1\" class=\"dataframe\">\n",
       "  <thead>\n",
       "    <tr style=\"text-align: right;\">\n",
       "      <th></th>\n",
       "      <th>object</th>\n",
       "      <th>in_service</th>\n",
       "      <th>order</th>\n",
       "      <th>level</th>\n",
       "      <th>initial_run</th>\n",
       "      <th>recycle</th>\n",
       "    </tr>\n",
       "  </thead>\n",
       "  <tbody>\n",
       "    <tr>\n",
       "      <th>0</th>\n",
       "      <td>ConstProfileController</td>\n",
       "      <td>True</td>\n",
       "      <td>0</td>\n",
       "      <td>0</td>\n",
       "      <td>True</td>\n",
       "      <td>False</td>\n",
       "    </tr>\n",
       "    <tr>\n",
       "      <th>1</th>\n",
       "      <td>HeatPumpController</td>\n",
       "      <td>True</td>\n",
       "      <td>0</td>\n",
       "      <td>1</td>\n",
       "      <td>True</td>\n",
       "      <td>False</td>\n",
       "    </tr>\n",
       "    <tr>\n",
       "      <th>2</th>\n",
       "      <td>StratifiedHeatStorageController</td>\n",
       "      <td>True</td>\n",
       "      <td>1</td>\n",
       "      <td>1</td>\n",
       "      <td>True</td>\n",
       "      <td>False</td>\n",
       "    </tr>\n",
       "    <tr>\n",
       "      <th>3</th>\n",
       "      <td>HeatDemandController</td>\n",
       "      <td>True</td>\n",
       "      <td>2</td>\n",
       "      <td>1</td>\n",
       "      <td>True</td>\n",
       "      <td>False</td>\n",
       "    </tr>\n",
       "  </tbody>\n",
       "</table>\n",
       "</div>"
      ]
     },
     "execution_count": 13,
     "metadata": {},
     "output_type": "execute_result"
    }
   ],
   "execution_count": 13
  },
  {
   "metadata": {},
   "cell_type": "markdown",
   "source": "We can also get the element associated to one controller:",
   "id": "11c68a7f45e0e22a"
  },
  {
   "metadata": {
    "ExecuteTime": {
     "end_time": "2025-05-08T07:49:23.995481Z",
     "start_time": "2025-05-08T07:49:23.966913Z"
    }
   },
   "cell_type": "code",
   "source": "prosumer.controller.loc[1, 'object'].element_instance",
   "id": "877da7df3ff2f7d3",
   "outputs": [
    {
     "data": {
      "text/plain": [
       "                  name  delta_t_evap_c  carnot_efficiency  pinch_c  \\\n",
       "0  air_water_heat_pump             5.0                0.5      0.0   \n",
       "\n",
       "   delta_t_hot_default_c  max_p_comp_kw  min_p_comp_kw  max_t_cond_out_c  \\\n",
       "0                    5.0          200.0            NaN               NaN   \n",
       "\n",
       "   max_cop cond_fluid evap_fluid  in_service  \n",
       "0      NaN      water      water        True  "
      ],
      "text/html": [
       "<div>\n",
       "<style scoped>\n",
       "    .dataframe tbody tr th:only-of-type {\n",
       "        vertical-align: middle;\n",
       "    }\n",
       "\n",
       "    .dataframe tbody tr th {\n",
       "        vertical-align: top;\n",
       "    }\n",
       "\n",
       "    .dataframe thead th {\n",
       "        text-align: right;\n",
       "    }\n",
       "</style>\n",
       "<table border=\"1\" class=\"dataframe\">\n",
       "  <thead>\n",
       "    <tr style=\"text-align: right;\">\n",
       "      <th></th>\n",
       "      <th>name</th>\n",
       "      <th>delta_t_evap_c</th>\n",
       "      <th>carnot_efficiency</th>\n",
       "      <th>pinch_c</th>\n",
       "      <th>delta_t_hot_default_c</th>\n",
       "      <th>max_p_comp_kw</th>\n",
       "      <th>min_p_comp_kw</th>\n",
       "      <th>max_t_cond_out_c</th>\n",
       "      <th>max_cop</th>\n",
       "      <th>cond_fluid</th>\n",
       "      <th>evap_fluid</th>\n",
       "      <th>in_service</th>\n",
       "    </tr>\n",
       "  </thead>\n",
       "  <tbody>\n",
       "    <tr>\n",
       "      <th>0</th>\n",
       "      <td>air_water_heat_pump</td>\n",
       "      <td>5.0</td>\n",
       "      <td>0.5</td>\n",
       "      <td>0.0</td>\n",
       "      <td>5.0</td>\n",
       "      <td>200.0</td>\n",
       "      <td>NaN</td>\n",
       "      <td>NaN</td>\n",
       "      <td>NaN</td>\n",
       "      <td>water</td>\n",
       "      <td>water</td>\n",
       "      <td>True</td>\n",
       "    </tr>\n",
       "  </tbody>\n",
       "</table>\n",
       "</div>"
      ]
     },
     "execution_count": 14,
     "metadata": {},
     "output_type": "execute_result"
    }
   ],
   "execution_count": 14
  },
  {
   "metadata": {},
   "cell_type": "markdown",
   "source": [
    "# 4 - CREATING CONNECTIONS (MAPS) BETWEEN THE CONTROLLERS:\n",
    "network configuration\n",
    "\n",
    "For each controller we define how it is connected to other controllers.\n"
   ],
   "id": "d91220b208da4390"
  },
  {
   "metadata": {
    "ExecuteTime": {
     "end_time": "2025-05-08T07:49:24.526666Z",
     "start_time": "2025-05-08T07:49:24.513841Z"
    }
   },
   "cell_type": "code",
   "source": [
    "from pandaprosumer.mapping import GenericMapping\n",
    "from pandaprosumer.mapping import FluidMixMapping"
   ],
   "id": "6b201e8790966bd3",
   "outputs": [],
   "execution_count": 15
  },
  {
   "metadata": {},
   "cell_type": "markdown",
   "source": [
    "CONNECTION CONST PROFILE CONTROLLER ---> HEAT PUMP:\n",
    "\n",
    "The connection from the Const Profile Controller to the Heat Pump Controller enables the heat pump to access the t_air column from the input time series dataset."
   ],
   "id": "e2fc3e0b7fc0202e"
  },
  {
   "metadata": {
    "ExecuteTime": {
     "end_time": "2025-05-08T07:49:24.732214Z",
     "start_time": "2025-05-08T07:49:24.720923Z"
    }
   },
   "cell_type": "code",
   "source": [
    "GenericMapping(prosumer,\n",
    "               initiator_id=cp_controller_index,\n",
    "               initiator_column=\"t_evap_in_c\",\n",
    "               responder_id=hp_controller_index,\n",
    "               responder_column=\"t_evap_in_c\",\n",
    "               order=0)"
   ],
   "id": "f82bcc756aa6ca38",
   "outputs": [
    {
     "data": {
      "text/plain": [
       "<pandaprosumer.mapping.generic.GenericMapping at 0x264c0e18100>"
      ]
     },
     "execution_count": 16,
     "metadata": {},
     "output_type": "execute_result"
    }
   ],
   "execution_count": 16
  },
  {
   "metadata": {},
   "cell_type": "markdown",
   "source": [
    "CONNECTION CONST PROFILE CONTROLLER ---> HEAT DEMAND:\n",
    "\n",
    "The connection from the Const Profile Controller to the Heat Demand Controller enables the heat demand to access the demand_power, t_feed_demand_c, t_return_demand_c columns from the input time series dataset.\n",
    "\n",
    "The order=1 in this mapping between ConstProfileController and HeatDemandController defines the sequence in which this mapping is applied, relative to other mappings from the ConstProfileController. It ensures that this mapping happens in the correct order if there are multiple mappings from the same initiator controller.\n",
    "\n",
    "This mapping order is separate from the controller execution order, which defines when the controllers themselves are executed during each simulation step. The order=1 ensures the data flows in the intended sequence without affecting the overall controller run order."
   ],
   "id": "2033f2c1ab0b321"
  },
  {
   "metadata": {
    "ExecuteTime": {
     "end_time": "2025-05-08T07:49:24.965535Z",
     "start_time": "2025-05-08T07:49:24.949916Z"
    }
   },
   "cell_type": "code",
   "source": [
    "GenericMapping(prosumer,\n",
    "               initiator_id=cp_controller_index,\n",
    "               initiator_column=[\"qdemand_kw\", \"t_feed_demand_c\", \"t_return_demand_c\"],\n",
    "               responder_id=hd_controller_index,\n",
    "               responder_column=[\"q_demand_kw\", \"t_feed_demand_c\", \"t_return_demand_c\"],\n",
    "               order=1)"
   ],
   "id": "990bb9e9be868f9e",
   "outputs": [
    {
     "data": {
      "text/plain": [
       "<pandaprosumer.mapping.generic.GenericMapping at 0x264c0e1b1c0>"
      ]
     },
     "execution_count": 17,
     "metadata": {},
     "output_type": "execute_result"
    }
   ],
   "execution_count": 17
  },
  {
   "metadata": {},
   "cell_type": "markdown",
   "source": [
    "CONNECTION HEAT PUMP ---> HEAT STRATIFIED STORAGE:\n",
    "\n",
    "The connection between the Heat Pump Controller and the Heat Stratified Storage Controller allows the storage to read the heat pump’s output and use it as an input for its own calculations. Instead of a generic mapping, a fluid mix mapping is used—this is necessary because the parameters being exchanged, such as mass flow, are dynamic and not static."
   ],
   "id": "e8a6874c57a84624"
  },
  {
   "metadata": {
    "ExecuteTime": {
     "end_time": "2025-05-08T07:49:25.090274Z",
     "start_time": "2025-05-08T07:49:25.068636Z"
    }
   },
   "cell_type": "code",
   "source": [
    "FluidMixMapping(prosumer,\n",
    "                initiator_id=hp_controller_index,\n",
    "                responder_id=shs_controller_index,\n",
    "                order=0)"
   ],
   "id": "4bf23ec7c9365e08",
   "outputs": [
    {
     "data": {
      "text/plain": [
       "<pandaprosumer.mapping.fluid_mix.FluidMixMapping at 0x264c0e19e70>"
      ]
     },
     "execution_count": 18,
     "metadata": {},
     "output_type": "execute_result"
    }
   ],
   "execution_count": 18
  },
  {
   "metadata": {},
   "cell_type": "markdown",
   "source": "HEAT STATIFIED STORAGE ---> HEAT DEMAND:",
   "id": "9764df3308220896"
  },
  {
   "metadata": {
    "ExecuteTime": {
     "end_time": "2025-05-08T07:49:25.212965Z",
     "start_time": "2025-05-08T07:49:25.190544Z"
    }
   },
   "cell_type": "code",
   "source": [
    "FluidMixMapping(prosumer,\n",
    "                initiator_id=shs_controller_index,\n",
    "                responder_id=hd_controller_index,\n",
    "                order=0)"
   ],
   "id": "539a30a496f6c6c1",
   "outputs": [
    {
     "data": {
      "text/plain": [
       "<pandaprosumer.mapping.fluid_mix.FluidMixMapping at 0x264c0e1b2b0>"
      ]
     },
     "execution_count": 19,
     "metadata": {},
     "output_type": "execute_result"
    }
   ],
   "execution_count": 19
  },
  {
   "metadata": {},
   "cell_type": "markdown",
   "source": [
    "5 - RUNNING THE ANALYSIS:\n",
    "We can now run the analysis with the input data defined above."
   ],
   "id": "e4042aef59c2519c"
  },
  {
   "metadata": {
    "ExecuteTime": {
     "end_time": "2025-05-08T07:49:40.755044Z",
     "start_time": "2025-05-08T07:49:25.309149Z"
    }
   },
   "cell_type": "code",
   "source": [
    "from pandaprosumer.run_time_series import run_timeseries\n",
    "\n",
    "run_timeseries(prosumer, period_id, verbose=True)"
   ],
   "id": "dbe3275e195c01bd",
   "outputs": [
    {
     "name": "stderr",
     "output_type": "stream",
     "text": [
      "100%|██████████| 96/96 [00:15<00:00,  6.23it/s]\n"
     ]
    }
   ],
   "execution_count": 20
  },
  {
   "metadata": {},
   "cell_type": "markdown",
   "source": [
    "# 6 - PRINTING AND PLOTTING RESULTS:\n",
    "All the results of the timeseries analysis are available in the prosumer.time_series dataframe"
   ],
   "id": "411100a194e1668c"
  },
  {
   "metadata": {
    "ExecuteTime": {
     "end_time": "2025-05-08T07:49:40.786118Z",
     "start_time": "2025-05-08T07:49:40.773463Z"
    }
   },
   "cell_type": "code",
   "source": "prosumer.time_series",
   "id": "6e8380aeaa94cb8a",
   "outputs": [
    {
     "data": {
      "text/plain": [
       "                  name                  element  element_index  period_index  \\\n",
       "0  air_water_heat_pump                heat_pump            0.0           0.0   \n",
       "1    tank_heat_storage  stratified_heat_storage            0.0           0.0   \n",
       "2        heat_consumer              heat_demand            0.0           0.0   \n",
       "\n",
       "  data_source  \n",
       "0      DFData  \n",
       "1      DFData  \n",
       "2      DFData  "
      ],
      "text/html": [
       "<div>\n",
       "<style scoped>\n",
       "    .dataframe tbody tr th:only-of-type {\n",
       "        vertical-align: middle;\n",
       "    }\n",
       "\n",
       "    .dataframe tbody tr th {\n",
       "        vertical-align: top;\n",
       "    }\n",
       "\n",
       "    .dataframe thead th {\n",
       "        text-align: right;\n",
       "    }\n",
       "</style>\n",
       "<table border=\"1\" class=\"dataframe\">\n",
       "  <thead>\n",
       "    <tr style=\"text-align: right;\">\n",
       "      <th></th>\n",
       "      <th>name</th>\n",
       "      <th>element</th>\n",
       "      <th>element_index</th>\n",
       "      <th>period_index</th>\n",
       "      <th>data_source</th>\n",
       "    </tr>\n",
       "  </thead>\n",
       "  <tbody>\n",
       "    <tr>\n",
       "      <th>0</th>\n",
       "      <td>air_water_heat_pump</td>\n",
       "      <td>heat_pump</td>\n",
       "      <td>0.0</td>\n",
       "      <td>0.0</td>\n",
       "      <td>DFData</td>\n",
       "    </tr>\n",
       "    <tr>\n",
       "      <th>1</th>\n",
       "      <td>tank_heat_storage</td>\n",
       "      <td>stratified_heat_storage</td>\n",
       "      <td>0.0</td>\n",
       "      <td>0.0</td>\n",
       "      <td>DFData</td>\n",
       "    </tr>\n",
       "    <tr>\n",
       "      <th>2</th>\n",
       "      <td>heat_consumer</td>\n",
       "      <td>heat_demand</td>\n",
       "      <td>0.0</td>\n",
       "      <td>0.0</td>\n",
       "      <td>DFData</td>\n",
       "    </tr>\n",
       "  </tbody>\n",
       "</table>\n",
       "</div>"
      ]
     },
     "execution_count": 21,
     "metadata": {},
     "output_type": "execute_result"
    }
   ],
   "execution_count": 21
  },
  {
   "metadata": {},
   "cell_type": "markdown",
   "source": "Before plotting we have to look at the resulting dataframe to see which quantity (column) do we want to plot.",
   "id": "fefb52cb61471d8e"
  },
  {
   "metadata": {},
   "cell_type": "markdown",
   "source": "Access the results of the heat pump:",
   "id": "88ae499efa65c1af"
  },
  {
   "metadata": {
    "ExecuteTime": {
     "end_time": "2025-05-08T07:49:40.911913Z",
     "start_time": "2025-05-08T07:49:40.878277Z"
    }
   },
   "cell_type": "code",
   "source": "prosumer.time_series.data_source.loc[0].df.head(10)",
   "id": "8a6be07def2b5b60",
   "outputs": [
    {
     "data": {
      "text/plain": [
       "                            q_cond_kw   p_comp_kw   q_evap_kw       cop  \\\n",
       "2020-01-01 00:00:00+00:00  642.090909  200.000000  442.090909  3.210455   \n",
       "2020-01-01 00:15:00+00:00  642.090909  200.000000  442.090909  3.210455   \n",
       "2020-01-01 00:30:00+00:00  642.090909  200.000000  442.090909  3.210455   \n",
       "2020-01-01 00:45:00+00:00  642.090909  200.000000  442.090909  3.210455   \n",
       "2020-01-01 01:00:00+00:00  642.090909  200.000000  442.090909  3.210455   \n",
       "2020-01-01 01:15:00+00:00  510.749234  159.089384  351.659851  3.210455   \n",
       "2020-01-01 01:30:00+00:00  500.000000  155.741186  344.258814  3.210455   \n",
       "2020-01-01 01:45:00+00:00  500.000000  155.741186  344.258814  3.210455   \n",
       "2020-01-01 02:00:00+00:00  328.665468  102.373500  226.291968  3.210455   \n",
       "2020-01-01 02:15:00+00:00  321.000000   99.985842  221.014158  3.210455   \n",
       "\n",
       "                           mdot_cond_kg_per_s  t_cond_in_c  t_cond_out_c  \\\n",
       "2020-01-01 00:00:00+00:00            2.559220    20.000000          80.0   \n",
       "2020-01-01 00:15:00+00:00            2.559220    20.000000          80.0   \n",
       "2020-01-01 00:30:00+00:00            2.559220    20.000000          80.0   \n",
       "2020-01-01 00:45:00+00:00            2.559220    20.000000          80.0   \n",
       "2020-01-01 01:00:00+00:00            2.559220    20.000003          80.0   \n",
       "2020-01-01 01:15:00+00:00           12.782953    70.472743          80.0   \n",
       "2020-01-01 01:30:00+00:00            1.992880    20.000000          80.0   \n",
       "2020-01-01 01:45:00+00:00            1.992880    20.000000          80.0   \n",
       "2020-01-01 02:00:00+00:00           12.069640    73.508488          80.0   \n",
       "2020-01-01 02:15:00+00:00            1.279429    20.000000          80.0   \n",
       "\n",
       "                           mdot_evap_kg_per_s  t_evap_in_c  t_evap_out_c  \n",
       "2020-01-01 00:00:00+00:00           21.137929         25.0          20.0  \n",
       "2020-01-01 00:15:00+00:00           21.137929         25.0          20.0  \n",
       "2020-01-01 00:30:00+00:00           21.137929         25.0          20.0  \n",
       "2020-01-01 00:45:00+00:00           21.137929         25.0          20.0  \n",
       "2020-01-01 01:00:00+00:00           21.137929         25.0          20.0  \n",
       "2020-01-01 01:15:00+00:00           16.814101         25.0          20.0  \n",
       "2020-01-01 01:30:00+00:00           16.460231         25.0          20.0  \n",
       "2020-01-01 01:45:00+00:00           16.460231         25.0          20.0  \n",
       "2020-01-01 02:00:00+00:00           10.819819         25.0          20.0  \n",
       "2020-01-01 02:15:00+00:00           10.567468         25.0          20.0  "
      ],
      "text/html": [
       "<div>\n",
       "<style scoped>\n",
       "    .dataframe tbody tr th:only-of-type {\n",
       "        vertical-align: middle;\n",
       "    }\n",
       "\n",
       "    .dataframe tbody tr th {\n",
       "        vertical-align: top;\n",
       "    }\n",
       "\n",
       "    .dataframe thead th {\n",
       "        text-align: right;\n",
       "    }\n",
       "</style>\n",
       "<table border=\"1\" class=\"dataframe\">\n",
       "  <thead>\n",
       "    <tr style=\"text-align: right;\">\n",
       "      <th></th>\n",
       "      <th>q_cond_kw</th>\n",
       "      <th>p_comp_kw</th>\n",
       "      <th>q_evap_kw</th>\n",
       "      <th>cop</th>\n",
       "      <th>mdot_cond_kg_per_s</th>\n",
       "      <th>t_cond_in_c</th>\n",
       "      <th>t_cond_out_c</th>\n",
       "      <th>mdot_evap_kg_per_s</th>\n",
       "      <th>t_evap_in_c</th>\n",
       "      <th>t_evap_out_c</th>\n",
       "    </tr>\n",
       "  </thead>\n",
       "  <tbody>\n",
       "    <tr>\n",
       "      <th>2020-01-01 00:00:00+00:00</th>\n",
       "      <td>642.090909</td>\n",
       "      <td>200.000000</td>\n",
       "      <td>442.090909</td>\n",
       "      <td>3.210455</td>\n",
       "      <td>2.559220</td>\n",
       "      <td>20.000000</td>\n",
       "      <td>80.0</td>\n",
       "      <td>21.137929</td>\n",
       "      <td>25.0</td>\n",
       "      <td>20.0</td>\n",
       "    </tr>\n",
       "    <tr>\n",
       "      <th>2020-01-01 00:15:00+00:00</th>\n",
       "      <td>642.090909</td>\n",
       "      <td>200.000000</td>\n",
       "      <td>442.090909</td>\n",
       "      <td>3.210455</td>\n",
       "      <td>2.559220</td>\n",
       "      <td>20.000000</td>\n",
       "      <td>80.0</td>\n",
       "      <td>21.137929</td>\n",
       "      <td>25.0</td>\n",
       "      <td>20.0</td>\n",
       "    </tr>\n",
       "    <tr>\n",
       "      <th>2020-01-01 00:30:00+00:00</th>\n",
       "      <td>642.090909</td>\n",
       "      <td>200.000000</td>\n",
       "      <td>442.090909</td>\n",
       "      <td>3.210455</td>\n",
       "      <td>2.559220</td>\n",
       "      <td>20.000000</td>\n",
       "      <td>80.0</td>\n",
       "      <td>21.137929</td>\n",
       "      <td>25.0</td>\n",
       "      <td>20.0</td>\n",
       "    </tr>\n",
       "    <tr>\n",
       "      <th>2020-01-01 00:45:00+00:00</th>\n",
       "      <td>642.090909</td>\n",
       "      <td>200.000000</td>\n",
       "      <td>442.090909</td>\n",
       "      <td>3.210455</td>\n",
       "      <td>2.559220</td>\n",
       "      <td>20.000000</td>\n",
       "      <td>80.0</td>\n",
       "      <td>21.137929</td>\n",
       "      <td>25.0</td>\n",
       "      <td>20.0</td>\n",
       "    </tr>\n",
       "    <tr>\n",
       "      <th>2020-01-01 01:00:00+00:00</th>\n",
       "      <td>642.090909</td>\n",
       "      <td>200.000000</td>\n",
       "      <td>442.090909</td>\n",
       "      <td>3.210455</td>\n",
       "      <td>2.559220</td>\n",
       "      <td>20.000003</td>\n",
       "      <td>80.0</td>\n",
       "      <td>21.137929</td>\n",
       "      <td>25.0</td>\n",
       "      <td>20.0</td>\n",
       "    </tr>\n",
       "    <tr>\n",
       "      <th>2020-01-01 01:15:00+00:00</th>\n",
       "      <td>510.749234</td>\n",
       "      <td>159.089384</td>\n",
       "      <td>351.659851</td>\n",
       "      <td>3.210455</td>\n",
       "      <td>12.782953</td>\n",
       "      <td>70.472743</td>\n",
       "      <td>80.0</td>\n",
       "      <td>16.814101</td>\n",
       "      <td>25.0</td>\n",
       "      <td>20.0</td>\n",
       "    </tr>\n",
       "    <tr>\n",
       "      <th>2020-01-01 01:30:00+00:00</th>\n",
       "      <td>500.000000</td>\n",
       "      <td>155.741186</td>\n",
       "      <td>344.258814</td>\n",
       "      <td>3.210455</td>\n",
       "      <td>1.992880</td>\n",
       "      <td>20.000000</td>\n",
       "      <td>80.0</td>\n",
       "      <td>16.460231</td>\n",
       "      <td>25.0</td>\n",
       "      <td>20.0</td>\n",
       "    </tr>\n",
       "    <tr>\n",
       "      <th>2020-01-01 01:45:00+00:00</th>\n",
       "      <td>500.000000</td>\n",
       "      <td>155.741186</td>\n",
       "      <td>344.258814</td>\n",
       "      <td>3.210455</td>\n",
       "      <td>1.992880</td>\n",
       "      <td>20.000000</td>\n",
       "      <td>80.0</td>\n",
       "      <td>16.460231</td>\n",
       "      <td>25.0</td>\n",
       "      <td>20.0</td>\n",
       "    </tr>\n",
       "    <tr>\n",
       "      <th>2020-01-01 02:00:00+00:00</th>\n",
       "      <td>328.665468</td>\n",
       "      <td>102.373500</td>\n",
       "      <td>226.291968</td>\n",
       "      <td>3.210455</td>\n",
       "      <td>12.069640</td>\n",
       "      <td>73.508488</td>\n",
       "      <td>80.0</td>\n",
       "      <td>10.819819</td>\n",
       "      <td>25.0</td>\n",
       "      <td>20.0</td>\n",
       "    </tr>\n",
       "    <tr>\n",
       "      <th>2020-01-01 02:15:00+00:00</th>\n",
       "      <td>321.000000</td>\n",
       "      <td>99.985842</td>\n",
       "      <td>221.014158</td>\n",
       "      <td>3.210455</td>\n",
       "      <td>1.279429</td>\n",
       "      <td>20.000000</td>\n",
       "      <td>80.0</td>\n",
       "      <td>10.567468</td>\n",
       "      <td>25.0</td>\n",
       "      <td>20.0</td>\n",
       "    </tr>\n",
       "  </tbody>\n",
       "</table>\n",
       "</div>"
      ]
     },
     "execution_count": 22,
     "metadata": {},
     "output_type": "execute_result"
    }
   ],
   "execution_count": 22
  },
  {
   "metadata": {},
   "cell_type": "markdown",
   "source": "Access the results of the stratified heat storage:",
   "id": "167f20a8ba01af3e"
  },
  {
   "metadata": {
    "ExecuteTime": {
     "end_time": "2025-05-08T07:49:41.081959Z",
     "start_time": "2025-05-08T07:49:41.066440Z"
    }
   },
   "cell_type": "code",
   "source": "prosumer.time_series.data_source.loc[1].df.head(10)",
   "id": "84a808d497a82f2c",
   "outputs": [
    {
     "data": {
      "text/plain": [
       "                           mdot_discharge_kg_per_s  t_discharge_c  \\\n",
       "2020-01-01 00:00:00+00:00                      0.0      20.000000   \n",
       "2020-01-01 00:15:00+00:00                      0.0      79.999432   \n",
       "2020-01-01 00:30:00+00:00                      0.0      79.999431   \n",
       "2020-01-01 00:45:00+00:00                      0.0      79.999432   \n",
       "2020-01-01 01:00:00+00:00                      0.0      79.999432   \n",
       "2020-01-01 01:15:00+00:00                      0.0      79.999433   \n",
       "2020-01-01 01:30:00+00:00                      0.0      79.999870   \n",
       "2020-01-01 01:45:00+00:00                      0.0      79.979609   \n",
       "2020-01-01 02:00:00+00:00                      0.0      79.950603   \n",
       "2020-01-01 02:15:00+00:00                      0.0      79.999870   \n",
       "\n",
       "                           q_delivered_kw  e_stored_kwh  \n",
       "2020-01-01 00:00:00+00:00             0.0    115.438064  \n",
       "2020-01-01 00:15:00+00:00             0.0    264.739778  \n",
       "2020-01-01 00:30:00+00:00             0.0    332.564562  \n",
       "2020-01-01 00:45:00+00:00             0.0    332.564809  \n",
       "2020-01-01 01:00:00+00:00             0.0    332.565272  \n",
       "2020-01-01 01:15:00+00:00             0.0    678.981424  \n",
       "2020-01-01 01:30:00+00:00             0.0    678.444711  \n",
       "2020-01-01 01:45:00+00:00             0.0     33.915112  \n",
       "2020-01-01 02:00:00+00:00             0.0    678.976615  \n",
       "2020-01-01 02:15:00+00:00             0.0    658.099513  "
      ],
      "text/html": [
       "<div>\n",
       "<style scoped>\n",
       "    .dataframe tbody tr th:only-of-type {\n",
       "        vertical-align: middle;\n",
       "    }\n",
       "\n",
       "    .dataframe tbody tr th {\n",
       "        vertical-align: top;\n",
       "    }\n",
       "\n",
       "    .dataframe thead th {\n",
       "        text-align: right;\n",
       "    }\n",
       "</style>\n",
       "<table border=\"1\" class=\"dataframe\">\n",
       "  <thead>\n",
       "    <tr style=\"text-align: right;\">\n",
       "      <th></th>\n",
       "      <th>mdot_discharge_kg_per_s</th>\n",
       "      <th>t_discharge_c</th>\n",
       "      <th>q_delivered_kw</th>\n",
       "      <th>e_stored_kwh</th>\n",
       "    </tr>\n",
       "  </thead>\n",
       "  <tbody>\n",
       "    <tr>\n",
       "      <th>2020-01-01 00:00:00+00:00</th>\n",
       "      <td>0.0</td>\n",
       "      <td>20.000000</td>\n",
       "      <td>0.0</td>\n",
       "      <td>115.438064</td>\n",
       "    </tr>\n",
       "    <tr>\n",
       "      <th>2020-01-01 00:15:00+00:00</th>\n",
       "      <td>0.0</td>\n",
       "      <td>79.999432</td>\n",
       "      <td>0.0</td>\n",
       "      <td>264.739778</td>\n",
       "    </tr>\n",
       "    <tr>\n",
       "      <th>2020-01-01 00:30:00+00:00</th>\n",
       "      <td>0.0</td>\n",
       "      <td>79.999431</td>\n",
       "      <td>0.0</td>\n",
       "      <td>332.564562</td>\n",
       "    </tr>\n",
       "    <tr>\n",
       "      <th>2020-01-01 00:45:00+00:00</th>\n",
       "      <td>0.0</td>\n",
       "      <td>79.999432</td>\n",
       "      <td>0.0</td>\n",
       "      <td>332.564809</td>\n",
       "    </tr>\n",
       "    <tr>\n",
       "      <th>2020-01-01 01:00:00+00:00</th>\n",
       "      <td>0.0</td>\n",
       "      <td>79.999432</td>\n",
       "      <td>0.0</td>\n",
       "      <td>332.565272</td>\n",
       "    </tr>\n",
       "    <tr>\n",
       "      <th>2020-01-01 01:15:00+00:00</th>\n",
       "      <td>0.0</td>\n",
       "      <td>79.999433</td>\n",
       "      <td>0.0</td>\n",
       "      <td>678.981424</td>\n",
       "    </tr>\n",
       "    <tr>\n",
       "      <th>2020-01-01 01:30:00+00:00</th>\n",
       "      <td>0.0</td>\n",
       "      <td>79.999870</td>\n",
       "      <td>0.0</td>\n",
       "      <td>678.444711</td>\n",
       "    </tr>\n",
       "    <tr>\n",
       "      <th>2020-01-01 01:45:00+00:00</th>\n",
       "      <td>0.0</td>\n",
       "      <td>79.979609</td>\n",
       "      <td>0.0</td>\n",
       "      <td>33.915112</td>\n",
       "    </tr>\n",
       "    <tr>\n",
       "      <th>2020-01-01 02:00:00+00:00</th>\n",
       "      <td>0.0</td>\n",
       "      <td>79.950603</td>\n",
       "      <td>0.0</td>\n",
       "      <td>678.976615</td>\n",
       "    </tr>\n",
       "    <tr>\n",
       "      <th>2020-01-01 02:15:00+00:00</th>\n",
       "      <td>0.0</td>\n",
       "      <td>79.999870</td>\n",
       "      <td>0.0</td>\n",
       "      <td>658.099513</td>\n",
       "    </tr>\n",
       "  </tbody>\n",
       "</table>\n",
       "</div>"
      ]
     },
     "execution_count": 23,
     "metadata": {},
     "output_type": "execute_result"
    }
   ],
   "execution_count": 23
  },
  {
   "metadata": {},
   "cell_type": "markdown",
   "source": "Access the results of the heat demand:",
   "id": "c148fb4c8f3cdede"
  },
  {
   "metadata": {
    "ExecuteTime": {
     "end_time": "2025-05-08T07:49:41.346671Z",
     "start_time": "2025-05-08T07:49:41.317143Z"
    }
   },
   "cell_type": "code",
   "source": "prosumer.time_series.data_source.loc[2].df.head(10)",
   "id": "9327c18a9a4e5401",
   "outputs": [
    {
     "data": {
      "text/plain": [
       "                           q_received_kw  q_uncovered_kw  mdot_kg_per_s  \\\n",
       "2020-01-01 00:00:00+00:00            0.0    0.000000e+00       0.000000   \n",
       "2020-01-01 00:15:00+00:00            0.0    0.000000e+00       0.000000   \n",
       "2020-01-01 00:30:00+00:00            0.0    0.000000e+00       0.000000   \n",
       "2020-01-01 00:45:00+00:00            0.0    0.000000e+00       0.000000   \n",
       "2020-01-01 01:00:00+00:00            0.0    0.000000e+00       0.000000   \n",
       "2020-01-01 01:15:00+00:00          500.0    5.684342e-14       1.992880   \n",
       "2020-01-01 01:30:00+00:00          500.0    5.684342e-14       1.992880   \n",
       "2020-01-01 01:45:00+00:00          500.0    5.684342e-14       1.992880   \n",
       "2020-01-01 02:00:00+00:00          321.0    0.000000e+00       1.279429   \n",
       "2020-01-01 02:15:00+00:00          321.0    0.000000e+00       1.279429   \n",
       "\n",
       "                              t_in_c  t_out_c  \n",
       "2020-01-01 00:00:00+00:00  20.000000     20.0  \n",
       "2020-01-01 00:15:00+00:00  79.999432     20.0  \n",
       "2020-01-01 00:30:00+00:00  79.999431     20.0  \n",
       "2020-01-01 00:45:00+00:00  79.999432     20.0  \n",
       "2020-01-01 01:00:00+00:00  79.999432     20.0  \n",
       "2020-01-01 01:15:00+00:00  80.000000     20.0  \n",
       "2020-01-01 01:30:00+00:00  80.000000     20.0  \n",
       "2020-01-01 01:45:00+00:00  80.000000     20.0  \n",
       "2020-01-01 02:00:00+00:00  80.000000     20.0  \n",
       "2020-01-01 02:15:00+00:00  80.000000     20.0  "
      ],
      "text/html": [
       "<div>\n",
       "<style scoped>\n",
       "    .dataframe tbody tr th:only-of-type {\n",
       "        vertical-align: middle;\n",
       "    }\n",
       "\n",
       "    .dataframe tbody tr th {\n",
       "        vertical-align: top;\n",
       "    }\n",
       "\n",
       "    .dataframe thead th {\n",
       "        text-align: right;\n",
       "    }\n",
       "</style>\n",
       "<table border=\"1\" class=\"dataframe\">\n",
       "  <thead>\n",
       "    <tr style=\"text-align: right;\">\n",
       "      <th></th>\n",
       "      <th>q_received_kw</th>\n",
       "      <th>q_uncovered_kw</th>\n",
       "      <th>mdot_kg_per_s</th>\n",
       "      <th>t_in_c</th>\n",
       "      <th>t_out_c</th>\n",
       "    </tr>\n",
       "  </thead>\n",
       "  <tbody>\n",
       "    <tr>\n",
       "      <th>2020-01-01 00:00:00+00:00</th>\n",
       "      <td>0.0</td>\n",
       "      <td>0.000000e+00</td>\n",
       "      <td>0.000000</td>\n",
       "      <td>20.000000</td>\n",
       "      <td>20.0</td>\n",
       "    </tr>\n",
       "    <tr>\n",
       "      <th>2020-01-01 00:15:00+00:00</th>\n",
       "      <td>0.0</td>\n",
       "      <td>0.000000e+00</td>\n",
       "      <td>0.000000</td>\n",
       "      <td>79.999432</td>\n",
       "      <td>20.0</td>\n",
       "    </tr>\n",
       "    <tr>\n",
       "      <th>2020-01-01 00:30:00+00:00</th>\n",
       "      <td>0.0</td>\n",
       "      <td>0.000000e+00</td>\n",
       "      <td>0.000000</td>\n",
       "      <td>79.999431</td>\n",
       "      <td>20.0</td>\n",
       "    </tr>\n",
       "    <tr>\n",
       "      <th>2020-01-01 00:45:00+00:00</th>\n",
       "      <td>0.0</td>\n",
       "      <td>0.000000e+00</td>\n",
       "      <td>0.000000</td>\n",
       "      <td>79.999432</td>\n",
       "      <td>20.0</td>\n",
       "    </tr>\n",
       "    <tr>\n",
       "      <th>2020-01-01 01:00:00+00:00</th>\n",
       "      <td>0.0</td>\n",
       "      <td>0.000000e+00</td>\n",
       "      <td>0.000000</td>\n",
       "      <td>79.999432</td>\n",
       "      <td>20.0</td>\n",
       "    </tr>\n",
       "    <tr>\n",
       "      <th>2020-01-01 01:15:00+00:00</th>\n",
       "      <td>500.0</td>\n",
       "      <td>5.684342e-14</td>\n",
       "      <td>1.992880</td>\n",
       "      <td>80.000000</td>\n",
       "      <td>20.0</td>\n",
       "    </tr>\n",
       "    <tr>\n",
       "      <th>2020-01-01 01:30:00+00:00</th>\n",
       "      <td>500.0</td>\n",
       "      <td>5.684342e-14</td>\n",
       "      <td>1.992880</td>\n",
       "      <td>80.000000</td>\n",
       "      <td>20.0</td>\n",
       "    </tr>\n",
       "    <tr>\n",
       "      <th>2020-01-01 01:45:00+00:00</th>\n",
       "      <td>500.0</td>\n",
       "      <td>5.684342e-14</td>\n",
       "      <td>1.992880</td>\n",
       "      <td>80.000000</td>\n",
       "      <td>20.0</td>\n",
       "    </tr>\n",
       "    <tr>\n",
       "      <th>2020-01-01 02:00:00+00:00</th>\n",
       "      <td>321.0</td>\n",
       "      <td>0.000000e+00</td>\n",
       "      <td>1.279429</td>\n",
       "      <td>80.000000</td>\n",
       "      <td>20.0</td>\n",
       "    </tr>\n",
       "    <tr>\n",
       "      <th>2020-01-01 02:15:00+00:00</th>\n",
       "      <td>321.0</td>\n",
       "      <td>0.000000e+00</td>\n",
       "      <td>1.279429</td>\n",
       "      <td>80.000000</td>\n",
       "      <td>20.0</td>\n",
       "    </tr>\n",
       "  </tbody>\n",
       "</table>\n",
       "</div>"
      ]
     },
     "execution_count": 24,
     "metadata": {},
     "output_type": "execute_result"
    }
   ],
   "execution_count": 24
  },
  {
   "metadata": {},
   "cell_type": "markdown",
   "source": "Alternatively, if the elements have unique names, we can change the indexing of the result dataframe to use the name of the elements as index and access the results more directly.",
   "id": "6f54f746b893b80f"
  },
  {
   "metadata": {
    "ExecuteTime": {
     "end_time": "2025-05-08T07:49:41.517715Z",
     "start_time": "2025-05-08T07:49:41.507087Z"
    }
   },
   "cell_type": "code",
   "source": [
    "res_df = prosumer.time_series.copy()\n",
    "res_df.set_index('name', inplace=True)"
   ],
   "id": "11d3bf8be7c64318",
   "outputs": [],
   "execution_count": 25
  },
  {
   "metadata": {
    "ExecuteTime": {
     "end_time": "2025-05-08T07:49:41.905632Z",
     "start_time": "2025-05-08T07:49:41.879736Z"
    }
   },
   "cell_type": "code",
   "source": "res_df",
   "id": "f57c5476dee422cd",
   "outputs": [
    {
     "data": {
      "text/plain": [
       "                                     element  element_index  period_index  \\\n",
       "name                                                                        \n",
       "air_water_heat_pump                heat_pump            0.0           0.0   \n",
       "tank_heat_storage    stratified_heat_storage            0.0           0.0   \n",
       "heat_consumer                    heat_demand            0.0           0.0   \n",
       "\n",
       "                    data_source  \n",
       "name                             \n",
       "air_water_heat_pump      DFData  \n",
       "tank_heat_storage        DFData  \n",
       "heat_consumer            DFData  "
      ],
      "text/html": [
       "<div>\n",
       "<style scoped>\n",
       "    .dataframe tbody tr th:only-of-type {\n",
       "        vertical-align: middle;\n",
       "    }\n",
       "\n",
       "    .dataframe tbody tr th {\n",
       "        vertical-align: top;\n",
       "    }\n",
       "\n",
       "    .dataframe thead th {\n",
       "        text-align: right;\n",
       "    }\n",
       "</style>\n",
       "<table border=\"1\" class=\"dataframe\">\n",
       "  <thead>\n",
       "    <tr style=\"text-align: right;\">\n",
       "      <th></th>\n",
       "      <th>element</th>\n",
       "      <th>element_index</th>\n",
       "      <th>period_index</th>\n",
       "      <th>data_source</th>\n",
       "    </tr>\n",
       "    <tr>\n",
       "      <th>name</th>\n",
       "      <th></th>\n",
       "      <th></th>\n",
       "      <th></th>\n",
       "      <th></th>\n",
       "    </tr>\n",
       "  </thead>\n",
       "  <tbody>\n",
       "    <tr>\n",
       "      <th>air_water_heat_pump</th>\n",
       "      <td>heat_pump</td>\n",
       "      <td>0.0</td>\n",
       "      <td>0.0</td>\n",
       "      <td>DFData</td>\n",
       "    </tr>\n",
       "    <tr>\n",
       "      <th>tank_heat_storage</th>\n",
       "      <td>stratified_heat_storage</td>\n",
       "      <td>0.0</td>\n",
       "      <td>0.0</td>\n",
       "      <td>DFData</td>\n",
       "    </tr>\n",
       "    <tr>\n",
       "      <th>heat_consumer</th>\n",
       "      <td>heat_demand</td>\n",
       "      <td>0.0</td>\n",
       "      <td>0.0</td>\n",
       "      <td>DFData</td>\n",
       "    </tr>\n",
       "  </tbody>\n",
       "</table>\n",
       "</div>"
      ]
     },
     "execution_count": 26,
     "metadata": {},
     "output_type": "execute_result"
    }
   ],
   "execution_count": 26
  },
  {
   "metadata": {},
   "cell_type": "markdown",
   "source": [
    "Thanks to the presence of the storage, the heat pump will provide its maximum power most of the time, thus running at constant load.\n",
    "\n",
    "The power of the heat pump is reduced only when the storage is full"
   ],
   "id": "e83dcff00724efc1"
  },
  {
   "metadata": {
    "ExecuteTime": {
     "end_time": "2025-05-08T07:49:43.014544Z",
     "start_time": "2025-05-08T07:49:42.149561Z"
    }
   },
   "cell_type": "code",
   "source": [
    "res_df.data_source.loc['air_water_heat_pump'].df.q_cond_kw.plot()\n",
    "plt.title(\"Heat Pump provided power\")\n",
    "plt.ylabel(\"Thermal power (kW)\")\n",
    "plt.show()"
   ],
   "id": "4c3a063727a7cfa1",
   "outputs": [
    {
     "data": {
      "text/plain": [
       "<Figure size 640x480 with 1 Axes>"
      ],
      "image/png": "[encoded data removed]"
     },
     "metadata": {},
     "output_type": "display_data"
    }
   ],
   "execution_count": 27
  },
  {
   "metadata": {},
   "cell_type": "markdown",
   "source": "The storage is delivering heat (discharging) to the heat consumer only when the heat pump alone cannot meet the demand.",
   "id": "77c1346a2b71a369"
  },
  {
   "metadata": {
    "ExecuteTime": {
     "end_time": "2025-05-08T07:49:43.763478Z",
     "start_time": "2025-05-08T07:49:43.176055Z"
    }
   },
   "cell_type": "code",
   "source": [
    "res_df.data_source.loc['tank_heat_storage'].df.q_delivered_kw.plot()\n",
    "plt.show()"
   ],
   "id": "7427331962b22bee",
   "outputs": [
    {
     "data": {
      "text/plain": [
       "<Figure size 640x480 with 1 Axes>"
      ],
      "image/png": "[encoded data removed]"
     },
     "metadata": {},
     "output_type": "display_data"
    }
   ],
   "execution_count": 28
  },
  {
   "metadata": {},
   "cell_type": "markdown",
   "source": "The next graph shows the stored energy in the stratified heat storage (SHS). When demand spikes, the heat pump diverts all available output to meet that demand, leaving no surplus for storage, consequently, by the end, there's no energy left to store as the demand is high for a long period of time. The sharp drops in stored energy align with discharge events (q_discharge), which occur whenever the system must cover a sudden increase in heat demand.",
   "id": "c49f6b0d035ab501"
  },
  {
   "metadata": {
    "ExecuteTime": {
     "end_time": "2025-05-08T07:49:44.416302Z",
     "start_time": "2025-05-08T07:49:43.906142Z"
    }
   },
   "cell_type": "code",
   "source": [
    "res_df.data_source.loc['tank_heat_storage'].df.e_stored_kwh.plot()\n",
    "plt.show()"
   ],
   "id": "be4ac32cdd98d854",
   "outputs": [
    {
     "data": {
      "text/plain": [
       "<Figure size 640x480 with 1 Axes>"
      ],
      "image/png": "[encoded data removed]"
     },
     "metadata": {},
     "output_type": "display_data"
    }
   ],
   "execution_count": 29
  },
  {
   "metadata": {},
   "cell_type": "markdown",
   "source": [
    "Thanks to the storage, the demand is met even during the peaks, when the heat pump alone would not have been powerful enough.\n",
    "\n",
    "However at the end of the example timeseries, the demand is high for a long time. When the storage gets discharged, the demand cannot be met fully anymore."
   ],
   "id": "fe54937b9df48275"
  },
  {
   "metadata": {
    "ExecuteTime": {
     "end_time": "2025-05-08T07:49:45.155438Z",
     "start_time": "2025-05-08T07:49:44.428743Z"
    }
   },
   "cell_type": "code",
   "source": [
    "res_df.data_source.loc['heat_consumer'].df.q_uncovered_kw.plot()\n",
    "plt.show()"
   ],
   "id": "b293182ebbcb9e9f",
   "outputs": [
    {
     "data": {
      "text/plain": [
       "<Figure size 640x480 with 1 Axes>"
      ],
      "image/png": "[encoded data removed]"
     },
     "metadata": {},
     "output_type": "display_data"
    }
   ],
   "execution_count": 30
  }
 ],
 "metadata": {
  "kernelspec": {
   "display_name": "Python 3",
   "language": "python",
   "name": "python3"
  },
  "language_info": {
   "codemirror_mode": {
    "name": "ipython",
    "version": 2
   },
   "file_extension": ".py",
   "mimetype": "text/x-python",
   "name": "python",
   "nbconvert_exporter": "python",
   "pygments_lexer": "ipython2",
   "version": "2.7.6"
  }
 },
 "nbformat": 4,
 "nbformat_minor": 5
}
