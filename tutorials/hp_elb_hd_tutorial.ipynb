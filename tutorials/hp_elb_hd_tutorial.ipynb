{
 "cells": [
  {
   "metadata": {},
   "cell_type": "markdown",
   "source": "# PANDAPROSUMER EXAMPLE: HEAT PUMP WITH ELECTRIC BOILER",
   "id": "1d72e27bb53ef49c"
  },
  {
   "metadata": {},
   "cell_type": "markdown",
   "source": [
    "## DESCRIPTION:\n",
    "This example demonstrates how to create a single heat pump element within a pandaprosumer unit, which is connected to a single heat consumer. If the heat pump cannot fully meet the heat demand, the consumer is additionally connected to an electric boiler as a backup.\n",
    "\n",
    "The heat demand and source temperature data are read from an Excel file and stored in a pandas DataFrame. This data includes the required power of the consumer and the source temperature at each time step.\n",
    "\n",
    "\n",
    "\n",
    "![title](img/hp_elb.png)"
   ],
   "id": "1a1460d5f91388be"
  },
  {
   "metadata": {},
   "cell_type": "markdown",
   "source": [
    "## Glossary:\n",
    "- Network: A configuration of connected energy generators and energy consumers\n",
    "- Element: A single energy generator or a single energy consumer\n",
    "- Controller: The logic of an element that defines its behaviour and its limits\n",
    "- Prosumer/Container: A pandaprosumer data structure that holds data related to elements and their controllers.\n",
    "- Const Profile Controller: The initial controller in the network that interacts with other element controllers; it also manages external data via time series.\n",
    "- Map / mapping: A connection between two controllers that specifies what information is exchanged between the corresponding elements."
   ],
   "id": "500262c6f62f99c2"
  },
  {
   "metadata": {},
   "cell_type": "markdown",
   "source": [
    "## Network design philosophy:\n",
    "In pandaprosumer, a system's component is represented by a network element. Each element is assigned a container and its own element controller. A container is a structure that contains the component's configuration data (static input data), which can include information that will not change in the analysis such as size, nominal power, efficiency, etc. The behaviour of an element is governed by its controller. Connections between elements are defined in maps, which couple output parameters of one controller to the input parameter of a controller of a connected element. The network is managed by a controller called ConstProfileController. This controller is connected to all element controllers and manages dynamic input data from external sources (e.g. Excel file). For each time step it distributes the dynamic input data to the relevant element controllers."
   ],
   "id": "455096554daf4b7c"
  },
  {
   "metadata": {},
   "cell_type": "markdown",
   "source": [
    "# 1 - INPUT DATA:\n",
    "First let's import libraries required for data management."
   ],
   "id": "c42b371621c904bf"
  },
  {
   "metadata": {
    "ExecuteTime": {
     "end_time": "2025-03-31T10:02:07.317804Z",
     "start_time": "2025-03-31T10:02:05.343499Z"
    }
   },
   "cell_type": "code",
   "source": [
    "import pandas as pd\n",
    "from pandapower.timeseries.data_sources.frame_data import DFData"
   ],
   "id": "142082ad59af444",
   "outputs": [],
   "execution_count": 1
  },
  {
   "metadata": {},
   "cell_type": "markdown",
   "source": [
    "Next we need to define properties of the heat pump which are treated as static input data, i.e. data (characteristics) that don't change during an analysis. In this case the properties for the heat pump are :\n",
    "\n",
    "- `carnot_efficiency`: The efficiency of the heat pump relative to the Carnot cycle (dimensionless, between 0 and 1).\n",
    "- `pinch_c`: The pinch point temperature difference (°C), which represents the minimum temperature difference in the heat exchanger.\n",
    "- `delta_t_evap_c`: The temperature difference at the evaporator (°C).\n",
    "- `max_p_comp_kw`: The maximum compressor power (kW), which limits the heat pump's capacity.\n",
    "- `name`: A label identifying the heat pump.\n",
    "\n",
    "We also define the properties of the electric boiler (elb), which supplies the remaining heat demand that the heat pump cannot meet:\n",
    "\n",
    "- `max_p_kw`: Maximal power of the boiler [kW]\n",
    "\n",
    " While these arguments are generally optional, in our specific case they are required in order to fully configure the heat exchanger. Other optional arguments are also available for more advanced configurations."
   ],
   "id": "2d7c1bd4bd7fa9e9"
  },
  {
   "metadata": {
    "ExecuteTime": {
     "end_time": "2025-03-31T10:02:07.321729Z",
     "start_time": "2025-03-31T10:02:07.319115Z"
    }
   },
   "cell_type": "code",
   "source": [
    "hp_params = {\"carnot_efficiency\": 0.5,\n",
    "             \"pinch_c\": 0,\n",
    "             \"delta_t_evap_c\": 5,\n",
    "             \"max_p_comp_kw\": 200,\n",
    "             \"name\": 'air_water_heat_pump'}\n",
    "\n",
    "elb_params = {'max_p_kw': 500,\n",
    "             'name':'electric_boiler'}\n",
    "\n",
    "hd_params = {\"name\": 'heat_consumer'}"
   ],
   "id": "d09e6948fed57f3",
   "outputs": [],
   "execution_count": 2
  },
  {
   "metadata": {},
   "cell_type": "markdown",
   "source": "We define the analysis time series.",
   "id": "e2e94621f3d0f86d"
  },
  {
   "metadata": {
    "ExecuteTime": {
     "end_time": "2025-03-31T10:02:07.325093Z",
     "start_time": "2025-03-31T10:02:07.322869Z"
    }
   },
   "cell_type": "code",
   "source": [
    "start = '2020-01-01 00:00:00'\n",
    "end = '2020-01-01 23:59:59'\n",
    "time_resolution_s = 900"
   ],
   "id": "3ecbe4b60147ccf6",
   "outputs": [],
   "execution_count": 3
  },
  {
   "metadata": {},
   "cell_type": "markdown",
   "source": "Now we import our demand data and transform it into an appropriate DFData object. All data of an individual element is stored in a dedicated DFData object.",
   "id": "ecd5c572e5fbb1b1"
  },
  {
   "metadata": {
    "ExecuteTime": {
     "end_time": "2025-03-31T10:02:07.443336Z",
     "start_time": "2025-03-31T10:02:07.326460Z"
    }
   },
   "cell_type": "code",
   "source": [
    "import sys\n",
    "import os\n",
    "\n",
    "current_directory = os.getcwd()\n",
    "parent_directory = os.path.dirname(current_directory)\n",
    "sys.path.append(parent_directory)\n",
    "\n",
    "demand_data = pd.read_excel('data/hp_data.xlsx')\n",
    "\n",
    "dur = pd.date_range(start=start, end=end, freq='900s',tz='utc')\n",
    "demand_data.index = dur\n",
    "demand_input = DFData(demand_data)\n",
    "demand_input.df.head(10)\n"
   ],
   "id": "a4022973615f828b",
   "outputs": [
    {
     "data": {
      "text/plain": [
       "                           t_air  demand_power  t_feed_demand_c  \\\n",
       "2020-01-01 00:00:00+00:00     25             0               80   \n",
       "2020-01-01 00:15:00+00:00     25             0               80   \n",
       "2020-01-01 00:30:00+00:00     25             0               80   \n",
       "2020-01-01 00:45:00+00:00     25             0               80   \n",
       "2020-01-01 01:00:00+00:00     25             0               80   \n",
       "2020-01-01 01:15:00+00:00     25           500               80   \n",
       "2020-01-01 01:30:00+00:00     25           500               80   \n",
       "2020-01-01 01:45:00+00:00     25           500               80   \n",
       "2020-01-01 02:00:00+00:00     25           321               80   \n",
       "2020-01-01 02:15:00+00:00     25           321               80   \n",
       "\n",
       "                           t_return_demand_c  \n",
       "2020-01-01 00:00:00+00:00                 20  \n",
       "2020-01-01 00:15:00+00:00                 20  \n",
       "2020-01-01 00:30:00+00:00                 20  \n",
       "2020-01-01 00:45:00+00:00                 20  \n",
       "2020-01-01 01:00:00+00:00                 20  \n",
       "2020-01-01 01:15:00+00:00                 20  \n",
       "2020-01-01 01:30:00+00:00                 20  \n",
       "2020-01-01 01:45:00+00:00                 20  \n",
       "2020-01-01 02:00:00+00:00                 20  \n",
       "2020-01-01 02:15:00+00:00                 20  "
      ],
      "text/html": [
       "<div>\n",
       "<style scoped>\n",
       "    .dataframe tbody tr th:only-of-type {\n",
       "        vertical-align: middle;\n",
       "    }\n",
       "\n",
       "    .dataframe tbody tr th {\n",
       "        vertical-align: top;\n",
       "    }\n",
       "\n",
       "    .dataframe thead th {\n",
       "        text-align: right;\n",
       "    }\n",
       "</style>\n",
       "<table border=\"1\" class=\"dataframe\">\n",
       "  <thead>\n",
       "    <tr style=\"text-align: right;\">\n",
       "      <th></th>\n",
       "      <th>t_air</th>\n",
       "      <th>demand_power</th>\n",
       "      <th>t_feed_demand_c</th>\n",
       "      <th>t_return_demand_c</th>\n",
       "    </tr>\n",
       "  </thead>\n",
       "  <tbody>\n",
       "    <tr>\n",
       "      <th>2020-01-01 00:00:00+00:00</th>\n",
       "      <td>25</td>\n",
       "      <td>0</td>\n",
       "      <td>80</td>\n",
       "      <td>20</td>\n",
       "    </tr>\n",
       "    <tr>\n",
       "      <th>2020-01-01 00:15:00+00:00</th>\n",
       "      <td>25</td>\n",
       "      <td>0</td>\n",
       "      <td>80</td>\n",
       "      <td>20</td>\n",
       "    </tr>\n",
       "    <tr>\n",
       "      <th>2020-01-01 00:30:00+00:00</th>\n",
       "      <td>25</td>\n",
       "      <td>0</td>\n",
       "      <td>80</td>\n",
       "      <td>20</td>\n",
       "    </tr>\n",
       "    <tr>\n",
       "      <th>2020-01-01 00:45:00+00:00</th>\n",
       "      <td>25</td>\n",
       "      <td>0</td>\n",
       "      <td>80</td>\n",
       "      <td>20</td>\n",
       "    </tr>\n",
       "    <tr>\n",
       "      <th>2020-01-01 01:00:00+00:00</th>\n",
       "      <td>25</td>\n",
       "      <td>0</td>\n",
       "      <td>80</td>\n",
       "      <td>20</td>\n",
       "    </tr>\n",
       "    <tr>\n",
       "      <th>2020-01-01 01:15:00+00:00</th>\n",
       "      <td>25</td>\n",
       "      <td>500</td>\n",
       "      <td>80</td>\n",
       "      <td>20</td>\n",
       "    </tr>\n",
       "    <tr>\n",
       "      <th>2020-01-01 01:30:00+00:00</th>\n",
       "      <td>25</td>\n",
       "      <td>500</td>\n",
       "      <td>80</td>\n",
       "      <td>20</td>\n",
       "    </tr>\n",
       "    <tr>\n",
       "      <th>2020-01-01 01:45:00+00:00</th>\n",
       "      <td>25</td>\n",
       "      <td>500</td>\n",
       "      <td>80</td>\n",
       "      <td>20</td>\n",
       "    </tr>\n",
       "    <tr>\n",
       "      <th>2020-01-01 02:00:00+00:00</th>\n",
       "      <td>25</td>\n",
       "      <td>321</td>\n",
       "      <td>80</td>\n",
       "      <td>20</td>\n",
       "    </tr>\n",
       "    <tr>\n",
       "      <th>2020-01-01 02:15:00+00:00</th>\n",
       "      <td>25</td>\n",
       "      <td>321</td>\n",
       "      <td>80</td>\n",
       "      <td>20</td>\n",
       "    </tr>\n",
       "  </tbody>\n",
       "</table>\n",
       "</div>"
      ]
     },
     "execution_count": 4,
     "metadata": {},
     "output_type": "execute_result"
    }
   ],
   "execution_count": 4
  },
  {
   "metadata": {},
   "cell_type": "markdown",
   "source": "We can plot the evolution of the demand from the Excel file.",
   "id": "20bf208b14962417"
  },
  {
   "metadata": {
    "ExecuteTime": {
     "end_time": "2025-03-31T10:02:07.594958Z",
     "start_time": "2025-03-31T10:02:07.444924Z"
    }
   },
   "cell_type": "code",
   "source": [
    "import matplotlib.pyplot as plt\n",
    "\n",
    "demand_input.df.plot(y='demand_power')\n",
    "plt.show()"
   ],
   "id": "acc208ed485f2f86",
   "outputs": [
    {
     "data": {
      "text/plain": [
       "<Figure size 640x480 with 1 Axes>"
      ],
      "image/png": "[encoded data removed]"
     },
     "metadata": {},
     "output_type": "display_data"
    }
   ],
   "execution_count": 5
  },
  {
   "metadata": {},
   "cell_type": "markdown",
   "source": [
    "# 2 - CREATING ELEMENTS OF THE NETWORK:\n",
    "In this example, the network is made up of three elements: two sources and a consumer. One source is represented by a single heat pump, the second one is defined by an electric boiler and the consumer is modelled by a single heat demand element.\n",
    "\n",
    "We begin by defining an empty prosumer container object and then add the different elements and their respective controllers to it."
   ],
   "id": "b6f84d92889144d6"
  },
  {
   "metadata": {
    "ExecuteTime": {
     "end_time": "2025-03-31T10:02:17.883021Z",
     "start_time": "2025-03-31T10:02:07.596081Z"
    }
   },
   "cell_type": "code",
   "source": [
    "from pandaprosumer.create import create_empty_prosumer_container\n",
    "\n",
    "prosumer = create_empty_prosumer_container()"
   ],
   "id": "4bfed1f46eef0b4",
   "outputs": [],
   "execution_count": 6
  },
  {
   "metadata": {},
   "cell_type": "markdown",
   "source": "Then we define the period of the analysis using input data about the analysis of time and also timezone and period name.",
   "id": "37f38b289e5ee8a6"
  },
  {
   "metadata": {
    "ExecuteTime": {
     "end_time": "2025-03-31T10:02:17.888697Z",
     "start_time": "2025-03-31T10:02:17.884288Z"
    }
   },
   "cell_type": "code",
   "source": [
    "from pandaprosumer.create import create_period\n",
    "\n",
    "period_id = create_period(prosumer, time_resolution_s, start, end, 'utc', 'default')"
   ],
   "id": "3bb1a6fd52d77654",
   "outputs": [],
   "execution_count": 7
  },
  {
   "metadata": {},
   "cell_type": "markdown",
   "source": [
    "Now we can create the controllers connected to their respective containers and data. We also define the topology of the network by setting the elements' priority. In this example, the network has a linear configuration (the direction of energy flow goes in one direction), so only the order parameter is set:\n",
    "\n",
    "- The const profile controller is always the first element in the network and is the only one that reads data from external sources (order 0, level 0),\n",
    "- As the source, the gas boiler controller is the second element (order 0, level 1) in the network,\n",
    "- Third element represents the heat exchanger(order 1, level 1),\n",
    " -The final order is the demand (order 2, level 1).\n",
    "\n",
    "We begin by creating the Const Profile Controller."
   ],
   "id": "94601c61127ef2e5"
  },
  {
   "metadata": {
    "ExecuteTime": {
     "end_time": "2025-03-31T10:02:17.895654Z",
     "start_time": "2025-03-31T10:02:17.889739Z"
    }
   },
   "cell_type": "code",
   "source": [
    "from pandaprosumer.create_controlled import create_controlled_const_profile\n",
    "\n",
    "cp_input_columns = [\"t_air\", \"demand_power\", \"t_feed_demand_c\", \"t_return_demand_c\"]\n",
    "cp_result_columns = [\"t_evap_in_c\", \"qdemand_kw\", \"t_feed_demand_c\", \"t_return_demand_c\"]\n",
    "cp_controller_index = create_controlled_const_profile(prosumer, cp_input_columns, cp_result_columns, period_id, demand_input, level=0, order=0)"
   ],
   "id": "a593b8cd32003abc",
   "outputs": [],
   "execution_count": 8
  },
  {
   "metadata": {},
   "cell_type": "markdown",
   "source": "The heat pump, electric Boiler and Heat demand controllers are now created",
   "id": "84444f62864b16ef"
  },
  {
   "metadata": {
    "ExecuteTime": {
     "end_time": "2025-03-31T10:02:17.909459Z",
     "start_time": "2025-03-31T10:02:17.896734Z"
    }
   },
   "cell_type": "code",
   "source": [
    "from pandaprosumer.create_controlled import create_controlled_heat_pump,create_controlled_electric_boiler, create_controlled_heat_demand\n",
    "\n",
    "hp_controller_index = create_controlled_heat_pump(prosumer, period=period_id, level=1, order=0, **hp_params)\n",
    "elb_controller_index = create_controlled_electric_boiler(prosumer, period=period_id, level=1, order=1, **elb_params)\n",
    "hd_controller_index = create_controlled_heat_demand(prosumer, period=period_id, level=1, order = 2,**hd_params)"
   ],
   "id": "ff55fcc76370bf3b",
   "outputs": [],
   "execution_count": 9
  },
  {
   "metadata": {},
   "cell_type": "markdown",
   "source": "We can check that the elements were connected added to the prosumer with the specified parameters",
   "id": "f23591df7fae5f0"
  },
  {
   "metadata": {
    "ExecuteTime": {
     "end_time": "2025-03-31T10:02:17.917083Z",
     "start_time": "2025-03-31T10:02:17.910597Z"
    }
   },
   "cell_type": "code",
   "source": "prosumer.heat_pump",
   "id": "e06b44aa1db18a71",
   "outputs": [
    {
     "data": {
      "text/plain": [
       "                  name  delta_t_evap_c  carnot_efficiency  pinch_c  \\\n",
       "0  air_water_heat_pump             5.0                0.5      0.0   \n",
       "\n",
       "   delta_t_hot_default_c  max_p_comp_kw  min_p_comp_kw  max_t_cond_out_c  \\\n",
       "0                    5.0          200.0            NaN               NaN   \n",
       "\n",
       "   max_cop cond_fluid evap_fluid  in_service  \n",
       "0      NaN      water      water        True  "
      ],
      "text/html": [
       "<div>\n",
       "<style scoped>\n",
       "    .dataframe tbody tr th:only-of-type {\n",
       "        vertical-align: middle;\n",
       "    }\n",
       "\n",
       "    .dataframe tbody tr th {\n",
       "        vertical-align: top;\n",
       "    }\n",
       "\n",
       "    .dataframe thead th {\n",
       "        text-align: right;\n",
       "    }\n",
       "</style>\n",
       "<table border=\"1\" class=\"dataframe\">\n",
       "  <thead>\n",
       "    <tr style=\"text-align: right;\">\n",
       "      <th></th>\n",
       "      <th>name</th>\n",
       "      <th>delta_t_evap_c</th>\n",
       "      <th>carnot_efficiency</th>\n",
       "      <th>pinch_c</th>\n",
       "      <th>delta_t_hot_default_c</th>\n",
       "      <th>max_p_comp_kw</th>\n",
       "      <th>min_p_comp_kw</th>\n",
       "      <th>max_t_cond_out_c</th>\n",
       "      <th>max_cop</th>\n",
       "      <th>cond_fluid</th>\n",
       "      <th>evap_fluid</th>\n",
       "      <th>in_service</th>\n",
       "    </tr>\n",
       "  </thead>\n",
       "  <tbody>\n",
       "    <tr>\n",
       "      <th>0</th>\n",
       "      <td>air_water_heat_pump</td>\n",
       "      <td>5.0</td>\n",
       "      <td>0.5</td>\n",
       "      <td>0.0</td>\n",
       "      <td>5.0</td>\n",
       "      <td>200.0</td>\n",
       "      <td>NaN</td>\n",
       "      <td>NaN</td>\n",
       "      <td>NaN</td>\n",
       "      <td>water</td>\n",
       "      <td>water</td>\n",
       "      <td>True</td>\n",
       "    </tr>\n",
       "  </tbody>\n",
       "</table>\n",
       "</div>"
      ]
     },
     "execution_count": 10,
     "metadata": {},
     "output_type": "execute_result"
    }
   ],
   "execution_count": 10
  },
  {
   "metadata": {
    "ExecuteTime": {
     "end_time": "2025-03-31T10:02:17.922497Z",
     "start_time": "2025-03-31T10:02:17.918073Z"
    }
   },
   "cell_type": "code",
   "source": "prosumer.electric_boiler",
   "id": "10e2840f555cc4fe",
   "outputs": [
    {
     "data": {
      "text/plain": [
       "              name  max_p_kw  efficiency_percent  in_service\n",
       "0  electric_boiler     500.0               100.0        True"
      ],
      "text/html": [
       "<div>\n",
       "<style scoped>\n",
       "    .dataframe tbody tr th:only-of-type {\n",
       "        vertical-align: middle;\n",
       "    }\n",
       "\n",
       "    .dataframe tbody tr th {\n",
       "        vertical-align: top;\n",
       "    }\n",
       "\n",
       "    .dataframe thead th {\n",
       "        text-align: right;\n",
       "    }\n",
       "</style>\n",
       "<table border=\"1\" class=\"dataframe\">\n",
       "  <thead>\n",
       "    <tr style=\"text-align: right;\">\n",
       "      <th></th>\n",
       "      <th>name</th>\n",
       "      <th>max_p_kw</th>\n",
       "      <th>efficiency_percent</th>\n",
       "      <th>in_service</th>\n",
       "    </tr>\n",
       "  </thead>\n",
       "  <tbody>\n",
       "    <tr>\n",
       "      <th>0</th>\n",
       "      <td>electric_boiler</td>\n",
       "      <td>500.0</td>\n",
       "      <td>100.0</td>\n",
       "      <td>True</td>\n",
       "    </tr>\n",
       "  </tbody>\n",
       "</table>\n",
       "</div>"
      ]
     },
     "execution_count": 11,
     "metadata": {},
     "output_type": "execute_result"
    }
   ],
   "execution_count": 11
  },
  {
   "metadata": {
    "ExecuteTime": {
     "end_time": "2025-03-31T10:02:17.928037Z",
     "start_time": "2025-03-31T10:02:17.923618Z"
    }
   },
   "cell_type": "code",
   "source": "prosumer.heat_demand",
   "id": "6e89d7d9842eb04c",
   "outputs": [
    {
     "data": {
      "text/plain": [
       "            name  scaling  in_service\n",
       "0  heat_consumer      1.0        True"
      ],
      "text/html": [
       "<div>\n",
       "<style scoped>\n",
       "    .dataframe tbody tr th:only-of-type {\n",
       "        vertical-align: middle;\n",
       "    }\n",
       "\n",
       "    .dataframe tbody tr th {\n",
       "        vertical-align: top;\n",
       "    }\n",
       "\n",
       "    .dataframe thead th {\n",
       "        text-align: right;\n",
       "    }\n",
       "</style>\n",
       "<table border=\"1\" class=\"dataframe\">\n",
       "  <thead>\n",
       "    <tr style=\"text-align: right;\">\n",
       "      <th></th>\n",
       "      <th>name</th>\n",
       "      <th>scaling</th>\n",
       "      <th>in_service</th>\n",
       "    </tr>\n",
       "  </thead>\n",
       "  <tbody>\n",
       "    <tr>\n",
       "      <th>0</th>\n",
       "      <td>heat_consumer</td>\n",
       "      <td>1.0</td>\n",
       "      <td>True</td>\n",
       "    </tr>\n",
       "  </tbody>\n",
       "</table>\n",
       "</div>"
      ]
     },
     "execution_count": 12,
     "metadata": {},
     "output_type": "execute_result"
    }
   ],
   "execution_count": 12
  },
  {
   "metadata": {},
   "cell_type": "markdown",
   "source": "Additionnaly, we can check that for each element, a controller has been added to the prosumer",
   "id": "8efe3429e7115fe8"
  },
  {
   "metadata": {
    "ExecuteTime": {
     "end_time": "2025-03-31T10:02:17.933768Z",
     "start_time": "2025-03-31T10:02:17.929112Z"
    }
   },
   "cell_type": "code",
   "source": "prosumer.controller",
   "id": "9ecf4204c73aec04",
   "outputs": [
    {
     "data": {
      "text/plain": [
       "                     object  in_service order level initial_run recycle\n",
       "0    ConstProfileController        True     0     0        True   False\n",
       "1        HeatPumpController        True     0     1        True   False\n",
       "2  ElectricBoilerController        True     1     1        True   False\n",
       "3      HeatDemandController        True     2     1        True   False"
      ],
      "text/html": [
       "<div>\n",
       "<style scoped>\n",
       "    .dataframe tbody tr th:only-of-type {\n",
       "        vertical-align: middle;\n",
       "    }\n",
       "\n",
       "    .dataframe tbody tr th {\n",
       "        vertical-align: top;\n",
       "    }\n",
       "\n",
       "    .dataframe thead th {\n",
       "        text-align: right;\n",
       "    }\n",
       "</style>\n",
       "<table border=\"1\" class=\"dataframe\">\n",
       "  <thead>\n",
       "    <tr style=\"text-align: right;\">\n",
       "      <th></th>\n",
       "      <th>object</th>\n",
       "      <th>in_service</th>\n",
       "      <th>order</th>\n",
       "      <th>level</th>\n",
       "      <th>initial_run</th>\n",
       "      <th>recycle</th>\n",
       "    </tr>\n",
       "  </thead>\n",
       "  <tbody>\n",
       "    <tr>\n",
       "      <th>0</th>\n",
       "      <td>ConstProfileController</td>\n",
       "      <td>True</td>\n",
       "      <td>0</td>\n",
       "      <td>0</td>\n",
       "      <td>True</td>\n",
       "      <td>False</td>\n",
       "    </tr>\n",
       "    <tr>\n",
       "      <th>1</th>\n",
       "      <td>HeatPumpController</td>\n",
       "      <td>True</td>\n",
       "      <td>0</td>\n",
       "      <td>1</td>\n",
       "      <td>True</td>\n",
       "      <td>False</td>\n",
       "    </tr>\n",
       "    <tr>\n",
       "      <th>2</th>\n",
       "      <td>ElectricBoilerController</td>\n",
       "      <td>True</td>\n",
       "      <td>1</td>\n",
       "      <td>1</td>\n",
       "      <td>True</td>\n",
       "      <td>False</td>\n",
       "    </tr>\n",
       "    <tr>\n",
       "      <th>3</th>\n",
       "      <td>HeatDemandController</td>\n",
       "      <td>True</td>\n",
       "      <td>2</td>\n",
       "      <td>1</td>\n",
       "      <td>True</td>\n",
       "      <td>False</td>\n",
       "    </tr>\n",
       "  </tbody>\n",
       "</table>\n",
       "</div>"
      ]
     },
     "execution_count": 13,
     "metadata": {},
     "output_type": "execute_result"
    }
   ],
   "execution_count": 13
  },
  {
   "metadata": {},
   "cell_type": "markdown",
   "source": [
    "# 4 - CREATING CONNECTIONS (MAPS) BETWEEN THE CONTROLLERS:\n",
    "network configuration\n",
    "\n",
    "For each controller we define how it is connected to other controllers.\n",
    "\n"
   ],
   "id": "d91220b208da4390"
  },
  {
   "metadata": {
    "ExecuteTime": {
     "end_time": "2025-03-31T10:02:17.937681Z",
     "start_time": "2025-03-31T10:02:17.935725Z"
    }
   },
   "cell_type": "code",
   "source": [
    "from pandaprosumer.mapping import GenericMapping\n",
    "from pandaprosumer.mapping import FluidMixMapping"
   ],
   "id": "1f366d4a29935e57",
   "outputs": [],
   "execution_count": 14
  },
  {
   "metadata": {},
   "cell_type": "markdown",
   "source": [
    "CONNECTION CONST PROFILE CONTROLLER ---> HEAT PUMP:\n",
    "\n",
    "The connection from the Const Profile Controller to the Heat Pump Controller enables the heat pump to access the t_air column from the input time series dataset."
   ],
   "id": "55ad9f5479fc4124"
  },
  {
   "metadata": {
    "ExecuteTime": {
     "end_time": "2025-03-31T10:02:17.944887Z",
     "start_time": "2025-03-31T10:02:17.939157Z"
    }
   },
   "cell_type": "code",
   "source": [
    "GenericMapping(prosumer,\n",
    "               initiator_id=cp_controller_index,\n",
    "               initiator_column=\"t_evap_in_c\",\n",
    "               responder_id=hp_controller_index,\n",
    "               responder_column=\"t_evap_in_c\",\n",
    "               order=0)"
   ],
   "id": "e4a393c63c9be45b",
   "outputs": [
    {
     "data": {
      "text/plain": [
       "<pandaprosumer.mapping.generic.GenericMapping at 0x7f76f4d80a90>"
      ]
     },
     "execution_count": 15,
     "metadata": {},
     "output_type": "execute_result"
    }
   ],
   "execution_count": 15
  },
  {
   "metadata": {},
   "cell_type": "markdown",
   "source": [
    "CONNECTION CONST PROFILE CONTROLLER ---> HEAT DEMAND:\n",
    "\n",
    "The connection from the Const Profile Controller to the Heat Demand Controller enables the heat demand to access the demand_power, t_feed_demand_c, t_return_demand_c columns from the input time series dataset.\n",
    "\n",
    "The order=1 in this mapping between ConstProfileController and HeatDemandController defines the sequence in which this mapping is applied, relative to other mappings from the ConstProfileController. It ensures that this mapping happens in the correct order if there are multiple mappings from the same initiator controller.\n",
    "\n",
    "This mapping order is separate from the controller execution order, which defines when the controllers themselves are executed during each simulation step. The order=1 ensures the data flows in the intended sequence without affecting the overall controller run order."
   ],
   "id": "2033f2c1ab0b321"
  },
  {
   "metadata": {
    "ExecuteTime": {
     "end_time": "2025-03-31T10:02:17.949815Z",
     "start_time": "2025-03-31T10:02:17.945821Z"
    }
   },
   "cell_type": "code",
   "source": [
    "GenericMapping(prosumer,\n",
    "               initiator_id=cp_controller_index,\n",
    "               initiator_column=[\"qdemand_kw\", \"t_feed_demand_c\", \"t_return_demand_c\"],\n",
    "               responder_id=hd_controller_index,\n",
    "               responder_column=[\"q_demand_kw\", \"t_feed_demand_c\", \"t_return_demand_c\"],\n",
    "               order=1)"
   ],
   "id": "990bb9e9be868f9e",
   "outputs": [
    {
     "data": {
      "text/plain": [
       "<pandaprosumer.mapping.generic.GenericMapping at 0x7f76f4d566b0>"
      ]
     },
     "execution_count": 16,
     "metadata": {},
     "output_type": "execute_result"
    }
   ],
   "execution_count": 16
  },
  {
   "metadata": {},
   "cell_type": "markdown",
   "source": [
    "CONNECTION GAS BOILER --->Heat exchanger:\n",
    "The connection between the Heat Exchanger Controller and the Gas Boiler Controller allows the heat exchanger to read the gas boiler’s output and use it as an input for its own calculations. Instead of a generic mapping, a fluid mix mapping is used—this is necessary because the parameters being exchanged, such as mass flow, are dynamic and not static."
   ],
   "id": "e8a6874c57a84624"
  },
  {
   "metadata": {
    "ExecuteTime": {
     "end_time": "2025-03-31T10:02:17.954945Z",
     "start_time": "2025-03-31T10:02:17.950910Z"
    }
   },
   "cell_type": "code",
   "source": [
    "FluidMixMapping(prosumer,\n",
    "                initiator_id=hp_controller_index,\n",
    "                responder_id=hd_controller_index,\n",
    "                order=0)"
   ],
   "id": "4bf23ec7c9365e08",
   "outputs": [
    {
     "data": {
      "text/plain": [
       "<pandaprosumer.mapping.fluid_mix.FluidMixMapping at 0x7f76f4d541f0>"
      ]
     },
     "execution_count": 17,
     "metadata": {},
     "output_type": "execute_result"
    }
   ],
   "execution_count": 17
  },
  {
   "metadata": {},
   "cell_type": "markdown",
   "source": "HEAT EXCHANGER ---> HEAT DEMAND:",
   "id": "9764df3308220896"
  },
  {
   "metadata": {
    "ExecuteTime": {
     "end_time": "2025-03-31T10:02:17.959985Z",
     "start_time": "2025-03-31T10:02:17.955942Z"
    }
   },
   "cell_type": "code",
   "source": [
    "FluidMixMapping(prosumer,\n",
    "                initiator_id=elb_controller_index,\n",
    "                responder_id=hd_controller_index,\n",
    "                order=0)"
   ],
   "id": "539a30a496f6c6c1",
   "outputs": [
    {
     "data": {
      "text/plain": [
       "<pandaprosumer.mapping.fluid_mix.FluidMixMapping at 0x7f76f4d558d0>"
      ]
     },
     "execution_count": 18,
     "metadata": {},
     "output_type": "execute_result"
    }
   ],
   "execution_count": 18
  },
  {
   "metadata": {},
   "cell_type": "markdown",
   "source": [
    "5 - RUNNING THE ANALYSIS:\n",
    "We can now run the analysis with the input data defined above."
   ],
   "id": "e4042aef59c2519c"
  },
  {
   "metadata": {
    "ExecuteTime": {
     "end_time": "2025-03-31T10:02:18.872761Z",
     "start_time": "2025-03-31T10:02:17.961028Z"
    }
   },
   "cell_type": "code",
   "source": [
    "from pandaprosumer.run_time_series import run_timeseries\n",
    "\n",
    "run_timeseries(prosumer, period_id, verbose=True)"
   ],
   "id": "dbe3275e195c01bd",
   "outputs": [
    {
     "name": "stderr",
     "output_type": "stream",
     "text": [
      "100%|██████████| 96/96 [00:00<00:00, 134.98it/s]\n"
     ]
    }
   ],
   "execution_count": 19
  },
  {
   "metadata": {},
   "cell_type": "markdown",
   "source": [
    "# 6 - PRINTING AND PLOTTING RESULTS:\n",
    "All the results of the timeseries analysis are available in the prosumer.time_series dataframe"
   ],
   "id": "411100a194e1668c"
  },
  {
   "metadata": {
    "ExecuteTime": {
     "end_time": "2025-03-31T10:02:18.879932Z",
     "start_time": "2025-03-31T10:02:18.873891Z"
    }
   },
   "cell_type": "code",
   "source": "prosumer.time_series",
   "id": "6e8380aeaa94cb8a",
   "outputs": [
    {
     "data": {
      "text/plain": [
       "                  name          element  element_index  period_index  \\\n",
       "0  air_water_heat_pump        heat_pump            0.0           0.0   \n",
       "1      electric_boiler  electric_boiler            0.0           0.0   \n",
       "2        heat_consumer      heat_demand            0.0           0.0   \n",
       "\n",
       "  data_source  \n",
       "0      DFData  \n",
       "1      DFData  \n",
       "2      DFData  "
      ],
      "text/html": [
       "<div>\n",
       "<style scoped>\n",
       "    .dataframe tbody tr th:only-of-type {\n",
       "        vertical-align: middle;\n",
       "    }\n",
       "\n",
       "    .dataframe tbody tr th {\n",
       "        vertical-align: top;\n",
       "    }\n",
       "\n",
       "    .dataframe thead th {\n",
       "        text-align: right;\n",
       "    }\n",
       "</style>\n",
       "<table border=\"1\" class=\"dataframe\">\n",
       "  <thead>\n",
       "    <tr style=\"text-align: right;\">\n",
       "      <th></th>\n",
       "      <th>name</th>\n",
       "      <th>element</th>\n",
       "      <th>element_index</th>\n",
       "      <th>period_index</th>\n",
       "      <th>data_source</th>\n",
       "    </tr>\n",
       "  </thead>\n",
       "  <tbody>\n",
       "    <tr>\n",
       "      <th>0</th>\n",
       "      <td>air_water_heat_pump</td>\n",
       "      <td>heat_pump</td>\n",
       "      <td>0.0</td>\n",
       "      <td>0.0</td>\n",
       "      <td>DFData</td>\n",
       "    </tr>\n",
       "    <tr>\n",
       "      <th>1</th>\n",
       "      <td>electric_boiler</td>\n",
       "      <td>electric_boiler</td>\n",
       "      <td>0.0</td>\n",
       "      <td>0.0</td>\n",
       "      <td>DFData</td>\n",
       "    </tr>\n",
       "    <tr>\n",
       "      <th>2</th>\n",
       "      <td>heat_consumer</td>\n",
       "      <td>heat_demand</td>\n",
       "      <td>0.0</td>\n",
       "      <td>0.0</td>\n",
       "      <td>DFData</td>\n",
       "    </tr>\n",
       "  </tbody>\n",
       "</table>\n",
       "</div>"
      ]
     },
     "execution_count": 20,
     "metadata": {},
     "output_type": "execute_result"
    }
   ],
   "execution_count": 20
  },
  {
   "metadata": {},
   "cell_type": "markdown",
   "source": "Before plotting we have to look at the resulting dataframe to see which quantity (column) do we want to plot.",
   "id": "fefb52cb61471d8e"
  },
  {
   "metadata": {},
   "cell_type": "markdown",
   "source": "Access the results of the gas boiler:",
   "id": "88ae499efa65c1af"
  },
  {
   "metadata": {
    "ExecuteTime": {
     "end_time": "2025-03-31T10:02:18.891322Z",
     "start_time": "2025-03-31T10:02:18.881071Z"
    }
   },
   "cell_type": "code",
   "source": "prosumer.time_series.data_source.loc[0].df.head(10)",
   "id": "8a6be07def2b5b60",
   "outputs": [
    {
     "data": {
      "text/plain": [
       "                           q_cond_kw   p_comp_kw   q_evap_kw       cop  \\\n",
       "2020-01-01 00:00:00+00:00        0.0    0.000000    0.000000  0.000000   \n",
       "2020-01-01 00:15:00+00:00        0.0    0.000000    0.000000  0.000000   \n",
       "2020-01-01 00:30:00+00:00        0.0    0.000000    0.000000  0.000000   \n",
       "2020-01-01 00:45:00+00:00        0.0    0.000000    0.000000  0.000000   \n",
       "2020-01-01 01:00:00+00:00        0.0    0.000000    0.000000  0.000000   \n",
       "2020-01-01 01:15:00+00:00      500.0  155.741186  344.258814  3.210455   \n",
       "2020-01-01 01:30:00+00:00      500.0  155.741186  344.258814  3.210455   \n",
       "2020-01-01 01:45:00+00:00      500.0  155.741186  344.258814  3.210455   \n",
       "2020-01-01 02:00:00+00:00      321.0   99.985842  221.014158  3.210455   \n",
       "2020-01-01 02:15:00+00:00      321.0   99.985842  221.014158  3.210455   \n",
       "\n",
       "                           mdot_cond_kg_per_s  t_cond_in_c  t_cond_out_c  \\\n",
       "2020-01-01 00:00:00+00:00            0.000000         20.0          20.0   \n",
       "2020-01-01 00:15:00+00:00            0.000000         20.0          20.0   \n",
       "2020-01-01 00:30:00+00:00            0.000000         20.0          20.0   \n",
       "2020-01-01 00:45:00+00:00            0.000000         20.0          20.0   \n",
       "2020-01-01 01:00:00+00:00            0.000000         20.0          20.0   \n",
       "2020-01-01 01:15:00+00:00            1.992880         20.0          80.0   \n",
       "2020-01-01 01:30:00+00:00            1.992880         20.0          80.0   \n",
       "2020-01-01 01:45:00+00:00            1.992880         20.0          80.0   \n",
       "2020-01-01 02:00:00+00:00            1.279429         20.0          80.0   \n",
       "2020-01-01 02:15:00+00:00            1.279429         20.0          80.0   \n",
       "\n",
       "                           mdot_evap_kg_per_s  t_evap_in_c  t_evap_out_c  \n",
       "2020-01-01 00:00:00+00:00            0.000000         25.0          25.0  \n",
       "2020-01-01 00:15:00+00:00            0.000000         25.0          25.0  \n",
       "2020-01-01 00:30:00+00:00            0.000000         25.0          25.0  \n",
       "2020-01-01 00:45:00+00:00            0.000000         25.0          25.0  \n",
       "2020-01-01 01:00:00+00:00            0.000000         25.0          25.0  \n",
       "2020-01-01 01:15:00+00:00           16.460231         25.0          20.0  \n",
       "2020-01-01 01:30:00+00:00           16.460231         25.0          20.0  \n",
       "2020-01-01 01:45:00+00:00           16.460231         25.0          20.0  \n",
       "2020-01-01 02:00:00+00:00           10.567468         25.0          20.0  \n",
       "2020-01-01 02:15:00+00:00           10.567468         25.0          20.0  "
      ],
      "text/html": [
       "<div>\n",
       "<style scoped>\n",
       "    .dataframe tbody tr th:only-of-type {\n",
       "        vertical-align: middle;\n",
       "    }\n",
       "\n",
       "    .dataframe tbody tr th {\n",
       "        vertical-align: top;\n",
       "    }\n",
       "\n",
       "    .dataframe thead th {\n",
       "        text-align: right;\n",
       "    }\n",
       "</style>\n",
       "<table border=\"1\" class=\"dataframe\">\n",
       "  <thead>\n",
       "    <tr style=\"text-align: right;\">\n",
       "      <th></th>\n",
       "      <th>q_cond_kw</th>\n",
       "      <th>p_comp_kw</th>\n",
       "      <th>q_evap_kw</th>\n",
       "      <th>cop</th>\n",
       "      <th>mdot_cond_kg_per_s</th>\n",
       "      <th>t_cond_in_c</th>\n",
       "      <th>t_cond_out_c</th>\n",
       "      <th>mdot_evap_kg_per_s</th>\n",
       "      <th>t_evap_in_c</th>\n",
       "      <th>t_evap_out_c</th>\n",
       "    </tr>\n",
       "  </thead>\n",
       "  <tbody>\n",
       "    <tr>\n",
       "      <th>2020-01-01 00:00:00+00:00</th>\n",
       "      <td>0.0</td>\n",
       "      <td>0.000000</td>\n",
       "      <td>0.000000</td>\n",
       "      <td>0.000000</td>\n",
       "      <td>0.000000</td>\n",
       "      <td>20.0</td>\n",
       "      <td>20.0</td>\n",
       "      <td>0.000000</td>\n",
       "      <td>25.0</td>\n",
       "      <td>25.0</td>\n",
       "    </tr>\n",
       "    <tr>\n",
       "      <th>2020-01-01 00:15:00+00:00</th>\n",
       "      <td>0.0</td>\n",
       "      <td>0.000000</td>\n",
       "      <td>0.000000</td>\n",
       "      <td>0.000000</td>\n",
       "      <td>0.000000</td>\n",
       "      <td>20.0</td>\n",
       "      <td>20.0</td>\n",
       "      <td>0.000000</td>\n",
       "      <td>25.0</td>\n",
       "      <td>25.0</td>\n",
       "    </tr>\n",
       "    <tr>\n",
       "      <th>2020-01-01 00:30:00+00:00</th>\n",
       "      <td>0.0</td>\n",
       "      <td>0.000000</td>\n",
       "      <td>0.000000</td>\n",
       "      <td>0.000000</td>\n",
       "      <td>0.000000</td>\n",
       "      <td>20.0</td>\n",
       "      <td>20.0</td>\n",
       "      <td>0.000000</td>\n",
       "      <td>25.0</td>\n",
       "      <td>25.0</td>\n",
       "    </tr>\n",
       "    <tr>\n",
       "      <th>2020-01-01 00:45:00+00:00</th>\n",
       "      <td>0.0</td>\n",
       "      <td>0.000000</td>\n",
       "      <td>0.000000</td>\n",
       "      <td>0.000000</td>\n",
       "      <td>0.000000</td>\n",
       "      <td>20.0</td>\n",
       "      <td>20.0</td>\n",
       "      <td>0.000000</td>\n",
       "      <td>25.0</td>\n",
       "      <td>25.0</td>\n",
       "    </tr>\n",
       "    <tr>\n",
       "      <th>2020-01-01 01:00:00+00:00</th>\n",
       "      <td>0.0</td>\n",
       "      <td>0.000000</td>\n",
       "      <td>0.000000</td>\n",
       "      <td>0.000000</td>\n",
       "      <td>0.000000</td>\n",
       "      <td>20.0</td>\n",
       "      <td>20.0</td>\n",
       "      <td>0.000000</td>\n",
       "      <td>25.0</td>\n",
       "      <td>25.0</td>\n",
       "    </tr>\n",
       "    <tr>\n",
       "      <th>2020-01-01 01:15:00+00:00</th>\n",
       "      <td>500.0</td>\n",
       "      <td>155.741186</td>\n",
       "      <td>344.258814</td>\n",
       "      <td>3.210455</td>\n",
       "      <td>1.992880</td>\n",
       "      <td>20.0</td>\n",
       "      <td>80.0</td>\n",
       "      <td>16.460231</td>\n",
       "      <td>25.0</td>\n",
       "      <td>20.0</td>\n",
       "    </tr>\n",
       "    <tr>\n",
       "      <th>2020-01-01 01:30:00+00:00</th>\n",
       "      <td>500.0</td>\n",
       "      <td>155.741186</td>\n",
       "      <td>344.258814</td>\n",
       "      <td>3.210455</td>\n",
       "      <td>1.992880</td>\n",
       "      <td>20.0</td>\n",
       "      <td>80.0</td>\n",
       "      <td>16.460231</td>\n",
       "      <td>25.0</td>\n",
       "      <td>20.0</td>\n",
       "    </tr>\n",
       "    <tr>\n",
       "      <th>2020-01-01 01:45:00+00:00</th>\n",
       "      <td>500.0</td>\n",
       "      <td>155.741186</td>\n",
       "      <td>344.258814</td>\n",
       "      <td>3.210455</td>\n",
       "      <td>1.992880</td>\n",
       "      <td>20.0</td>\n",
       "      <td>80.0</td>\n",
       "      <td>16.460231</td>\n",
       "      <td>25.0</td>\n",
       "      <td>20.0</td>\n",
       "    </tr>\n",
       "    <tr>\n",
       "      <th>2020-01-01 02:00:00+00:00</th>\n",
       "      <td>321.0</td>\n",
       "      <td>99.985842</td>\n",
       "      <td>221.014158</td>\n",
       "      <td>3.210455</td>\n",
       "      <td>1.279429</td>\n",
       "      <td>20.0</td>\n",
       "      <td>80.0</td>\n",
       "      <td>10.567468</td>\n",
       "      <td>25.0</td>\n",
       "      <td>20.0</td>\n",
       "    </tr>\n",
       "    <tr>\n",
       "      <th>2020-01-01 02:15:00+00:00</th>\n",
       "      <td>321.0</td>\n",
       "      <td>99.985842</td>\n",
       "      <td>221.014158</td>\n",
       "      <td>3.210455</td>\n",
       "      <td>1.279429</td>\n",
       "      <td>20.0</td>\n",
       "      <td>80.0</td>\n",
       "      <td>10.567468</td>\n",
       "      <td>25.0</td>\n",
       "      <td>20.0</td>\n",
       "    </tr>\n",
       "  </tbody>\n",
       "</table>\n",
       "</div>"
      ]
     },
     "execution_count": 21,
     "metadata": {},
     "output_type": "execute_result"
    }
   ],
   "execution_count": 21
  },
  {
   "metadata": {},
   "cell_type": "markdown",
   "source": "Access the results of the heat_exchanger:",
   "id": "167f20a8ba01af3e"
  },
  {
   "metadata": {
    "ExecuteTime": {
     "end_time": "2025-03-31T10:02:18.899115Z",
     "start_time": "2025-03-31T10:02:18.892662Z"
    }
   },
   "cell_type": "code",
   "source": "prosumer.time_series.data_source.loc[1].df.head(10)",
   "id": "84a808d497a82f2c",
   "outputs": [
    {
     "data": {
      "text/plain": [
       "                           q_kw  mdot_kg_per_s  t_in_c  t_out_c  p_kw\n",
       "2020-01-01 00:00:00+00:00   0.0            0.0    20.0     20.0   0.0\n",
       "2020-01-01 00:15:00+00:00   0.0            0.0    20.0     20.0   0.0\n",
       "2020-01-01 00:30:00+00:00   0.0            0.0    20.0     20.0   0.0\n",
       "2020-01-01 00:45:00+00:00   0.0            0.0    20.0     20.0   0.0\n",
       "2020-01-01 01:00:00+00:00   0.0            0.0    20.0     20.0   0.0\n",
       "2020-01-01 01:15:00+00:00   0.0            0.0    80.0     80.0   0.0\n",
       "2020-01-01 01:30:00+00:00   0.0            0.0    80.0     80.0   0.0\n",
       "2020-01-01 01:45:00+00:00   0.0            0.0    80.0     80.0   0.0\n",
       "2020-01-01 02:00:00+00:00   0.0            0.0    80.0     80.0   0.0\n",
       "2020-01-01 02:15:00+00:00   0.0            0.0    80.0     80.0   0.0"
      ],
      "text/html": [
       "<div>\n",
       "<style scoped>\n",
       "    .dataframe tbody tr th:only-of-type {\n",
       "        vertical-align: middle;\n",
       "    }\n",
       "\n",
       "    .dataframe tbody tr th {\n",
       "        vertical-align: top;\n",
       "    }\n",
       "\n",
       "    .dataframe thead th {\n",
       "        text-align: right;\n",
       "    }\n",
       "</style>\n",
       "<table border=\"1\" class=\"dataframe\">\n",
       "  <thead>\n",
       "    <tr style=\"text-align: right;\">\n",
       "      <th></th>\n",
       "      <th>q_kw</th>\n",
       "      <th>mdot_kg_per_s</th>\n",
       "      <th>t_in_c</th>\n",
       "      <th>t_out_c</th>\n",
       "      <th>p_kw</th>\n",
       "    </tr>\n",
       "  </thead>\n",
       "  <tbody>\n",
       "    <tr>\n",
       "      <th>2020-01-01 00:00:00+00:00</th>\n",
       "      <td>0.0</td>\n",
       "      <td>0.0</td>\n",
       "      <td>20.0</td>\n",
       "      <td>20.0</td>\n",
       "      <td>0.0</td>\n",
       "    </tr>\n",
       "    <tr>\n",
       "      <th>2020-01-01 00:15:00+00:00</th>\n",
       "      <td>0.0</td>\n",
       "      <td>0.0</td>\n",
       "      <td>20.0</td>\n",
       "      <td>20.0</td>\n",
       "      <td>0.0</td>\n",
       "    </tr>\n",
       "    <tr>\n",
       "      <th>2020-01-01 00:30:00+00:00</th>\n",
       "      <td>0.0</td>\n",
       "      <td>0.0</td>\n",
       "      <td>20.0</td>\n",
       "      <td>20.0</td>\n",
       "      <td>0.0</td>\n",
       "    </tr>\n",
       "    <tr>\n",
       "      <th>2020-01-01 00:45:00+00:00</th>\n",
       "      <td>0.0</td>\n",
       "      <td>0.0</td>\n",
       "      <td>20.0</td>\n",
       "      <td>20.0</td>\n",
       "      <td>0.0</td>\n",
       "    </tr>\n",
       "    <tr>\n",
       "      <th>2020-01-01 01:00:00+00:00</th>\n",
       "      <td>0.0</td>\n",
       "      <td>0.0</td>\n",
       "      <td>20.0</td>\n",
       "      <td>20.0</td>\n",
       "      <td>0.0</td>\n",
       "    </tr>\n",
       "    <tr>\n",
       "      <th>2020-01-01 01:15:00+00:00</th>\n",
       "      <td>0.0</td>\n",
       "      <td>0.0</td>\n",
       "      <td>80.0</td>\n",
       "      <td>80.0</td>\n",
       "      <td>0.0</td>\n",
       "    </tr>\n",
       "    <tr>\n",
       "      <th>2020-01-01 01:30:00+00:00</th>\n",
       "      <td>0.0</td>\n",
       "      <td>0.0</td>\n",
       "      <td>80.0</td>\n",
       "      <td>80.0</td>\n",
       "      <td>0.0</td>\n",
       "    </tr>\n",
       "    <tr>\n",
       "      <th>2020-01-01 01:45:00+00:00</th>\n",
       "      <td>0.0</td>\n",
       "      <td>0.0</td>\n",
       "      <td>80.0</td>\n",
       "      <td>80.0</td>\n",
       "      <td>0.0</td>\n",
       "    </tr>\n",
       "    <tr>\n",
       "      <th>2020-01-01 02:00:00+00:00</th>\n",
       "      <td>0.0</td>\n",
       "      <td>0.0</td>\n",
       "      <td>80.0</td>\n",
       "      <td>80.0</td>\n",
       "      <td>0.0</td>\n",
       "    </tr>\n",
       "    <tr>\n",
       "      <th>2020-01-01 02:15:00+00:00</th>\n",
       "      <td>0.0</td>\n",
       "      <td>0.0</td>\n",
       "      <td>80.0</td>\n",
       "      <td>80.0</td>\n",
       "      <td>0.0</td>\n",
       "    </tr>\n",
       "  </tbody>\n",
       "</table>\n",
       "</div>"
      ]
     },
     "execution_count": 22,
     "metadata": {},
     "output_type": "execute_result"
    }
   ],
   "execution_count": 22
  },
  {
   "metadata": {},
   "cell_type": "markdown",
   "source": "Access the results of the heat demand:",
   "id": "c148fb4c8f3cdede"
  },
  {
   "metadata": {
    "ExecuteTime": {
     "end_time": "2025-03-31T10:02:18.906286Z",
     "start_time": "2025-03-31T10:02:18.900090Z"
    }
   },
   "cell_type": "code",
   "source": "prosumer.time_series.data_source.loc[2].df.head(10)",
   "id": "9327c18a9a4e5401",
   "outputs": [
    {
     "data": {
      "text/plain": [
       "                           q_received_kw  q_uncovered_kw  mdot_kg_per_s  \\\n",
       "2020-01-01 00:00:00+00:00            0.0    0.000000e+00       0.000000   \n",
       "2020-01-01 00:15:00+00:00            0.0    0.000000e+00       0.000000   \n",
       "2020-01-01 00:30:00+00:00            0.0    0.000000e+00       0.000000   \n",
       "2020-01-01 00:45:00+00:00            0.0    0.000000e+00       0.000000   \n",
       "2020-01-01 01:00:00+00:00            0.0    0.000000e+00       0.000000   \n",
       "2020-01-01 01:15:00+00:00          500.0    5.684342e-14       1.992880   \n",
       "2020-01-01 01:30:00+00:00          500.0    5.684342e-14       1.992880   \n",
       "2020-01-01 01:45:00+00:00          500.0    5.684342e-14       1.992880   \n",
       "2020-01-01 02:00:00+00:00          321.0    0.000000e+00       1.279429   \n",
       "2020-01-01 02:15:00+00:00          321.0    0.000000e+00       1.279429   \n",
       "\n",
       "                           t_in_c  t_out_c  \n",
       "2020-01-01 00:00:00+00:00    20.0     20.0  \n",
       "2020-01-01 00:15:00+00:00    20.0     20.0  \n",
       "2020-01-01 00:30:00+00:00    20.0     20.0  \n",
       "2020-01-01 00:45:00+00:00    20.0     20.0  \n",
       "2020-01-01 01:00:00+00:00    20.0     20.0  \n",
       "2020-01-01 01:15:00+00:00    80.0     20.0  \n",
       "2020-01-01 01:30:00+00:00    80.0     20.0  \n",
       "2020-01-01 01:45:00+00:00    80.0     20.0  \n",
       "2020-01-01 02:00:00+00:00    80.0     20.0  \n",
       "2020-01-01 02:15:00+00:00    80.0     20.0  "
      ],
      "text/html": [
       "<div>\n",
       "<style scoped>\n",
       "    .dataframe tbody tr th:only-of-type {\n",
       "        vertical-align: middle;\n",
       "    }\n",
       "\n",
       "    .dataframe tbody tr th {\n",
       "        vertical-align: top;\n",
       "    }\n",
       "\n",
       "    .dataframe thead th {\n",
       "        text-align: right;\n",
       "    }\n",
       "</style>\n",
       "<table border=\"1\" class=\"dataframe\">\n",
       "  <thead>\n",
       "    <tr style=\"text-align: right;\">\n",
       "      <th></th>\n",
       "      <th>q_received_kw</th>\n",
       "      <th>q_uncovered_kw</th>\n",
       "      <th>mdot_kg_per_s</th>\n",
       "      <th>t_in_c</th>\n",
       "      <th>t_out_c</th>\n",
       "    </tr>\n",
       "  </thead>\n",
       "  <tbody>\n",
       "    <tr>\n",
       "      <th>2020-01-01 00:00:00+00:00</th>\n",
       "      <td>0.0</td>\n",
       "      <td>0.000000e+00</td>\n",
       "      <td>0.000000</td>\n",
       "      <td>20.0</td>\n",
       "      <td>20.0</td>\n",
       "    </tr>\n",
       "    <tr>\n",
       "      <th>2020-01-01 00:15:00+00:00</th>\n",
       "      <td>0.0</td>\n",
       "      <td>0.000000e+00</td>\n",
       "      <td>0.000000</td>\n",
       "      <td>20.0</td>\n",
       "      <td>20.0</td>\n",
       "    </tr>\n",
       "    <tr>\n",
       "      <th>2020-01-01 00:30:00+00:00</th>\n",
       "      <td>0.0</td>\n",
       "      <td>0.000000e+00</td>\n",
       "      <td>0.000000</td>\n",
       "      <td>20.0</td>\n",
       "      <td>20.0</td>\n",
       "    </tr>\n",
       "    <tr>\n",
       "      <th>2020-01-01 00:45:00+00:00</th>\n",
       "      <td>0.0</td>\n",
       "      <td>0.000000e+00</td>\n",
       "      <td>0.000000</td>\n",
       "      <td>20.0</td>\n",
       "      <td>20.0</td>\n",
       "    </tr>\n",
       "    <tr>\n",
       "      <th>2020-01-01 01:00:00+00:00</th>\n",
       "      <td>0.0</td>\n",
       "      <td>0.000000e+00</td>\n",
       "      <td>0.000000</td>\n",
       "      <td>20.0</td>\n",
       "      <td>20.0</td>\n",
       "    </tr>\n",
       "    <tr>\n",
       "      <th>2020-01-01 01:15:00+00:00</th>\n",
       "      <td>500.0</td>\n",
       "      <td>5.684342e-14</td>\n",
       "      <td>1.992880</td>\n",
       "      <td>80.0</td>\n",
       "      <td>20.0</td>\n",
       "    </tr>\n",
       "    <tr>\n",
       "      <th>2020-01-01 01:30:00+00:00</th>\n",
       "      <td>500.0</td>\n",
       "      <td>5.684342e-14</td>\n",
       "      <td>1.992880</td>\n",
       "      <td>80.0</td>\n",
       "      <td>20.0</td>\n",
       "    </tr>\n",
       "    <tr>\n",
       "      <th>2020-01-01 01:45:00+00:00</th>\n",
       "      <td>500.0</td>\n",
       "      <td>5.684342e-14</td>\n",
       "      <td>1.992880</td>\n",
       "      <td>80.0</td>\n",
       "      <td>20.0</td>\n",
       "    </tr>\n",
       "    <tr>\n",
       "      <th>2020-01-01 02:00:00+00:00</th>\n",
       "      <td>321.0</td>\n",
       "      <td>0.000000e+00</td>\n",
       "      <td>1.279429</td>\n",
       "      <td>80.0</td>\n",
       "      <td>20.0</td>\n",
       "    </tr>\n",
       "    <tr>\n",
       "      <th>2020-01-01 02:15:00+00:00</th>\n",
       "      <td>321.0</td>\n",
       "      <td>0.000000e+00</td>\n",
       "      <td>1.279429</td>\n",
       "      <td>80.0</td>\n",
       "      <td>20.0</td>\n",
       "    </tr>\n",
       "  </tbody>\n",
       "</table>\n",
       "</div>"
      ]
     },
     "execution_count": 23,
     "metadata": {},
     "output_type": "execute_result"
    }
   ],
   "execution_count": 23
  },
  {
   "metadata": {},
   "cell_type": "markdown",
   "source": "Alternatively, if the elements have unique names, we can change the indexing of the result dataframe to use the name of the elements as index and access the results more directly.",
   "id": "6f54f746b893b80f"
  },
  {
   "metadata": {
    "ExecuteTime": {
     "end_time": "2025-03-31T10:02:18.910058Z",
     "start_time": "2025-03-31T10:02:18.907377Z"
    }
   },
   "cell_type": "code",
   "source": [
    "res_df = prosumer.time_series.copy()\n",
    "res_df.set_index('name', inplace=True)"
   ],
   "id": "11d3bf8be7c64318",
   "outputs": [],
   "execution_count": 24
  },
  {
   "metadata": {
    "ExecuteTime": {
     "end_time": "2025-03-31T10:02:18.915965Z",
     "start_time": "2025-03-31T10:02:18.911022Z"
    }
   },
   "cell_type": "code",
   "source": "res_df",
   "id": "f57c5476dee422cd",
   "outputs": [
    {
     "data": {
      "text/plain": [
       "                             element  element_index  period_index data_source\n",
       "name                                                                         \n",
       "air_water_heat_pump        heat_pump            0.0           0.0      DFData\n",
       "electric_boiler      electric_boiler            0.0           0.0      DFData\n",
       "heat_consumer            heat_demand            0.0           0.0      DFData"
      ],
      "text/html": [
       "<div>\n",
       "<style scoped>\n",
       "    .dataframe tbody tr th:only-of-type {\n",
       "        vertical-align: middle;\n",
       "    }\n",
       "\n",
       "    .dataframe tbody tr th {\n",
       "        vertical-align: top;\n",
       "    }\n",
       "\n",
       "    .dataframe thead th {\n",
       "        text-align: right;\n",
       "    }\n",
       "</style>\n",
       "<table border=\"1\" class=\"dataframe\">\n",
       "  <thead>\n",
       "    <tr style=\"text-align: right;\">\n",
       "      <th></th>\n",
       "      <th>element</th>\n",
       "      <th>element_index</th>\n",
       "      <th>period_index</th>\n",
       "      <th>data_source</th>\n",
       "    </tr>\n",
       "    <tr>\n",
       "      <th>name</th>\n",
       "      <th></th>\n",
       "      <th></th>\n",
       "      <th></th>\n",
       "      <th></th>\n",
       "    </tr>\n",
       "  </thead>\n",
       "  <tbody>\n",
       "    <tr>\n",
       "      <th>air_water_heat_pump</th>\n",
       "      <td>heat_pump</td>\n",
       "      <td>0.0</td>\n",
       "      <td>0.0</td>\n",
       "      <td>DFData</td>\n",
       "    </tr>\n",
       "    <tr>\n",
       "      <th>electric_boiler</th>\n",
       "      <td>electric_boiler</td>\n",
       "      <td>0.0</td>\n",
       "      <td>0.0</td>\n",
       "      <td>DFData</td>\n",
       "    </tr>\n",
       "    <tr>\n",
       "      <th>heat_consumer</th>\n",
       "      <td>heat_demand</td>\n",
       "      <td>0.0</td>\n",
       "      <td>0.0</td>\n",
       "      <td>DFData</td>\n",
       "    </tr>\n",
       "  </tbody>\n",
       "</table>\n",
       "</div>"
      ]
     },
     "execution_count": 25,
     "metadata": {},
     "output_type": "execute_result"
    }
   ],
   "execution_count": 25
  },
  {
   "metadata": {
    "ExecuteTime": {
     "end_time": "2025-03-31T10:02:19.025814Z",
     "start_time": "2025-03-31T10:02:18.917066Z"
    }
   },
   "cell_type": "code",
   "source": [
    "res_df.data_source.loc['air_water_heat_pump'].df.q_cond_kw.plot()\n",
    "plt.show()"
   ],
   "id": "4c3a063727a7cfa1",
   "outputs": [
    {
     "data": {
      "text/plain": [
       "<Figure size 640x480 with 1 Axes>"
      ],
      "image/png": "[encoded data removed]"
     },
     "metadata": {},
     "output_type": "display_data"
    }
   ],
   "execution_count": 26
  },
  {
   "metadata": {
    "ExecuteTime": {
     "end_time": "2025-03-31T10:02:19.142028Z",
     "start_time": "2025-03-31T10:02:19.026836Z"
    }
   },
   "cell_type": "code",
   "source": [
    "res_df.data_source.loc['electric_boiler'].df.q_kw.plot()\n",
    "plt.show()"
   ],
   "id": "7427331962b22bee",
   "outputs": [
    {
     "data": {
      "text/plain": [
       "<Figure size 640x480 with 1 Axes>"
      ],
      "image/png": "[encoded data removed]"
     },
     "metadata": {},
     "output_type": "display_data"
    }
   ],
   "execution_count": 27
  },
  {
   "metadata": {
    "ExecuteTime": {
     "end_time": "2025-03-31T10:02:19.256307Z",
     "start_time": "2025-03-31T10:02:19.143451Z"
    }
   },
   "cell_type": "code",
   "source": [
    "res_df.data_source.loc['heat_consumer'].df.q_uncovered_kw.plot()\n",
    "plt.show()"
   ],
   "id": "b293182ebbcb9e9f",
   "outputs": [
    {
     "data": {
      "text/plain": [
       "<Figure size 640x480 with 1 Axes>"
      ],
      "image/png": "[encoded data removed]"
     },
     "metadata": {},
     "output_type": "display_data"
    }
   ],
   "execution_count": 28
  },
  {
   "metadata": {
    "ExecuteTime": {
     "end_time": "2025-03-31T10:02:19.259392Z",
     "start_time": "2025-03-31T10:02:19.257331Z"
    }
   },
   "cell_type": "code",
   "source": "",
   "id": "25e00440d27b5ea",
   "outputs": [],
   "execution_count": 28
  }
 ],
 "metadata": {
  "kernelspec": {
   "display_name": "Python 3",
   "language": "python",
   "name": "python3"
  },
  "language_info": {
   "codemirror_mode": {
    "name": "ipython",
    "version": 2
   },
   "file_extension": ".py",
   "mimetype": "text/x-python",
   "name": "python",
   "nbconvert_exporter": "python",
   "pygments_lexer": "ipython2",
   "version": "2.7.6"
  }
 },
 "nbformat": 4,
 "nbformat_minor": 5
}
