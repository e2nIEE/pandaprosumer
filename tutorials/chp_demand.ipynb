{
 "cells": [
  {
   "cell_type": "markdown",
   "id": "470b9922-749e-4200-bfc3-887dda293789",
   "metadata": {},
   "source": [
    "<h1 style=\"line-height:2em;\">\n",
    "PANDAPROSUMER EXAMPLE:<br>\n",
    "INTERNAL COMBUSTION ENGINE COMBINED HEAT AND POWER (ICE CHP)\n",
    "</h1>"
   ]
  },
  {
   "cell_type": "markdown",
   "id": "50e968f7-c9b5-4ad6-afcd-b46b146376c7",
   "metadata": {
    "jp-MarkdownHeadingCollapsed": true
   },
   "source": [
    "Example prepared by:\n",
    "--------------------\n",
    "    Izak Oberčkal Pluško, Marko Keber, Katja Klinar, Tine Seljak*, Andrej Kitanovski\n",
    "\n",
    "    Faculty of Mechanical Engineering, University of Ljubljana, Slovenia\n",
    "    \n",
    "    *Contact: tine.seljak@fs.uni-lj.si"
   ]
  },
  {
   "cell_type": "markdown",
   "id": "2995e353-291b-445a-8361-783b319b13c8",
   "metadata": {},
   "source": [
    "DESCRIPTION:\n",
    "--------------------\n",
    "This tutorial describes how to create a single ICE CHP element in *pandaprosumer* and connect it to a single consumer. The user can choose the size of the ICE CHP unit, fuel type and altitude at which the ICE CHP unit is installed, while the time-dependent data (chosen cycle, air intake temperature, demand) is read from a an Excel file and is stored in a pandas dataframe."
   ]
  },
  {
   "cell_type": "markdown",
   "id": "f6a81eb2-88ee-4d26-9c76-6587d0e617b3",
   "metadata": {},
   "source": [
    "![network](figures/ice_chp_demand_1.png)"
   ]
  },
  {
   "cell_type": "markdown",
   "id": "1cd4d244-6109-40b0-b3a0-9eb5315c5c64",
   "metadata": {},
   "source": [
    "Glossary:\n",
    "---------\n",
    "- Network: a configuration of connected energy sources and energy consumers\n",
    "- Element: a single energy source or a single energy consumer\n",
    "- Container: a pandaprosumer data structure that contains data of an individual element; each element must have its container \n",
    "- Controller: the logic of an element that defines its behaviour and its limits\n",
    "- General controller: the first controller in the network that interacts with controllers of all other elements; this controller also manages external data\n",
    "- Map / mapping: a connection between two elements; contains information about the what is exchanged between the elements"
   ]
  },
  {
   "cell_type": "markdown",
   "id": "934896a0-9b37-4226-abce-a77823bd5971",
   "metadata": {},
   "source": [
    "Network design philosophy:\n",
    "--------------------------\n",
    "In pandaprosumer, a system's component is represented by a network element. Each element is assigned a *container* and its own *element controller*. A container is a structure that contains the component's configuration data (static input data), which can include information that will not change in the analysis such as size, etc. The behaviour of an element is governed by its *controller*. Connections between elements are defined by *mappings*, which couple output parameters of one controller to the input parameter of a controller of a connected element. \n",
    "The network is managed by a *general controller* called *ConstProfileController*. This controller is connected to all element controllers and manages time-dependent input data from external sources (e.g. Excel file). For each time step it distributes the time-dependent input data to relevant element controllers. "
   ]
  },
  {
   "cell_type": "markdown",
   "id": "4719111a-a7d3-46f6-b273-2c6b47727800",
   "metadata": {},
   "source": [
    "CREATING A NETWORK:\n",
    "--------------------"
   ]
  },
  {
   "cell_type": "markdown",
   "id": "cbabf336-66c2-489b-8459-a92195e4950c",
   "metadata": {},
   "source": [
    "If we are not in the pandaprosumer parent directory, we should add it to the path so that the program knows where to find the necessary functions:"
   ]
  },
  {
   "cell_type": "code",
   "id": "39735ed5-81fb-48ce-8bfd-20d0dc18a42f",
   "metadata": {
    "ExecuteTime": {
     "end_time": "2025-05-08T07:44:31.436426Z",
     "start_time": "2025-05-08T07:44:31.416897Z"
    }
   },
   "source": [
    "import sys\n",
    "import os\n",
    "\n",
    "current_directory = os.getcwd()\n",
    "parent_directory = os.path.dirname(current_directory)\n",
    "sys.path.append(parent_directory)"
   ],
   "outputs": [],
   "execution_count": 1
  },
  {
   "cell_type": "markdown",
   "id": "f6932e38-5b9e-46bd-8642-8d67e26e9e17",
   "metadata": {},
   "source": [
    "1 - Input data:\n",
    "---------------"
   ]
  },
  {
   "cell_type": "markdown",
   "id": "c16bb28f-3b4f-4803-a4e7-7d929521c4f3",
   "metadata": {},
   "source": [
    "First, let's import libraries required for data management."
   ]
  },
  {
   "cell_type": "code",
   "id": "7a250c34-c8db-4d8d-8581-2bab23c4782d",
   "metadata": {
    "ExecuteTime": {
     "end_time": "2025-05-08T07:44:35.764887Z",
     "start_time": "2025-05-08T07:44:31.444426Z"
    }
   },
   "source": [
    "import pandas as pd\n",
    "from pandapower.timeseries.data_sources.frame_data import DFData"
   ],
   "outputs": [],
   "execution_count": 2
  },
  {
   "cell_type": "markdown",
   "id": "b4094d6d-bba0-408b-95a1-8a4e617eade2",
   "metadata": {},
   "source": [
    "Next, we need to define properties of the ICE CHP element (size, fuel type, altitude, name), which are treated as static input data, i.e. characteristics that don't change during an analysis. Size is the nominal maximum electrical power (unit: [kW]), the fuel type is chosen from the JSON file that contains the fuel map located in *library/chp_maps/fuel_maps.json*. We will use natural gas, which in pandaprosumer is denoted by \"ng\". The altitude is the altitude above sea level (unit: [m]) of the ICE CHP installation. In examples with more than one ICE CHP instance, we can give each one its own name to easily distinguish between them:"
   ]
  },
  {
   "cell_type": "code",
   "id": "11fde3c8-f61f-411d-ba9f-40d44ad29cb0",
   "metadata": {
    "ExecuteTime": {
     "end_time": "2025-05-08T07:44:36.844460Z",
     "start_time": "2025-05-08T07:44:36.831025Z"
    }
   },
   "source": [
    "name = 'example_chp'\n",
    "size_kw = 500\n",
    "fuel = 'ng'\n",
    "altitude_m = 0"
   ],
   "outputs": [],
   "execution_count": 3
  },
  {
   "cell_type": "markdown",
   "id": "047fe6e6-22ce-4d67-8647-b239c167e209",
   "metadata": {},
   "source": [
    "We define the period of the analysis by setting its start and end, which have the form \"YYYY-MM-DD HH:MM:SS\". The time resolution is given in [s]. "
   ]
  },
  {
   "cell_type": "code",
   "id": "67839443-0c42-44dc-b024-bf559f6b52dd",
   "metadata": {
    "ExecuteTime": {
     "end_time": "2025-05-08T07:44:36.875540Z",
     "start_time": "2025-05-08T07:44:36.861936Z"
    }
   },
   "source": [
    "start = '2020-01-01 00:00:00' \n",
    "end = '2020-01-02 00:00:00'\n",
    "time_resolution_s = 900 # 15 min \n",
    "frequency = '15min'"
   ],
   "outputs": [],
   "execution_count": 4
  },
  {
   "cell_type": "markdown",
   "id": "6a60c6ea-351b-43d1-b325-c6877f2ce338",
   "metadata": {},
   "source": [
    "Now we import our time-dependent data and transform it into an appropriate DFData object. DFData is a pandaprosumer object that stores all data of an individual element. The DFData object is limited by the duration of the analysis defined above."
   ]
  },
  {
   "cell_type": "code",
   "id": "ab0af77b-36fb-4df0-b5a3-b29558d9af56",
   "metadata": {
    "ExecuteTime": {
     "end_time": "2025-05-08T07:44:36.952724Z",
     "start_time": "2025-05-08T07:44:36.894378Z"
    }
   },
   "source": [
    "time_series_data = pd.read_excel('data/input_chp.xlsx') \n",
    "\n",
    "duration = pd.date_range(start, end, freq=frequency, tz='utc')                              \n",
    "time_series_data.index = duration\n",
    "time_series_input = DFData(time_series_data)\n",
    "\n",
    "print(time_series_data.head())"
   ],
   "outputs": [
    {
     "name": "stdout",
     "output_type": "stream",
     "text": [
      "                               time  cycle  t_intake_k  q_demand_kw\n",
      "2020-01-01 00:00:00+00:00  00:00:00      2         273            0\n",
      "2020-01-01 00:15:00+00:00  00:15:00      2         273            0\n",
      "2020-01-01 00:30:00+00:00  00:30:00      2         273            0\n",
      "2020-01-01 00:45:00+00:00  00:45:00      2         273            0\n",
      "2020-01-01 01:00:00+00:00  01:00:00      2         273            0\n"
     ]
    }
   ],
   "execution_count": 5
  },
  {
   "cell_type": "markdown",
   "id": "8f39ffdb-b03f-43cf-9af8-2f6ca5681f3c",
   "metadata": {},
   "source": [
    "2 - Creating elements of the network:\n",
    "--------------------------------------"
   ]
  },
  {
   "cell_type": "markdown",
   "id": "a8cab8d9-bdd5-4fea-a15d-2b9cf882370b",
   "metadata": {},
   "source": [
    "In this example, the network is made up of two elements: an energy source and an energy consumer. The source is represented by a single *ICE CHP* element and the consumer is modelled by a single *heat demand* element. "
   ]
  },
  {
   "cell_type": "markdown",
   "id": "0fa0258c-0800-4118-ab1f-c0de83d77c38",
   "metadata": {},
   "source": [
    "![elements](figures/ice_chp_demand_2.png)"
   ]
  },
  {
   "cell_type": "markdown",
   "id": "4a16dff7-2627-46c0-b4ab-a88be4e06eff",
   "metadata": {},
   "source": [
    "First we define an empty prosumer *container* object. Each element of the network has its own container, which is later filled with data and results."
   ]
  },
  {
   "cell_type": "code",
   "id": "0cff2645-4bd7-48dc-93b2-413d0e65f6e7",
   "metadata": {
    "ExecuteTime": {
     "end_time": "2025-05-08T07:44:37.713633Z",
     "start_time": "2025-05-08T07:44:36.970673Z"
    }
   },
   "source": [
    "from pandaprosumer.create import create_empty_prosumer_container\n",
    "\n",
    "ice_chp_prosumer = create_empty_prosumer_container()"
   ],
   "outputs": [],
   "execution_count": 6
  },
  {
   "cell_type": "markdown",
   "id": "054b96d8-56ee-41f4-b2b6-dc36566822a7",
   "metadata": {},
   "source": [
    "Then we define the period of the analysis using time data for the analysis given above in Section 1."
   ]
  },
  {
   "cell_type": "code",
   "id": "90e212cf-9011-4680-ae3a-94e266419aad",
   "metadata": {
    "ExecuteTime": {
     "end_time": "2025-05-08T07:44:37.743942Z",
     "start_time": "2025-05-08T07:44:37.730914Z"
    }
   },
   "source": [
    "from pandaprosumer.create import create_period\n",
    "\n",
    "period = create_period(ice_chp_prosumer, time_resolution_s, start, end, 'utc', 'default')"
   ],
   "outputs": [],
   "execution_count": 7
  },
  {
   "cell_type": "markdown",
   "id": "52781cff-784b-4395-a0dc-1bf961560206",
   "metadata": {},
   "source": [
    "2.1. General element:"
   ]
  },
  {
   "cell_type": "markdown",
   "id": "c336569c-209b-4dad-a7a5-ecfe64fe0de2",
   "metadata": {},
   "source": [
    "In a pandaprosumer network, the first element is a general controller (*Const Profile controller*). It reads time-dependent input data (*input_params*) and sends it to other elements of the network (*output_params*). The element's data is stored in the *ConstProfileControllerData* class. The controller (*ConstProfileController*) for this element is created with the  *create_controlled_const_profile* function. At this point, we pass to the general controller element the previously created prosumer container, titles of data columns (*input_params*) in the input file (Excel file, in this case) and the coresponding names of output columns (*output_params*), the period of the analysis and the time-dependent data in the DFData object."
   ]
  },
  {
   "cell_type": "code",
   "id": "d38dbb7b-4b1a-4945-b904-047cef8eaf26",
   "metadata": {
    "ExecuteTime": {
     "end_time": "2025-05-08T07:44:37.775400Z",
     "start_time": "2025-05-08T07:44:37.762481Z"
    }
   },
   "source": [
    "from pandaprosumer.create_controlled import create_controlled_const_profile\n",
    "\n",
    "input_params = ['q_demand_kw', 'cycle', 't_intake_k']\n",
    "output_params = ['q_demand_cp_kw', 'cycle_cp', 't_intake_cp_k']\n",
    "\n",
    "cp_index = create_controlled_const_profile(\n",
    "    ice_chp_prosumer, input_params, output_params, time_series_input, period)"
   ],
   "outputs": [],
   "execution_count": 8
  },
  {
   "cell_type": "markdown",
   "id": "efae9753-d5b7-4895-90cb-44cfb2138d64",
   "metadata": {},
   "source": [
    "2.2. ICE CHP element:"
   ]
  },
  {
   "cell_type": "markdown",
   "id": "6c26208a-1453-4bc8-8cb4-d02b6a3964f2",
   "metadata": {},
   "source": [
    "We define the ICE CHP element to which we pass the prosumer container and the data that defines the ICE CHP instance, i.e. size, fuel type, altitude, and its name."
   ]
  },
  {
   "cell_type": "code",
   "id": "174090f0-2f1b-4960-9e6f-b464bd6a16f4",
   "metadata": {
    "ExecuteTime": {
     "end_time": "2025-05-08T07:44:37.837776Z",
     "start_time": "2025-05-08T07:44:37.793519Z"
    }
   },
   "source": [
    "from pandaprosumer.create_controlled import create_controlled_ice_chp\n",
    "\n",
    "ice_chp_index = create_controlled_ice_chp(ice_chp_prosumer, size_kw, fuel, altitude_m, name, level=1)"
   ],
   "outputs": [],
   "execution_count": 9
  },
  {
   "cell_type": "markdown",
   "id": "ca8b1a63-afb9-4095-9b41-d75a4f5c6e41",
   "metadata": {},
   "source": [
    "2.3. Heat demand element:"
   ]
  },
  {
   "cell_type": "markdown",
   "id": "2faa1c5f-38f8-4271-a331-b0bb5a5da996",
   "metadata": {},
   "source": [
    "Finally, we create the consumer, which is simulated with the heat demand element. We pass the prosumer container to it. The auxiliary scaling parameter allows us to easily adjust the demanded heat by simply scaling it."
   ]
  },
  {
   "cell_type": "code",
   "id": "63f8fe36-a680-411c-929f-e76bf0b10cd0",
   "metadata": {
    "ExecuteTime": {
     "end_time": "2025-05-08T07:44:37.868725Z",
     "start_time": "2025-05-08T07:44:37.855476Z"
    }
   },
   "source": [
    "from pandaprosumer.create_controlled import create_controlled_heat_demand\n",
    "\n",
    "heat_demand_index = create_controlled_heat_demand(ice_chp_prosumer, scaling=1.0,level=1,order=1)"
   ],
   "outputs": [],
   "execution_count": 10
  },
  {
   "cell_type": "markdown",
   "id": "235cc010-f622-4a65-b15a-4a6c5569eff0",
   "metadata": {},
   "source": [
    "3 - Creating connections (mappings) between controllers:\n",
    "---------------------------------------------------------"
   ]
  },
  {
   "attachments": {},
   "cell_type": "markdown",
   "id": "fdf73826-be8e-40b9-b4ed-0b39b3aa54b4",
   "metadata": {},
   "source": [
    "![connections](figures/ice_chp_demand_3.png)"
   ]
  },
  {
   "cell_type": "markdown",
   "id": "1e2ede86-a0f0-4f9f-a58d-50cf10c45d72",
   "metadata": {},
   "source": [
    "For each controller we define how it is connected to other controllers. In this case we use *Generic Mapping*. The main parameter for the map is the flow of thermal energy (*p_th_out_kw*): the output energy flow of one element is linked with the input energy flow of the connected element. "
   ]
  },
  {
   "cell_type": "code",
   "id": "92eefb1c-93f0-4a6d-acb5-b07c8777f47a",
   "metadata": {
    "ExecuteTime": {
     "end_time": "2025-05-08T07:44:37.899135Z",
     "start_time": "2025-05-08T07:44:37.886748Z"
    }
   },
   "source": [
    "from pandaprosumer.mapping import GenericMapping"
   ],
   "outputs": [],
   "execution_count": 11
  },
  {
   "cell_type": "markdown",
   "id": "8e6fcd1e-da3c-4f41-820e-08e27b8184bd",
   "metadata": {},
   "source": [
    "3.1. Connection GENERAL CONTROLLER ---> ICE CHP:"
   ]
  },
  {
   "cell_type": "markdown",
   "id": "9b862afc-085f-40f3-801a-e97bc736ea4e",
   "metadata": {},
   "source": [
    "The general controller (*initiator_column*) instructs the ICE CHP controller (*responder_column*) what value to use for *cycle* and *t_intake_k*. "
   ]
  },
  {
   "cell_type": "code",
   "id": "3781726d-d78e-4a02-aa0a-d7688d2b60e4",
   "metadata": {
    "ExecuteTime": {
     "end_time": "2025-05-08T07:44:37.930764Z",
     "start_time": "2025-05-08T07:44:37.917607Z"
    }
   },
   "source": [
    "GenericMapping(\n",
    "    ice_chp_prosumer,                                                   \n",
    "    initiator_id=cp_index,                                           \n",
    "    initiator_column=\"cycle_cp\",                              \n",
    "    responder_id=ice_chp_index,                                                \n",
    "    responder_column=\"cycle\"\n",
    ");  "
   ],
   "outputs": [],
   "execution_count": 12
  },
  {
   "cell_type": "code",
   "id": "aadb492d-adca-4f93-909b-a9d6d98a4030",
   "metadata": {
    "ExecuteTime": {
     "end_time": "2025-05-08T07:44:37.962791Z",
     "start_time": "2025-05-08T07:44:37.950090Z"
    }
   },
   "source": [
    "GenericMapping(\n",
    "    ice_chp_prosumer,                                                   \n",
    "    initiator_id=cp_index,                                           \n",
    "    initiator_column=\"t_intake_cp_k\",                              \n",
    "    responder_id=ice_chp_index,                                                \n",
    "    responder_column=\"t_intake_k\"\n",
    ");  "
   ],
   "outputs": [],
   "execution_count": 13
  },
  {
   "cell_type": "markdown",
   "id": "7c5a1aad-f758-47f4-948a-b266858241ae",
   "metadata": {},
   "source": [
    "3.2. Connection ICE CHP ---> HEAT DEMAND (consumer):"
   ]
  },
  {
   "cell_type": "markdown",
   "id": "99316b2b-fba1-4d74-b692-346e25b1060e",
   "metadata": {},
   "source": [
    "The ICE CHP controller (*initiator_column*) informs the heat demand controller (*responder_column*) of how much thermal power (*p_th_out_kw*) it can supply at each time step. "
   ]
  },
  {
   "cell_type": "code",
   "id": "ced2b119-a9cf-49d8-b0ff-68d1934d15d0",
   "metadata": {
    "ExecuteTime": {
     "end_time": "2025-05-08T07:44:37.993870Z",
     "start_time": "2025-05-08T07:44:37.984501Z"
    }
   },
   "source": [
    "GenericMapping(\n",
    "    ice_chp_prosumer,                                              \n",
    "    initiator_id=ice_chp_index,                                             \n",
    "    initiator_column=\"p_th_out_kw\",\n",
    "    responder_id=heat_demand_index,                                           \n",
    "    responder_column=\"q_received_kw\"\n",
    ");"
   ],
   "outputs": [],
   "execution_count": 14
  },
  {
   "cell_type": "markdown",
   "id": "ddb0796e-9ed5-47bd-9e5b-6a96ece88387",
   "metadata": {},
   "source": [
    "3.3. Connection GENERAL CONTROLLER ---> HEAT DEMAND (consumer):"
   ]
  },
  {
   "cell_type": "markdown",
   "id": "d724c8b9-7716-4cbd-956f-e83c9c1858be",
   "metadata": {},
   "source": [
    "The general controller (*initiator_column*) sends the heat demand controller (*responder_column*) information about the actual demand (*q_demand_kw*) at each time step."
   ]
  },
  {
   "cell_type": "code",
   "id": "0aff4b9b-15cb-4c9f-b1fb-c808a46cba86",
   "metadata": {
    "ExecuteTime": {
     "end_time": "2025-05-08T07:44:38.040023Z",
     "start_time": "2025-05-08T07:44:38.028292Z"
    }
   },
   "source": [
    "GenericMapping(\n",
    "    ice_chp_prosumer,                                                  \n",
    "    initiator_id=cp_index,                                               \n",
    "    initiator_column=\"q_demand_cp_kw\",\n",
    "    responder_id=heat_demand_index,                                                \n",
    "    responder_column=\"q_demand_kw\"\n",
    ");"
   ],
   "outputs": [],
   "execution_count": 15
  },
  {
   "cell_type": "markdown",
   "id": "ec418375-6c54-4dbf-ace8-b461d41e6bd8",
   "metadata": {},
   "source": [
    "RUNNING THE ANALYSIS:\n",
    "-----------------------"
   ]
  },
  {
   "cell_type": "markdown",
   "id": "ffd3ebae-43e5-4d0d-8e03-7b6becbe0c2d",
   "metadata": {},
   "source": [
    "We can now run the analysis with the input data defined above. "
   ]
  },
  {
   "cell_type": "code",
   "id": "87184f096e29bbf2",
   "metadata": {
    "ExecuteTime": {
     "end_time": "2025-05-08T07:44:38.087408Z",
     "start_time": "2025-05-08T07:44:38.058887Z"
    }
   },
   "source": [
    "ice_chp_prosumer.period"
   ],
   "outputs": [
    {
     "data": {
      "text/plain": [
       "      name                start                  end  resolution_s timezone\n",
       "0  default  2020-01-01 00:00:00  2020-01-02 00:00:00         900.0      utc"
      ],
      "text/html": [
       "<div>\n",
       "<style scoped>\n",
       "    .dataframe tbody tr th:only-of-type {\n",
       "        vertical-align: middle;\n",
       "    }\n",
       "\n",
       "    .dataframe tbody tr th {\n",
       "        vertical-align: top;\n",
       "    }\n",
       "\n",
       "    .dataframe thead th {\n",
       "        text-align: right;\n",
       "    }\n",
       "</style>\n",
       "<table border=\"1\" class=\"dataframe\">\n",
       "  <thead>\n",
       "    <tr style=\"text-align: right;\">\n",
       "      <th></th>\n",
       "      <th>name</th>\n",
       "      <th>start</th>\n",
       "      <th>end</th>\n",
       "      <th>resolution_s</th>\n",
       "      <th>timezone</th>\n",
       "    </tr>\n",
       "  </thead>\n",
       "  <tbody>\n",
       "    <tr>\n",
       "      <th>0</th>\n",
       "      <td>default</td>\n",
       "      <td>2020-01-01 00:00:00</td>\n",
       "      <td>2020-01-02 00:00:00</td>\n",
       "      <td>900.0</td>\n",
       "      <td>utc</td>\n",
       "    </tr>\n",
       "  </tbody>\n",
       "</table>\n",
       "</div>"
      ]
     },
     "execution_count": 16,
     "metadata": {},
     "output_type": "execute_result"
    }
   ],
   "execution_count": 16
  },
  {
   "cell_type": "code",
   "id": "fd2d018f-fe5d-4304-8450-b61395c87065",
   "metadata": {
    "ExecuteTime": {
     "end_time": "2025-05-08T07:44:40.233541Z",
     "start_time": "2025-05-08T07:44:38.126422Z"
    }
   },
   "source": [
    "from pandaprosumer.run_time_series import run_timeseries\n",
    "\n",
    "run_timeseries(ice_chp_prosumer, period, True);"
   ],
   "outputs": [
    {
     "name": "stderr",
     "output_type": "stream",
     "text": [
      "100%|██████████| 97/97 [00:02<00:00, 46.74it/s]\n"
     ]
    }
   ],
   "execution_count": 17
  },
  {
   "cell_type": "markdown",
   "id": "acd876fa-ed5f-4752-b69c-91bef00abf06",
   "metadata": {},
   "source": [
    "PRINTING AND PLOTTING RESULTS:\n",
    "----------------------------------"
   ]
  },
  {
   "cell_type": "markdown",
   "id": "1cf23ef3-ea61-47db-a1b5-30ddf921617f",
   "metadata": {},
   "source": [
    "First, we plot the evolution of the demand from the Excel file."
   ]
  },
  {
   "cell_type": "code",
   "id": "142d0338-951a-4727-a287-f8bedfeb0095",
   "metadata": {
    "ExecuteTime": {
     "end_time": "2025-05-08T07:44:40.312223Z",
     "start_time": "2025-05-08T07:44:40.299617Z"
    }
   },
   "source": [
    "import matplotlib.pyplot as plt"
   ],
   "outputs": [],
   "execution_count": 18
  },
  {
   "cell_type": "code",
   "id": "c2c75492-0356-41f6-98b7-eb4413785c83",
   "metadata": {
    "ExecuteTime": {
     "end_time": "2025-05-08T07:44:40.904667Z",
     "start_time": "2025-05-08T07:44:40.424626Z"
    }
   },
   "source": [
    "time_series_data.plot(y='q_demand_kw');\n",
    "plt.show()"
   ],
   "outputs": [
    {
     "data": {
      "text/plain": [
       "<Figure size 640x480 with 1 Axes>"
      ],
      "image/png": "[encoded data removed]"
     },
     "metadata": {},
     "output_type": "display_data"
    }
   ],
   "execution_count": 19
  },
  {
   "cell_type": "code",
   "id": "aa03b80c-23b5-4336-b66d-bd2ff032a40e",
   "metadata": {
    "ExecuteTime": {
     "end_time": "2025-05-08T07:44:40.967686Z",
     "start_time": "2025-05-08T07:44:40.938163Z"
    }
   },
   "source": [
    "print(ice_chp_prosumer.heat_demand)"
   ],
   "outputs": [
    {
     "name": "stdout",
     "output_type": "stream",
     "text": [
      "   name  scaling  in_service\n",
      "0  None      1.0        True\n"
     ]
    }
   ],
   "execution_count": 20
  },
  {
   "cell_type": "markdown",
   "id": "5989ed57-96f8-4fe0-a0fe-ea41a6317c11",
   "metadata": {},
   "source": [
    "We then list the available results for the ICE CHP element. Results are stored in the form of time series, which can be plotted on a graph. The *.time_series* command lists all input and output dataframes. "
   ]
  },
  {
   "cell_type": "code",
   "id": "036b950c-c59d-4f6b-a504-ef28e13fdbbf",
   "metadata": {
    "ExecuteTime": {
     "end_time": "2025-05-08T07:44:41.109230Z",
     "start_time": "2025-05-08T07:44:41.084231Z"
    }
   },
   "source": [
    "print(ice_chp_prosumer.time_series)"
   ],
   "outputs": [
    {
     "name": "stdout",
     "output_type": "stream",
     "text": [
      "   name      element  element_index  period_index data_source\n",
      "0  True      ice_chp            0.0           0.0      DFData\n",
      "1  None  heat_demand            0.0           0.0      DFData\n"
     ]
    }
   ],
   "execution_count": 21
  },
  {
   "cell_type": "markdown",
   "id": "fccc3bca-8bf6-4f92-a9bb-81c1a11c166f",
   "metadata": {},
   "source": [
    "Here *.data_source* lists all available dataframes that we then specify with the *index* key in *.loc[]*."
   ]
  },
  {
   "cell_type": "code",
   "id": "4b4fc9e7-b0f0-4835-b389-6a73f77fee71",
   "metadata": {
    "ExecuteTime": {
     "end_time": "2025-05-08T07:44:41.171925Z",
     "start_time": "2025-05-08T07:44:41.152928Z"
    }
   },
   "source": [
    "print(ice_chp_prosumer.time_series.data_source)"
   ],
   "outputs": [
    {
     "name": "stdout",
     "output_type": "stream",
     "text": [
      "0    DFData\n",
      "1    DFData\n",
      "Name: data_source, dtype: object\n"
     ]
    }
   ],
   "execution_count": 22
  },
  {
   "cell_type": "markdown",
   "id": "27136e17-ddbb-41a6-96d6-a379e10b94e3",
   "metadata": {},
   "source": [
    "Before plotting we have to look at the resulting dataframe to see which quantity (column) we would like to plot. The *index* key can be an integer or the name of a specific component we want to look at."
   ]
  },
  {
   "cell_type": "code",
   "id": "f7e0cfd3-87cd-4e43-9dc9-dbf1a37c4225",
   "metadata": {
    "ExecuteTime": {
     "end_time": "2025-05-08T07:44:41.374005Z",
     "start_time": "2025-05-08T07:44:41.282465Z"
    }
   },
   "source": [
    "print(ice_chp_prosumer.time_series.data_source.iloc[0].df.head())"
   ],
   "outputs": [
    {
     "name": "stdout",
     "output_type": "stream",
     "text": [
      "                           load  p_in_kw  p_el_out_kw  p_th_out_kw  \\\n",
      "2020-01-01 00:00:00+00:00   0.0      0.0          0.0          0.0   \n",
      "2020-01-01 00:15:00+00:00   0.0      0.0          0.0          0.0   \n",
      "2020-01-01 00:30:00+00:00   0.0      0.0          0.0          0.0   \n",
      "2020-01-01 00:45:00+00:00   0.0      0.0          0.0          0.0   \n",
      "2020-01-01 01:00:00+00:00   0.0      0.0          0.0          0.0   \n",
      "\n",
      "                           p_rad_out_kw  ice_chp_efficiency  \\\n",
      "2020-01-01 00:00:00+00:00           0.0                 0.0   \n",
      "2020-01-01 00:15:00+00:00           0.0                 0.0   \n",
      "2020-01-01 00:30:00+00:00           0.0                 0.0   \n",
      "2020-01-01 00:45:00+00:00           0.0                 0.0   \n",
      "2020-01-01 01:00:00+00:00           0.0                 0.0   \n",
      "\n",
      "                           mdot_fuel_in_kg_per_s  acc_m_fuel_in_kg  \\\n",
      "2020-01-01 00:00:00+00:00                    0.0               0.0   \n",
      "2020-01-01 00:15:00+00:00                    0.0               0.0   \n",
      "2020-01-01 00:30:00+00:00                    0.0               0.0   \n",
      "2020-01-01 00:45:00+00:00                    0.0               0.0   \n",
      "2020-01-01 01:00:00+00:00                    0.0               0.0   \n",
      "\n",
      "                           acc_co2_equiv_kg  acc_co2_inst_kg  acc_nox_mg  \\\n",
      "2020-01-01 00:00:00+00:00               0.0              0.0         0.0   \n",
      "2020-01-01 00:15:00+00:00               0.0              0.0         0.0   \n",
      "2020-01-01 00:30:00+00:00               0.0              0.0         0.0   \n",
      "2020-01-01 00:45:00+00:00               0.0              0.0         0.0   \n",
      "2020-01-01 01:00:00+00:00               0.0              0.0         0.0   \n",
      "\n",
      "                           acc_time_ice_chp_oper_s  \n",
      "2020-01-01 00:00:00+00:00                      0.0  \n",
      "2020-01-01 00:15:00+00:00                      0.0  \n",
      "2020-01-01 00:30:00+00:00                      0.0  \n",
      "2020-01-01 00:45:00+00:00                      0.0  \n",
      "2020-01-01 01:00:00+00:00                      0.0  \n"
     ]
    }
   ],
   "execution_count": 23
  },
  {
   "cell_type": "markdown",
   "id": "ca9e2018-41d2-482d-99ce-eec2cdd47bba",
   "metadata": {},
   "source": [
    "Now we can plot the evolution of the electrical power that the ICE CHP generates based on the demand. "
   ]
  },
  {
   "cell_type": "code",
   "id": "a8126e95-1584-42f3-be44-fc5e6323f7df",
   "metadata": {
    "ExecuteTime": {
     "end_time": "2025-05-08T07:44:42.153967Z",
     "start_time": "2025-05-08T07:44:41.526069Z"
    }
   },
   "source": [
    "ice_chp_prosumer.time_series.data_source.loc[0].df.p_el_out_kw.plot()\n",
    "plt.show()"
   ],
   "outputs": [
    {
     "data": {
      "text/plain": [
       "<Figure size 640x480 with 1 Axes>"
      ],
      "image/png": "[encoded data removed]"
     },
     "metadata": {},
     "output_type": "display_data"
    }
   ],
   "execution_count": 24
  },
  {
   "cell_type": "markdown",
   "id": "473258ad-0cdb-46d5-89ae-d06249a0c3ab",
   "metadata": {},
   "source": [
    "We can also plot other results, for example the total CO2-equivalent emissions."
   ]
  },
  {
   "cell_type": "code",
   "id": "6a2b6671-6f97-436f-83aa-bd3b161a1d17",
   "metadata": {
    "ExecuteTime": {
     "end_time": "2025-05-08T07:44:42.607214Z",
     "start_time": "2025-05-08T07:44:42.187551Z"
    }
   },
   "source": [
    "ice_chp_prosumer.time_series.data_source.loc[0].df.acc_co2_equiv_kg.plot()\n",
    "plt.show()"
   ],
   "outputs": [
    {
     "data": {
      "text/plain": [
       "<Figure size 640x480 with 1 Axes>"
      ],
      "image/png": "[encoded data removed]"
     },
     "metadata": {},
     "output_type": "display_data"
    }
   ],
   "execution_count": 25
  },
  {
   "cell_type": "markdown",
   "id": "1b54f932-12da-41ba-b321-800ef3e52301",
   "metadata": {},
   "source": [
    "ACKNOWLEDGEMENTS:\n",
    "-----------------\n",
    "The authors would like to thank Pratikshya Mohanty and Odile Capron from the Fraunhofer Institute for the help in preparing this tutorial, especially the diagrams. Special thanks also to Pawel Lytaev and colleagues from the University of Kassel for their code reviews and suggestions during the development of the models. Support from the Senergy Nets project, funded by the European Union under the Horizon Europe program (Grant Agreement No. 101075731) is gratefully acknowledged."
   ]
  }
 ],
 "metadata": {
  "kernelspec": {
   "display_name": "Python 3 (ipykernel)",
   "language": "python",
   "name": "python3"
  },
  "language_info": {
   "codemirror_mode": {
    "name": "ipython",
    "version": 3
   },
   "file_extension": ".py",
   "mimetype": "text/x-python",
   "name": "python",
   "nbconvert_exporter": "python",
   "pygments_lexer": "ipython3",
   "version": "3.9.21"
  }
 },
 "nbformat": 4,
 "nbformat_minor": 5
}
