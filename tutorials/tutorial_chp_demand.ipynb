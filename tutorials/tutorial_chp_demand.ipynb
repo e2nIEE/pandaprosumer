{
 "cells": [
  {
   "cell_type": "markdown",
   "id": "470b9922-749e-4200-bfc3-887dda293789",
   "metadata": {},
   "source": [
    "# PANDAPROSUMER EXAMPLE: COMBINED HEAT AND POWER (CHP)"
   ]
  },
  {
   "cell_type": "markdown",
   "id": "50e968f7-c9b5-4ad6-afcd-b46b146376c7",
   "metadata": {
    "jp-MarkdownHeadingCollapsed": true
   },
   "source": [
    "Example prepared by:\n",
    "--------------------\n",
    "    Izak Oberčkal Pluško, Marko Keber, Katja Klinar, Tine Seljak*, Andrej Kitanovski\n",
    "\n",
    "    Faculty of Mechanical Engineering, University of Ljubljana, Slovenia\n",
    "    \n",
    "    *Contact: tine.seljak@fs.uni-lj.si"
   ]
  },
  {
   "cell_type": "markdown",
   "id": "2995e353-291b-445a-8361-783b319b13c8",
   "metadata": {},
   "source": [
    "DESCRIPTION:\n",
    "--------------------\n",
    "This example describes how to create a single CHP element in the *pandaprosumer* software package and connect it to a single consumer. The user can choose the size of the CHP unit, fuel type and altitude at which CHP unit is located while the demand data is read from a an Excel file and stored in a pandas dataframe. It includes information about the heat flow required by the consumer and the corresponding CHP output configuration (topping or bottoming). "
   ]
  },
  {
   "cell_type": "markdown",
   "id": "1cd4d244-6109-40b0-b3a0-9eb5315c5c64",
   "metadata": {},
   "source": [
    "Glossary:\n",
    "---------\n",
    "- Network: a configuration of connected energy generators and energy consumers\n",
    "- Element: a single energy generator or a single energy consumer\n",
    "- Container: a pandaprosumer data structure that contains data of an individual element; each element must have its container \n",
    "- Controller: the logic of an element that defines its behaviour and its limits\n",
    "- General controller: the first controller in the network that interacts with controllers of all other elements; this controller also manages external data\n",
    "- Map / mapping: a connection between two elements; contains information about the what is exchanged between the two elements"
   ]
  },
  {
   "cell_type": "markdown",
   "id": "934896a0-9b37-4226-abce-a77823bd5971",
   "metadata": {},
   "source": [
    "Network design philosophy:\n",
    "--------------------------\n",
    "In pandaprosumer, a system's component is represented by a network element. Each element is assigned a *container* and its own *element controller*. A container is a structure that contains the component's configuration data (static input data), which can include information that will not change in the analysis such as size, nominal power, efficiency, etc. The behaviour of an element is governed by its *controller*. Connections between elements are defined in *maps*, which couple output parameters of one controller to the input parameter of a controller of a connected element. \n",
    "The network is managed by a *general controller* called *ConstProfileController*. This controller is connected to all element controllers and manages dynamic input data from external sources (e.g. Excel file). For each time step it distributes the dynamic input data to the relevant element controllers. "
   ]
  },
  {
   "cell_type": "markdown",
   "id": "4719111a-a7d3-46f6-b273-2c6b47727800",
   "metadata": {},
   "source": [
    "CREATING A NETWORK:\n",
    "--------------------\n",
    "If we are not in pandaprosumer parent directory, we should add it to the path so that the program knows where to find the necessary functions:"
   ]
  },
  {
   "cell_type": "code",
   "execution_count": 26,
   "id": "39735ed5-81fb-48ce-8bfd-20d0dc18a42f",
   "metadata": {
    "ExecuteTime": {
     "end_time": "2025-03-20T10:58:40.431587Z",
     "start_time": "2025-03-20T10:58:40.426566Z"
    }
   },
   "outputs": [],
   "source": [
    "import sys\n",
    "import os\n",
    "\n",
    "current_directory = os.getcwd()\n",
    "parent_directory = os.path.dirname(current_directory)\n",
    "sys.path.append(parent_directory)"
   ]
  },
  {
   "cell_type": "markdown",
   "id": "f6932e38-5b9e-46bd-8642-8d67e26e9e17",
   "metadata": {},
   "source": [
    "1 - INPUT DATA:\n",
    "---------------\n",
    "First let's import libraries required for data management."
   ]
  },
  {
   "cell_type": "code",
   "execution_count": 27,
   "id": "7a250c34-c8db-4d8d-8581-2bab23c4782d",
   "metadata": {
    "ExecuteTime": {
     "end_time": "2025-03-20T10:58:42.350293Z",
     "start_time": "2025-03-20T10:58:40.575197Z"
    }
   },
   "outputs": [],
   "source": [
    "import pandas as pd\n",
    "from pandapower.timeseries.data_sources.frame_data import DFData"
   ]
  },
  {
   "cell_type": "markdown",
   "id": "b4094d6d-bba0-408b-95a1-8a4e617eade2",
   "metadata": {},
   "source": [
    "Next, we need to define properties of the CHP element (size, name), which are treated as static input data, i.e. data (characteristics) that don't change during an analysis. Size is defined as the nominal maximum electrical power (unit: [kW]). A name can be added to describe the CHP element. # TODO opis "
   ]
  },
  {
   "cell_type": "code",
   "execution_count": 28,
   "id": "11fde3c8-f61f-411d-ba9f-40d44ad29cb0",
   "metadata": {
    "ExecuteTime": {
     "end_time": "2025-03-20T10:58:42.354330Z",
     "start_time": "2025-03-20T10:58:42.351570Z"
    }
   },
   "outputs": [],
   "source": [
    "chp_name = 'example_chp'\n",
    "chp_size_kw = 500\n",
    "chp_fuel = 'ng'\n",
    "altitude_m = 0"
   ]
  },
  {
   "cell_type": "markdown",
   "id": "047fe6e6-22ce-4d67-8647-b239c167e209",
   "metadata": {},
   "source": [
    "We define the analysis time series."
   ]
  },
  {
   "cell_type": "code",
   "execution_count": 29,
   "id": "67839443-0c42-44dc-b024-bf559f6b52dd",
   "metadata": {
    "ExecuteTime": {
     "end_time": "2025-03-20T10:58:42.366495Z",
     "start_time": "2025-03-20T10:58:42.355678Z"
    }
   },
   "outputs": [],
   "source": [
    "start = '2020-01-01 00:00:00' \n",
    "end = '2020-01-02 00:00:00'\n",
    "time_resolution = 900 # 15 min "
   ]
  },
  {
   "cell_type": "markdown",
   "id": "6a60c6ea-351b-43d1-b325-c6877f2ce338",
   "metadata": {},
   "source": [
    "Now we import our demand data and transform it into an appropriate DFData object. All data of an individual element is stored in a dedicated DFData object."
   ]
  },
  {
   "cell_type": "code",
   "execution_count": 30,
   "id": "ab0af77b-36fb-4df0-b5a3-b29558d9af56",
   "metadata": {
    "ExecuteTime": {
     "end_time": "2025-03-20T10:58:42.405709Z",
     "start_time": "2025-03-20T10:58:42.368100Z"
    }
   },
   "outputs": [
    {
     "name": "stdout",
     "output_type": "stream",
     "text": [
      "       TIME  cycle  temperature_ice_chp_k  demand\n",
      "0  00:00:00      1                    273       0\n",
      "1  00:15:00      1                    273       0\n",
      "2  00:30:00      1                    273       0\n",
      "3  00:45:00      1                    273       0\n",
      "4  01:00:00      1                    273       0\n"
     ]
    }
   ],
   "source": [
    "demand_data = pd.read_excel('example_data/input_chp_v2.xlsx') \n",
    "\n",
    "print(demand_data.head())\n",
    "\n",
    "dur = pd.date_range(start, end, freq=\"15min\", tz='utc')                              \n",
    "demand_data.index = dur\n",
    "demand_input = DFData(demand_data)"
   ]
  },
  {
   "cell_type": "markdown",
   "id": "8f39ffdb-b03f-43cf-9af8-2f6ca5681f3c",
   "metadata": {},
   "source": [
    "2 - CREATING ELEMENTS OF THE NETWORK:\n",
    "--------------------------------------"
   ]
  },
  {
   "cell_type": "markdown",
   "id": "a8cab8d9-bdd5-4fea-a15d-2b9cf882370b",
   "metadata": {},
   "source": [
    "In this example, the network is made up of two elements: a source and a consumer. The source is represented by a single CHP unit and the consumer is modelled by a single heat demand element. "
   ]
  },
  {
   "cell_type": "markdown",
   "id": "0fa0258c-0800-4118-ab1f-c0de83d77c38",
   "metadata": {},
   "source": [
    "![network](figures/chp_cons_1.png)"
   ]
  },
  {
   "cell_type": "markdown",
   "id": "4a16dff7-2627-46c0-b4ab-a88be4e06eff",
   "metadata": {},
   "source": [
    "First we define an empty prosumer container object which in practice can be anything. In pandaprosumer, each element of the network has its own container, which is later filled with data and results."
   ]
  },
  {
   "cell_type": "code",
   "execution_count": 31,
   "id": "0cff2645-4bd7-48dc-93b2-413d0e65f6e7",
   "metadata": {
    "ExecuteTime": {
     "end_time": "2025-03-20T10:58:43.898618Z",
     "start_time": "2025-03-20T10:58:42.406790Z"
    }
   },
   "outputs": [],
   "source": [
    "from pandaprosumer.create import create_empty_prosumer_container\n",
    "\n",
    "chp_prosumer = create_empty_prosumer_container()"
   ]
  },
  {
   "cell_type": "markdown",
   "id": "054b96d8-56ee-41f4-b2b6-dc36566822a7",
   "metadata": {},
   "source": [
    "Then we define the period of the analysis using input data about the analysis of time and also timezone and period name."
   ]
  },
  {
   "cell_type": "code",
   "execution_count": 32,
   "id": "90e212cf-9011-4680-ae3a-94e266419aad",
   "metadata": {
    "ExecuteTime": {
     "end_time": "2025-03-20T10:58:43.906250Z",
     "start_time": "2025-03-20T10:58:43.901055Z"
    }
   },
   "outputs": [],
   "source": [
    "from pandaprosumer.create import create_period\n",
    "\n",
    "chp_period = create_period(chp_prosumer, time_resolution, start, end, 'utc', 'default')"
   ]
  },
  {
   "cell_type": "markdown",
   "id": "c336569c-209b-4dad-a7a5-ecfe64fe0de2",
   "metadata": {},
   "source": [
    "First we create ConstProfileControllerData and ConstProfileController through create_controlled_const_profile function. We pass in prosumer container, names of dynamic data columns from excel file and coresponding result columns, period of the analysis and DFData object."
   ]
  },
  {
   "cell_type": "code",
   "execution_count": 33,
   "id": "d38dbb7b-4b1a-4945-b904-047cef8eaf26",
   "metadata": {},
   "outputs": [],
   "source": [
    "from pandaprosumer.create_controlled import create_controlled_const_profile\n",
    "\n",
    "input_columns = ['demand', 'cycle', 'temperature_ice_chp_k']\n",
    "result_columns = ['demand_c', 'cycle_c', 'temperature_ice_chp_k_c']\n",
    "\n",
    "cp_index = create_controlled_const_profile(\n",
    "    chp_prosumer, input_columns, result_columns, chp_period, demand_input)"
   ]
  },
  {
   "cell_type": "markdown",
   "id": "6c26208a-1453-4bc8-8cb4-d02b6a3964f2",
   "metadata": {},
   "source": [
    "Next we define ice_chp element where we pass in prosumer container, CHP's size, fuel, altitude and arbitrary name."
   ]
  },
  {
   "cell_type": "code",
   "execution_count": 34,
   "id": "174090f0-2f1b-4960-9e6f-b464bd6a16f4",
   "metadata": {
    "ExecuteTime": {
     "end_time": "2025-03-20T10:58:43.922769Z",
     "start_time": "2025-03-20T10:58:43.907647Z"
    }
   },
   "outputs": [],
   "source": [
    "from pandaprosumer.create_controlled import create_controlled_ice_chp\n",
    "ice_chp_index = create_controlled_ice_chp(chp_prosumer, chp_size_kw, chp_fuel, altitude_m, chp_name)"
   ]
  },
  {
   "cell_type": "markdown",
   "id": "2faa1c5f-38f8-4271-a331-b0bb5a5da996",
   "metadata": {},
   "source": [
    "Lastly we create heat demand element where we pass in prosumer container. There is also scaling parameter describing how much do we want to scale the demanded heat."
   ]
  },
  {
   "cell_type": "code",
   "execution_count": 35,
   "id": "63f8fe36-a680-411c-929f-e76bf0b10cd0",
   "metadata": {
    "ExecuteTime": {
     "end_time": "2025-03-20T10:58:43.937141Z",
     "start_time": "2025-03-20T10:58:43.924020Z"
    }
   },
   "outputs": [],
   "source": [
    "from pandaprosumer.create_controlled import create_controlled_heat_demand\n",
    "\n",
    "heat_demand_index = create_controlled_heat_demand(chp_prosumer, scaling=1.0)"
   ]
  },
  {
   "cell_type": "markdown",
   "id": "235cc010-f622-4a65-b15a-4a6c5569eff0",
   "metadata": {},
   "source": [
    "3 - CREATING CONNECTIONS (MAPS) BETWEEN THE CONTROLLERS:\n",
    "---------------------------------------------------------"
   ]
  },
  {
   "attachments": {},
   "cell_type": "markdown",
   "id": "fdf73826-be8e-40b9-b4ed-0b39b3aa54b4",
   "metadata": {},
   "source": [
    "![connections](figures/chp_cons_3.png)"
   ]
  },
  {
   "cell_type": "markdown",
   "id": "1e2ede86-a0f0-4f9f-a58d-50cf10c45d72",
   "metadata": {},
   "source": [
    "For each controller we define how it is connected to other controllers. The main parameter for the map in this case is energy flow: the output energy flow of one element is linked with the input energy flow of the connected element. "
   ]
  },
  {
   "cell_type": "code",
   "execution_count": 36,
   "id": "92eefb1c-93f0-4a6d-acb5-b07c8777f47a",
   "metadata": {
    "ExecuteTime": {
     "end_time": "2025-03-20T10:58:44.017519Z",
     "start_time": "2025-03-20T10:58:44.009354Z"
    }
   },
   "outputs": [],
   "source": [
    "from pandaprosumer.mapping import GenericMapping"
   ]
  },
  {
   "cell_type": "markdown",
   "id": "8e6fcd1e-da3c-4f41-820e-08e27b8184bd",
   "metadata": {},
   "source": [
    "3.1. CONNECTION GENERAL CONTROLLER ---> CHP:"
   ]
  },
  {
   "cell_type": "markdown",
   "id": "9b862afc-085f-40f3-801a-e97bc736ea4e",
   "metadata": {},
   "source": [
    "The general controller instructs the CHP controller what cycle and temperature to use. "
   ]
  },
  {
   "cell_type": "code",
   "execution_count": 37,
   "id": "3781726d-d78e-4a02-aa0a-d7688d2b60e4",
   "metadata": {
    "ExecuteTime": {
     "end_time": "2025-03-20T10:58:44.028972Z",
     "start_time": "2025-03-20T10:58:44.018730Z"
    }
   },
   "outputs": [],
   "source": [
    "GenericMapping(\n",
    "    chp_prosumer,                                                   \n",
    "    initiator_id=cp_index,                                           \n",
    "    initiator_column=\"cycle_c\",                              \n",
    "    responder_id=ice_chp_index,                                                \n",
    "    responder_column=\"cycle\"\n",
    ");  "
   ]
  },
  {
   "cell_type": "code",
   "execution_count": 38,
   "id": "aadb492d-adca-4f93-909b-a9d6d98a4030",
   "metadata": {
    "ExecuteTime": {
     "end_time": "2025-03-20T10:58:44.039896Z",
     "start_time": "2025-03-20T10:58:44.030051Z"
    }
   },
   "outputs": [],
   "source": [
    "GenericMapping(\n",
    "    chp_prosumer,                                                   \n",
    "    initiator_id=cp_index,                                           \n",
    "    initiator_column=\"temperature_ice_chp_k_c\",                              \n",
    "    responder_id=ice_chp_index,                                                \n",
    "    responder_column=\"temperature_ice_chp_k\"\n",
    ");  "
   ]
  },
  {
   "cell_type": "markdown",
   "id": "7c5a1aad-f758-47f4-948a-b266858241ae",
   "metadata": {},
   "source": [
    "3.2. CONNECTION CHP ---> HEAT DEMAND (CONSUMER):"
   ]
  },
  {
   "cell_type": "markdown",
   "id": "99316b2b-fba1-4d74-b692-346e25b1060e",
   "metadata": {},
   "source": [
    "The CHP controller informs the demand controller of how much thermal power it can supply at each time step. "
   ]
  },
  {
   "cell_type": "code",
   "execution_count": 39,
   "id": "ced2b119-a9cf-49d8-b0ff-68d1934d15d0",
   "metadata": {
    "ExecuteTime": {
     "end_time": "2025-03-20T10:58:44.054005Z",
     "start_time": "2025-03-20T10:58:44.041453Z"
    }
   },
   "outputs": [],
   "source": [
    "GenericMapping(\n",
    "    chp_prosumer,                                              \n",
    "    initiator_id=ice_chp_index,                                             \n",
    "    initiator_column=\"p_th_out_kw\",\n",
    "    responder_id=heat_demand_index,                                           \n",
    "    responder_column=\"q_received_kw\"\n",
    ");"
   ]
  },
  {
   "cell_type": "markdown",
   "id": "ddb0796e-9ed5-47bd-9e5b-6a96ece88387",
   "metadata": {},
   "source": [
    "3.3. CONNECTION GENERAL CONTROLLER ---> HEAT DEMAND (CONSUMER):"
   ]
  },
  {
   "cell_type": "markdown",
   "id": "d724c8b9-7716-4cbd-956f-e83c9c1858be",
   "metadata": {},
   "source": [
    "The general controller sends the demand controller information about the actual demand at each time step."
   ]
  },
  {
   "cell_type": "code",
   "execution_count": 40,
   "id": "0aff4b9b-15cb-4c9f-b1fb-c808a46cba86",
   "metadata": {
    "ExecuteTime": {
     "end_time": "2025-03-20T10:58:44.065231Z",
     "start_time": "2025-03-20T10:58:44.055091Z"
    }
   },
   "outputs": [],
   "source": [
    "GenericMapping(\n",
    "    chp_prosumer,                                                  \n",
    "    initiator_id=cp_index,                                               \n",
    "    initiator_column=\"demand_c\",\n",
    "    responder_id=heat_demand_index,                                                \n",
    "    responder_column=\"q_demand_kw\"\n",
    ");"
   ]
  },
  {
   "cell_type": "markdown",
   "id": "ec418375-6c54-4dbf-ace8-b461d41e6bd8",
   "metadata": {},
   "source": [
    "4 - RUNNING THE ANALYSIS:\n",
    "-----------------------"
   ]
  },
  {
   "cell_type": "markdown",
   "id": "ffd3ebae-43e5-4d0d-8e03-7b6becbe0c2d",
   "metadata": {},
   "source": [
    "We can now run the analysis with the input data defined above. "
   ]
  },
  {
   "cell_type": "code",
   "execution_count": 41,
   "id": "87184f096e29bbf2",
   "metadata": {
    "ExecuteTime": {
     "end_time": "2025-03-20T10:58:44.082861Z",
     "start_time": "2025-03-20T10:58:44.066882Z"
    }
   },
   "outputs": [
    {
     "data": {
      "text/html": [
       "<div>\n",
       "<style scoped>\n",
       "    .dataframe tbody tr th:only-of-type {\n",
       "        vertical-align: middle;\n",
       "    }\n",
       "\n",
       "    .dataframe tbody tr th {\n",
       "        vertical-align: top;\n",
       "    }\n",
       "\n",
       "    .dataframe thead th {\n",
       "        text-align: right;\n",
       "    }\n",
       "</style>\n",
       "<table border=\"1\" class=\"dataframe\">\n",
       "  <thead>\n",
       "    <tr style=\"text-align: right;\">\n",
       "      <th></th>\n",
       "      <th>name</th>\n",
       "      <th>start</th>\n",
       "      <th>end</th>\n",
       "      <th>resolution_s</th>\n",
       "      <th>timezone</th>\n",
       "    </tr>\n",
       "  </thead>\n",
       "  <tbody>\n",
       "    <tr>\n",
       "      <th>0</th>\n",
       "      <td>default</td>\n",
       "      <td>2020-01-01 00:00:00</td>\n",
       "      <td>2020-01-02 00:00:00</td>\n",
       "      <td>900.0</td>\n",
       "      <td>utc</td>\n",
       "    </tr>\n",
       "  </tbody>\n",
       "</table>\n",
       "</div>"
      ],
      "text/plain": [
       "      name                start                  end  resolution_s timezone\n",
       "0  default  2020-01-01 00:00:00  2020-01-02 00:00:00         900.0      utc"
      ]
     },
     "execution_count": 41,
     "metadata": {},
     "output_type": "execute_result"
    }
   ],
   "source": [
    "chp_prosumer.period"
   ]
  },
  {
   "cell_type": "code",
   "execution_count": 42,
   "id": "fd2d018f-fe5d-4304-8450-b61395c87065",
   "metadata": {
    "ExecuteTime": {
     "end_time": "2025-03-20T10:58:46.202792Z",
     "start_time": "2025-03-20T10:58:44.084085Z"
    }
   },
   "outputs": [
    {
     "name": "stderr",
     "output_type": "stream",
     "text": [
      "  7%|██████████▎                                                                                                                                    | 7/97 [00:00<00:01, 62.07it/s]"
     ]
    },
    {
     "name": "stdout",
     "output_type": "stream",
     "text": [
      "2020-01-01 00:00:00+00:00\n",
      "2020-01-01 00:15:00+00:00\n",
      "2020-01-01 00:30:00+00:00\n",
      "2020-01-01 00:45:00+00:00\n",
      "2020-01-01 01:00:00+00:00\n",
      "2020-01-01 01:15:00+00:00\n",
      "2020-01-01 01:30:00+00:00\n",
      "2020-01-01 01:45:00+00:00\n",
      "2020-01-01 02:00:00+00:00\n",
      "2020-01-01 02:15:00+00:00\n",
      "2020-01-01 02:30:00+00:00\n"
     ]
    },
    {
     "name": "stderr",
     "output_type": "stream",
     "text": [
      " 21%|█████████████████████████████▎                                                                                                                | 20/97 [00:00<00:01, 52.50it/s]"
     ]
    },
    {
     "name": "stdout",
     "output_type": "stream",
     "text": [
      "2020-01-01 02:45:00+00:00\n",
      "2020-01-01 03:00:00+00:00\n",
      "2020-01-01 03:15:00+00:00\n",
      "2020-01-01 03:30:00+00:00\n",
      "2020-01-01 03:45:00+00:00\n",
      "2020-01-01 04:00:00+00:00\n",
      "2020-01-01 04:15:00+00:00\n",
      "2020-01-01 04:30:00+00:00\n",
      "2020-01-01 04:45:00+00:00\n",
      "2020-01-01 05:00:00+00:00\n",
      "2020-01-01 05:15:00+00:00\n"
     ]
    },
    {
     "name": "stderr",
     "output_type": "stream",
     "text": [
      " 27%|██████████████████████████████████████                                                                                                        | 26/97 [00:00<00:01, 48.98it/s]"
     ]
    },
    {
     "name": "stdout",
     "output_type": "stream",
     "text": [
      "2020-01-01 05:30:00+00:00\n",
      "2020-01-01 05:45:00+00:00\n",
      "2020-01-01 06:00:00+00:00\n",
      "2020-01-01 06:15:00+00:00\n",
      "2020-01-01 06:30:00+00:00\n",
      "2020-01-01 06:45:00+00:00\n",
      "2020-01-01 07:00:00+00:00\n",
      "2020-01-01 07:15:00+00:00\n"
     ]
    },
    {
     "name": "stderr",
     "output_type": "stream",
     "text": [
      " 38%|██████████████████████████████████████████████████████▏                                                                                       | 37/97 [00:00<00:01, 45.99it/s]"
     ]
    },
    {
     "name": "stdout",
     "output_type": "stream",
     "text": [
      "2020-01-01 07:30:00+00:00\n",
      "2020-01-01 07:45:00+00:00\n",
      "2020-01-01 08:00:00+00:00\n",
      "2020-01-01 08:15:00+00:00\n",
      "2020-01-01 08:30:00+00:00\n",
      "2020-01-01 08:45:00+00:00\n",
      "2020-01-01 09:00:00+00:00\n",
      "2020-01-01 09:15:00+00:00\n",
      "2020-01-01 09:30:00+00:00\n",
      "2020-01-01 09:45:00+00:00\n",
      "2020-01-01 10:00:00+00:00\n"
     ]
    },
    {
     "name": "stderr",
     "output_type": "stream",
     "text": [
      " 49%|██████████████████████████████████████████████████████████████████████▎                                                                       | 48/97 [00:00<00:01, 48.17it/s]"
     ]
    },
    {
     "name": "stdout",
     "output_type": "stream",
     "text": [
      "2020-01-01 10:15:00+00:00\n",
      "2020-01-01 10:30:00+00:00\n",
      "2020-01-01 10:45:00+00:00\n",
      "2020-01-01 11:00:00+00:00\n",
      "2020-01-01 11:15:00+00:00\n",
      "2020-01-01 11:30:00+00:00\n",
      "2020-01-01 11:45:00+00:00\n",
      "2020-01-01 12:00:00+00:00\n",
      "2020-01-01 12:15:00+00:00\n",
      "2020-01-01 12:30:00+00:00\n",
      "2020-01-01 12:45:00+00:00\n"
     ]
    },
    {
     "name": "stderr",
     "output_type": "stream",
     "text": [
      " 65%|████████████████████████████████████████████████████████████████████████████████████████████▏                                                 | 63/97 [00:01<00:00, 47.29it/s]"
     ]
    },
    {
     "name": "stdout",
     "output_type": "stream",
     "text": [
      "2020-01-01 13:00:00+00:00\n",
      "2020-01-01 13:15:00+00:00\n",
      "2020-01-01 13:30:00+00:00\n",
      "2020-01-01 13:45:00+00:00\n",
      "2020-01-01 14:00:00+00:00\n",
      "2020-01-01 14:15:00+00:00\n",
      "2020-01-01 14:30:00+00:00\n",
      "2020-01-01 14:45:00+00:00\n",
      "2020-01-01 15:00:00+00:00\n",
      "2020-01-01 15:15:00+00:00\n"
     ]
    },
    {
     "name": "stderr",
     "output_type": "stream",
     "text": [
      " 70%|███████████████████████████████████████████████████████████████████████████████████████████████████▌                                          | 68/97 [00:01<00:00, 47.61it/s]"
     ]
    },
    {
     "name": "stdout",
     "output_type": "stream",
     "text": [
      "2020-01-01 15:30:00+00:00\n",
      "2020-01-01 15:45:00+00:00\n",
      "2020-01-01 16:00:00+00:00\n",
      "2020-01-01 16:15:00+00:00\n",
      "2020-01-01 16:30:00+00:00\n",
      "2020-01-01 16:45:00+00:00\n",
      "2020-01-01 17:00:00+00:00\n",
      "2020-01-01 17:15:00+00:00\n",
      "2020-01-01 17:30:00+00:00\n",
      "2020-01-01 17:45:00+00:00\n"
     ]
    },
    {
     "name": "stderr",
     "output_type": "stream",
     "text": [
      " 80%|██████████████████████████████████████████████████████████████████████████████████████████████████████████████████▏                           | 78/97 [00:01<00:00, 46.37it/s]"
     ]
    },
    {
     "name": "stdout",
     "output_type": "stream",
     "text": [
      "2020-01-01 18:00:00+00:00\n",
      "2020-01-01 18:15:00+00:00\n",
      "2020-01-01 18:30:00+00:00\n",
      "2020-01-01 18:45:00+00:00\n",
      "2020-01-01 19:00:00+00:00\n",
      "2020-01-01 19:15:00+00:00\n",
      "2020-01-01 19:30:00+00:00\n",
      "2020-01-01 19:45:00+00:00\n",
      "2020-01-01 20:00:00+00:00\n",
      "2020-01-01 20:15:00+00:00\n"
     ]
    },
    {
     "name": "stderr",
     "output_type": "stream",
     "text": [
      " 96%|████████████████████████████████████████████████████████████████████████████████████████████████████████████████████████████████████████▏     | 93/97 [00:01<00:00, 47.77it/s]"
     ]
    },
    {
     "name": "stdout",
     "output_type": "stream",
     "text": [
      "2020-01-01 20:30:00+00:00\n",
      "2020-01-01 20:45:00+00:00\n",
      "2020-01-01 21:00:00+00:00\n",
      "2020-01-01 21:15:00+00:00\n",
      "2020-01-01 21:30:00+00:00\n",
      "2020-01-01 21:45:00+00:00\n",
      "2020-01-01 22:00:00+00:00\n",
      "2020-01-01 22:15:00+00:00\n",
      "2020-01-01 22:30:00+00:00\n",
      "2020-01-01 22:45:00+00:00\n"
     ]
    },
    {
     "name": "stderr",
     "output_type": "stream",
     "text": [
      "100%|██████████████████████████████████████████████████████████████████████████████████████████████████████████████████████████████████████████████| 97/97 [00:02<00:00, 47.20it/s]"
     ]
    },
    {
     "name": "stdout",
     "output_type": "stream",
     "text": [
      "2020-01-01 23:00:00+00:00\n",
      "2020-01-01 23:15:00+00:00\n",
      "2020-01-01 23:30:00+00:00\n",
      "2020-01-01 23:45:00+00:00\n",
      "2020-01-02 00:00:00+00:00\n"
     ]
    },
    {
     "name": "stderr",
     "output_type": "stream",
     "text": [
      "\n"
     ]
    }
   ],
   "source": [
    "from pandaprosumer.run_time_series import run_timeseries\n",
    "\n",
    "run_timeseries(chp_prosumer, chp_period, True);"
   ]
  },
  {
   "cell_type": "markdown",
   "id": "acd876fa-ed5f-4752-b69c-91bef00abf06",
   "metadata": {},
   "source": [
    "5 - PRINTING AND PLOTTING RESULTS:\n",
    "----------------------------------"
   ]
  },
  {
   "cell_type": "markdown",
   "id": "1cf23ef3-ea61-47db-a1b5-30ddf921617f",
   "metadata": {},
   "source": [
    "First, we plot the evolution of the demand from the Excel file."
   ]
  },
  {
   "cell_type": "code",
   "execution_count": 43,
   "id": "142d0338-951a-4727-a287-f8bedfeb0095",
   "metadata": {
    "ExecuteTime": {
     "end_time": "2025-03-20T10:58:46.206091Z",
     "start_time": "2025-03-20T10:58:46.203976Z"
    }
   },
   "outputs": [],
   "source": [
    "import matplotlib.pyplot as plt"
   ]
  },
  {
   "cell_type": "code",
   "execution_count": 44,
   "id": "c2c75492-0356-41f6-98b7-eb4413785c83",
   "metadata": {
    "ExecuteTime": {
     "end_time": "2025-03-20T10:58:46.333431Z",
     "start_time": "2025-03-20T10:58:46.207138Z"
    }
   },
   "outputs": [
    {
     "data": {
      "image/png": "[encoded data removed]",
      "text/plain": [
       "<Figure size 640x480 with 1 Axes>"
      ]
     },
     "metadata": {},
     "output_type": "display_data"
    }
   ],
   "source": [
    "demand_data.plot(y='demand');\n",
    "plt.show()"
   ]
  },
  {
   "cell_type": "code",
   "execution_count": 45,
   "id": "aa03b80c-23b5-4336-b66d-bd2ff032a40e",
   "metadata": {
    "ExecuteTime": {
     "end_time": "2025-03-20T10:58:46.339691Z",
     "start_time": "2025-03-20T10:58:46.334648Z"
    }
   },
   "outputs": [
    {
     "name": "stdout",
     "output_type": "stream",
     "text": [
      "   name  scaling  in_service\n",
      "0  None      1.0        True\n"
     ]
    }
   ],
   "source": [
    "print(chp_prosumer.heat_demand)"
   ]
  },
  {
   "cell_type": "markdown",
   "id": "5989ed57-96f8-4fe0-a0fe-ea41a6317c11",
   "metadata": {},
   "source": [
    "Then we list the availabel results for the CHP element. Results are stored in the form of time series, which can be plotted on a graph. The *.time_series* command lists all input and output dataframes. "
   ]
  },
  {
   "cell_type": "code",
   "execution_count": 46,
   "id": "036b950c-c59d-4f6b-a504-ef28e13fdbbf",
   "metadata": {
    "ExecuteTime": {
     "end_time": "2025-03-20T10:58:46.351158Z",
     "start_time": "2025-03-20T10:58:46.341022Z"
    }
   },
   "outputs": [
    {
     "name": "stdout",
     "output_type": "stream",
     "text": [
      "   name      element  element_index  period_index data_source\n",
      "0  True      ice_chp            0.0           0.0      DFData\n",
      "1  None  heat_demand            0.0           0.0      DFData\n"
     ]
    }
   ],
   "source": [
    "print(chp_prosumer.time_series)"
   ]
  },
  {
   "cell_type": "markdown",
   "id": "fccc3bca-8bf6-4f92-a9bb-81c1a11c166f",
   "metadata": {},
   "source": [
    "Here *.data_source* lists all available dataframes that we then specify with index in *.loc[]*."
   ]
  },
  {
   "cell_type": "code",
   "execution_count": 47,
   "id": "4b4fc9e7-b0f0-4835-b389-6a73f77fee71",
   "metadata": {
    "ExecuteTime": {
     "end_time": "2025-03-20T10:58:46.363245Z",
     "start_time": "2025-03-20T10:58:46.352239Z"
    }
   },
   "outputs": [
    {
     "name": "stdout",
     "output_type": "stream",
     "text": [
      "0    DFData\n",
      "1    DFData\n",
      "Name: data_source, dtype: object\n"
     ]
    }
   ],
   "source": [
    "print(chp_prosumer.time_series.data_source)"
   ]
  },
  {
   "cell_type": "markdown",
   "id": "27136e17-ddbb-41a6-96d6-a379e10b94e3",
   "metadata": {},
   "source": [
    "Before plotting we have to look at the resulting dataframe to see which quantity (column) do we want to plot. Index can be an integer or the defined name of specific component you want to look at."
   ]
  },
  {
   "cell_type": "code",
   "execution_count": 48,
   "id": "f7e0cfd3-87cd-4e43-9dc9-dbf1a37c4225",
   "metadata": {
    "ExecuteTime": {
     "end_time": "2025-03-20T10:58:46.377565Z",
     "start_time": "2025-03-20T10:58:46.364412Z"
    }
   },
   "outputs": [
    {
     "name": "stdout",
     "output_type": "stream",
     "text": [
      "                           load  p_in_kw  p_el_out_kw  p_th_out_kw  \\\n",
      "2020-01-01 00:00:00+00:00   0.0      0.0          0.0          0.0   \n",
      "2020-01-01 00:15:00+00:00   0.0      0.0          0.0          0.0   \n",
      "2020-01-01 00:30:00+00:00   0.0      0.0          0.0          0.0   \n",
      "2020-01-01 00:45:00+00:00   0.0      0.0          0.0          0.0   \n",
      "2020-01-01 01:00:00+00:00   0.0      0.0          0.0          0.0   \n",
      "\n",
      "                           p_rad_out_kw  ice_chp_efficiency  \\\n",
      "2020-01-01 00:00:00+00:00           0.0                 0.0   \n",
      "2020-01-01 00:15:00+00:00           0.0                 0.0   \n",
      "2020-01-01 00:30:00+00:00           0.0                 0.0   \n",
      "2020-01-01 00:45:00+00:00           0.0                 0.0   \n",
      "2020-01-01 01:00:00+00:00           0.0                 0.0   \n",
      "\n",
      "                           mdot_fuel_in_kg_per_s  acc_m_fuel_in_kg  \\\n",
      "2020-01-01 00:00:00+00:00                    0.0               0.0   \n",
      "2020-01-01 00:15:00+00:00                    0.0               0.0   \n",
      "2020-01-01 00:30:00+00:00                    0.0               0.0   \n",
      "2020-01-01 00:45:00+00:00                    0.0               0.0   \n",
      "2020-01-01 01:00:00+00:00                    0.0               0.0   \n",
      "\n",
      "                           acc_co2_equiv_kg  acc_co2_inst_kg  acc_nox_mg  \\\n",
      "2020-01-01 00:00:00+00:00               0.0              0.0         0.0   \n",
      "2020-01-01 00:15:00+00:00               0.0              0.0         0.0   \n",
      "2020-01-01 00:30:00+00:00               0.0              0.0         0.0   \n",
      "2020-01-01 00:45:00+00:00               0.0              0.0         0.0   \n",
      "2020-01-01 01:00:00+00:00               0.0              0.0         0.0   \n",
      "\n",
      "                           acc_time_ice_chp_oper_s  \n",
      "2020-01-01 00:00:00+00:00                      0.0  \n",
      "2020-01-01 00:15:00+00:00                      0.0  \n",
      "2020-01-01 00:30:00+00:00                      0.0  \n",
      "2020-01-01 00:45:00+00:00                      0.0  \n",
      "2020-01-01 01:00:00+00:00                      0.0  \n"
     ]
    }
   ],
   "source": [
    "print(chp_prosumer.time_series.data_source.iloc[0].df.head())"
   ]
  },
  {
   "cell_type": "markdown",
   "id": "ca9e2018-41d2-482d-99ce-eec2cdd47bba",
   "metadata": {},
   "source": [
    "Now we can plot the evolution of the electrical power that the CHP generates based on the demand. "
   ]
  },
  {
   "cell_type": "code",
   "execution_count": 49,
   "id": "a8126e95-1584-42f3-be44-fc5e6323f7df",
   "metadata": {
    "ExecuteTime": {
     "end_time": "2025-03-20T10:58:46.527404Z",
     "start_time": "2025-03-20T10:58:46.405968Z"
    }
   },
   "outputs": [
    {
     "data": {
      "image/png": "[encoded data removed]",
      "text/plain": [
       "<Figure size 640x480 with 1 Axes>"
      ]
     },
     "metadata": {},
     "output_type": "display_data"
    }
   ],
   "source": [
    "chp_prosumer.time_series.data_source.loc[0].df.p_el_out_kw.plot()\n",
    "plt.show()"
   ]
  },
  {
   "cell_type": "markdown",
   "id": "473258ad-0cdb-46d5-89ae-d06249a0c3ab",
   "metadata": {},
   "source": [
    "We can also for example plot time evolution of mass flow."
   ]
  },
  {
   "cell_type": "code",
   "execution_count": 50,
   "id": "6a2b6671-6f97-436f-83aa-bd3b161a1d17",
   "metadata": {
    "ExecuteTime": {
     "end_time": "2025-03-20T10:58:46.640955Z",
     "start_time": "2025-03-20T10:58:46.528613Z"
    }
   },
   "outputs": [
    {
     "data": {
      "image/png": "[encoded data removed]",
      "text/plain": [
       "<Figure size 640x480 with 1 Axes>"
      ]
     },
     "metadata": {},
     "output_type": "display_data"
    }
   ],
   "source": [
    "chp_prosumer.time_series.data_source.loc[0].df.mdot_fuel_in_kg_per_s.plot()\n",
    "plt.show()"
   ]
  },
  {
   "cell_type": "markdown",
   "id": "1b54f932-12da-41ba-b321-800ef3e52301",
   "metadata": {},
   "source": [
    "ACKNOWLEDGEMENTS:\n",
    "-----------------\n",
    "The authors would like to thank Pratikshya Mohanty and Odile Capron from the Fraunhofer Institute for the help in preparing this tutorial. Special thanks also to Pawel Lytaev and colleagues from the University of Kassel for their code reviews and suggestions during the development of the models. Support from the Senergy Nets project, funded by the European Union under the Horizon Europe program (Grant Agreement No. 101075731) is gratefully acknowledged."
   ]
  }
 ],
 "metadata": {
  "kernelspec": {
   "display_name": "Python 3 (ipykernel)",
   "language": "python",
   "name": "python3"
  },
  "language_info": {
   "codemirror_mode": {
    "name": "ipython",
    "version": 3
   },
   "file_extension": ".py",
   "mimetype": "text/x-python",
   "name": "python",
   "nbconvert_exporter": "python",
   "pygments_lexer": "ipython3",
   "version": "3.11.11"
  }
 },
 "nbformat": 4,
 "nbformat_minor": 5
}
