{
 "cells": [
  {
   "cell_type": "markdown",
   "id": "91069caf-23f1-47ac-80cc-50cc38f489a9",
   "metadata": {},
   "source": [
    "# PANDAPROSUMER EXAMPLE: BOOSTER HEAT PUMP"
   ]
  },
  {
   "cell_type": "markdown",
   "id": "549f1e5a-f8fa-4091-b7da-36d7023341a2",
   "metadata": {},
   "source": [
    "Example prepared by:\n",
    "--------------------\n",
    "    Izak Oberčkal Pluško, Marko Keber, Katja Klinar, Tine Seljak*, Andrej Kitanovski\n",
    "\n",
    "    Faculty of Mechanical Engineering, University of Ljubljana, Slovenia\n",
    "    \n",
    "    *Contact: tine.seljak@fs.uni-lj.si"
   ]
  },
  {
   "cell_type": "markdown",
   "id": "175a5e8d-c0f0-4512-aab2-d98950a390c4",
   "metadata": {},
   "source": [
    "DESCRIPTION:\n",
    "--------------------\n",
    "This example describes how to create a single booster heat pump element in the *pandaprosumer* software package and connect it to a single consumer. The user can choose pump's type, while the demand and source temperature data is read from an Excel file and stored in pandas dataframe. It includes the information about the power required by the consumer and source temperature at each time step. "
   ]
  },
  {
   "cell_type": "markdown",
   "id": "003aef9a-15cd-4643-9c5b-be26a9b8be0e",
   "metadata": {},
   "source": [
    "Glossary:\n",
    "---------\n",
    "- Network: a configuration of connected energy generators and energy consumers\n",
    "- Element: a single energy generator or a single energy consumer\n",
    "- Container: a pandaprosumer data structure that contains data of an individual element; each element must have its container \n",
    "- Controller: the logic of an element that defines its behaviour and its limits\n",
    "- General controller: the first controller in the network that interacts with controllers of all other elements; this controller also manages external data\n",
    "- Map / mapping: a connection between two elements; contains information about the what is exchanged between the two elements"
   ]
  },
  {
   "cell_type": "markdown",
   "id": "24afc7ad-5d74-4194-8683-d8a6afe2b512",
   "metadata": {},
   "source": [
    "Network design philosophy:\n",
    "--------------------------\n",
    "In pandaprosumer, a system's component is represented by a network element. Each element is assigned a *container* and its own *element controller*. A container is a structure that contains the component's configuration data (static input data), which can include information that will not change in the analysis such as size, nominal power, efficiency, etc. The behaviour of an element is governed by its *controller*. Connections between elements are defined in *maps*, which couple output parameters of one controller to the input parameter of a controller of a connected element. \n",
    "The network is managed by a *general controller* called *ConstProfileController*. This controller is connected to all element controllers and manages dynamic input data from external sources (e.g. Excel file). For each time step it distributes the dynamic input data to the relevant element controllers. "
   ]
  },
  {
   "cell_type": "markdown",
   "id": "f1c23326-4448-4f48-9812-1fa5596d4b85",
   "metadata": {},
   "source": [
    "CREATING A NETWORK:\n",
    "--------------------\n",
    "If we are not in pandaprosumer parent directory, we should add it to the path so that the program knows where to find the necessary functions:"
   ]
  },
  {
   "cell_type": "code",
   "execution_count": null,
   "id": "6b2491af-985d-487a-9f6a-747ea47767c0",
   "metadata": {},
   "outputs": [],
   "source": [
    "import sys\n",
    "import os\n",
    "\n",
    "current_directory = os.getcwd()\n",
    "parent_directory = os.path.dirname(current_directory)\n",
    "sys.path.append(parent_directory)"
   ]
  },
  {
   "cell_type": "markdown",
   "id": "cddc9ea6-bdfe-4e76-a65d-bc50bd2d8e3d",
   "metadata": {},
   "source": [
    "1 - INPUT DATA:\n",
    "---------------\n",
    "First let's import libraries required for data management."
   ]
  },
  {
   "cell_type": "code",
   "execution_count": null,
   "id": "454ed2a7-ffbc-4c6f-952e-a00da8c5dbc1",
   "metadata": {},
   "outputs": [],
   "source": [
    "import pandas as pd\n",
    "from pandapower.timeseries.data_sources.frame_data import DFData"
   ]
  },
  {
   "cell_type": "markdown",
   "id": "62cddad7-18f2-485b-8587-06652523162a",
   "metadata": {},
   "source": [
    "Next we need to define properties of the booster heat pump which are treated as static input data, i.e. data (characteristics) that don't change during an analysis. In this case we have name and booster heat pump's type and we choose water-water type."
   ]
  },
  {
   "cell_type": "code",
   "execution_count": null,
   "id": "a816812f-4394-4212-bf72-64ee4872e787",
   "metadata": {},
   "outputs": [],
   "source": [
    "hp_type = 'water-water1'\n",
    "hp_name = 'example_hp'"
   ]
  },
  {
   "cell_type": "markdown",
   "id": "253352a4-9774-49a4-bee5-8278a0c51eac",
   "metadata": {},
   "source": [
    "We define the analysis time series."
   ]
  },
  {
   "cell_type": "code",
   "execution_count": null,
   "id": "2127a954-7402-46ed-853d-f00495ac4c6d",
   "metadata": {},
   "outputs": [],
   "source": [
    "start = '2020-01-01 00:00:00'\n",
    "end = '2020-01-01 23:59:59'\n",
    "time_resolution = 900"
   ]
  },
  {
   "cell_type": "markdown",
   "id": "dd6b7414-d5c2-428b-827f-eb17d04b29b0",
   "metadata": {},
   "source": [
    "Now we import our demand data and transform it into an appropriate DFData object. All data of an individual element is stored in a dedicated DFData object. "
   ]
  },
  {
   "cell_type": "code",
   "execution_count": null,
   "id": "1f47a409-734f-49e7-83f2-2e8aced53a5c",
   "metadata": {},
   "outputs": [],
   "source": [
    "demand_data = pd.read_excel('example_data/test_hp_1.xlsx')\n",
    "print(demand_data.head())\n",
    "\n",
    "dur = pd.date_range(start=start, end=end, freq='15min', tz='utc')\n",
    "demand_data.index = dur\n",
    "demand_input = DFData(demand_data)"
   ]
  },
  {
   "cell_type": "markdown",
   "id": "7bf6473e-308c-40a6-b81c-c95d907c08be",
   "metadata": {},
   "source": [
    "2 - CREATING ELEMENTS OF THE NETWORK:\n",
    "--------------------------------------"
   ]
  },
  {
   "cell_type": "markdown",
   "id": "3333a4b7-6e8b-45c2-936b-2138c413ed04",
   "metadata": {},
   "source": [
    "In this example, the network is made up of two elements: a source and a consumer. The source is represented by a single booster heat pump (BHP) and the consumer is modelled by a single heat demand element. "
   ]
  },
  {
   "cell_type": "markdown",
   "id": "c6b00b2c-1433-4f63-89f3-e06d87e80cbb",
   "metadata": {},
   "source": [
    "![network configuration](figures/bhp_cons_1.png)"
   ]
  },
  {
   "cell_type": "markdown",
   "id": "6f5fb5ef-4b94-43fa-aec3-c3daa5e412ba",
   "metadata": {},
   "source": [
    "2.1. ELEMENT 1 (SOURCE) ---> BOOSTER HEAT PUMP ELEMENT:"
   ]
  },
  {
   "cell_type": "markdown",
   "id": "0dcd2ddc-05c4-43f6-bc6e-99cf29509766",
   "metadata": {},
   "source": [
    "First we define an empty prosumer container object which in practice can be anything. In pandaprosumer, each element of the network has its own container, which is later filled with data and results."
   ]
  },
  {
   "cell_type": "code",
   "execution_count": null,
   "id": "9e78797a-cd5a-4dfd-a3db-5540c9722802",
   "metadata": {},
   "outputs": [],
   "source": [
    "from pandaprosumer.create import create_empty_prosumer_container\n",
    "\n",
    "hp_prosumer = create_empty_prosumer_container()"
   ]
  },
  {
   "cell_type": "markdown",
   "id": "fc584d0c-bc04-4fa1-9074-80711100f321",
   "metadata": {},
   "source": [
    "Then we define the period of the analysis using input data about the analysis of time and also timezone and period name."
   ]
  },
  {
   "cell_type": "code",
   "execution_count": null,
   "id": "cdd13840-053b-4586-819a-8a500aeb9933",
   "metadata": {},
   "outputs": [],
   "source": [
    "from pandaprosumer.create import create_period\n",
    "\n",
    "hp_period = create_period(hp_prosumer, time_resolution, start, end, 'utc', 'default')"
   ]
  },
  {
   "cell_type": "markdown",
   "id": "cbb19519-d4ba-4e6a-991e-4428cafdd94f",
   "metadata": {},
   "source": [
    "Now we fill the container created above (hp_prosumer). We pass into the function the empty prosumer container created above static input data and heat pump's type. Finally, the last static input data (name) is passed to the function."
   ]
  },
  {
   "cell_type": "code",
   "execution_count": null,
   "id": "65a514b3-f73a-4dee-84a3-9639a70b9741",
   "metadata": {},
   "outputs": [],
   "source": [
    "from pandaprosumer.create import create_booster_heat_pump\n",
    "\n",
    "hp_index = create_booster_heat_pump(\n",
    "        hp_prosumer,\n",
    "        hp_type, \n",
    "        name=hp_name)"
   ]
  },
  {
   "cell_type": "markdown",
   "id": "a427231c-2f67-4925-903f-c522871b0922",
   "metadata": {},
   "source": [
    "2.2. ELEMENT 2 (CONSUMER) ---> DEMAND ELEMENT:"
   ]
  },
  {
   "cell_type": "markdown",
   "id": "7c3f2bd5-a637-4206-b3aa-ebfe5e3a4749",
   "metadata": {},
   "source": [
    "Here we create the second element in the network, an element that represents the energy demand. In this case we have dynamic heat demand that is defined in the Excel file and is managed by the general controller. Scaling parameter scales the demand appropriately."
   ]
  },
  {
   "cell_type": "code",
   "execution_count": null,
   "id": "07d43859-f94f-4982-946c-aa6c8fb3a6e6",
   "metadata": {},
   "outputs": [],
   "source": [
    "from pandaprosumer.create import create_heat_demand\n",
    "\n",
    "heat_demand_index = create_heat_demand(hp_prosumer, scaling=1.0)"
   ]
  },
  {
   "cell_type": "markdown",
   "id": "d6091e42-3687-44fa-895d-964852bd7a13",
   "metadata": {},
   "source": [
    "3 - CREATING CONTROLLERS OF THE ELEMENTS:\n",
    "------------------------------------------"
   ]
  },
  {
   "cell_type": "markdown",
   "id": "94204595-ad96-4599-9762-bce9332da75d",
   "metadata": {},
   "source": [
    "![network configuration](figures/bhp_cons_2.png)"
   ]
  },
  {
   "cell_type": "markdown",
   "id": "7580fc1a-295d-45ab-b36c-1f0b70d24358",
   "metadata": {},
   "source": [
    "3.1. DATA FOR CONTROLLERS:"
   ]
  },
  {
   "cell_type": "markdown",
   "id": "0a6e6417-c9a4-4bbc-a8cc-d075bde0e62a",
   "metadata": {},
   "source": [
    "The first step in creating controllers is to define where each element controller gets the necessary data. "
   ]
  },
  {
   "cell_type": "markdown",
   "id": "38315dd4-365a-4ba5-adcf-0d1080ed5db5",
   "metadata": {},
   "source": [
    "3.1.1. GENERAL CONTROLLER DATA:"
   ]
  },
  {
   "cell_type": "markdown",
   "id": "4b047cbc-9971-40d4-8f5f-bd55ff32b542",
   "metadata": {},
   "source": [
    "The general controller manages data from external sources. The input columns for this controller are the columns of the Excel file where dynamic input data is stored. The output columns are used later in the definitions of the mappings."
   ]
  },
  {
   "cell_type": "code",
   "execution_count": null,
   "id": "8903e284-7e8f-4612-aed5-04301e777bbf",
   "metadata": {},
   "outputs": [],
   "source": [
    "from pandaprosumer.controller.data_model import ConstProfileControllerData\n",
    "\n",
    "const_controller_data = ConstProfileControllerData(\n",
    "    input_columns=['t_source_k', 'demand', 'mode'],\n",
    "    result_columns=['t_source_c', 'demand_c', 'mode_c'],\n",
    "    period_index=hp_period\n",
    ")"
   ]
  },
  {
   "cell_type": "markdown",
   "id": "8ddbdfc3-208b-4c6c-b896-f150af2b6416",
   "metadata": {},
   "source": [
    "3.1.2. HEAT PUMP CONTROLLER DATA:"
   ]
  },
  {
   "cell_type": "markdown",
   "id": "ab3b9d9f-f598-4085-a442-7949c5b2ba5f",
   "metadata": {},
   "source": [
    "In booster heap pump data controller object we add element index of the heat pump that was created when we defined heat pump and period index that was created when we defined period."
   ]
  },
  {
   "cell_type": "code",
   "execution_count": null,
   "id": "28451aea-acb3-4734-8a23-a2f0fa9dae1c",
   "metadata": {},
   "outputs": [],
   "source": [
    "from pandaprosumer.controller import BoosterHeatPumpControllerData\n",
    "\n",
    "booster_heat_pump_controller_data = BoosterHeatPumpControllerData(\n",
    "        element_name='booster_heat_pump',\n",
    "        element_index=[hp_index],\n",
    "        period_index=hp_period\n",
    "    )"
   ]
  },
  {
   "cell_type": "markdown",
   "id": "1b65d6a6-2f12-429c-bda9-91533792e705",
   "metadata": {},
   "source": [
    "3.1.3. HEAT DEMAND (CONTROLLER) CONTROLLER DATA:"
   ]
  },
  {
   "cell_type": "markdown",
   "id": "eb6b3718-464e-40a7-807e-582f6890c3ee",
   "metadata": {},
   "source": [
    "Like in heat pump we also add appropirate element index to heat demand data controller object that was created when heat demand was defined and again the period index."
   ]
  },
  {
   "cell_type": "code",
   "execution_count": null,
   "id": "7e3ed632-110a-44ba-a8ea-209fc4015ba6",
   "metadata": {},
   "outputs": [],
   "source": [
    "from pandaprosumer.controller.data_model.heat_demand import HeatDemandControllerData\n",
    "\n",
    "heat_demand_controller_data = HeatDemandControllerData(\n",
    "    element_name='heat_demand',\n",
    "    element_index=[heat_demand_index],\n",
    "    period_index=hp_period\n",
    ")"
   ]
  },
  {
   "cell_type": "markdown",
   "id": "0f1cdfee-d109-4c5b-aa76-16e29ae8cd4a",
   "metadata": {},
   "source": [
    "3.2. CREATING CONTROLLERS:"
   ]
  },
  {
   "cell_type": "markdown",
   "id": "d93b2b27-3c59-41d5-b660-9559abc658b8",
   "metadata": {},
   "source": [
    "Now we can create the controllers and connect them to their respective containers and data. We also define the topology of the network by setting the elements' priority. In this example, the network has a linear configuration (the direction of energy flow goes in one direction), so only the order parameter is set:\n",
    "- The *general controller* (ConstProfileController) is always the first element in the network and is the only one that reads data from external sources,\n",
    "- As the source, the heat pump controller is the second element (order 1) in the network,\n",
    "- The final order is the demand. "
   ]
  },
  {
   "cell_type": "markdown",
   "id": "5e58661f-ddfd-42a3-8afb-a69f2b015bc9",
   "metadata": {},
   "source": [
    "3.2.1. GENERAL CONTROLLER:"
   ]
  },
  {
   "cell_type": "code",
   "execution_count": null,
   "id": "d7338783-2c8d-4310-a8d9-e7966206cf61",
   "metadata": {},
   "outputs": [],
   "source": [
    "from pandaprosumer.controller import ConstProfileController\n",
    "\n",
    "ConstProfileController(hp_prosumer,\n",
    "                           const_object=const_controller_data,\n",
    "                           df_data=demand_input,\n",
    "                           order=0,\n",
    "                           level=0);"
   ]
  },
  {
   "cell_type": "markdown",
   "id": "365f59bb-d58e-4c92-a218-aef31da0f371",
   "metadata": {},
   "source": [
    "3.2.2. HEAT PUMP CONTROLLER:"
   ]
  },
  {
   "cell_type": "code",
   "execution_count": null,
   "id": "62f17077-915c-41ee-9ec8-38fc68fceda5",
   "metadata": {},
   "outputs": [],
   "source": [
    "from pandaprosumer.controller.models import BoosterHeatPumpController\n",
    "\n",
    "BoosterHeatPumpController(hp_prosumer,\n",
    "                               booster_heat_pump_controller_data,\n",
    "                               order=1,\n",
    "                               level=0);"
   ]
  },
  {
   "cell_type": "markdown",
   "id": "7bf8944c-19e6-4ca0-9707-1cb3ca21b69c",
   "metadata": {},
   "source": [
    "3.2.3. HEAT DEMAND (CONSUMER) CONTROLLER:"
   ]
  },
  {
   "cell_type": "code",
   "execution_count": null,
   "id": "91844882-be9c-4065-9e6a-63bb927bf2ed",
   "metadata": {},
   "outputs": [],
   "source": [
    "from pandaprosumer.controller.models import HeatDemandController\n",
    "\n",
    "HeatDemandController(hp_prosumer,\n",
    "                         heat_demand_controller_data,\n",
    "                         order=2,\n",
    "                         level=0);"
   ]
  },
  {
   "cell_type": "markdown",
   "id": "f8eb7f04-f4bf-46a9-8c54-af8717576b19",
   "metadata": {},
   "source": [
    "4 - CREATING CONNECTIONS (MAPS) BETWEEN THE CONTROLLERS:\n",
    "---------------------------------------------------------"
   ]
  },
  {
   "cell_type": "markdown",
   "id": "4e867db0-2a0c-44e0-ab33-61972dfa5f45",
   "metadata": {},
   "source": [
    "![network configuration](figures/bhp_cons_3.png)"
   ]
  },
  {
   "cell_type": "markdown",
   "id": "931e8ede-4cf5-4b55-aca8-2580d4c91b9a",
   "metadata": {},
   "source": [
    "For each controller we define how it is connected to other controllers. The main parameter for the map in this case is energy flow: the output energy flow of one element is linked with the input energy flow of the connected element. "
   ]
  },
  {
   "cell_type": "code",
   "execution_count": null,
   "id": "61347334-4882-41fd-8ebe-556283d7a0ec",
   "metadata": {},
   "outputs": [],
   "source": [
    "from pandaprosumer.mapping import GenericMapping"
   ]
  },
  {
   "cell_type": "markdown",
   "id": "df8f1492-2f86-4a61-bdd2-0c95b1c4fe81",
   "metadata": {},
   "source": [
    "4.1. CONNECTION GENERAL CONTROLLER ---> BOOSTER HEAT PUMP:"
   ]
  },
  {
   "cell_type": "markdown",
   "id": "cc3613ca-343f-44e9-870a-5bcf8ad20de5",
   "metadata": {},
   "source": [
    "The general controller instructs the booster heat pump what demand is expected from the consumer and source temperature and operating mode at each time step."
   ]
  },
  {
   "cell_type": "code",
   "execution_count": null,
   "id": "48aef009-e2bf-473b-adaa-ae3b21dbc2a6",
   "metadata": {},
   "outputs": [],
   "source": [
    "GenericMapping(hp_prosumer,\n",
    "                   initiator_id=0,\n",
    "                   initiator_column=\"t_source_c\",\n",
    "                   responder_id=1,\n",
    "                   responder_column=\"t_source_k\",\n",
    "                   order=0);\n",
    "GenericMapping(hp_prosumer,\n",
    "                  initiator_id=0,\n",
    "                  initiator_column=\"mode_c\",\n",
    "                  responder_id=1,\n",
    "                  responder_column=\"mode\",\n",
    "                  order=0);"
   ]
  },
  {
   "cell_type": "markdown",
   "id": "b9c825b2-91ff-4692-bc35-e2d18eec7f63",
   "metadata": {},
   "source": [
    "4.2. CONNECTION BOOSTER HEAT PUMP ---> HEAT DEMAND (CONSUMER):"
   ]
  },
  {
   "cell_type": "markdown",
   "id": "a2cc20d3-f0ea-4e66-943f-ac18c1d78a9b",
   "metadata": {},
   "source": [
    "The booster heat pump controller informs the demand controller of how much thermal power it can supply at each time step. "
   ]
  },
  {
   "cell_type": "code",
   "execution_count": null,
   "id": "1d4a6d0e-2f5a-4076-be5d-3a1af3b799f5",
   "metadata": {},
   "outputs": [],
   "source": [
    "GenericMapping(hp_prosumer,\n",
    "                   initiator_id=1,\n",
    "                   initiator_column=\"q_floor\",\n",
    "                   responder_id=2,\n",
    "                   responder_column=\"q_received_kw\",\n",
    "                   order=0);"
   ]
  },
  {
   "cell_type": "markdown",
   "id": "668f2ecb-1531-42db-8580-e34ab56c10f2",
   "metadata": {},
   "source": [
    "4.3. CONNECTION GENERAL CONTROLLER ---> HEAT DEMAND (CONSUMER):"
   ]
  },
  {
   "cell_type": "markdown",
   "id": "9ed5ea57-6273-4805-92d9-46f55c535fa6",
   "metadata": {},
   "source": [
    "The general controller sends the demand controller information about the actual demand at each time step."
   ]
  },
  {
   "cell_type": "code",
   "execution_count": null,
   "id": "1db41054-da3d-47f9-ba13-67812adc68a3",
   "metadata": {},
   "outputs": [],
   "source": [
    "GenericMapping(hp_prosumer,\n",
    "                   initiator_id=0,\n",
    "                   initiator_column=\"demand_c\",\n",
    "                   responder_id=2,\n",
    "                   responder_column=\"q_demand_kw\",\n",
    "                   order=0);"
   ]
  },
  {
   "cell_type": "markdown",
   "id": "9547f170-b131-4786-9e66-c5ee927ec1e0",
   "metadata": {},
   "source": [
    "5 - RUNNING THE ANALYSIS:\n",
    "-----------------------"
   ]
  },
  {
   "cell_type": "markdown",
   "id": "c19b2e84-4e8b-4884-8d63-e6b0dac82cdf",
   "metadata": {},
   "source": [
    "We can now run the analysis with the input data defined above. "
   ]
  },
  {
   "cell_type": "code",
   "execution_count": null,
   "id": "a15ef6bc-dc6c-4161-8bc9-fdb174da4540",
   "metadata": {},
   "outputs": [],
   "source": [
    "from pandaprosumer.run_time_series import run_timeseries\n",
    "\n",
    "run_timeseries(hp_prosumer, hp_period)"
   ]
  },
  {
   "cell_type": "markdown",
   "id": "0fbede9a-05f5-484d-96a3-fd10cdfb4144",
   "metadata": {},
   "source": [
    "6 - PRINTING AND PLOTTING RESULTS:\n",
    "----------------------------------"
   ]
  },
  {
   "cell_type": "markdown",
   "id": "50004ea5-07e4-47cc-acc7-bfa7753b9fba",
   "metadata": {},
   "source": [
    "First, we plot the evolution of the demand from the Excel file. "
   ]
  },
  {
   "cell_type": "code",
   "execution_count": null,
   "id": "efb9a421-83a9-496d-97a7-e4f2013cf962",
   "metadata": {},
   "outputs": [],
   "source": [
    "import matplotlib.pyplot as plt"
   ]
  },
  {
   "cell_type": "code",
   "execution_count": null,
   "id": "116b8244-57ca-4a58-a95f-b680541104d9",
   "metadata": {},
   "outputs": [],
   "source": [
    "demand_data.plot(y='demand');\n",
    "plt.show()"
   ]
  },
  {
   "cell_type": "code",
   "execution_count": null,
   "id": "6233d2e4-9aeb-4680-82a6-fe89a398526d",
   "metadata": {},
   "outputs": [],
   "source": [
    "print(hp_prosumer.heat_demand)"
   ]
  },
  {
   "cell_type": "markdown",
   "id": "ca6ed092-ab84-48ea-8542-fea2583e801a",
   "metadata": {},
   "source": [
    "Then we list the availabel results for the heat pump element. Results are stored in the form of time series, which can be plotted on a graph. The *.time_series* command lists all input and output dataframes. "
   ]
  },
  {
   "cell_type": "code",
   "execution_count": null,
   "id": "69a783ec-3329-4b78-a4e9-27365f296ee7",
   "metadata": {},
   "outputs": [],
   "source": [
    "print(hp_prosumer.time_series)"
   ]
  },
  {
   "cell_type": "markdown",
   "id": "adc1b4fd-8ec2-4676-ad38-0816763efdb3",
   "metadata": {},
   "source": [
    "Here *.data_source* lists all available dataframes that we then specify with index in *.loc[]*."
   ]
  },
  {
   "cell_type": "code",
   "execution_count": null,
   "id": "8d16ec70-45de-4cc0-a80a-361b16e546b9",
   "metadata": {},
   "outputs": [],
   "source": [
    "print(hp_prosumer.time_series.data_source)"
   ]
  },
  {
   "cell_type": "markdown",
   "id": "2ac7c039-b0ce-4e0b-bf9e-e10102454b75",
   "metadata": {},
   "source": [
    "Before plotting we have to look at the resulting dataframe to see which quantity (column) do we want to plot. Index can be an integer or the defined name of specific component you want to look at."
   ]
  },
  {
   "cell_type": "code",
   "execution_count": null,
   "id": "cfaaa423-0b0e-4202-8707-72e6d58c05b7",
   "metadata": {},
   "outputs": [],
   "source": [
    "print(hp_prosumer.time_series.data_source.loc[0].df.head())"
   ]
  },
  {
   "cell_type": "code",
   "execution_count": null,
   "id": "542b1e40-1cf4-498a-8725-1a0306867b07",
   "metadata": {},
   "outputs": [],
   "source": [
    "res_df = hp_prosumer.time_series\n",
    "res_df.set_index('name', inplace=True)\n",
    "print(res_df.loc[hp_name].data_source.df)"
   ]
  },
  {
   "cell_type": "markdown",
   "id": "95e420bd-5560-4f53-837c-bee2ae8cb6b0",
   "metadata": {},
   "source": [
    "Now we can plot the evolution of COP of the booster heat pump."
   ]
  },
  {
   "cell_type": "code",
   "execution_count": null,
   "id": "f7925532-f511-45df-8d7f-0a7e0f53cbed",
   "metadata": {},
   "outputs": [],
   "source": [
    "hp_prosumer.time_series.data_source.loc[hp_name].df.cop_floor.plot()\n",
    "plt.show()"
   ]
  },
  {
   "cell_type": "markdown",
   "id": "b59af8a1-f704-4087-96c9-d857e9cb7257",
   "metadata": {},
   "source": [
    "We can also for example plot the evolution of electrical power (floor) of the booster heat pump."
   ]
  },
  {
   "cell_type": "code",
   "execution_count": null,
   "id": "ff0db993-be45-4ac4-9aa4-751b5723bfe9",
   "metadata": {},
   "outputs": [],
   "source": [
    "hp_prosumer.time_series.data_source.loc[hp_name].df.p_el_floor.plot()\n",
    "plt.show()"
   ]
  },
  {
   "cell_type": "markdown",
   "id": "2f39cc71-e6f2-4457-a90c-9e3a9add504f",
   "metadata": {},
   "source": [
    "ACKNOWLEDGEMENTS:\n",
    "-----------------\n",
    "The authors thank Pawel Lytaev and colleagues from the University of Kassel. Support from the SenergyNets project (XXXXX, No. XXXXXX) is gratefully acknowledged. \\\n",
    "#TODO: DOPOLNI ZGORNJI TEKST"
   ]
  }
 ],
 "metadata": {
  "kernelspec": {
   "display_name": "Python 3 (ipykernel)",
   "language": "python",
   "name": "python3"
  },
  "language_info": {
   "codemirror_mode": {
    "name": "ipython",
    "version": 3
   },
   "file_extension": ".py",
   "mimetype": "text/x-python",
   "name": "python",
   "nbconvert_exporter": "python",
   "pygments_lexer": "ipython3",
   "version": "3.12.2"
  }
 },
 "nbformat": 4,
 "nbformat_minor": 5
}
