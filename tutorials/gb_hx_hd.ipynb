{
 "cells": [
  {
   "cell_type": "markdown",
   "id": "1d72e27bb53ef49c",
   "metadata": {},
   "source": [
    "# PANDAPROSUMER EXAMPLE: GAS BOILER WITH HEAT EXCHANGER"
   ]
  },
  {
   "cell_type": "markdown",
   "id": "1a1460d5f91388be",
   "metadata": {},
   "source": [
    "## DESCRIPTION:\n",
    "This example describes how to create a single gas boiler element in pandaprosumer and connect it to a heat exchanger unit which is then connected to a single consumer (heat demand). The demand and source temperature data is read from an Excel file and stored in pandas dataframe. It includes the information about the power required by the consumer and source temperature at each time step.\n",
    "\n",
    "\n",
    "![title](img/gb_hx.png)"
   ]
  },
  {
   "cell_type": "markdown",
   "id": "500262c6f62f99c2",
   "metadata": {},
   "source": [
    "## Glossary:\n",
    "- Network: A configuration of connected energy generators and energy consumers\n",
    "- Element: A single energy generator or a single energy consumer\n",
    "- Controller: The logic of an element that defines its behaviour and its limits\n",
    "- Prosumer/Container: A pandaprosumer data structure that holds data related to elements and their controllers.\n",
    "- Const Profile Controller: The initial controller in the network that interacts with other element controllers; it also manages external data via time series.\n",
    "- Map / mapping: A connection between two controllers that specifies what information is exchanged between the corresponding elements."
   ]
  },
  {
   "cell_type": "markdown",
   "id": "455096554daf4b7c",
   "metadata": {},
   "source": [
    "## Network design philosophy:\n",
    "In pandaprosumer, a system's component is represented by a network element. Each element is assigned a container and its own element controller. A container is a structure that contains the component's configuration data (static input data), which can include information that will not change in the analysis such as size, nominal power, efficiency, etc. The behaviour of an element is governed by its controller. Connections between elements are defined in maps, which couple output parameters of one controller to the input parameter of a controller of a connected element. The network is managed by a controller called ConstProfileController. This controller is connected to all element controllers and manages dynamic input data from external sources (e.g. Excel file). For each time step it distributes the dynamic input data to the relevant element controllers."
   ]
  },
  {
   "cell_type": "markdown",
   "id": "c42b371621c904bf",
   "metadata": {},
   "source": [
    "# 1 - INPUT DATA:\n",
    "First let's import libraries required for data management."
   ]
  },
  {
   "cell_type": "code",
   "id": "142082ad59af444",
   "metadata": {
    "ExecuteTime": {
     "end_time": "2025-05-08T07:46:41.516533Z",
     "start_time": "2025-05-08T07:46:32.750403Z"
    }
   },
   "source": [
    "import pandas as pd\n",
    "from pandapower.timeseries.data_sources.frame_data import DFData"
   ],
   "outputs": [],
   "execution_count": 1
  },
  {
   "cell_type": "markdown",
   "id": "2d7c1bd4bd7fa9e9",
   "metadata": {},
   "source": [
    "Next we need to define properties of the heat exchanger which are treated as static input data, i.e. data (characteristics) that don't change during an analysis. In this case the properties for the heat exchanger are :\n",
    "\n",
    "- `t_1_in_nom_c`:  Primary nominal input temperature [C]\n",
    "- `t_1_out_nom_c`: Primary nominal output temperature [C]\n",
    "- `t_2_in_nom_c`:Secondary nominal input temperature [C]\n",
    "- `t_2_out_nom_c`:Secondary nominal output temperature [C]\n",
    "- `mdot_2_nom_kg_per_s`:Secondary nominal mass flow [kg/s]\n",
    "\n",
    "\n",
    "Next, we define the properties of the **gas boiler (gb)** :\n",
    "\n",
    "- `max_q_kw`:  Maximal heat power of the boiler [kW]\n",
    "- `name`: A label for the gas boiler.\n",
    "\n",
    " While these arguments are generally optional, in our specific case they are required in order to fully configure the heat exchanger. Other optional arguments are also available for more advanced configurations."
   ]
  },
  {
   "cell_type": "code",
   "id": "d09e6948fed57f3",
   "metadata": {
    "ExecuteTime": {
     "end_time": "2025-05-08T07:46:41.562066Z",
     "start_time": "2025-05-08T07:46:41.531540Z"
    }
   },
   "source": [
    "gb_params = {'max_q_kw': 500,\n",
    "             'name':'gas_boiler'}\n",
    "\n",
    "\n",
    "hx_params = {'t_1_in_nom_c': 72,\n",
    "             't_1_out_nom_c': 47,\n",
    "             't_2_in_nom_c': 32,\n",
    "             't_2_out_nom_c': 63,\n",
    "             'mdot_2_nom_kg_per_s': 2,\n",
    "             'name':'heat_exchanger'}\n",
    "\n",
    "\n",
    "hd_params = {\"name\": 'heat_consumer',\n",
    "             \"t_in_set_c\": 76.5,\n",
    "             \"t_out_set_c\": 20}"
   ],
   "outputs": [],
   "execution_count": 2
  },
  {
   "cell_type": "markdown",
   "id": "e2e94621f3d0f86d",
   "metadata": {},
   "source": [
    "We define the analysis time series."
   ]
  },
  {
   "cell_type": "code",
   "id": "3ecbe4b60147ccf6",
   "metadata": {
    "ExecuteTime": {
     "end_time": "2025-05-08T07:46:42.452464Z",
     "start_time": "2025-05-08T07:46:42.429933Z"
    }
   },
   "source": [
    "start = '2020-01-01 00:00:00'\n",
    "end = '2020-01-01 23:59:59'\n",
    "time_resolution_s = 900"
   ],
   "outputs": [],
   "execution_count": 3
  },
  {
   "cell_type": "markdown",
   "id": "ecd5c572e5fbb1b1",
   "metadata": {},
   "source": [
    "Now we import our demand data and transform it into an appropriate DFData object. All data of an individual element is stored in a dedicated DFData object."
   ]
  },
  {
   "cell_type": "code",
   "id": "a4022973615f828b",
   "metadata": {
    "ExecuteTime": {
     "end_time": "2025-05-08T07:46:42.625618Z",
     "start_time": "2025-05-08T07:46:42.491707Z"
    }
   },
   "source": [
    "import sys\n",
    "import os\n",
    "\n",
    "current_directory = os.getcwd()\n",
    "parent_directory = os.path.dirname(current_directory)\n",
    "sys.path.append(parent_directory)\n",
    "\n",
    "demand_data = pd.read_excel('data/hx_data.xlsx')\n",
    "\n",
    "dur = pd.date_range(start=start, end=end, freq='900s',tz='utc')\n",
    "demand_data.index = dur\n",
    "demand_input = DFData(demand_data)\n",
    "demand_input.df.head(10)\n"
   ],
   "outputs": [
    {
     "data": {
      "text/plain": [
       "                           demand_power\n",
       "2020-01-01 00:00:00+00:00             0\n",
       "2020-01-01 00:15:00+00:00             0\n",
       "2020-01-01 00:30:00+00:00             0\n",
       "2020-01-01 00:45:00+00:00             0\n",
       "2020-01-01 01:00:00+00:00             0\n",
       "2020-01-01 01:15:00+00:00           500\n",
       "2020-01-01 01:30:00+00:00           500\n",
       "2020-01-01 01:45:00+00:00           500\n",
       "2020-01-01 02:00:00+00:00           321\n",
       "2020-01-01 02:15:00+00:00           321"
      ],
      "text/html": [
       "<div>\n",
       "<style scoped>\n",
       "    .dataframe tbody tr th:only-of-type {\n",
       "        vertical-align: middle;\n",
       "    }\n",
       "\n",
       "    .dataframe tbody tr th {\n",
       "        vertical-align: top;\n",
       "    }\n",
       "\n",
       "    .dataframe thead th {\n",
       "        text-align: right;\n",
       "    }\n",
       "</style>\n",
       "<table border=\"1\" class=\"dataframe\">\n",
       "  <thead>\n",
       "    <tr style=\"text-align: right;\">\n",
       "      <th></th>\n",
       "      <th>demand_power</th>\n",
       "    </tr>\n",
       "  </thead>\n",
       "  <tbody>\n",
       "    <tr>\n",
       "      <th>2020-01-01 00:00:00+00:00</th>\n",
       "      <td>0</td>\n",
       "    </tr>\n",
       "    <tr>\n",
       "      <th>2020-01-01 00:15:00+00:00</th>\n",
       "      <td>0</td>\n",
       "    </tr>\n",
       "    <tr>\n",
       "      <th>2020-01-01 00:30:00+00:00</th>\n",
       "      <td>0</td>\n",
       "    </tr>\n",
       "    <tr>\n",
       "      <th>2020-01-01 00:45:00+00:00</th>\n",
       "      <td>0</td>\n",
       "    </tr>\n",
       "    <tr>\n",
       "      <th>2020-01-01 01:00:00+00:00</th>\n",
       "      <td>0</td>\n",
       "    </tr>\n",
       "    <tr>\n",
       "      <th>2020-01-01 01:15:00+00:00</th>\n",
       "      <td>500</td>\n",
       "    </tr>\n",
       "    <tr>\n",
       "      <th>2020-01-01 01:30:00+00:00</th>\n",
       "      <td>500</td>\n",
       "    </tr>\n",
       "    <tr>\n",
       "      <th>2020-01-01 01:45:00+00:00</th>\n",
       "      <td>500</td>\n",
       "    </tr>\n",
       "    <tr>\n",
       "      <th>2020-01-01 02:00:00+00:00</th>\n",
       "      <td>321</td>\n",
       "    </tr>\n",
       "    <tr>\n",
       "      <th>2020-01-01 02:15:00+00:00</th>\n",
       "      <td>321</td>\n",
       "    </tr>\n",
       "  </tbody>\n",
       "</table>\n",
       "</div>"
      ]
     },
     "execution_count": 4,
     "metadata": {},
     "output_type": "execute_result"
    }
   ],
   "execution_count": 4
  },
  {
   "cell_type": "markdown",
   "id": "20bf208b14962417",
   "metadata": {},
   "source": [
    "We can plot the evolution of the demand from the Excel file."
   ]
  },
  {
   "cell_type": "code",
   "id": "acc208ed485f2f86",
   "metadata": {
    "ExecuteTime": {
     "end_time": "2025-05-08T07:46:43.841146Z",
     "start_time": "2025-05-08T07:46:42.888222Z"
    }
   },
   "source": [
    "import matplotlib.pyplot as plt\n",
    "\n",
    "demand_input.df.plot(y='demand_power')\n",
    "plt.show()"
   ],
   "outputs": [
    {
     "data": {
      "text/plain": [
       "<Figure size 640x480 with 1 Axes>"
      ],
      "image/png": "[encoded data removed]"
     },
     "metadata": {},
     "output_type": "display_data"
    }
   ],
   "execution_count": 5
  },
  {
   "cell_type": "markdown",
   "id": "b6f84d92889144d6",
   "metadata": {},
   "source": [
    "# 2 - CREATING ELEMENTS OF THE NETWORK:\n",
    "In this example, the network is made up of three elements: a source, storage and a consumer. The source is represented by a single heat pump, storage is defined by heat stratified storage element and the consumer is modelled by a single heat demand element.\n",
    "\n",
    "We begin by defining an empty prosumer container object and then add the different elements and their respective controllers to it."
   ]
  },
  {
   "cell_type": "code",
   "id": "4bfed1f46eef0b4",
   "metadata": {
    "ExecuteTime": {
     "end_time": "2025-05-08T07:46:44.897701Z",
     "start_time": "2025-05-08T07:46:44.165781Z"
    }
   },
   "source": [
    "from pandaprosumer.create import create_empty_prosumer_container\n",
    "\n",
    "prosumer = create_empty_prosumer_container()"
   ],
   "outputs": [],
   "execution_count": 6
  },
  {
   "cell_type": "markdown",
   "id": "37f38b289e5ee8a6",
   "metadata": {},
   "source": [
    "Then we define the period of the analysis using input data about the analysis of time and also timezone and period name."
   ]
  },
  {
   "cell_type": "code",
   "id": "3bb1a6fd52d77654",
   "metadata": {
    "ExecuteTime": {
     "end_time": "2025-05-08T07:46:44.928101Z",
     "start_time": "2025-05-08T07:46:44.906547Z"
    }
   },
   "source": [
    "from pandaprosumer.create import create_period\n",
    "\n",
    "period_id = create_period(prosumer, time_resolution_s, start, end, 'utc', 'default')"
   ],
   "outputs": [],
   "execution_count": 7
  },
  {
   "cell_type": "markdown",
   "id": "94601c61127ef2e5",
   "metadata": {},
   "source": [
    "Now we can create the controllers connected to their respective containers and data. We also define the topology of the network by setting the elements' priority. In this example, the network has a linear configuration (the direction of energy flow goes in one direction), so only the order parameter is set:\n",
    "\n",
    "- The const profile controller is always the first element in the network and is the only one that reads data from external sources (order 0, level 0),\n",
    "- As the source, the gas boiler controller is the second element (order 0, level 1) in the network,\n",
    "- Third element represents the heat exchanger(order 1, level 1),\n",
    " -The final order is the demand (order 2, level 1).\n",
    "\n",
    "We begin by creating the Const Profile Controller."
   ]
  },
  {
   "cell_type": "code",
   "id": "a593b8cd32003abc",
   "metadata": {
    "ExecuteTime": {
     "end_time": "2025-05-08T07:46:47.343862Z",
     "start_time": "2025-05-08T07:46:44.964617Z"
    }
   },
   "source": [
    "from pandaprosumer.create_controlled import create_controlled_const_profile\n",
    "\n",
    "cp_input_columns = [\"demand_power\"]\n",
    "cp_result_columns = [\"qdemand_kw\"]\n",
    "cp_controller_index = create_controlled_const_profile(prosumer, cp_input_columns, cp_result_columns, demand_input, period, level=0, order=0)"
   ],
   "outputs": [
    {
     "ename": "NameError",
     "evalue": "name 'period' is not defined",
     "output_type": "error",
     "traceback": [
      "\u001B[1;31m---------------------------------------------------------------------------\u001B[0m",
      "\u001B[1;31mNameError\u001B[0m                                 Traceback (most recent call last)",
      "Cell \u001B[1;32mIn[8], line 5\u001B[0m\n\u001B[0;32m      3\u001B[0m cp_input_columns \u001B[38;5;241m=\u001B[39m [\u001B[38;5;124m\"\u001B[39m\u001B[38;5;124mdemand_power\u001B[39m\u001B[38;5;124m\"\u001B[39m]\n\u001B[0;32m      4\u001B[0m cp_result_columns \u001B[38;5;241m=\u001B[39m [\u001B[38;5;124m\"\u001B[39m\u001B[38;5;124mqdemand_kw\u001B[39m\u001B[38;5;124m\"\u001B[39m]\n\u001B[1;32m----> 5\u001B[0m cp_controller_index \u001B[38;5;241m=\u001B[39m create_controlled_const_profile(prosumer, cp_input_columns, cp_result_columns, demand_input, \u001B[43mperiod\u001B[49m, level\u001B[38;5;241m=\u001B[39m\u001B[38;5;241m0\u001B[39m, order\u001B[38;5;241m=\u001B[39m\u001B[38;5;241m0\u001B[39m)\n",
      "\u001B[1;31mNameError\u001B[0m: name 'period' is not defined"
     ]
    }
   ],
   "execution_count": 8
  },
  {
   "cell_type": "markdown",
   "id": "84444f62864b16ef",
   "metadata": {},
   "source": [
    "The heat exchanger, Gas Boiler and Heat demand controllers are now created"
   ]
  },
  {
   "cell_type": "code",
   "execution_count": 9,
   "id": "ff55fcc76370bf3b",
   "metadata": {
    "ExecuteTime": {
     "end_time": "2025-05-08T07:46:47.378868500Z",
     "start_time": "2025-04-16T06:46:41.329472Z"
    }
   },
   "outputs": [],
   "source": [
    "from pandaprosumer.create_controlled import create_controlled_heat_exchanger,create_controlled_gas_boiler,create_controlled_heat_demand\n",
    "\n",
    "gb_controller_index = create_controlled_gas_boiler(prosumer, period=period_id, level=1, order=0, **gb_params)\n",
    "hx_controller_index = create_controlled_heat_exchanger(prosumer, period=period_id, level=1, order=1, **hx_params)\n",
    "hd_controller_index = create_controlled_heat_demand(prosumer, period=period_id, level=1, order = 2,**hd_params)"
   ]
  },
  {
   "cell_type": "markdown",
   "id": "f23591df7fae5f0",
   "metadata": {},
   "source": [
    "We can check that the elements were connected added to the prosumer with the specified parameters"
   ]
  },
  {
   "cell_type": "code",
   "execution_count": 10,
   "id": "e06b44aa1db18a71",
   "metadata": {
    "ExecuteTime": {
     "end_time": "2025-05-08T07:46:47.397868400Z",
     "start_time": "2025-04-16T06:46:41.346870Z"
    }
   },
   "outputs": [
    {
     "data": {
      "text/html": [
       "<div>\n",
       "<style scoped>\n",
       "    .dataframe tbody tr th:only-of-type {\n",
       "        vertical-align: middle;\n",
       "    }\n",
       "\n",
       "    .dataframe tbody tr th {\n",
       "        vertical-align: top;\n",
       "    }\n",
       "\n",
       "    .dataframe thead th {\n",
       "        text-align: right;\n",
       "    }\n",
       "</style>\n",
       "<table border=\"1\" class=\"dataframe\">\n",
       "  <thead>\n",
       "    <tr style=\"text-align: right;\">\n",
       "      <th></th>\n",
       "      <th>name</th>\n",
       "      <th>t_1_in_nom_c</th>\n",
       "      <th>t_1_out_nom_c</th>\n",
       "      <th>t_2_in_nom_c</th>\n",
       "      <th>t_2_out_nom_c</th>\n",
       "      <th>mdot_2_nom_kg_per_s</th>\n",
       "      <th>delta_t_hot_default_c</th>\n",
       "      <th>max_q_kw</th>\n",
       "      <th>min_delta_t_1_c</th>\n",
       "      <th>primary_fluid</th>\n",
       "      <th>secondary_fluid</th>\n",
       "      <th>in_service</th>\n",
       "    </tr>\n",
       "  </thead>\n",
       "  <tbody>\n",
       "    <tr>\n",
       "      <th>0</th>\n",
       "      <td>heat_exchanger</td>\n",
       "      <td>72.0</td>\n",
       "      <td>47.0</td>\n",
       "      <td>32.0</td>\n",
       "      <td>63.0</td>\n",
       "      <td>2.0</td>\n",
       "      <td>5.0</td>\n",
       "      <td>NaN</td>\n",
       "      <td>5.0</td>\n",
       "      <td>water</td>\n",
       "      <td>water</td>\n",
       "      <td>True</td>\n",
       "    </tr>\n",
       "  </tbody>\n",
       "</table>\n",
       "</div>"
      ],
      "text/plain": [
       "             name  t_1_in_nom_c  t_1_out_nom_c  t_2_in_nom_c  t_2_out_nom_c  \\\n",
       "0  heat_exchanger          72.0           47.0          32.0           63.0   \n",
       "\n",
       "   mdot_2_nom_kg_per_s  delta_t_hot_default_c  max_q_kw  min_delta_t_1_c  \\\n",
       "0                  2.0                    5.0       NaN              5.0   \n",
       "\n",
       "  primary_fluid secondary_fluid  in_service  \n",
       "0         water           water        True  "
      ]
     },
     "execution_count": 10,
     "metadata": {},
     "output_type": "execute_result"
    }
   ],
   "source": [
    "prosumer.heat_exchanger"
   ]
  },
  {
   "cell_type": "code",
   "execution_count": 11,
   "id": "10e2840f555cc4fe",
   "metadata": {
    "ExecuteTime": {
     "end_time": "2025-05-08T07:46:47.411866100Z",
     "start_time": "2025-04-16T06:46:41.354995Z"
    }
   },
   "outputs": [
    {
     "data": {
      "text/html": [
       "<div>\n",
       "<style scoped>\n",
       "    .dataframe tbody tr th:only-of-type {\n",
       "        vertical-align: middle;\n",
       "    }\n",
       "\n",
       "    .dataframe tbody tr th {\n",
       "        vertical-align: top;\n",
       "    }\n",
       "\n",
       "    .dataframe thead th {\n",
       "        text-align: right;\n",
       "    }\n",
       "</style>\n",
       "<table border=\"1\" class=\"dataframe\">\n",
       "  <thead>\n",
       "    <tr style=\"text-align: right;\">\n",
       "      <th></th>\n",
       "      <th>name</th>\n",
       "      <th>max_q_kw</th>\n",
       "      <th>heating_value_kj_per_kg</th>\n",
       "      <th>efficiency_percent</th>\n",
       "      <th>in_service</th>\n",
       "    </tr>\n",
       "  </thead>\n",
       "  <tbody>\n",
       "    <tr>\n",
       "      <th>0</th>\n",
       "      <td>gas_boiler</td>\n",
       "      <td>500.0</td>\n",
       "      <td>50000.0</td>\n",
       "      <td>100.0</td>\n",
       "      <td>True</td>\n",
       "    </tr>\n",
       "  </tbody>\n",
       "</table>\n",
       "</div>"
      ],
      "text/plain": [
       "         name  max_q_kw  heating_value_kj_per_kg  efficiency_percent  \\\n",
       "0  gas_boiler     500.0                  50000.0               100.0   \n",
       "\n",
       "   in_service  \n",
       "0        True  "
      ]
     },
     "execution_count": 11,
     "metadata": {},
     "output_type": "execute_result"
    }
   ],
   "source": [
    "prosumer.gas_boiler"
   ]
  },
  {
   "cell_type": "code",
   "execution_count": 12,
   "id": "6e89d7d9842eb04c",
   "metadata": {
    "ExecuteTime": {
     "end_time": "2025-05-08T07:46:47.414867900Z",
     "start_time": "2025-04-16T06:46:41.361599Z"
    }
   },
   "outputs": [
    {
     "data": {
      "text/html": [
       "<div>\n",
       "<style scoped>\n",
       "    .dataframe tbody tr th:only-of-type {\n",
       "        vertical-align: middle;\n",
       "    }\n",
       "\n",
       "    .dataframe tbody tr th {\n",
       "        vertical-align: top;\n",
       "    }\n",
       "\n",
       "    .dataframe thead th {\n",
       "        text-align: right;\n",
       "    }\n",
       "</style>\n",
       "<table border=\"1\" class=\"dataframe\">\n",
       "  <thead>\n",
       "    <tr style=\"text-align: right;\">\n",
       "      <th></th>\n",
       "      <th>name</th>\n",
       "      <th>scaling</th>\n",
       "      <th>in_service</th>\n",
       "      <th>t_in_set_c</th>\n",
       "      <th>t_out_set_c</th>\n",
       "    </tr>\n",
       "  </thead>\n",
       "  <tbody>\n",
       "    <tr>\n",
       "      <th>0</th>\n",
       "      <td>heat_consumer</td>\n",
       "      <td>1.0</td>\n",
       "      <td>True</td>\n",
       "      <td>76.5</td>\n",
       "      <td>20.0</td>\n",
       "    </tr>\n",
       "  </tbody>\n",
       "</table>\n",
       "</div>"
      ],
      "text/plain": [
       "            name  scaling  in_service  t_in_set_c  t_out_set_c\n",
       "0  heat_consumer      1.0        True        76.5         20.0"
      ]
     },
     "execution_count": 12,
     "metadata": {},
     "output_type": "execute_result"
    }
   ],
   "source": [
    "prosumer.heat_demand"
   ]
  },
  {
   "cell_type": "markdown",
   "id": "8efe3429e7115fe8",
   "metadata": {},
   "source": [
    "Additionnaly, we can check that for each element, a controller has been added to the prosumer"
   ]
  },
  {
   "cell_type": "code",
   "execution_count": 13,
   "id": "9ecf4204c73aec04",
   "metadata": {
    "ExecuteTime": {
     "end_time": "2025-05-08T07:46:47.427869500Z",
     "start_time": "2025-04-16T06:46:41.368746Z"
    }
   },
   "outputs": [
    {
     "data": {
      "text/html": [
       "<div>\n",
       "<style scoped>\n",
       "    .dataframe tbody tr th:only-of-type {\n",
       "        vertical-align: middle;\n",
       "    }\n",
       "\n",
       "    .dataframe tbody tr th {\n",
       "        vertical-align: top;\n",
       "    }\n",
       "\n",
       "    .dataframe thead th {\n",
       "        text-align: right;\n",
       "    }\n",
       "</style>\n",
       "<table border=\"1\" class=\"dataframe\">\n",
       "  <thead>\n",
       "    <tr style=\"text-align: right;\">\n",
       "      <th></th>\n",
       "      <th>object</th>\n",
       "      <th>in_service</th>\n",
       "      <th>order</th>\n",
       "      <th>level</th>\n",
       "      <th>initial_run</th>\n",
       "      <th>recycle</th>\n",
       "    </tr>\n",
       "  </thead>\n",
       "  <tbody>\n",
       "    <tr>\n",
       "      <th>0</th>\n",
       "      <td>ConstProfileController</td>\n",
       "      <td>True</td>\n",
       "      <td>0</td>\n",
       "      <td>0</td>\n",
       "      <td>True</td>\n",
       "      <td>False</td>\n",
       "    </tr>\n",
       "    <tr>\n",
       "      <th>1</th>\n",
       "      <td>GasBoilerController</td>\n",
       "      <td>True</td>\n",
       "      <td>0</td>\n",
       "      <td>1</td>\n",
       "      <td>True</td>\n",
       "      <td>False</td>\n",
       "    </tr>\n",
       "    <tr>\n",
       "      <th>2</th>\n",
       "      <td>HeatExchangerController</td>\n",
       "      <td>True</td>\n",
       "      <td>1</td>\n",
       "      <td>1</td>\n",
       "      <td>True</td>\n",
       "      <td>False</td>\n",
       "    </tr>\n",
       "    <tr>\n",
       "      <th>3</th>\n",
       "      <td>HeatDemandController</td>\n",
       "      <td>True</td>\n",
       "      <td>2</td>\n",
       "      <td>1</td>\n",
       "      <td>True</td>\n",
       "      <td>False</td>\n",
       "    </tr>\n",
       "  </tbody>\n",
       "</table>\n",
       "</div>"
      ],
      "text/plain": [
       "                    object  in_service order level initial_run recycle\n",
       "0   ConstProfileController        True     0     0        True   False\n",
       "1      GasBoilerController        True     0     1        True   False\n",
       "2  HeatExchangerController        True     1     1        True   False\n",
       "3     HeatDemandController        True     2     1        True   False"
      ]
     },
     "execution_count": 13,
     "metadata": {},
     "output_type": "execute_result"
    }
   ],
   "source": [
    "prosumer.controller"
   ]
  },
  {
   "cell_type": "markdown",
   "id": "d91220b208da4390",
   "metadata": {},
   "source": [
    "# 4 - CREATING CONNECTIONS (MAPS) BETWEEN THE CONTROLLERS:\n",
    "network configuration\n",
    "\n",
    "For each controller we define how it is connected to other controllers."
   ]
  },
  {
   "cell_type": "code",
   "execution_count": 14,
   "id": "1f366d4a29935e57",
   "metadata": {
    "ExecuteTime": {
     "end_time": "2025-05-08T07:46:47.548954800Z",
     "start_time": "2025-04-16T06:46:41.375402Z"
    }
   },
   "outputs": [],
   "source": [
    "from pandaprosumer.mapping import GenericMapping\n",
    "from pandaprosumer.mapping import FluidMixMapping"
   ]
  },
  {
   "cell_type": "markdown",
   "id": "2033f2c1ab0b321",
   "metadata": {},
   "source": [
    "CONNECTION CONST PROFILE CONTROLLER ---> HEAT DEMAND:\n",
    "\n",
    "The connection from the Const Profile Controller to the Heat Demand Controller enables the heat demand to access the demand_power columns from the input time series dataset."
   ]
  },
  {
   "cell_type": "code",
   "execution_count": 15,
   "id": "990bb9e9be868f9e",
   "metadata": {
    "ExecuteTime": {
     "end_time": "2025-05-08T07:46:47.571955Z",
     "start_time": "2025-04-16T06:46:41.380648Z"
    }
   },
   "outputs": [
    {
     "data": {
      "text/plain": [
       "<pandaprosumer.mapping.generic.GenericMapping at 0x7f4e354b7cd0>"
      ]
     },
     "execution_count": 15,
     "metadata": {},
     "output_type": "execute_result"
    }
   ],
   "source": [
    "GenericMapping(prosumer,\n",
    "               initiator_id=cp_controller_index,\n",
    "               initiator_column=[\"qdemand_kw\"],\n",
    "               responder_id=hd_controller_index,\n",
    "               responder_column=[\"q_demand_kw\"],\n",
    "               order=0)"
   ]
  },
  {
   "cell_type": "markdown",
   "id": "e8a6874c57a84624",
   "metadata": {},
   "source": [
    "CONNECTION GAS BOILER ---> HEAT EXCHANGER:\n",
    "\n",
    "The connection between the Heat Exchanger Controller and the Gas Boiler Controller allows the heat exchanger to read the gas boiler’s output and use it as an input for its own calculations. Instead of a generic mapping, a fluid mix mapping is used—this is necessary because the parameters being exchanged, such as mass flow, are dynamic and not static."
   ]
  },
  {
   "cell_type": "code",
   "execution_count": 16,
   "id": "4bf23ec7c9365e08",
   "metadata": {
    "ExecuteTime": {
     "end_time": "2025-05-08T07:46:47.628961400Z",
     "start_time": "2025-04-16T06:46:41.386126Z"
    }
   },
   "outputs": [
    {
     "data": {
      "text/plain": [
       "<pandaprosumer.mapping.fluid_mix.FluidMixMapping at 0x7f4e354b7640>"
      ]
     },
     "execution_count": 16,
     "metadata": {},
     "output_type": "execute_result"
    }
   ],
   "source": [
    "FluidMixMapping(prosumer,\n",
    "                initiator_id=gb_controller_index,\n",
    "                responder_id=hx_controller_index,\n",
    "                order=0)"
   ]
  },
  {
   "cell_type": "markdown",
   "id": "9764df3308220896",
   "metadata": {},
   "source": [
    "HEAT EXCHANGER ---> HEAT DEMAND:\n",
    "\n",
    "A simple FluidMix mapping is used to mapped the secondary side of the heat exchanger to the heat demand"
   ]
  },
  {
   "cell_type": "code",
   "execution_count": 17,
   "id": "539a30a496f6c6c1",
   "metadata": {
    "ExecuteTime": {
     "end_time": "2025-05-08T07:46:47.646489700Z",
     "start_time": "2025-04-16T06:46:41.391492Z"
    }
   },
   "outputs": [
    {
     "data": {
      "text/plain": [
       "<pandaprosumer.mapping.fluid_mix.FluidMixMapping at 0x7f4e354b6bf0>"
      ]
     },
     "execution_count": 17,
     "metadata": {},
     "output_type": "execute_result"
    }
   ],
   "source": [
    "FluidMixMapping(prosumer,\n",
    "                initiator_id=hx_controller_index,\n",
    "                responder_id=hd_controller_index,\n",
    "                order=0)"
   ]
  },
  {
   "cell_type": "markdown",
   "id": "e4042aef59c2519c",
   "metadata": {},
   "source": [
    "5 - RUNNING THE ANALYSIS:\n",
    "We can now run the analysis with the input data defined above."
   ]
  },
  {
   "cell_type": "code",
   "execution_count": 28,
   "id": "dbe3275e195c01bd",
   "metadata": {
    "ExecuteTime": {
     "end_time": "2025-05-08T07:46:47.655485200Z",
     "start_time": "2025-04-16T06:48:59.088636Z"
    }
   },
   "outputs": [
    {
     "name": "stderr",
     "output_type": "stream",
     "text": [
      "100%|██████████| 96/96 [00:00<00:00, 105.82it/s]\n"
     ]
    }
   ],
   "source": [
    "from pandaprosumer.run_time_series import run_timeseries\n",
    "\n",
    "run_timeseries(prosumer, period_id, verbose=True)"
   ]
  },
  {
   "cell_type": "markdown",
   "id": "411100a194e1668c",
   "metadata": {},
   "source": [
    "# 6 - PRINTING AND PLOTTING RESULTS:\n",
    "All the results of the timeseries analysis are available in the prosumer.time_series dataframe"
   ]
  },
  {
   "cell_type": "code",
   "execution_count": 19,
   "id": "6e8380aeaa94cb8a",
   "metadata": {
    "ExecuteTime": {
     "end_time": "2025-05-08T07:46:47.657489200Z",
     "start_time": "2025-04-16T06:46:42.366738Z"
    }
   },
   "outputs": [
    {
     "data": {
      "text/html": [
       "<div>\n",
       "<style scoped>\n",
       "    .dataframe tbody tr th:only-of-type {\n",
       "        vertical-align: middle;\n",
       "    }\n",
       "\n",
       "    .dataframe tbody tr th {\n",
       "        vertical-align: top;\n",
       "    }\n",
       "\n",
       "    .dataframe thead th {\n",
       "        text-align: right;\n",
       "    }\n",
       "</style>\n",
       "<table border=\"1\" class=\"dataframe\">\n",
       "  <thead>\n",
       "    <tr style=\"text-align: right;\">\n",
       "      <th></th>\n",
       "      <th>name</th>\n",
       "      <th>element</th>\n",
       "      <th>element_index</th>\n",
       "      <th>period_index</th>\n",
       "      <th>data_source</th>\n",
       "    </tr>\n",
       "  </thead>\n",
       "  <tbody>\n",
       "    <tr>\n",
       "      <th>0</th>\n",
       "      <td>gas_boiler</td>\n",
       "      <td>gas_boiler</td>\n",
       "      <td>0.0</td>\n",
       "      <td>0.0</td>\n",
       "      <td>DFData</td>\n",
       "    </tr>\n",
       "    <tr>\n",
       "      <th>1</th>\n",
       "      <td>heat_exchanger</td>\n",
       "      <td>heat_exchanger</td>\n",
       "      <td>0.0</td>\n",
       "      <td>0.0</td>\n",
       "      <td>DFData</td>\n",
       "    </tr>\n",
       "    <tr>\n",
       "      <th>2</th>\n",
       "      <td>heat_consumer</td>\n",
       "      <td>heat_demand</td>\n",
       "      <td>0.0</td>\n",
       "      <td>0.0</td>\n",
       "      <td>DFData</td>\n",
       "    </tr>\n",
       "  </tbody>\n",
       "</table>\n",
       "</div>"
      ],
      "text/plain": [
       "             name         element  element_index  period_index data_source\n",
       "0      gas_boiler      gas_boiler            0.0           0.0      DFData\n",
       "1  heat_exchanger  heat_exchanger            0.0           0.0      DFData\n",
       "2   heat_consumer     heat_demand            0.0           0.0      DFData"
      ]
     },
     "execution_count": 19,
     "metadata": {},
     "output_type": "execute_result"
    }
   ],
   "source": [
    "prosumer.time_series"
   ]
  },
  {
   "cell_type": "markdown",
   "id": "fefb52cb61471d8e",
   "metadata": {},
   "source": [
    "Before plotting we have to look at the resulting dataframe to see which quantity (column) do we want to plot."
   ]
  },
  {
   "cell_type": "markdown",
   "id": "88ae499efa65c1af",
   "metadata": {},
   "source": [
    "Access the results of the gas boiler:"
   ]
  },
  {
   "cell_type": "code",
   "execution_count": 20,
   "id": "8a6be07def2b5b60",
   "metadata": {
    "ExecuteTime": {
     "end_time": "2025-05-08T07:46:47.667488900Z",
     "start_time": "2025-04-16T06:46:42.373448Z"
    }
   },
   "outputs": [
    {
     "data": {
      "text/html": [
       "<div>\n",
       "<style scoped>\n",
       "    .dataframe tbody tr th:only-of-type {\n",
       "        vertical-align: middle;\n",
       "    }\n",
       "\n",
       "    .dataframe tbody tr th {\n",
       "        vertical-align: top;\n",
       "    }\n",
       "\n",
       "    .dataframe thead th {\n",
       "        text-align: right;\n",
       "    }\n",
       "</style>\n",
       "<table border=\"1\" class=\"dataframe\">\n",
       "  <thead>\n",
       "    <tr style=\"text-align: right;\">\n",
       "      <th></th>\n",
       "      <th>q_kw</th>\n",
       "      <th>mdot_kg_per_s</th>\n",
       "      <th>t_in_c</th>\n",
       "      <th>t_out_c</th>\n",
       "      <th>mdot_gas_kg_per_s</th>\n",
       "    </tr>\n",
       "  </thead>\n",
       "  <tbody>\n",
       "    <tr>\n",
       "      <th>2020-01-01 00:00:00+00:00</th>\n",
       "      <td>0.000000</td>\n",
       "      <td>0.000000</td>\n",
       "      <td>25.000000</td>\n",
       "      <td>25.0</td>\n",
       "      <td>0.000000</td>\n",
       "    </tr>\n",
       "    <tr>\n",
       "      <th>2020-01-01 00:15:00+00:00</th>\n",
       "      <td>0.000000</td>\n",
       "      <td>0.000000</td>\n",
       "      <td>25.000000</td>\n",
       "      <td>25.0</td>\n",
       "      <td>0.000000</td>\n",
       "    </tr>\n",
       "    <tr>\n",
       "      <th>2020-01-01 00:30:00+00:00</th>\n",
       "      <td>0.000000</td>\n",
       "      <td>0.000000</td>\n",
       "      <td>25.000000</td>\n",
       "      <td>25.0</td>\n",
       "      <td>0.000000</td>\n",
       "    </tr>\n",
       "    <tr>\n",
       "      <th>2020-01-01 00:45:00+00:00</th>\n",
       "      <td>0.000000</td>\n",
       "      <td>0.000000</td>\n",
       "      <td>25.000000</td>\n",
       "      <td>25.0</td>\n",
       "      <td>0.000000</td>\n",
       "    </tr>\n",
       "    <tr>\n",
       "      <th>2020-01-01 01:00:00+00:00</th>\n",
       "      <td>0.000000</td>\n",
       "      <td>0.000000</td>\n",
       "      <td>25.000000</td>\n",
       "      <td>25.0</td>\n",
       "      <td>0.000000</td>\n",
       "    </tr>\n",
       "    <tr>\n",
       "      <th>2020-01-01 01:15:00+00:00</th>\n",
       "      <td>468.737452</td>\n",
       "      <td>22.340350</td>\n",
       "      <td>76.500000</td>\n",
       "      <td>81.5</td>\n",
       "      <td>0.009375</td>\n",
       "    </tr>\n",
       "    <tr>\n",
       "      <th>2020-01-01 01:30:00+00:00</th>\n",
       "      <td>468.737452</td>\n",
       "      <td>22.340350</td>\n",
       "      <td>76.500000</td>\n",
       "      <td>81.5</td>\n",
       "      <td>0.009375</td>\n",
       "    </tr>\n",
       "    <tr>\n",
       "      <th>2020-01-01 01:45:00+00:00</th>\n",
       "      <td>468.737452</td>\n",
       "      <td>22.340350</td>\n",
       "      <td>76.500000</td>\n",
       "      <td>81.5</td>\n",
       "      <td>0.009375</td>\n",
       "    </tr>\n",
       "    <tr>\n",
       "      <th>2020-01-01 02:00:00+00:00</th>\n",
       "      <td>319.941495</td>\n",
       "      <td>1.628354</td>\n",
       "      <td>34.544748</td>\n",
       "      <td>81.5</td>\n",
       "      <td>0.006399</td>\n",
       "    </tr>\n",
       "    <tr>\n",
       "      <th>2020-01-01 02:15:00+00:00</th>\n",
       "      <td>319.941495</td>\n",
       "      <td>1.628354</td>\n",
       "      <td>34.544748</td>\n",
       "      <td>81.5</td>\n",
       "      <td>0.006399</td>\n",
       "    </tr>\n",
       "  </tbody>\n",
       "</table>\n",
       "</div>"
      ],
      "text/plain": [
       "                                 q_kw  mdot_kg_per_s     t_in_c  t_out_c  \\\n",
       "2020-01-01 00:00:00+00:00    0.000000       0.000000  25.000000     25.0   \n",
       "2020-01-01 00:15:00+00:00    0.000000       0.000000  25.000000     25.0   \n",
       "2020-01-01 00:30:00+00:00    0.000000       0.000000  25.000000     25.0   \n",
       "2020-01-01 00:45:00+00:00    0.000000       0.000000  25.000000     25.0   \n",
       "2020-01-01 01:00:00+00:00    0.000000       0.000000  25.000000     25.0   \n",
       "2020-01-01 01:15:00+00:00  468.737452      22.340350  76.500000     81.5   \n",
       "2020-01-01 01:30:00+00:00  468.737452      22.340350  76.500000     81.5   \n",
       "2020-01-01 01:45:00+00:00  468.737452      22.340350  76.500000     81.5   \n",
       "2020-01-01 02:00:00+00:00  319.941495       1.628354  34.544748     81.5   \n",
       "2020-01-01 02:15:00+00:00  319.941495       1.628354  34.544748     81.5   \n",
       "\n",
       "                           mdot_gas_kg_per_s  \n",
       "2020-01-01 00:00:00+00:00           0.000000  \n",
       "2020-01-01 00:15:00+00:00           0.000000  \n",
       "2020-01-01 00:30:00+00:00           0.000000  \n",
       "2020-01-01 00:45:00+00:00           0.000000  \n",
       "2020-01-01 01:00:00+00:00           0.000000  \n",
       "2020-01-01 01:15:00+00:00           0.009375  \n",
       "2020-01-01 01:30:00+00:00           0.009375  \n",
       "2020-01-01 01:45:00+00:00           0.009375  \n",
       "2020-01-01 02:00:00+00:00           0.006399  \n",
       "2020-01-01 02:15:00+00:00           0.006399  "
      ]
     },
     "execution_count": 20,
     "metadata": {},
     "output_type": "execute_result"
    }
   ],
   "source": [
    "prosumer.time_series.data_source.loc[0].df.head(10)"
   ]
  },
  {
   "cell_type": "markdown",
   "id": "167f20a8ba01af3e",
   "metadata": {},
   "source": [
    "Access the results of the heat_exchanger:"
   ]
  },
  {
   "cell_type": "code",
   "execution_count": 21,
   "id": "84a808d497a82f2c",
   "metadata": {
    "ExecuteTime": {
     "end_time": "2025-05-08T07:46:47.671487Z",
     "start_time": "2025-04-16T06:46:42.384019Z"
    }
   },
   "outputs": [
    {
     "data": {
      "text/html": [
       "<div>\n",
       "<style scoped>\n",
       "    .dataframe tbody tr th:only-of-type {\n",
       "        vertical-align: middle;\n",
       "    }\n",
       "\n",
       "    .dataframe tbody tr th {\n",
       "        vertical-align: top;\n",
       "    }\n",
       "\n",
       "    .dataframe thead th {\n",
       "        text-align: right;\n",
       "    }\n",
       "</style>\n",
       "<table border=\"1\" class=\"dataframe\">\n",
       "  <thead>\n",
       "    <tr style=\"text-align: right;\">\n",
       "      <th></th>\n",
       "      <th>mdot_1_kg_per_s</th>\n",
       "      <th>t_1_in_c</th>\n",
       "      <th>t_1_out_c</th>\n",
       "      <th>mdot_2_kg_per_s</th>\n",
       "      <th>t_2_in_c</th>\n",
       "      <th>t_2_out_c</th>\n",
       "    </tr>\n",
       "  </thead>\n",
       "  <tbody>\n",
       "    <tr>\n",
       "      <th>2020-01-01 00:00:00+00:00</th>\n",
       "      <td>0.000000</td>\n",
       "      <td>25.0</td>\n",
       "      <td>25.000000</td>\n",
       "      <td>0.000000</td>\n",
       "      <td>20.0</td>\n",
       "      <td>20.0</td>\n",
       "    </tr>\n",
       "    <tr>\n",
       "      <th>2020-01-01 00:15:00+00:00</th>\n",
       "      <td>0.000000</td>\n",
       "      <td>25.0</td>\n",
       "      <td>25.000000</td>\n",
       "      <td>0.000000</td>\n",
       "      <td>20.0</td>\n",
       "      <td>20.0</td>\n",
       "    </tr>\n",
       "    <tr>\n",
       "      <th>2020-01-01 00:30:00+00:00</th>\n",
       "      <td>0.000000</td>\n",
       "      <td>25.0</td>\n",
       "      <td>25.000000</td>\n",
       "      <td>0.000000</td>\n",
       "      <td>20.0</td>\n",
       "      <td>20.0</td>\n",
       "    </tr>\n",
       "    <tr>\n",
       "      <th>2020-01-01 00:45:00+00:00</th>\n",
       "      <td>0.000000</td>\n",
       "      <td>25.0</td>\n",
       "      <td>25.000000</td>\n",
       "      <td>0.000000</td>\n",
       "      <td>20.0</td>\n",
       "      <td>20.0</td>\n",
       "    </tr>\n",
       "    <tr>\n",
       "      <th>2020-01-01 01:00:00+00:00</th>\n",
       "      <td>0.000000</td>\n",
       "      <td>25.0</td>\n",
       "      <td>25.000000</td>\n",
       "      <td>0.000000</td>\n",
       "      <td>20.0</td>\n",
       "      <td>20.0</td>\n",
       "    </tr>\n",
       "    <tr>\n",
       "      <th>2020-01-01 01:15:00+00:00</th>\n",
       "      <td>22.340350</td>\n",
       "      <td>81.5</td>\n",
       "      <td>76.500000</td>\n",
       "      <td>1.984178</td>\n",
       "      <td>20.0</td>\n",
       "      <td>76.5</td>\n",
       "    </tr>\n",
       "    <tr>\n",
       "      <th>2020-01-01 01:30:00+00:00</th>\n",
       "      <td>22.340350</td>\n",
       "      <td>81.5</td>\n",
       "      <td>76.500000</td>\n",
       "      <td>1.984178</td>\n",
       "      <td>20.0</td>\n",
       "      <td>76.5</td>\n",
       "    </tr>\n",
       "    <tr>\n",
       "      <th>2020-01-01 01:45:00+00:00</th>\n",
       "      <td>22.340350</td>\n",
       "      <td>81.5</td>\n",
       "      <td>76.500000</td>\n",
       "      <td>1.984178</td>\n",
       "      <td>20.0</td>\n",
       "      <td>76.5</td>\n",
       "    </tr>\n",
       "    <tr>\n",
       "      <th>2020-01-01 02:00:00+00:00</th>\n",
       "      <td>1.628354</td>\n",
       "      <td>81.5</td>\n",
       "      <td>34.544748</td>\n",
       "      <td>1.358802</td>\n",
       "      <td>20.0</td>\n",
       "      <td>76.5</td>\n",
       "    </tr>\n",
       "    <tr>\n",
       "      <th>2020-01-01 02:15:00+00:00</th>\n",
       "      <td>1.628354</td>\n",
       "      <td>81.5</td>\n",
       "      <td>34.544748</td>\n",
       "      <td>1.358802</td>\n",
       "      <td>20.0</td>\n",
       "      <td>76.5</td>\n",
       "    </tr>\n",
       "  </tbody>\n",
       "</table>\n",
       "</div>"
      ],
      "text/plain": [
       "                           mdot_1_kg_per_s  t_1_in_c  t_1_out_c  \\\n",
       "2020-01-01 00:00:00+00:00         0.000000      25.0  25.000000   \n",
       "2020-01-01 00:15:00+00:00         0.000000      25.0  25.000000   \n",
       "2020-01-01 00:30:00+00:00         0.000000      25.0  25.000000   \n",
       "2020-01-01 00:45:00+00:00         0.000000      25.0  25.000000   \n",
       "2020-01-01 01:00:00+00:00         0.000000      25.0  25.000000   \n",
       "2020-01-01 01:15:00+00:00        22.340350      81.5  76.500000   \n",
       "2020-01-01 01:30:00+00:00        22.340350      81.5  76.500000   \n",
       "2020-01-01 01:45:00+00:00        22.340350      81.5  76.500000   \n",
       "2020-01-01 02:00:00+00:00         1.628354      81.5  34.544748   \n",
       "2020-01-01 02:15:00+00:00         1.628354      81.5  34.544748   \n",
       "\n",
       "                           mdot_2_kg_per_s  t_2_in_c  t_2_out_c  \n",
       "2020-01-01 00:00:00+00:00         0.000000      20.0       20.0  \n",
       "2020-01-01 00:15:00+00:00         0.000000      20.0       20.0  \n",
       "2020-01-01 00:30:00+00:00         0.000000      20.0       20.0  \n",
       "2020-01-01 00:45:00+00:00         0.000000      20.0       20.0  \n",
       "2020-01-01 01:00:00+00:00         0.000000      20.0       20.0  \n",
       "2020-01-01 01:15:00+00:00         1.984178      20.0       76.5  \n",
       "2020-01-01 01:30:00+00:00         1.984178      20.0       76.5  \n",
       "2020-01-01 01:45:00+00:00         1.984178      20.0       76.5  \n",
       "2020-01-01 02:00:00+00:00         1.358802      20.0       76.5  \n",
       "2020-01-01 02:15:00+00:00         1.358802      20.0       76.5  "
      ]
     },
     "execution_count": 21,
     "metadata": {},
     "output_type": "execute_result"
    }
   ],
   "source": [
    "prosumer.time_series.data_source.loc[1].df.head(10)"
   ]
  },
  {
   "cell_type": "markdown",
   "id": "c148fb4c8f3cdede",
   "metadata": {},
   "source": [
    "Access the results of the heat demand:"
   ]
  },
  {
   "cell_type": "code",
   "execution_count": 22,
   "id": "9327c18a9a4e5401",
   "metadata": {
    "ExecuteTime": {
     "end_time": "2025-05-08T07:46:47.681490400Z",
     "start_time": "2025-04-16T06:46:42.392172Z"
    }
   },
   "outputs": [
    {
     "data": {
      "text/html": [
       "<div>\n",
       "<style scoped>\n",
       "    .dataframe tbody tr th:only-of-type {\n",
       "        vertical-align: middle;\n",
       "    }\n",
       "\n",
       "    .dataframe tbody tr th {\n",
       "        vertical-align: top;\n",
       "    }\n",
       "\n",
       "    .dataframe thead th {\n",
       "        text-align: right;\n",
       "    }\n",
       "</style>\n",
       "<table border=\"1\" class=\"dataframe\">\n",
       "  <thead>\n",
       "    <tr style=\"text-align: right;\">\n",
       "      <th></th>\n",
       "      <th>q_received_kw</th>\n",
       "      <th>q_uncovered_kw</th>\n",
       "      <th>mdot_kg_per_s</th>\n",
       "      <th>t_in_c</th>\n",
       "      <th>t_out_c</th>\n",
       "    </tr>\n",
       "  </thead>\n",
       "  <tbody>\n",
       "    <tr>\n",
       "      <th>2020-01-01 00:00:00+00:00</th>\n",
       "      <td>0.000000</td>\n",
       "      <td>0.000000e+00</td>\n",
       "      <td>0.000000</td>\n",
       "      <td>20.0</td>\n",
       "      <td>20.0</td>\n",
       "    </tr>\n",
       "    <tr>\n",
       "      <th>2020-01-01 00:15:00+00:00</th>\n",
       "      <td>0.000000</td>\n",
       "      <td>0.000000e+00</td>\n",
       "      <td>0.000000</td>\n",
       "      <td>20.0</td>\n",
       "      <td>20.0</td>\n",
       "    </tr>\n",
       "    <tr>\n",
       "      <th>2020-01-01 00:30:00+00:00</th>\n",
       "      <td>0.000000</td>\n",
       "      <td>0.000000e+00</td>\n",
       "      <td>0.000000</td>\n",
       "      <td>20.0</td>\n",
       "      <td>20.0</td>\n",
       "    </tr>\n",
       "    <tr>\n",
       "      <th>2020-01-01 00:45:00+00:00</th>\n",
       "      <td>0.000000</td>\n",
       "      <td>0.000000e+00</td>\n",
       "      <td>0.000000</td>\n",
       "      <td>20.0</td>\n",
       "      <td>20.0</td>\n",
       "    </tr>\n",
       "    <tr>\n",
       "      <th>2020-01-01 01:00:00+00:00</th>\n",
       "      <td>0.000000</td>\n",
       "      <td>0.000000e+00</td>\n",
       "      <td>0.000000</td>\n",
       "      <td>20.0</td>\n",
       "      <td>20.0</td>\n",
       "    </tr>\n",
       "    <tr>\n",
       "      <th>2020-01-01 01:15:00+00:00</th>\n",
       "      <td>468.737452</td>\n",
       "      <td>3.126255e+01</td>\n",
       "      <td>1.984178</td>\n",
       "      <td>76.5</td>\n",
       "      <td>20.0</td>\n",
       "    </tr>\n",
       "    <tr>\n",
       "      <th>2020-01-01 01:30:00+00:00</th>\n",
       "      <td>468.737452</td>\n",
       "      <td>3.126255e+01</td>\n",
       "      <td>1.984178</td>\n",
       "      <td>76.5</td>\n",
       "      <td>20.0</td>\n",
       "    </tr>\n",
       "    <tr>\n",
       "      <th>2020-01-01 01:45:00+00:00</th>\n",
       "      <td>468.737452</td>\n",
       "      <td>3.126255e+01</td>\n",
       "      <td>1.984178</td>\n",
       "      <td>76.5</td>\n",
       "      <td>20.0</td>\n",
       "    </tr>\n",
       "    <tr>\n",
       "      <th>2020-01-01 02:00:00+00:00</th>\n",
       "      <td>321.000000</td>\n",
       "      <td>5.684342e-14</td>\n",
       "      <td>1.358802</td>\n",
       "      <td>76.5</td>\n",
       "      <td>20.0</td>\n",
       "    </tr>\n",
       "    <tr>\n",
       "      <th>2020-01-01 02:15:00+00:00</th>\n",
       "      <td>321.000000</td>\n",
       "      <td>5.684342e-14</td>\n",
       "      <td>1.358802</td>\n",
       "      <td>76.5</td>\n",
       "      <td>20.0</td>\n",
       "    </tr>\n",
       "  </tbody>\n",
       "</table>\n",
       "</div>"
      ],
      "text/plain": [
       "                           q_received_kw  q_uncovered_kw  mdot_kg_per_s  \\\n",
       "2020-01-01 00:00:00+00:00       0.000000    0.000000e+00       0.000000   \n",
       "2020-01-01 00:15:00+00:00       0.000000    0.000000e+00       0.000000   \n",
       "2020-01-01 00:30:00+00:00       0.000000    0.000000e+00       0.000000   \n",
       "2020-01-01 00:45:00+00:00       0.000000    0.000000e+00       0.000000   \n",
       "2020-01-01 01:00:00+00:00       0.000000    0.000000e+00       0.000000   \n",
       "2020-01-01 01:15:00+00:00     468.737452    3.126255e+01       1.984178   \n",
       "2020-01-01 01:30:00+00:00     468.737452    3.126255e+01       1.984178   \n",
       "2020-01-01 01:45:00+00:00     468.737452    3.126255e+01       1.984178   \n",
       "2020-01-01 02:00:00+00:00     321.000000    5.684342e-14       1.358802   \n",
       "2020-01-01 02:15:00+00:00     321.000000    5.684342e-14       1.358802   \n",
       "\n",
       "                           t_in_c  t_out_c  \n",
       "2020-01-01 00:00:00+00:00    20.0     20.0  \n",
       "2020-01-01 00:15:00+00:00    20.0     20.0  \n",
       "2020-01-01 00:30:00+00:00    20.0     20.0  \n",
       "2020-01-01 00:45:00+00:00    20.0     20.0  \n",
       "2020-01-01 01:00:00+00:00    20.0     20.0  \n",
       "2020-01-01 01:15:00+00:00    76.5     20.0  \n",
       "2020-01-01 01:30:00+00:00    76.5     20.0  \n",
       "2020-01-01 01:45:00+00:00    76.5     20.0  \n",
       "2020-01-01 02:00:00+00:00    76.5     20.0  \n",
       "2020-01-01 02:15:00+00:00    76.5     20.0  "
      ]
     },
     "execution_count": 22,
     "metadata": {},
     "output_type": "execute_result"
    }
   ],
   "source": [
    "prosumer.time_series.data_source.loc[2].df.head(10)"
   ]
  },
  {
   "cell_type": "markdown",
   "id": "6f54f746b893b80f",
   "metadata": {},
   "source": [
    "Alternatively, if the elements have unique names, we can change the indexing of the result dataframe to use the name of the elements as index and access the results more directly."
   ]
  },
  {
   "cell_type": "code",
   "execution_count": 23,
   "id": "11d3bf8be7c64318",
   "metadata": {
    "ExecuteTime": {
     "end_time": "2025-05-08T07:46:47.692488Z",
     "start_time": "2025-04-16T06:46:42.400813Z"
    }
   },
   "outputs": [],
   "source": [
    "res_df = prosumer.time_series.copy()\n",
    "res_df.set_index('name', inplace=True)"
   ]
  },
  {
   "cell_type": "code",
   "execution_count": 24,
   "id": "f57c5476dee422cd",
   "metadata": {
    "ExecuteTime": {
     "end_time": "2025-05-08T07:46:47.694486200Z",
     "start_time": "2025-04-16T06:46:42.404682Z"
    }
   },
   "outputs": [
    {
     "data": {
      "text/html": [
       "<div>\n",
       "<style scoped>\n",
       "    .dataframe tbody tr th:only-of-type {\n",
       "        vertical-align: middle;\n",
       "    }\n",
       "\n",
       "    .dataframe tbody tr th {\n",
       "        vertical-align: top;\n",
       "    }\n",
       "\n",
       "    .dataframe thead th {\n",
       "        text-align: right;\n",
       "    }\n",
       "</style>\n",
       "<table border=\"1\" class=\"dataframe\">\n",
       "  <thead>\n",
       "    <tr style=\"text-align: right;\">\n",
       "      <th></th>\n",
       "      <th>element</th>\n",
       "      <th>element_index</th>\n",
       "      <th>period_index</th>\n",
       "      <th>data_source</th>\n",
       "    </tr>\n",
       "    <tr>\n",
       "      <th>name</th>\n",
       "      <th></th>\n",
       "      <th></th>\n",
       "      <th></th>\n",
       "      <th></th>\n",
       "    </tr>\n",
       "  </thead>\n",
       "  <tbody>\n",
       "    <tr>\n",
       "      <th>gas_boiler</th>\n",
       "      <td>gas_boiler</td>\n",
       "      <td>0.0</td>\n",
       "      <td>0.0</td>\n",
       "      <td>DFData</td>\n",
       "    </tr>\n",
       "    <tr>\n",
       "      <th>heat_exchanger</th>\n",
       "      <td>heat_exchanger</td>\n",
       "      <td>0.0</td>\n",
       "      <td>0.0</td>\n",
       "      <td>DFData</td>\n",
       "    </tr>\n",
       "    <tr>\n",
       "      <th>heat_consumer</th>\n",
       "      <td>heat_demand</td>\n",
       "      <td>0.0</td>\n",
       "      <td>0.0</td>\n",
       "      <td>DFData</td>\n",
       "    </tr>\n",
       "  </tbody>\n",
       "</table>\n",
       "</div>"
      ],
      "text/plain": [
       "                       element  element_index  period_index data_source\n",
       "name                                                                   \n",
       "gas_boiler          gas_boiler            0.0           0.0      DFData\n",
       "heat_exchanger  heat_exchanger            0.0           0.0      DFData\n",
       "heat_consumer      heat_demand            0.0           0.0      DFData"
      ]
     },
     "execution_count": 24,
     "metadata": {},
     "output_type": "execute_result"
    }
   ],
   "source": [
    "res_df"
   ]
  },
  {
   "cell_type": "markdown",
   "id": "9fa48fa7ad1f87b4",
   "metadata": {},
   "source": [
    "The power delivered by the Gas Boiler follow the demand, but is limited by the maximal power of the boiler"
   ]
  },
  {
   "cell_type": "code",
   "execution_count": 31,
   "id": "7427331962b22bee",
   "metadata": {
    "ExecuteTime": {
     "end_time": "2025-05-08T07:46:47.702488800Z",
     "start_time": "2025-04-16T07:05:25.060191Z"
    }
   },
   "outputs": [
    {
     "data": {
      "image/png": "[encoded data removed]",
      "text/plain": [
       "<Figure size 640x480 with 1 Axes>"
      ]
     },
     "metadata": {},
     "output_type": "display_data"
    }
   ],
   "source": [
    "res_df.data_source.loc['gas_boiler'].df.q_kw.plot()\n",
    "plt.title(\"Gas Boiler produced heat\")\n",
    "plt.ylabel(\"Thermal power (kW)\")\n",
    "plt.show()"
   ]
  },
  {
   "cell_type": "markdown",
   "id": "939b90c8f3514828",
   "metadata": {},
   "source": [
    "The temperature at the primary side of the Heat Exchanger is reduced to reach the temperature required by the Heat Demand on the secondary side.\n",
    "During the timesteps with no demand, the exchanged power is null and the temperature is taken equal to the return temperature of the Heat Demand."
   ]
  },
  {
   "cell_type": "code",
   "execution_count": 29,
   "id": "771a497845cbbfec",
   "metadata": {
    "ExecuteTime": {
     "end_time": "2025-05-08T07:46:47.704488200Z",
     "start_time": "2025-04-16T06:54:10.442796Z"
    }
   },
   "outputs": [
    {
     "data": {
      "image/png": "[encoded data removed]",
      "text/plain": [
       "<Figure size 640x480 with 1 Axes>"
      ]
     },
     "metadata": {},
     "output_type": "display_data"
    }
   ],
   "source": [
    "res_df.data_source.loc['heat_exchanger'].df.t_1_in_c.plot()\n",
    "plt.title(\"Heat Exchanger primary inlet temperature\")\n",
    "plt.ylabel(\"Temperature (°C)\")\n",
    "plt.show()"
   ]
  },
  {
   "cell_type": "code",
   "execution_count": 30,
   "id": "a66f3271c18f433d",
   "metadata": {
    "ExecuteTime": {
     "end_time": "2025-05-08T07:46:47.705490500Z",
     "start_time": "2025-04-16T06:54:11.175530Z"
    }
   },
   "outputs": [
    {
     "data": {
      "image/png": "[encoded data removed]",
      "text/plain": [
       "<Figure size 640x480 with 1 Axes>"
      ]
     },
     "metadata": {},
     "output_type": "display_data"
    }
   ],
   "source": [
    "res_df.data_source.loc['heat_exchanger'].df.t_2_out_c.plot()\n",
    "plt.title(\"Heat Exchanger secondary outllet temperature\")\n",
    "plt.ylabel(\"Temperature (°C)\")\n",
    "plt.show()"
   ]
  },
  {
   "cell_type": "markdown",
   "id": "a89e2eba7063459d",
   "metadata": {},
   "source": [
    "The Heat Demand has a result column q_uncovered_kw, that contains the difference between the heat demand power and the actual power provided from the Heat Exchanger to the Heat Demand.\n",
    "As the power that can be produced by the Gas Boiler, and thus exchanged in the Heat Exchanger, is limited to max_q_kw = 500kW, their is some unmet demand during the timesteps with peak demand."
   ]
  },
  {
   "cell_type": "code",
   "execution_count": 32,
   "id": "b293182ebbcb9e9f",
   "metadata": {
    "ExecuteTime": {
     "end_time": "2025-05-08T07:46:47.706488800Z",
     "start_time": "2025-04-16T07:06:57.807262Z"
    }
   },
   "outputs": [
    {
     "data": {
      "image/png": "[encoded data removed]",
      "text/plain": [
       "<Figure size 640x480 with 1 Axes>"
      ]
     },
     "metadata": {},
     "output_type": "display_data"
    }
   ],
   "source": [
    "res_df.data_source.loc['heat_consumer'].df.q_uncovered_kw.plot()\n",
    "plt.title(\"Heat Consumer uncovered demand\")\n",
    "plt.ylabel(\"Thermal power (kW)\")\n",
    "plt.show()"
   ]
  }
 ],
 "metadata": {
  "kernelspec": {
   "display_name": "Python 3 (ipykernel)",
   "language": "python",
   "name": "python3"
  },
  "language_info": {
   "codemirror_mode": {
    "name": "ipython",
    "version": 3
   },
   "file_extension": ".py",
   "mimetype": "text/x-python",
   "name": "python",
   "nbconvert_exporter": "python",
   "pygments_lexer": "ipython3",
   "version": "3.11.11"
  }
 },
 "nbformat": 4,
 "nbformat_minor": 5
}
