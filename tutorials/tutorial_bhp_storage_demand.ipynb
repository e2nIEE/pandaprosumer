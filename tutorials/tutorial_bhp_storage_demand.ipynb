{
 "cells": [
  {
   "cell_type": "markdown",
   "id": "74f1659f-1f0d-4a8b-8893-31dd005b044d",
   "metadata": {},
   "source": [
    "# PANDAPROSUMER EXAMPLE: BOOSTER HEAT PUMP WITH STORAGE UNIT"
   ]
  },
  {
   "cell_type": "markdown",
   "id": "c96e2211-9185-47be-992b-988aad64753b",
   "metadata": {},
   "source": [
    "Example prepared by:\n",
    "--------------------\n",
    "    Izak Oberčkal Pluško, Marko Keber, Katja Klinar, Tine Seljak*, Andrej Kitanovski\n",
    "\n",
    "    Faculty of Mechanical Engineering, University of Ljubljana, Slovenia\n",
    "    \n",
    "    *Contact: tine.seljak@fs.uni-lj.si"
   ]
  },
  {
   "cell_type": "markdown",
   "id": "7ab8fbec-ee93-4b21-a546-312cf0be151d",
   "metadata": {},
   "source": [
    "DESCRIPTION:\n",
    "--------------------\n",
    "This example describes how to create a single booster heat pump element in the *pandaprosumer* software package and connect it to heat storage unit which is then connected to a single consumer. The user can choose pump's type, while the demand and source temperature data is read from an Excel file and stored in pandas dataframe. It includes the information about the power required by the consumer and source temperature at each time step. "
   ]
  },
  {
   "cell_type": "markdown",
   "id": "bfe663ee-4245-485d-a81c-b9a3ed3402e2",
   "metadata": {},
   "source": [
    "Glossary:\n",
    "---------\n",
    "- Network: a configuration of connected energy generators and energy consumers\n",
    "- Element: a single energy generator or a single energy consumer\n",
    "- Container: a pandaprosumer data structure that contains data of an individual element; each element must have its container \n",
    "- Controller: the logic of an element that defines its behaviour and its limits\n",
    "- General controller: the first controller in the network that interacts with controllers of all other elements; this controller also manages external data\n",
    "- Map / mapping: a connection between two elements; contains information about the what is exchanged between the two elements"
   ]
  },
  {
   "cell_type": "markdown",
   "id": "c3bb471e-653b-4cf3-9911-b0e4e996d364",
   "metadata": {},
   "source": [
    "Network design philosophy:\n",
    "--------------------------\n",
    "In pandaprosumer, a system's component is represented by a network element. Each element is assigned a *container* and its own *element controller*. A container is a structure that contains the component's configuration data (static input data), which can include information that will not change in the analysis such as size, nominal power, efficiency, etc. The behaviour of an element is governed by its *controller*. Connections between elements are defined in *maps*, which couple output parameters of one controller to the input parameter of a controller of a connected element. \n",
    "The network is managed by a *general controller* called *ConstProfileController*. This controller is connected to all element controllers and manages dynamic input data from external sources (e.g. Excel file). For each time step it distributes the dynamic input data to the relevant element controllers. "
   ]
  },
  {
   "cell_type": "markdown",
   "id": "555060c9-784e-43bd-8041-43638c4c8feb",
   "metadata": {},
   "source": [
    "CREATING A NETWORK:\n",
    "--------------------\n",
    "If we are not in pandaprosumer parent directory, we should add it to the path so that the program knows where to find the necessary functions:"
   ]
  },
  {
   "cell_type": "code",
   "execution_count": null,
   "id": "26de2d4c-4973-47a7-ac27-f0b46716fea9",
   "metadata": {},
   "outputs": [],
   "source": [
    "import sys\n",
    "import os\n",
    "\n",
    "current_directory = os.getcwd()\n",
    "parent_directory = os.path.dirname(current_directory)\n",
    "sys.path.append(parent_directory)"
   ]
  },
  {
   "cell_type": "markdown",
   "id": "6b144a89-514b-4ca5-b792-537294034d45",
   "metadata": {},
   "source": [
    "1 - INPUT DATA:\n",
    "---------------\n",
    "First let's import libraries required for data management."
   ]
  },
  {
   "cell_type": "code",
   "execution_count": null,
   "id": "154d41f4-9646-430d-b8d5-0c234fed0943",
   "metadata": {},
   "outputs": [],
   "source": [
    "import pandas as pd\n",
    "from pandapower.timeseries.data_sources.frame_data import DFData"
   ]
  },
  {
   "cell_type": "markdown",
   "id": "1cac6c9e-5af7-47d8-94de-eb460df9b90a",
   "metadata": {},
   "source": [
    "Next we need to define properties of the booster heat pump which are treated as static input data, i.e. data (characteristics) that don't change during an analysis. In this case it's just heat pump's type and arbitrary name. We also define property of the heat storage, that is it's capacity in kWh."
   ]
  },
  {
   "cell_type": "code",
   "execution_count": null,
   "id": "4fa80ec4-7d43-484a-9c02-47cb8a0da905",
   "metadata": {},
   "outputs": [],
   "source": [
    "hp_type = 'water-water1'\n",
    "hp_name = 'example_hp'\n",
    "\n",
    "q_capacity_kwh=100"
   ]
  },
  {
   "cell_type": "markdown",
   "id": "61bbe71a-4f72-40a2-8905-eb641045d11b",
   "metadata": {},
   "source": [
    "We define the analysis time series."
   ]
  },
  {
   "cell_type": "code",
   "execution_count": null,
   "id": "f4e0dc5b-56ca-4b2e-8b65-7b1f9583cfe9",
   "metadata": {},
   "outputs": [],
   "source": [
    "start = '2020-01-01 00:00:00'\n",
    "end = '2020-01-01 23:59:59'\n",
    "time_resolution = 900"
   ]
  },
  {
   "cell_type": "markdown",
   "id": "f9d4e750-572d-436d-855b-7e0de0083a01",
   "metadata": {},
   "source": [
    "Now we import our demand data and transform it into an appropriate DFData object. All data of an individual element is stored in a dedicated DFData object."
   ]
  },
  {
   "cell_type": "code",
   "execution_count": null,
   "id": "3eb7594b-b7c3-4a45-a412-361f4e5ab96c",
   "metadata": {},
   "outputs": [],
   "source": [
    "demand_data = pd.read_excel('example_data/test_hp_1.xlsx')\n",
    "print(demand_data.head())\n",
    "\n",
    "dur = pd.date_range(start=start, end=end, freq='15min', tz='utc')\n",
    "demand_data.index = dur\n",
    "demand_input = DFData(demand_data)"
   ]
  },
  {
   "cell_type": "markdown",
   "id": "c0e7dbe5-ef40-435b-abb6-3f3458e6f75b",
   "metadata": {},
   "source": [
    "2 - CREATING ELEMENTS OF THE NETWORK:\n",
    "--------------------------------------"
   ]
  },
  {
   "cell_type": "markdown",
   "id": "f7cd3988-7b79-45d7-a1c8-8b514cb947d4",
   "metadata": {},
   "source": [
    "In this example, the network is made up of three elements: a source, storage and a consumer. The source is represented by a single booster heat pump, storage is defined by heat storage element and the consumer is modelled by a single heat demand element."
   ]
  },
  {
   "cell_type": "markdown",
   "id": "46a17c54-f8eb-404f-a944-d56bd06510dc",
   "metadata": {},
   "source": [
    "![network configuration](figures/bhp_storage_cons_1.png)"
   ]
  },
  {
   "cell_type": "markdown",
   "id": "be290af0-e2df-403e-9fb3-937ccc7b22b2",
   "metadata": {},
   "source": [
    "2.1. ELEMENT 1 (SOURCE) ---> BOOSTER HEAT PUMP ELEMENT:"
   ]
  },
  {
   "cell_type": "markdown",
   "id": "953c2682-41ab-4b05-9e1a-934d1c66ce4c",
   "metadata": {},
   "source": [
    "First we define an empty prosumer container object which in practice can be anything. In pandaprosumer, each element of the network has its own container, which is later filled with data and results."
   ]
  },
  {
   "cell_type": "code",
   "execution_count": null,
   "id": "5ead548f-eae2-4e0f-a62a-85560e6bcb1d",
   "metadata": {},
   "outputs": [],
   "source": [
    "from pandaprosumer.create import create_empty_prosumer_container\n",
    "\n",
    "hp_prosumer = create_empty_prosumer_container()"
   ]
  },
  {
   "cell_type": "markdown",
   "id": "d6d12dd2-bcf3-43ff-bf44-2fa0dce4e2a5",
   "metadata": {},
   "source": [
    "Then we define the period of the analysis using input data about the analysis of time and also timezone and period name."
   ]
  },
  {
   "cell_type": "code",
   "execution_count": null,
   "id": "335440b5-6541-408f-8b90-d987eb13d520",
   "metadata": {},
   "outputs": [],
   "source": [
    "from pandaprosumer.create import create_period\n",
    "\n",
    "hp_period = create_period(hp_prosumer, time_resolution, start, end, 'utc', 'default')"
   ]
  },
  {
   "cell_type": "markdown",
   "id": "6f9b4506-a4ee-4da2-a839-ff3b7b4368c2",
   "metadata": {},
   "source": [
    "Now we fill the container created above (hp_prosumer). We pass into the function the empty prosumer container created above static input data and heat pump's type variable. Finally, the last static input data (name) is passed to the function."
   ]
  },
  {
   "cell_type": "code",
   "execution_count": null,
   "id": "7a431bd0-297b-4ad5-bef7-14d18d5c6e55",
   "metadata": {},
   "outputs": [],
   "source": [
    "from pandaprosumer.create import create_booster_heat_pump\n",
    "\n",
    "hp_index = create_booster_heat_pump(\n",
    "        hp_prosumer,\n",
    "        hp_type,\n",
    "        name=hp_name)"
   ]
  },
  {
   "cell_type": "markdown",
   "id": "09c180a9-c2c9-4660-93bd-911ca58b46ed",
   "metadata": {},
   "source": [
    "2.2 ELEMENT 2 (STORAGE) ---> STORAGE ELEMENT:"
   ]
  },
  {
   "cell_type": "markdown",
   "id": "6d3d543c-5f1e-4ea7-a673-f03c58af51d2",
   "metadata": {},
   "source": [
    "Then we create the second element in the network, an element that represents heat storage. Only parameter that we pass to it is its capacity."
   ]
  },
  {
   "cell_type": "code",
   "execution_count": null,
   "id": "a740acf8-575c-495d-86be-6fe615d2ef71",
   "metadata": {},
   "outputs": [],
   "source": [
    "from pandaprosumer.create import create_heat_storage\n",
    "\n",
    "heat_storage_index = create_heat_storage(\n",
    "    hp_prosumer,\n",
    "    q_capacity_kwh=q_capacity_kwh,\n",
    ")"
   ]
  },
  {
   "cell_type": "markdown",
   "id": "745900df-a312-4a5e-8160-ec4977015ebe",
   "metadata": {},
   "source": [
    "Finnaly we create the third element in the network, an element that represents the energy demand. In this case we have dynamic heat demand that is defined in the Excel file and is managed by the general controller. Scaling parameter scales the demand appropriately."
   ]
  },
  {
   "cell_type": "code",
   "execution_count": null,
   "id": "3603615b-fd6b-46da-819c-b4825d25f9eb",
   "metadata": {},
   "outputs": [],
   "source": [
    "from pandaprosumer.create import create_heat_demand\n",
    "\n",
    "heat_demand_index = create_heat_demand(hp_prosumer, scaling=1.0)"
   ]
  },
  {
   "cell_type": "markdown",
   "id": "b105d940-2af3-45dc-8143-dcaa875355d0",
   "metadata": {},
   "source": [
    "3 - CREATING CONTROLLERS OF THE ELEMENTS:\n",
    "------------------------------------------"
   ]
  },
  {
   "cell_type": "markdown",
   "id": "9f19efa8-de65-49c8-86a7-d501d2002f8c",
   "metadata": {},
   "source": [
    "![network configuration](figures/bhp_storage_cons_2.png)"
   ]
  },
  {
   "cell_type": "markdown",
   "id": "3be63ade-40c4-4035-9c8d-6bf62013122a",
   "metadata": {},
   "source": [
    "The first step in creating controllers is to define where each element controller gets the necessary data. "
   ]
  },
  {
   "cell_type": "markdown",
   "id": "594392f4-5ac5-4288-a542-7484eac5f166",
   "metadata": {},
   "source": [
    "3.1.1. GENERAL CONTROLLER DATA:"
   ]
  },
  {
   "cell_type": "markdown",
   "id": "3a539b8d-5836-445e-973f-bbe2dac0bceb",
   "metadata": {},
   "source": [
    "The general controller manages data from external sources. The input columns for this controller are the columns of the Excel file where dynamic input data is stored. The output columns are used later in the definitions of the mappings."
   ]
  },
  {
   "cell_type": "code",
   "execution_count": null,
   "id": "6328ac0d-af62-4b95-9d38-cc94b80ae26e",
   "metadata": {},
   "outputs": [],
   "source": [
    "from pandaprosumer.controller.data_model import ConstProfileControllerData\n",
    "\n",
    "const_controller_data = ConstProfileControllerData(\n",
    "    input_columns=['t_source_k', 'demand', 'mode'],\n",
    "    result_columns=['t_source_c', 'demand_c', 'mode_c'],\n",
    "    period_index=hp_period\n",
    ")"
   ]
  },
  {
   "cell_type": "markdown",
   "id": "86441f8b-ab26-435d-bee3-0657bb564b20",
   "metadata": {},
   "source": [
    "3.1.2. HEAT PUMP CONTROLLER DATA:"
   ]
  },
  {
   "cell_type": "markdown",
   "id": "5ba7d507-529e-42c7-b1d5-c44d4aff574c",
   "metadata": {},
   "source": [
    "In booster heap pump data controller object we add element index of the heat pump that was created when we defined heat pump and period index that was created when we defined period."
   ]
  },
  {
   "cell_type": "code",
   "execution_count": null,
   "id": "7de8f3e4-d463-437b-b5b6-20bc253366a7",
   "metadata": {},
   "outputs": [],
   "source": [
    "from pandaprosumer.controller.data_model import BoosterHeatPumpControllerData\n",
    "\n",
    "booster_heat_pump_controller_data = BoosterHeatPumpControllerData(\n",
    "    # element_name='booster_heat_pump',\n",
    "    element_index=[0],\n",
    "    period_index=hp_period\n",
    ")"
   ]
  },
  {
   "cell_type": "markdown",
   "id": "371cf541-0860-4d53-905e-c538065da385",
   "metadata": {},
   "source": [
    "3.1.3. HEAT STORAGE CONTROLLER DATA:"
   ]
  },
  {
   "cell_type": "markdown",
   "id": "273d460e-c6a9-44c5-b43a-bab181b4827f",
   "metadata": {},
   "source": [
    "In heat storage data controller object we add element index of the storage that was created when we defined storage and period index that was created when we defined period."
   ]
  },
  {
   "cell_type": "code",
   "execution_count": null,
   "id": "505dbbdf-68d2-45a4-9347-20c60bbb96ae",
   "metadata": {},
   "outputs": [],
   "source": [
    "from pandaprosumer.controller.data_model import HeatStorageControllerData\n",
    "\n",
    "heat_storage_controller_data = HeatStorageControllerData(\n",
    "    element_name='heat_storage',\n",
    "    element_index=[heat_storage_index],\n",
    "    period_index=hp_period\n",
    ")"
   ]
  },
  {
   "cell_type": "markdown",
   "id": "a511c161-a877-4660-b333-79a7e6b396e6",
   "metadata": {},
   "source": [
    "3.1.3. HEAT DEMAND (CONTROLLER) CONTROLLER DATA:"
   ]
  },
  {
   "cell_type": "markdown",
   "id": "463db861-0f0a-4961-8553-62bb7b387923",
   "metadata": {},
   "source": [
    "Like in heat pump we also add appropirate element index to heat demand data controller object that was created when heat demand was defined and again the period index."
   ]
  },
  {
   "cell_type": "code",
   "execution_count": null,
   "id": "4febbb56-bb62-4b6e-94c1-2f33bceb9ec6",
   "metadata": {},
   "outputs": [],
   "source": [
    "from pandaprosumer.controller.data_model.heat_demand import HeatDemandControllerData\n",
    "\n",
    "heat_demand_controller_data = HeatDemandControllerData(\n",
    "    element_name='heat_demand',\n",
    "    element_index=[0],\n",
    "    period_index=hp_period\n",
    ")"
   ]
  },
  {
   "cell_type": "markdown",
   "id": "47645854-ec4e-4fa3-bf1e-3adb91d6fa52",
   "metadata": {},
   "source": [
    "3.2. CREATING CONTROLLERS:"
   ]
  },
  {
   "cell_type": "markdown",
   "id": "d0f6f6a1-d597-4fce-9d70-14936ef4505b",
   "metadata": {},
   "source": [
    "Now we can create the controllers and connect them to their respective containers and data. We also define the topology of the network by setting the elements' priority. In this example, the network has a linear configuration (the direction of energy flow goes in one direction), so only the order parameter is set:\n",
    "- The *general controller* (ConstProfileController) is always the first element in the network and is the only one that reads data from external sources,\n",
    "- As the source, the heat pump controller is the second element (order 1) in the network,\n",
    "- Third element represents heat storage,\n",
    "- The final order is the demand. "
   ]
  },
  {
   "cell_type": "markdown",
   "id": "fc375761-1bc6-4282-8866-f530718324c4",
   "metadata": {},
   "source": [
    "3.2.1. GENERAL CONTROLLER:"
   ]
  },
  {
   "cell_type": "code",
   "execution_count": null,
   "id": "5140e0a9-9b8f-407c-9d05-9a2caff6c7a7",
   "metadata": {},
   "outputs": [],
   "source": [
    "from pandaprosumer.controller import ConstProfileController\n",
    "\n",
    "ConstProfileController(hp_prosumer,\n",
    "                           const_object=const_controller_data,\n",
    "                           df_data=demand_input,\n",
    "                           order=0,\n",
    "                           level=0);"
   ]
  },
  {
   "cell_type": "markdown",
   "id": "722d8c05-c191-4d60-b971-693155a660f0",
   "metadata": {},
   "source": [
    "3.2.2. HEAT PUMP CONTROLLER:"
   ]
  },
  {
   "cell_type": "code",
   "execution_count": null,
   "id": "15e6a659-56a0-4532-99c8-905fb3e1af9f",
   "metadata": {},
   "outputs": [],
   "source": [
    "from pandaprosumer.controller.models import BoosterHeatPumpController\n",
    "\n",
    "BoosterHeatPumpController(hp_prosumer,\n",
    "                               booster_heat_pump_controller_data,\n",
    "                               order=1,\n",
    "                               level=0);"
   ]
  },
  {
   "cell_type": "markdown",
   "id": "e9c1ed5d-c6af-46a6-9d49-8d78c919bdbd",
   "metadata": {},
   "source": [
    "3.2.3. HEAT STORAGE CONTROLLER:"
   ]
  },
  {
   "cell_type": "code",
   "execution_count": null,
   "id": "2d05ef79-65a5-4eff-9b24-41f6f62dcc57",
   "metadata": {},
   "outputs": [],
   "source": [
    "from pandaprosumer.controller.models import HeatStorageController\n",
    "\n",
    "HeatStorageController(hp_prosumer,\n",
    "                      heat_storage_controller_data,\n",
    "                      order=2,\n",
    "                      level=0);"
   ]
  },
  {
   "cell_type": "markdown",
   "id": "32333674-6f22-48f1-af7d-9c74ad0fd59f",
   "metadata": {},
   "source": [
    "3.2.4. HEAT DEMAND (CONSUMER) CONTROLLER:"
   ]
  },
  {
   "cell_type": "code",
   "execution_count": null,
   "id": "b11d0108-59b2-4685-b567-dc09d714558f",
   "metadata": {},
   "outputs": [],
   "source": [
    "from pandaprosumer.controller.models import HeatDemandController\n",
    "\n",
    "HeatDemandController(hp_prosumer,\n",
    "                     heat_demand_controller_data,\n",
    "                     order=3,\n",
    "                     level=0);"
   ]
  },
  {
   "cell_type": "markdown",
   "id": "4882b0bb-170c-463b-9655-af31a84dd84f",
   "metadata": {},
   "source": [
    "4 - CREATING CONNECTIONS (MAPS) BETWEEN THE CONTROLLERS:\n",
    "---------------------------------------------------------"
   ]
  },
  {
   "cell_type": "markdown",
   "id": "a768a994-5fe8-433d-856e-e814f0190329",
   "metadata": {},
   "source": [
    "![network configuration](figures/bhp_storage_cons_3.png)"
   ]
  },
  {
   "cell_type": "markdown",
   "id": "8702589e-3051-4d2d-9ed6-8b16ae4202b2",
   "metadata": {},
   "source": [
    "For each controller we define how it is connected to other controllers. The main parameter for the map in this case is energy flow: the output energy flow of one element is linked with the input energy flow of the connected element. "
   ]
  },
  {
   "cell_type": "code",
   "execution_count": null,
   "id": "2dd7280f-6111-4ddd-b68a-b91a5cf9bac0",
   "metadata": {},
   "outputs": [],
   "source": [
    "from pandaprosumer.mapping import GenericMapping"
   ]
  },
  {
   "cell_type": "markdown",
   "id": "4be3df46-7fc9-4f6e-a19c-06ead34893e4",
   "metadata": {},
   "source": [
    "4.1. CONNECTION GENERAL CONTROLLER ---> BOOSTER HEAT PUMP:"
   ]
  },
  {
   "cell_type": "markdown",
   "id": "c5e763d4-7f40-4c88-8667-8d4f51b796a8",
   "metadata": {},
   "source": [
    "The general controller instructs the booster heat pump what demand is expected from the consumer and source temperature at each time step."
   ]
  },
  {
   "cell_type": "code",
   "execution_count": null,
   "id": "1a24f9a7-6722-4ce0-a3ae-cb7cddd49804",
   "metadata": {},
   "outputs": [],
   "source": [
    "GenericMapping(hp_prosumer,\n",
    "                   initiator_id=0,\n",
    "                   initiator_column=\"t_source_c\",\n",
    "                   responder_id=1,\n",
    "                   responder_column=\"t_source_k\",\n",
    "                   order=0);\n",
    "GenericMapping(hp_prosumer,\n",
    "                   initiator_id=0,\n",
    "                   initiator_column=\"mode_c\",\n",
    "                   responder_id=1,\n",
    "                   responder_column=\"mode\",\n",
    "                   order=0);"
   ]
  },
  {
   "cell_type": "markdown",
   "id": "13551c4a-c9b6-40a3-9035-4ccda988dee4",
   "metadata": {},
   "source": [
    "4.2. CONNECTION BOOSTER HEAT PUMP ---> HEAT STORAGE:"
   ]
  },
  {
   "cell_type": "markdown",
   "id": "f51ad423-22c1-44d4-8409-5d797d06dad6",
   "metadata": {},
   "source": [
    "Heat storage controller instructs the bosteer heat pump controller how much heat to supply."
   ]
  },
  {
   "cell_type": "code",
   "execution_count": null,
   "id": "88464cbf-abc9-411b-a118-6ec09011d042",
   "metadata": {},
   "outputs": [],
   "source": [
    "GenericMapping(hp_prosumer,\n",
    "                   initiator_id=1,\n",
    "                   initiator_column=\"q_floor\",\n",
    "                   responder_id=2,\n",
    "                   responder_column=\"q_received_kw\",\n",
    "                   order=0);"
   ]
  },
  {
   "cell_type": "markdown",
   "id": "502572ef-f6d1-4128-80f0-e6f636fa2bb6",
   "metadata": {},
   "source": [
    "4.3 CONNECTION HEAT STORAGE ---> HEAT DEMAND (CONSUMER):"
   ]
  },
  {
   "cell_type": "markdown",
   "id": "531e5360-789b-40fd-b99b-36b748274f46",
   "metadata": {},
   "source": [
    "Heat demand controller instructs the heat storage controller how much heat to supply."
   ]
  },
  {
   "cell_type": "code",
   "execution_count": null,
   "id": "76d6191a-d086-4075-926c-830fd93fdd24",
   "metadata": {},
   "outputs": [],
   "source": [
    "GenericMapping(hp_prosumer,\n",
    "                   initiator_id=2,\n",
    "                   initiator_column=\"q_delivered_kw\",\n",
    "                   responder_id=3,\n",
    "                   responder_column=\"q_received_kw\",\n",
    "                   order=0);"
   ]
  },
  {
   "cell_type": "markdown",
   "id": "506ab5d0-6acf-4c7f-aa11-ffc0d314abf2",
   "metadata": {},
   "source": [
    "4.4. CONNECTION GENERAL CONTROLLER ---> HEAT DEMAND (CONSUMER):"
   ]
  },
  {
   "cell_type": "markdown",
   "id": "6a409c4a-9f7b-4475-a198-a3e60db1e99e",
   "metadata": {},
   "source": [
    "The general controller sends the demand controller information about the actual demand at each time step."
   ]
  },
  {
   "cell_type": "code",
   "execution_count": null,
   "id": "ff261f9c-c81d-4ba9-91f6-9b0b8fece3d8",
   "metadata": {},
   "outputs": [],
   "source": [
    "GenericMapping(hp_prosumer,\n",
    "                   initiator_id=0,\n",
    "                   initiator_column=\"demand_c\",\n",
    "                   responder_id=3,\n",
    "                   responder_column=\"q_demand_kw\",\n",
    "                   order=0);"
   ]
  },
  {
   "cell_type": "markdown",
   "id": "f1bfb408-1e87-4a91-9866-e9c829834d59",
   "metadata": {},
   "source": [
    "5 - RUNNING THE ANALYSIS:\n",
    "-----------------------"
   ]
  },
  {
   "cell_type": "markdown",
   "id": "32d66c3e-b8f9-4a6b-9c1c-d5cdb01ecec9",
   "metadata": {},
   "source": [
    "We can now run the analysis with the input data defined above. "
   ]
  },
  {
   "cell_type": "code",
   "execution_count": null,
   "id": "3f91644c-35f2-4345-ab03-d6c33a69432f",
   "metadata": {},
   "outputs": [],
   "source": [
    "from pandaprosumer.run_time_series import run_timeseries\n",
    "\n",
    "run_timeseries(hp_prosumer, hp_period)"
   ]
  },
  {
   "cell_type": "markdown",
   "id": "8ba74349-be1c-48ad-a64e-f42cc35493c5",
   "metadata": {},
   "source": [
    "6 - PRINTING AND PLOTTING RESULTS:\n",
    "----------------------------------"
   ]
  },
  {
   "cell_type": "markdown",
   "id": "91954bd2-cf9d-4422-be97-e7730486c2b6",
   "metadata": {},
   "source": [
    "First, we plot the evolution of the demand from the Excel file."
   ]
  },
  {
   "cell_type": "code",
   "execution_count": null,
   "id": "aac2d924-de5d-4352-b761-27c561ecaf37",
   "metadata": {},
   "outputs": [],
   "source": [
    "import matplotlib.pyplot as plt"
   ]
  },
  {
   "cell_type": "code",
   "execution_count": null,
   "id": "f7b1380d-ec0a-448d-99de-4783469841b0",
   "metadata": {},
   "outputs": [],
   "source": [
    "demand_data.plot(y='demand');\n",
    "plt.show()"
   ]
  },
  {
   "cell_type": "code",
   "execution_count": null,
   "id": "7bd922b9-3477-46dc-ac57-04b72314b354",
   "metadata": {},
   "outputs": [],
   "source": [
    "print(hp_prosumer.heat_demand)"
   ]
  },
  {
   "cell_type": "markdown",
   "id": "af22f008-0f50-4125-8f42-e8a34a5c3723",
   "metadata": {},
   "source": [
    "Then we list the availabel results for the heat pump element. Results are stored in the form of time series, which can be plotted on a graph. The *.time_series* command lists all input and output dataframes. "
   ]
  },
  {
   "cell_type": "code",
   "execution_count": null,
   "id": "bf911726-304e-4f99-b95c-c063311cd8a6",
   "metadata": {},
   "outputs": [],
   "source": [
    "print(hp_prosumer.time_series)"
   ]
  },
  {
   "cell_type": "markdown",
   "id": "4724b84d-962d-4207-83a8-6f03084b94d9",
   "metadata": {},
   "source": [
    "Here *.data_source* lists all available dataframes that we then specify with index in *.loc[]*."
   ]
  },
  {
   "cell_type": "code",
   "execution_count": null,
   "id": "855809ff-d05b-438d-b276-f4ac4ac5be04",
   "metadata": {},
   "outputs": [],
   "source": [
    "print(hp_prosumer.time_series.data_source)"
   ]
  },
  {
   "cell_type": "markdown",
   "id": "2cd37c3f-f1ff-41dc-8bdc-bc9d6e98ca07",
   "metadata": {},
   "source": [
    "Before plotting we have to look at the resulting dataframe to see which quantity (column) do we want to plot. Index can be an integer or the defined name of specific component you want to look at."
   ]
  },
  {
   "cell_type": "code",
   "execution_count": null,
   "id": "057c2d06-8c84-4b05-81d9-fb8ec976da7f",
   "metadata": {},
   "outputs": [],
   "source": [
    "print(hp_prosumer.time_series.data_source.loc[0].df)"
   ]
  },
  {
   "cell_type": "code",
   "execution_count": null,
   "id": "9e52a668-e548-4b97-936a-a53555cc8e8e",
   "metadata": {},
   "outputs": [],
   "source": [
    "res_df = hp_prosumer.time_series\n",
    "res_df.name[1] = 'example storage'\n",
    "storage_name = res_df.name[1]\n",
    "res_df.set_index('name', inplace=True)\n",
    "print(res_df.loc[hp_name].data_source.df)"
   ]
  },
  {
   "cell_type": "markdown",
   "id": "628ba1b2-2834-40d7-a9c6-7505348f92a7",
   "metadata": {},
   "source": [
    "Now we can plot the evolution of COP (floor) of booster heat pump."
   ]
  },
  {
   "cell_type": "code",
   "execution_count": null,
   "id": "a18deaa2-e262-48c1-beaf-7484dc1a8c2a",
   "metadata": {
    "scrolled": true
   },
   "outputs": [],
   "source": [
    "hp_prosumer.time_series.data_source.loc[hp_name].df.cop_floor.plot()\n",
    "plt.show()"
   ]
  },
  {
   "cell_type": "markdown",
   "id": "9cfc7e72-926a-4457-a279-dd138963205e",
   "metadata": {},
   "source": [
    "We can for example also plot the evolution of produced heat for floor heating."
   ]
  },
  {
   "cell_type": "code",
   "execution_count": null,
   "id": "fa1ec8ed-14f0-410a-8c53-24780824f4de",
   "metadata": {},
   "outputs": [],
   "source": [
    "hp_prosumer.time_series.data_source.loc[hp_name].df.q_floor.plot()\n",
    "plt.show()"
   ]
  },
  {
   "cell_type": "markdown",
   "id": "d9179004-c77b-4170-8de8-4112a698cdd6",
   "metadata": {},
   "source": [
    "Regarding heat storage, we can plot it's state of charge (SOC)"
   ]
  },
  {
   "cell_type": "code",
   "execution_count": null,
   "id": "07985868-f437-450f-aec4-5acb6e0344b8",
   "metadata": {},
   "outputs": [],
   "source": [
    "hp_prosumer.time_series.data_source.loc[storage_name].df.soc.plot()\n",
    "plt.show()"
   ]
  },
  {
   "cell_type": "markdown",
   "id": "9d1e4d6d-9257-4e4d-97e6-a9bd78259720",
   "metadata": {},
   "source": [
    "ACKNOWLEDGEMENTS:\n",
    "-----------------\n",
    "The authors thank Pawel Lytaev and colleagues from the University of Kassel. Support from the SenergyNets project (XXXXX, No. XXXXXX) is gratefully acknowledged. \\\n",
    "#TODO: DOPOLNI ZGORNJI TEKST"
   ]
  }
 ],
 "metadata": {
  "kernelspec": {
   "display_name": "Python 3 (ipykernel)",
   "language": "python",
   "name": "python3"
  },
  "language_info": {
   "codemirror_mode": {
    "name": "ipython",
    "version": 3
   },
   "file_extension": ".py",
   "mimetype": "text/x-python",
   "name": "python",
   "nbconvert_exporter": "python",
   "pygments_lexer": "ipython3",
   "version": "3.12.2"
  }
 },
 "nbformat": 4,
 "nbformat_minor": 5
}
