{
 "cells": [
  {
   "cell_type": "markdown",
   "id": "74f1659f-1f0d-4a8b-8893-31dd005b044d",
   "metadata": {},
   "source": [
    "<h1 style=\"line-height:2em;\">\n",
    "PANDAPROSUMER EXAMPLE:<br>\n",
    "BOOSTER HEAT PUMP (BHP) WITH A STORAGE UNIT\n",
    "</h1>"
   ]
  },
  {
   "cell_type": "markdown",
   "id": "c96e2211-9185-47be-992b-988aad64753b",
   "metadata": {},
   "source": [
    "Example prepared by:\n",
    "--------------------\n",
    "    Izak Oberčkal Pluško, Marko Keber, Katja Klinar, Tine Seljak*, Andrej Kitanovski\n",
    "\n",
    "    Faculty of Mechanical Engineering, University of Ljubljana, Slovenia\n",
    "    \n",
    "    *Contact: tine.seljak@fs.uni-lj.si"
   ]
  },
  {
   "cell_type": "markdown",
   "id": "7ab8fbec-ee93-4b21-a546-312cf0be151d",
   "metadata": {},
   "source": [
    "DESCRIPTION:\n",
    "--------------------\n",
    "This tutorial describes how to create a single booster BHP element in *pandaprosumer* and connect it to a heat storage element. The storage is connected to a single consumer. The user can choose the BHP's type, while the time-dependent data (mode and source temperature) is read from a an Excel file and stored in a pandas dataframe. The storage size is defined by its capacity."
   ]
  },
  {
   "cell_type": "markdown",
   "id": "b3144ebe-85e8-46df-a76f-5d91d2509299",
   "metadata": {},
   "source": [
    "![network](figures/bhp_storage_demand_1.png)"
   ]
  },
  {
   "cell_type": "markdown",
   "id": "bfe663ee-4245-485d-a81c-b9a3ed3402e2",
   "metadata": {},
   "source": [
    "Glossary:\n",
    "---------\n",
    "- Network: a configuration of connected energy generators and energy consumers\n",
    "- Element: a single energy generator or a single energy consumer\n",
    "- Container: a pandaprosumer data structure that contains data of an individual element; each element must have its container \n",
    "- Controller: the logic of an element that defines its behaviour and its limits\n",
    "- General controller: the first controller in the network that interacts with controllers of all other elements; this controller also manages external data\n",
    "- Map / mapping: a connection between two elements; contains information about the what is exchanged between the two elements"
   ]
  },
  {
   "cell_type": "markdown",
   "id": "c3bb471e-653b-4cf3-9911-b0e4e996d364",
   "metadata": {},
   "source": [
    "Network design philosophy:\n",
    "--------------------------\n",
    "In pandaprosumer, a system's component is represented by a network element. Each element is assigned a *container* and its own *element controller*. A container is a structure that contains the component's configuration data (static input data), which can include information that will not change in the analysis such as size, etc. The behaviour of an element is governed by its *controller*. Connections between elements are defined by *mappings*, which couple output parameters of one controller to the input parameter of a controller of a connected element. \n",
    "The network is managed by a *general controller* called *ConstProfileController*. This controller is connected to all element controllers and manages time-dependent input data from external sources (e.g. Excel file). For each time step it distributes the time-dependent input data to relevant element controllers. "
   ]
  },
  {
   "cell_type": "markdown",
   "id": "555060c9-784e-43bd-8041-43638c4c8feb",
   "metadata": {},
   "source": [
    "CREATING A NETWORK:\n",
    "--------------------"
   ]
  },
  {
   "cell_type": "markdown",
   "id": "b2cb7cb7-9065-49bf-9764-0b22d14c7fd3",
   "metadata": {},
   "source": [
    "If we are not in the pandaprosumer parent directory, we should add it to the path so that the program knows where to find the necessary functions:"
   ]
  },
  {
   "cell_type": "code",
   "id": "26de2d4c-4973-47a7-ac27-f0b46716fea9",
   "metadata": {
    "ExecuteTime": {
     "end_time": "2025-05-08T07:43:42.969419Z",
     "start_time": "2025-05-08T07:43:42.951729Z"
    }
   },
   "source": [
    "import sys\n",
    "import os\n",
    "\n",
    "current_directory = os.getcwd()\n",
    "parent_directory = os.path.dirname(current_directory)\n",
    "sys.path.append(parent_directory)"
   ],
   "outputs": [],
   "execution_count": 1
  },
  {
   "cell_type": "markdown",
   "id": "6b144a89-514b-4ca5-b792-537294034d45",
   "metadata": {},
   "source": [
    "1 - Input data:\n",
    "---------------"
   ]
  },
  {
   "cell_type": "markdown",
   "id": "84637d44-ed8e-489a-9eb3-fc24b6996736",
   "metadata": {},
   "source": [
    "First, let's import libraries required for data management."
   ]
  },
  {
   "cell_type": "code",
   "id": "154d41f4-9646-430d-b8d5-0c234fed0943",
   "metadata": {
    "ExecuteTime": {
     "end_time": "2025-05-08T07:43:45.857407Z",
     "start_time": "2025-05-08T07:43:42.975020Z"
    }
   },
   "source": [
    "import pandas as pd\n",
    "from pandapower.timeseries.data_sources.frame_data import DFData"
   ],
   "outputs": [],
   "execution_count": 2
  },
  {
   "cell_type": "markdown",
   "id": "1cac6c9e-5af7-47d8-94de-eb460df9b90a",
   "metadata": {},
   "source": [
    "Next we need to define the properties of the BHP, i.e. characteristics that don't change during an analysis. We choose the BHP type and assign it a name."
   ]
  },
  {
   "cell_type": "code",
   "id": "4fa80ec4-7d43-484a-9c02-47cb8a0da905",
   "metadata": {
    "ExecuteTime": {
     "end_time": "2025-05-08T07:43:46.217418Z",
     "start_time": "2025-05-08T07:43:46.204156Z"
    }
   },
   "source": [
    "bhp_type = 'water-water1'\n",
    "bhp_name = 'example_bhp'"
   ],
   "outputs": [],
   "execution_count": 3
  },
  {
   "cell_type": "markdown",
   "id": "3b79ff18-b890-4b5e-ab52-2173222711da",
   "metadata": {},
   "source": [
    "Because we are using an instance of a simple heat storage, we need only its capacity (unit: [kWh]) to define its size."
   ]
  },
  {
   "cell_type": "code",
   "id": "092253b5-e33a-462f-bdc8-5c0f551ab99c",
   "metadata": {
    "ExecuteTime": {
     "end_time": "2025-05-08T07:43:46.248674Z",
     "start_time": "2025-05-08T07:43:46.235420Z"
    }
   },
   "source": [
    "q_capacity_kwh=100"
   ],
   "outputs": [],
   "execution_count": 4
  },
  {
   "cell_type": "markdown",
   "id": "61bbe71a-4f72-40a2-8905-eb641045d11b",
   "metadata": {},
   "source": [
    "We define the period of the analysis by setting its start and end, which have the form \"YYYY-MM-DD HH:MM:SS\". The time resolution is given in [s]. "
   ]
  },
  {
   "cell_type": "code",
   "id": "f4e0dc5b-56ca-4b2e-8b65-7b1f9583cfe9",
   "metadata": {
    "ExecuteTime": {
     "end_time": "2025-05-08T07:43:46.280351Z",
     "start_time": "2025-05-08T07:43:46.266707Z"
    }
   },
   "source": [
    "start = '2020-01-01 00:00:00'\n",
    "end = '2020-01-01 23:59:59'\n",
    "time_resolution_s = 900        # 15 min\n",
    "frequency = '15min'"
   ],
   "outputs": [],
   "execution_count": 5
  },
  {
   "cell_type": "markdown",
   "id": "f9d4e750-572d-436d-855b-7e0de0083a01",
   "metadata": {},
   "source": [
    "Now we import our time-dependent data and transform it into an appropriate DFData object. DFData is a pandaprosumer object that stores all data of an individual element. The DFData object is limited by the duration of the analysis defined above."
   ]
  },
  {
   "cell_type": "code",
   "id": "3eb7594b-b7c3-4a45-a412-361f4e5ab96c",
   "metadata": {
    "ExecuteTime": {
     "end_time": "2025-05-08T07:43:46.341902Z",
     "start_time": "2025-05-08T07:43:46.298343Z"
    }
   },
   "source": [
    "time_series_data = pd.read_excel('data/input_bhp.xlsx')\n",
    "\n",
    "dur = pd.date_range(start=start, end=end, freq=frequency, tz='utc')\n",
    "time_series_data.index = dur\n",
    "time_series_input = DFData(time_series_data)\n",
    "\n",
    "print(time_series_data.head())"
   ],
   "outputs": [
    {
     "name": "stdout",
     "output_type": "stream",
     "text": [
      "                               time  mode  t_source_k  q_demand_kw\n",
      "2020-01-01 00:00:00+00:00  00:00:00     3         280            0\n",
      "2020-01-01 00:15:00+00:00  00:15:00     3         280            0\n",
      "2020-01-01 00:30:00+00:00  00:30:00     3         280            0\n",
      "2020-01-01 00:45:00+00:00  00:45:00     3         280            0\n",
      "2020-01-01 01:00:00+00:00  01:00:00     3         280            0\n"
     ]
    }
   ],
   "execution_count": 6
  },
  {
   "cell_type": "markdown",
   "id": "c0e7dbe5-ef40-435b-abb6-3f3458e6f75b",
   "metadata": {},
   "source": [
    "2 - Creating elements of the network:\n",
    "--------------------------------------"
   ]
  },
  {
   "cell_type": "markdown",
   "id": "f7cd3988-7b79-45d7-a1c8-8b514cb947d4",
   "metadata": {},
   "source": [
    "In this example, the network is made up of three elements: an energy source, a storage unit, and an energy consumer. The source is represented by a single BHP element, storage by a simple heat storage element, and the consumer is modelled by a single heat demand element."
   ]
  },
  {
   "cell_type": "markdown",
   "id": "46a17c54-f8eb-404f-a944-d56bd06510dc",
   "metadata": {},
   "source": [
    "![network configuration](figures/bhp_storage_demand_2.png)"
   ]
  },
  {
   "cell_type": "markdown",
   "id": "aaead423-e8b2-4df3-a8a7-bf5ff26e302c",
   "metadata": {},
   "source": [
    "First we define an empty prosumer *container* object. Each element of the network has its own container, which is later filled with data and results."
   ]
  },
  {
   "cell_type": "markdown",
   "id": "be290af0-e2df-403e-9fb3-937ccc7b22b2",
   "metadata": {},
   "source": [
    "2.1. ELEMENT 1 (SOURCE) ---> BOOSTER HEAT PUMP ELEMENT:"
   ]
  },
  {
   "cell_type": "code",
   "id": "5ead548f-eae2-4e0f-a62a-85560e6bcb1d",
   "metadata": {
    "ExecuteTime": {
     "end_time": "2025-05-08T07:43:46.667708Z",
     "start_time": "2025-05-08T07:43:46.362297Z"
    }
   },
   "source": [
    "from pandaprosumer.create import create_empty_prosumer_container\n",
    "\n",
    "bhp_prosumer = create_empty_prosumer_container()"
   ],
   "outputs": [],
   "execution_count": 7
  },
  {
   "cell_type": "markdown",
   "id": "d6d12dd2-bcf3-43ff-bf44-2fa0dce4e2a5",
   "metadata": {},
   "source": [
    "Then we define the period of the analysis using time data for the analysis given above in Section 1."
   ]
  },
  {
   "cell_type": "code",
   "id": "335440b5-6541-408f-8b90-d987eb13d520",
   "metadata": {
    "ExecuteTime": {
     "end_time": "2025-05-08T07:43:46.700090Z",
     "start_time": "2025-05-08T07:43:46.685177Z"
    }
   },
   "source": [
    "from pandaprosumer.create import create_period\n",
    "\n",
    "period = create_period(bhp_prosumer, time_resolution_s, start, end, 'utc', 'default')"
   ],
   "outputs": [],
   "execution_count": 8
  },
  {
   "cell_type": "markdown",
   "id": "d492dbc1-5747-4f82-a698-f1c2abd9b43b",
   "metadata": {},
   "source": [
    "2.1. General element:"
   ]
  },
  {
   "cell_type": "markdown",
   "id": "6f9b4506-a4ee-4da2-a839-ff3b7b4368c2",
   "metadata": {},
   "source": [
    "In a pandaprosumer network, the first element is a general controller (Const Profile controller). It reads time-dependent input data (input_params) and sends it to other elements of the network (output_params). The element's data is stored in the ConstProfileControllerData class. The controller (ConstProfileController) for this element is created with the create_controlled_const_profile function. At this point, we pass to the general controller element the previously created prosumer container, titles of data columns (input_params) in the input file (Excel file, in this case) and the coresponding names of output columns (output_params), the period of the analysis and the time-dependent data in the DFData object."
   ]
  },
  {
   "cell_type": "code",
   "id": "000e3100-c268-4b2b-b58a-879d988a0f14",
   "metadata": {
    "ExecuteTime": {
     "end_time": "2025-05-08T07:43:46.731362Z",
     "start_time": "2025-05-08T07:43:46.717605Z"
    }
   },
   "source": [
    "from pandaprosumer.create_controlled import create_controlled_const_profile\n",
    "\n",
    "input_params = ['mode', 't_source_k', 'q_demand_kw']\n",
    "result_params = ['mode_cp', 't_source_cp_k', 'q_demand_cp_kw']\n",
    "\n",
    "cp_index = create_controlled_const_profile(\n",
    "    bhp_prosumer, input_params, result_params, time_series_input, period)"
   ],
   "outputs": [],
   "execution_count": 9
  },
  {
   "cell_type": "markdown",
   "id": "d4289328-6dd8-4146-b406-d7d8bf1eb068",
   "metadata": {},
   "source": [
    "2.2. BHP element:"
   ]
  },
  {
   "cell_type": "markdown",
   "id": "825fc770-184d-4923-8f59-b5cec54b0b0a",
   "metadata": {},
   "source": [
    "We define the BHP element to which we pass the prosumer container and the data that defines the BHP instance, i.e. BHP type and its name."
   ]
  },
  {
   "cell_type": "code",
   "id": "7a431bd0-297b-4ad5-bef7-14d18d5c6e55",
   "metadata": {
    "ExecuteTime": {
     "end_time": "2025-05-08T07:43:46.761895Z",
     "start_time": "2025-05-08T07:43:46.748864Z"
    }
   },
   "source": [
    "from pandaprosumer.create_controlled import create_controlled_booster_heat_pump\n",
    "\n",
    "bhp_index = create_controlled_booster_heat_pump(bhp_prosumer, bhp_type, bhp_name,level=1,order=0)"
   ],
   "outputs": [],
   "execution_count": 10
  },
  {
   "cell_type": "markdown",
   "id": "e5db117b-dbf5-42ee-a9ca-d8ab973fb4a6",
   "metadata": {},
   "source": [
    "2.3. Simple heat storage element:"
   ]
  },
  {
   "cell_type": "markdown",
   "id": "bc5e41b0-3d8f-4139-bf3c-3a14c8ebfff7",
   "metadata": {},
   "source": [
    "Here we create second element in the network that represents heat storage."
   ]
  },
  {
   "cell_type": "code",
   "id": "a740acf8-575c-495d-86be-6fe615d2ef71",
   "metadata": {
    "ExecuteTime": {
     "end_time": "2025-05-08T07:43:46.793287Z",
     "start_time": "2025-05-08T07:43:46.779983Z"
    }
   },
   "source": [
    "from pandaprosumer.create_controlled import create_controlled_heat_storage\n",
    "\n",
    "heat_storage_index = create_controlled_heat_storage(bhp_prosumer, q_capacity_kwh,level=1,order=1)"
   ],
   "outputs": [],
   "execution_count": 11
  },
  {
   "cell_type": "markdown",
   "id": "3ffce0a6-732a-4ca6-9dfb-2a93879717c9",
   "metadata": {},
   "source": [
    "2.4. Heat demand element:"
   ]
  },
  {
   "cell_type": "markdown",
   "id": "745900df-a312-4a5e-8160-ec4977015ebe",
   "metadata": {},
   "source": [
    "Finally, we create the consumer, which is simulated with the heat demand element. We pass the prosumer container to it. The auxiliary scaling parameter allows us to easily adjust the demanded heat by simply scaling it."
   ]
  },
  {
   "cell_type": "code",
   "id": "3603615b-fd6b-46da-819c-b4825d25f9eb",
   "metadata": {
    "ExecuteTime": {
     "end_time": "2025-05-08T07:43:46.824841Z",
     "start_time": "2025-05-08T07:43:46.811249Z"
    }
   },
   "source": [
    "from pandaprosumer.create_controlled import create_controlled_heat_demand\n",
    "\n",
    "heat_demand_index = create_controlled_heat_demand(bhp_prosumer, scaling=1.0,level=1,order=2)"
   ],
   "outputs": [],
   "execution_count": 12
  },
  {
   "cell_type": "markdown",
   "id": "4882b0bb-170c-463b-9655-af31a84dd84f",
   "metadata": {},
   "source": [
    "3 - Creating connections (mappings) between controllers:\n",
    "---------------------------------------------------------"
   ]
  },
  {
   "cell_type": "markdown",
   "id": "a768a994-5fe8-433d-856e-e814f0190329",
   "metadata": {},
   "source": [
    "![mapping configuration](figures/bhp_storage_demand_3.png)"
   ]
  },
  {
   "cell_type": "markdown",
   "id": "23c27590-2392-4860-9518-e02e68687c87",
   "metadata": {},
   "source": [
    "For each controller we define how it is connected to other controllers. In this case we use *Generic Mapping*. The main parameter for the map is the flow of thermal energy (*q_floor*): the output energy flow of one element is linked with the input energy flow of the connected element.  "
   ]
  },
  {
   "cell_type": "code",
   "id": "2dd7280f-6111-4ddd-b68a-b91a5cf9bac0",
   "metadata": {
    "ExecuteTime": {
     "end_time": "2025-05-08T07:43:46.873286Z",
     "start_time": "2025-05-08T07:43:46.859495Z"
    }
   },
   "source": [
    "from pandaprosumer.mapping import GenericMapping"
   ],
   "outputs": [],
   "execution_count": 13
  },
  {
   "cell_type": "markdown",
   "id": "4be3df46-7fc9-4f6e-a19c-06ead34893e4",
   "metadata": {},
   "source": [
    "3.1. Connection GENERAL CONTROLLER ---> BHP:"
   ]
  },
  {
   "cell_type": "markdown",
   "id": "c5e763d4-7f40-4c88-8667-8d4f51b796a8",
   "metadata": {},
   "source": [
    "The general controller (*initiator_column*) instructs the BHP controller (*responder_column*) what value to use for *t_source_k* and *mode*. "
   ]
  },
  {
   "cell_type": "code",
   "id": "1a24f9a7-6722-4ce0-a3ae-cb7cddd49804",
   "metadata": {
    "ExecuteTime": {
     "end_time": "2025-05-08T07:43:46.919676Z",
     "start_time": "2025-05-08T07:43:46.907247Z"
    }
   },
   "source": [
    "GenericMapping(bhp_prosumer,\n",
    "                   initiator_id=cp_index,\n",
    "                   initiator_column=\"t_source_cp_k\",\n",
    "                   responder_id=bhp_index,\n",
    "                   responder_column=\"t_source_k\",\n",
    ");\n",
    "GenericMapping(bhp_prosumer,\n",
    "                   initiator_id=cp_index,\n",
    "                   initiator_column=\"mode_cp\",\n",
    "                   responder_id=bhp_index,\n",
    "                   responder_column=\"mode\",\n",
    ");"
   ],
   "outputs": [],
   "execution_count": 14
  },
  {
   "cell_type": "markdown",
   "id": "13551c4a-c9b6-40a3-9035-4ccda988dee4",
   "metadata": {},
   "source": [
    "3.2. Connection BHP ---> SIMPLE HEAT STORAGE:"
   ]
  },
  {
   "cell_type": "markdown",
   "id": "f51ad423-22c1-44d4-8409-5d797d06dad6",
   "metadata": {},
   "source": [
    "The BHP controller (*initiator_column*) informs the heat storage controller (*responder_column*) of how much thermal power (*p_floor*) it can supply at each time step. "
   ]
  },
  {
   "cell_type": "code",
   "id": "88464cbf-abc9-411b-a118-6ec09011d042",
   "metadata": {
    "ExecuteTime": {
     "end_time": "2025-05-08T07:43:46.950964Z",
     "start_time": "2025-05-08T07:43:46.937521Z"
    }
   },
   "source": [
    "GenericMapping(bhp_prosumer,\n",
    "                   initiator_id=bhp_index,\n",
    "                   initiator_column=\"q_floor\",\n",
    "                   responder_id=heat_storage_index,\n",
    "                   responder_column=\"q_received_kw\",\n",
    ");"
   ],
   "outputs": [],
   "execution_count": 15
  },
  {
   "cell_type": "markdown",
   "id": "502572ef-f6d1-4128-80f0-e6f636fa2bb6",
   "metadata": {},
   "source": [
    "3.3. Connection SIMPLE HEAT STORAGE ---> HEAT DEMAND (consumer):"
   ]
  },
  {
   "cell_type": "markdown",
   "id": "531e5360-789b-40fd-b99b-36b748274f46",
   "metadata": {},
   "source": [
    "Heat demand controller instructs the heat storage controller how much heat to supply."
   ]
  },
  {
   "cell_type": "code",
   "id": "76d6191a-d086-4075-926c-830fd93fdd24",
   "metadata": {
    "ExecuteTime": {
     "end_time": "2025-05-08T07:43:46.982411Z",
     "start_time": "2025-05-08T07:43:46.968725Z"
    }
   },
   "source": [
    "GenericMapping(bhp_prosumer,\n",
    "                   initiator_id=heat_storage_index,\n",
    "                   initiator_column=\"q_delivered_kw\",\n",
    "                   responder_id=heat_demand_index,\n",
    "                   responder_column=\"q_received_kw\",\n",
    ");"
   ],
   "outputs": [],
   "execution_count": 16
  },
  {
   "cell_type": "markdown",
   "id": "506ab5d0-6acf-4c7f-aa11-ffc0d314abf2",
   "metadata": {},
   "source": [
    "3.4. Connection GENERAL CONTROLLER ---> HEAT DEMAND (consumer):"
   ]
  },
  {
   "cell_type": "markdown",
   "id": "6a409c4a-9f7b-4475-a198-a3e60db1e99e",
   "metadata": {},
   "source": [
    "The general controller sends the demand controller information about the actual demand at each time step."
   ]
  },
  {
   "cell_type": "code",
   "id": "ff261f9c-c81d-4ba9-91f6-9b0b8fece3d8",
   "metadata": {
    "ExecuteTime": {
     "end_time": "2025-05-08T07:43:47.028747Z",
     "start_time": "2025-05-08T07:43:47.015957Z"
    }
   },
   "source": [
    "GenericMapping(\n",
    "    bhp_prosumer,                                                  \n",
    "    initiator_id=cp_index,                                               \n",
    "    initiator_column=\"q_demand_cp_kw\",\n",
    "    responder_id=heat_demand_index,                                                \n",
    "    responder_column=\"q_demand_kw\",\n",
    ");"
   ],
   "outputs": [],
   "execution_count": 17
  },
  {
   "cell_type": "markdown",
   "id": "f1bfb408-1e87-4a91-9866-e9c829834d59",
   "metadata": {},
   "source": [
    "RUNNING THE ANALYSIS:\n",
    "-----------------------"
   ]
  },
  {
   "cell_type": "markdown",
   "id": "32d66c3e-b8f9-4a6b-9c1c-d5cdb01ecec9",
   "metadata": {},
   "source": [
    "We can now run the analysis with the input data defined above. "
   ]
  },
  {
   "cell_type": "code",
   "id": "3f91644c-35f2-4345-ab03-d6c33a69432f",
   "metadata": {
    "ExecuteTime": {
     "end_time": "2025-05-08T07:43:49.538507Z",
     "start_time": "2025-05-08T07:43:47.047731Z"
    }
   },
   "source": [
    "from pandaprosumer.run_time_series import run_timeseries\n",
    "\n",
    "run_timeseries(bhp_prosumer, period)"
   ],
   "outputs": [
    {
     "name": "stderr",
     "output_type": "stream",
     "text": [
      "100%|██████████| 96/96 [00:02<00:00, 39.04it/s]\n"
     ]
    }
   ],
   "execution_count": 18
  },
  {
   "cell_type": "markdown",
   "id": "8ba74349-be1c-48ad-a64e-f42cc35493c5",
   "metadata": {},
   "source": [
    "PRINTING AND PLOTTING RESULTS:\n",
    "----------------------------------"
   ]
  },
  {
   "cell_type": "markdown",
   "id": "91954bd2-cf9d-4422-be97-e7730486c2b6",
   "metadata": {},
   "source": [
    "First, we plot the evolution of the demand from the Excel file."
   ]
  },
  {
   "cell_type": "code",
   "id": "aac2d924-de5d-4352-b761-27c561ecaf37",
   "metadata": {
    "ExecuteTime": {
     "end_time": "2025-05-08T07:43:49.585985Z",
     "start_time": "2025-05-08T07:43:49.572917Z"
    }
   },
   "source": [
    "import matplotlib.pyplot as plt"
   ],
   "outputs": [],
   "execution_count": 19
  },
  {
   "cell_type": "code",
   "id": "f7b1380d-ec0a-448d-99de-4783469841b0",
   "metadata": {
    "ExecuteTime": {
     "end_time": "2025-05-08T07:43:49.912640Z",
     "start_time": "2025-05-08T07:43:49.619619Z"
    }
   },
   "source": [
    "time_series_data.plot(y='q_demand_kw');\n",
    "plt.show()"
   ],
   "outputs": [
    {
     "data": {
      "text/plain": [
       "<Figure size 640x480 with 1 Axes>"
      ],
      "image/png": "[encoded data removed]"
     },
     "metadata": {},
     "output_type": "display_data"
    }
   ],
   "execution_count": 20
  },
  {
   "cell_type": "code",
   "id": "7bd922b9-3477-46dc-ac57-04b72314b354",
   "metadata": {
    "ExecuteTime": {
     "end_time": "2025-05-08T07:43:49.973709Z",
     "start_time": "2025-05-08T07:43:49.947256Z"
    }
   },
   "source": [
    "print(bhp_prosumer.heat_demand)"
   ],
   "outputs": [
    {
     "name": "stdout",
     "output_type": "stream",
     "text": [
      "   name  scaling  in_service\n",
      "0  None      1.0        True\n"
     ]
    }
   ],
   "execution_count": 21
  },
  {
   "cell_type": "markdown",
   "id": "af22f008-0f50-4125-8f42-e8a34a5c3723",
   "metadata": {},
   "source": [
    "We then list the available results for the BHP element. Results are stored in the form of time series, which can be plotted on a graph. The *.time_series* command lists all input and output dataframes. "
   ]
  },
  {
   "cell_type": "code",
   "id": "bf911726-304e-4f99-b95c-c063311cd8a6",
   "metadata": {
    "ExecuteTime": {
     "end_time": "2025-05-08T07:43:50.129473Z",
     "start_time": "2025-05-08T07:43:50.102092Z"
    }
   },
   "source": [
    "print(bhp_prosumer.time_series)"
   ],
   "outputs": [
    {
     "name": "stdout",
     "output_type": "stream",
     "text": [
      "          name            element  element_index  period_index data_source\n",
      "0  example_bhp  booster_heat_pump            0.0           0.0      DFData\n",
      "1         None       heat_storage            0.0           0.0      DFData\n",
      "2         None        heat_demand            0.0           0.0      DFData\n"
     ]
    }
   ],
   "execution_count": 22
  },
  {
   "cell_type": "markdown",
   "id": "4724b84d-962d-4207-83a8-6f03084b94d9",
   "metadata": {},
   "source": [
    "Here *.data_source* lists all available dataframes that we then specify with the *index* key in *.loc[]*."
   ]
  },
  {
   "cell_type": "code",
   "id": "855809ff-d05b-438d-b276-f4ac4ac5be04",
   "metadata": {
    "ExecuteTime": {
     "end_time": "2025-05-08T07:43:50.206255Z",
     "start_time": "2025-05-08T07:43:50.194838Z"
    }
   },
   "source": [
    "print(bhp_prosumer.time_series.data_source)"
   ],
   "outputs": [
    {
     "name": "stdout",
     "output_type": "stream",
     "text": [
      "0    DFData\n",
      "1    DFData\n",
      "2    DFData\n",
      "Name: data_source, dtype: object\n"
     ]
    }
   ],
   "execution_count": 23
  },
  {
   "cell_type": "markdown",
   "id": "2cd37c3f-f1ff-41dc-8bdc-bc9d6e98ca07",
   "metadata": {},
   "source": [
    "Before plotting we have to look at the resulting dataframe to see which quantity (column) we would like to plot. The *index* key can be an integer or the name of a specific component we want to look at. "
   ]
  },
  {
   "cell_type": "code",
   "id": "057c2d06-8c84-4b05-81d9-fb8ec976da7f",
   "metadata": {
    "ExecuteTime": {
     "end_time": "2025-05-08T07:43:50.268939Z",
     "start_time": "2025-05-08T07:43:50.242313Z"
    }
   },
   "source": [
    "print(bhp_prosumer.time_series.data_source.loc[0].df.head())"
   ],
   "outputs": [
    {
     "name": "stdout",
     "output_type": "stream",
     "text": [
      "                           cop_floor  cop_radiator  p_el_floor  p_el_radiator  \\\n",
      "2020-01-01 00:00:00+00:00   4.107815      3.782815    1.769797       1.921849   \n",
      "2020-01-01 00:15:00+00:00   4.107815      3.782815    1.769797       1.921849   \n",
      "2020-01-01 00:30:00+00:00   4.107815      3.782815    1.769797       1.921849   \n",
      "2020-01-01 00:45:00+00:00   4.107815      3.782815    1.769797       1.921849   \n",
      "2020-01-01 01:00:00+00:00   4.107815      3.782815    1.769797       1.921849   \n",
      "\n",
      "                           q_remain  q_floor  q_radiator  \n",
      "2020-01-01 00:00:00+00:00    392.73     7.27        7.27  \n",
      "2020-01-01 00:15:00+00:00    385.46     7.27        7.27  \n",
      "2020-01-01 00:30:00+00:00    378.19     7.27        7.27  \n",
      "2020-01-01 00:45:00+00:00    370.92     7.27        7.27  \n",
      "2020-01-01 01:00:00+00:00    363.65     7.27        7.27  \n"
     ]
    }
   ],
   "execution_count": 24
  },
  {
   "cell_type": "code",
   "id": "9e52a668-e548-4b97-936a-a53555cc8e8e",
   "metadata": {
    "ExecuteTime": {
     "end_time": "2025-05-08T07:43:50.330442Z",
     "start_time": "2025-05-08T07:43:50.302800Z"
    }
   },
   "source": [
    "res_df = bhp_prosumer.time_series\n",
    "res_df.name[1] = 'example storage'\n",
    "storage_name = res_df.name[1]\n",
    "res_df.set_index('name', inplace=True)\n",
    "\n",
    "print(res_df.loc[bhp_name].data_source.df.head())"
   ],
   "outputs": [
    {
     "name": "stdout",
     "output_type": "stream",
     "text": [
      "                           cop_floor  cop_radiator  p_el_floor  p_el_radiator  \\\n",
      "2020-01-01 00:00:00+00:00   4.107815      3.782815    1.769797       1.921849   \n",
      "2020-01-01 00:15:00+00:00   4.107815      3.782815    1.769797       1.921849   \n",
      "2020-01-01 00:30:00+00:00   4.107815      3.782815    1.769797       1.921849   \n",
      "2020-01-01 00:45:00+00:00   4.107815      3.782815    1.769797       1.921849   \n",
      "2020-01-01 01:00:00+00:00   4.107815      3.782815    1.769797       1.921849   \n",
      "\n",
      "                           q_remain  q_floor  q_radiator  \n",
      "2020-01-01 00:00:00+00:00    392.73     7.27        7.27  \n",
      "2020-01-01 00:15:00+00:00    385.46     7.27        7.27  \n",
      "2020-01-01 00:30:00+00:00    378.19     7.27        7.27  \n",
      "2020-01-01 00:45:00+00:00    370.92     7.27        7.27  \n",
      "2020-01-01 01:00:00+00:00    363.65     7.27        7.27  \n"
     ]
    }
   ],
   "execution_count": 25
  },
  {
   "cell_type": "markdown",
   "id": "628ba1b2-2834-40d7-a9c6-7505348f92a7",
   "metadata": {},
   "source": [
    "Now we can plot the evolution of the BHP's COP (floor)."
   ]
  },
  {
   "cell_type": "code",
   "id": "a18deaa2-e262-48c1-beaf-7484dc1a8c2a",
   "metadata": {
    "scrolled": true,
    "ExecuteTime": {
     "end_time": "2025-05-08T07:43:50.785386Z",
     "start_time": "2025-05-08T07:43:50.371234Z"
    }
   },
   "source": [
    "bhp_prosumer.time_series.data_source.loc[bhp_name].df.cop_floor.plot()\n",
    "plt.show()"
   ],
   "outputs": [
    {
     "data": {
      "text/plain": [
       "<Figure size 640x480 with 1 Axes>"
      ],
      "image/png": "[encoded data removed]"
     },
     "metadata": {},
     "output_type": "display_data"
    }
   ],
   "execution_count": 26
  },
  {
   "cell_type": "markdown",
   "id": "9cfc7e72-926a-4457-a279-dd138963205e",
   "metadata": {},
   "source": [
    "We can for example also plot the evolution of produced heat for floor heating."
   ]
  },
  {
   "cell_type": "code",
   "id": "fa1ec8ed-14f0-410a-8c53-24780824f4de",
   "metadata": {
    "ExecuteTime": {
     "end_time": "2025-05-08T07:43:51.462228Z",
     "start_time": "2025-05-08T07:43:50.838023Z"
    }
   },
   "source": [
    "bhp_prosumer.time_series.data_source.loc[bhp_name].df.q_floor.plot()\n",
    "plt.show()"
   ],
   "outputs": [
    {
     "data": {
      "text/plain": [
       "<Figure size 640x480 with 1 Axes>"
      ],
      "image/png": "[encoded data removed]"
     },
     "metadata": {},
     "output_type": "display_data"
    }
   ],
   "execution_count": 27
  },
  {
   "cell_type": "markdown",
   "id": "d9179004-c77b-4170-8de8-4112a698cdd6",
   "metadata": {},
   "source": [
    "Looking at heat storage, we can plot its state of charge (SOC)."
   ]
  },
  {
   "cell_type": "code",
   "id": "07985868-f437-450f-aec4-5acb6e0344b8",
   "metadata": {
    "ExecuteTime": {
     "end_time": "2025-05-08T07:43:52.188770Z",
     "start_time": "2025-05-08T07:43:51.598092Z"
    }
   },
   "source": [
    "bhp_prosumer.time_series.data_source.loc[storage_name].df.soc.plot()\n",
    "plt.show()"
   ],
   "outputs": [
    {
     "data": {
      "text/plain": [
       "<Figure size 640x480 with 1 Axes>"
      ],
      "image/png": "[encoded data removed]"
     },
     "metadata": {},
     "output_type": "display_data"
    }
   ],
   "execution_count": 28
  },
  {
   "cell_type": "markdown",
   "id": "9d1e4d6d-9257-4e4d-97e6-a9bd78259720",
   "metadata": {},
   "source": [
    "ACKNOWLEDGEMENTS:\n",
    "-----------------\n",
    "The authors would like to thank Pratikshya Mohanty and Odile Capron from the Fraunhofer Institute for the help in preparing this tutorial. Special thanks also to Pawel Lytaev and colleagues from the University of Kassel for their code reviews and suggestions during the development of the models. Support from the Senergy Nets project, funded by the European Union under the Horizon Europe program (Grant Agreement No. 101075731) is gratefully acknowledged."
   ]
  }
 ],
 "metadata": {
  "kernelspec": {
   "display_name": "Python 3 (ipykernel)",
   "language": "python",
   "name": "python3"
  },
  "language_info": {
   "codemirror_mode": {
    "name": "ipython",
    "version": 3
   },
   "file_extension": ".py",
   "mimetype": "text/x-python",
   "name": "python",
   "nbconvert_exporter": "python",
   "pygments_lexer": "ipython3",
   "version": "3.9.21"
  }
 },
 "nbformat": 4,
 "nbformat_minor": 5
}
