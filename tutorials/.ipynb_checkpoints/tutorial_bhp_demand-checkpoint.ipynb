{
 "cells": [
  {
   "cell_type": "markdown",
   "id": "91069caf-23f1-47ac-80cc-50cc38f489a9",
   "metadata": {},
   "source": [
    "# PANDAPROSUMER EXAMPLE: BOOSTER HEAT PUMP"
   ]
  },
  {
   "cell_type": "markdown",
   "id": "549f1e5a-f8fa-4091-b7da-36d7023341a2",
   "metadata": {},
   "source": [
    "Example prepared by:\n",
    "--------------------\n",
    "    Izak Oberčkal Pluško, Marko Keber, Katja Klinar, Tine Seljak*, Andrej Kitanovski\n",
    "\n",
    "    Faculty of Mechanical Engineering, University of Ljubljana, Slovenia\n",
    "    \n",
    "    *Contact: tine.seljak@fs.uni-lj.si"
   ]
  },
  {
   "cell_type": "markdown",
   "id": "175a5e8d-c0f0-4512-aab2-d98950a390c4",
   "metadata": {},
   "source": [
    "DESCRIPTION:\n",
    "--------------------\n",
    "This example describes how to create a single booster heat pump element in the *pandaprosumer* software package and connect it to a single consumer. The user can choose pump's type, while the demand and source temperature data is read from an Excel file and stored in pandas dataframe. It includes the information about the power required by the consumer and source temperature at each time step. "
   ]
  },
  {
   "cell_type": "markdown",
   "id": "003aef9a-15cd-4643-9c5b-be26a9b8be0e",
   "metadata": {},
   "source": [
    "Glossary:\n",
    "---------\n",
    "- Network: a configuration of connected energy generators and energy consumers\n",
    "- Element: a single energy generator or a single energy consumer\n",
    "- Container: a pandaprosumer data structure that contains data of an individual element; each element must have its container \n",
    "- Controller: the logic of an element that defines its behaviour and its limits\n",
    "- General controller: the first controller in the network that interacts with controllers of all other elements; this controller also manages external data\n",
    "- Map / mapping: a connection between two elements; contains information about the what is exchanged between the two elements"
   ]
  },
  {
   "cell_type": "markdown",
   "id": "24afc7ad-5d74-4194-8683-d8a6afe2b512",
   "metadata": {},
   "source": [
    "Network design philosophy:\n",
    "--------------------------\n",
    "In pandaprosumer, a system's component is represented by a network element. Each element is assigned a *container* and its own *element controller*. A container is a structure that contains the component's configuration data (static input data), which can include information that will not change in the analysis such as size, nominal power, efficiency, etc. The behaviour of an element is governed by its *controller*. Connections between elements are defined in *maps*, which couple output parameters of one controller to the input parameter of a controller of a connected element. \n",
    "The network is managed by a *general controller* called *ConstProfileController*. This controller is connected to all element controllers and manages dynamic input data from external sources (e.g. Excel file). For each time step it distributes the dynamic input data to the relevant element controllers. "
   ]
  },
  {
   "cell_type": "markdown",
   "id": "f1c23326-4448-4f48-9812-1fa5596d4b85",
   "metadata": {},
   "source": [
    "CREATING A NETWORK:\n",
    "--------------------\n",
    "If we are not in pandaprosumer parent directory, we should add it to the path so that the program knows where to find the necessary functions:"
   ]
  },
  {
   "cell_type": "code",
   "execution_count": 149,
   "id": "6b2491af-985d-487a-9f6a-747ea47767c0",
   "metadata": {},
   "outputs": [],
   "source": [
    "import sys\n",
    "import os\n",
    "\n",
    "current_directory = os.getcwd()\n",
    "parent_directory = os.path.dirname(current_directory)\n",
    "sys.path.append(parent_directory)"
   ]
  },
  {
   "cell_type": "markdown",
   "id": "cddc9ea6-bdfe-4e76-a65d-bc50bd2d8e3d",
   "metadata": {},
   "source": [
    "1 - INPUT DATA:\n",
    "---------------\n",
    "First let's import libraries required for data management."
   ]
  },
  {
   "cell_type": "code",
   "execution_count": 150,
   "id": "454ed2a7-ffbc-4c6f-952e-a00da8c5dbc1",
   "metadata": {},
   "outputs": [],
   "source": [
    "import pandas as pd\n",
    "from pandapower.timeseries.data_sources.frame_data import DFData"
   ]
  },
  {
   "cell_type": "markdown",
   "id": "62cddad7-18f2-485b-8587-06652523162a",
   "metadata": {},
   "source": [
    "Next we need to define properties of the booster heat pump which are treated as static input data, i.e. data (characteristics) that don't change during an analysis. In this case we have name and booster heat pump's type and we choose water-water type."
   ]
  },
  {
   "cell_type": "code",
   "execution_count": 151,
   "id": "a816812f-4394-4212-bf72-64ee4872e787",
   "metadata": {},
   "outputs": [],
   "source": [
    "bhp_type = 'water-water1'\n",
    "bhp_name = 'example_hp'"
   ]
  },
  {
   "cell_type": "markdown",
   "id": "253352a4-9774-49a4-bee5-8278a0c51eac",
   "metadata": {},
   "source": [
    "We define the analysis time series."
   ]
  },
  {
   "cell_type": "code",
   "execution_count": 152,
   "id": "2127a954-7402-46ed-853d-f00495ac4c6d",
   "metadata": {},
   "outputs": [],
   "source": [
    "start = '2020-01-01 00:00:00'\n",
    "end = '2020-01-01 23:59:59'\n",
    "time_resolution = 900"
   ]
  },
  {
   "cell_type": "markdown",
   "id": "dd6b7414-d5c2-428b-827f-eb17d04b29b0",
   "metadata": {},
   "source": [
    "Now we import our demand data and transform it into an appropriate DFData object. All data of an individual element is stored in a dedicated DFData object. "
   ]
  },
  {
   "cell_type": "code",
   "execution_count": 153,
   "id": "1f47a409-734f-49e7-83f2-2e8aced53a5c",
   "metadata": {},
   "outputs": [
    {
     "name": "stdout",
     "output_type": "stream",
     "text": [
      "   Unnamed: 0  t_source_k  demand  mode\n",
      "0           0         280       0     3\n",
      "1           1         280       0     3\n",
      "2           2         280       0     3\n",
      "3           3         280       0     3\n",
      "4           4         280       0     3\n"
     ]
    }
   ],
   "source": [
    "demand_data = pd.read_excel('example_data/test_hp_1.xlsx')\n",
    "print(demand_data.head())\n",
    "\n",
    "dur = pd.date_range(start=start, end=end, freq='15min', tz='utc')\n",
    "demand_data.index = dur\n",
    "demand_input = DFData(demand_data)"
   ]
  },
  {
   "cell_type": "markdown",
   "id": "7bf6473e-308c-40a6-b81c-c95d907c08be",
   "metadata": {},
   "source": [
    "2 - CREATING ELEMENTS OF THE NETWORK:\n",
    "--------------------------------------"
   ]
  },
  {
   "cell_type": "markdown",
   "id": "3333a4b7-6e8b-45c2-936b-2138c413ed04",
   "metadata": {},
   "source": [
    "In this example, the network is made up of two elements: a source and a consumer. The source is represented by a single booster heat pump (BHP) and the consumer is modelled by a single heat demand element. "
   ]
  },
  {
   "cell_type": "markdown",
   "id": "c6b00b2c-1433-4f63-89f3-e06d87e80cbb",
   "metadata": {},
   "source": [
    "![network configuration](figures/bhp_cons_1.png)"
   ]
  },
  {
   "cell_type": "markdown",
   "id": "0dcd2ddc-05c4-43f6-bc6e-99cf29509766",
   "metadata": {},
   "source": [
    "First we define an empty prosumer container object which in practice can be anything. In pandaprosumer, each element of the network has its own container, which is later filled with data and results."
   ]
  },
  {
   "cell_type": "code",
   "execution_count": 154,
   "id": "9e78797a-cd5a-4dfd-a3db-5540c9722802",
   "metadata": {},
   "outputs": [],
   "source": [
    "from pandaprosumer.create import create_empty_prosumer_container\n",
    "\n",
    "bhp_prosumer = create_empty_prosumer_container()"
   ]
  },
  {
   "cell_type": "markdown",
   "id": "fc584d0c-bc04-4fa1-9074-80711100f321",
   "metadata": {},
   "source": [
    "Then we define the period of the analysis using input data about the analysis of time and also timezone and period name."
   ]
  },
  {
   "cell_type": "code",
   "execution_count": 155,
   "id": "355e68d6-7899-4fc2-8dad-be550a519d60",
   "metadata": {},
   "outputs": [],
   "source": [
    "from pandaprosumer.create import create_period\n",
    "\n",
    "bhp_period = create_period(bhp_prosumer, time_resolution, start, end, 'utc', 'default')"
   ]
  },
  {
   "cell_type": "markdown",
   "id": "73c6c43c-fa5e-42f0-8c5c-0bd01d59fc8a",
   "metadata": {},
   "source": [
    "First we create ConstProfileControllerData and ConstProfileController through create_controlled_const_profile function. We pass in prosumer container, names of dynamic data columns from excel file and coresponding result columns, period of the analysis and DFData object."
   ]
  },
  {
   "cell_type": "code",
   "execution_count": 156,
   "id": "da819bb6-0cd3-4c60-b94f-cf22bc119218",
   "metadata": {},
   "outputs": [],
   "source": [
    "from pandaprosumer.create_controlled import create_controlled_const_profile\n",
    "\n",
    "input_columns = ['demand', 'mode', 't_source_k']\n",
    "result_columns = ['demand_c', 'mode_c', 't_source_k_c']\n",
    "\n",
    "cp_index = create_controlled_const_profile(\n",
    "    bhp_prosumer, input_columns, result_columns, bhp_period, demand_input)"
   ]
  },
  {
   "cell_type": "markdown",
   "id": "33bcc664-4ea8-42f1-b17f-2faeb0dfa068",
   "metadata": {},
   "source": [
    "Next we define booster_heat_pump element where we pass in prosumer container, BHP's type and arbitrary name."
   ]
  },
  {
   "cell_type": "code",
   "execution_count": 157,
   "id": "cdd13840-053b-4586-819a-8a500aeb9933",
   "metadata": {},
   "outputs": [],
   "source": [
    "from pandaprosumer.create_controlled import create_controlled_booster_heat_pump\n",
    "\n",
    "bhp_index = create_controlled_booster_heat_pump(bhp_prosumer, bhp_type, bhp_name)"
   ]
  },
  {
   "cell_type": "markdown",
   "id": "bd344c21-ecfb-4f7a-90e8-d7c579475b60",
   "metadata": {},
   "source": [
    "Lastly we create heat demand element where we pass in prosumer container. There is also scaling parameter describing how much do we want to scale the demanded heat."
   ]
  },
  {
   "cell_type": "code",
   "execution_count": 158,
   "id": "07d43859-f94f-4982-946c-aa6c8fb3a6e6",
   "metadata": {},
   "outputs": [],
   "source": [
    "from pandaprosumer.create_controlled import create_controlled_heat_demand\n",
    "\n",
    "heat_demand_index = create_controlled_heat_demand(bhp_prosumer, scaling=1.0)"
   ]
  },
  {
   "cell_type": "markdown",
   "id": "f8eb7f04-f4bf-46a9-8c54-af8717576b19",
   "metadata": {},
   "source": [
    "3 - CREATING CONNECTIONS (MAPS) BETWEEN THE CONTROLLERS:\n",
    "---------------------------------------------------------"
   ]
  },
  {
   "cell_type": "markdown",
   "id": "4e867db0-2a0c-44e0-ab33-61972dfa5f45",
   "metadata": {},
   "source": [
    "![network configuration](figures/bhp_cons_3.png)"
   ]
  },
  {
   "cell_type": "markdown",
   "id": "931e8ede-4cf5-4b55-aca8-2580d4c91b9a",
   "metadata": {},
   "source": [
    "For each controller we define how it is connected to other controllers. The main parameter for the map in this case is energy flow: the output energy flow of one element is linked with the input energy flow of the connected element. "
   ]
  },
  {
   "cell_type": "code",
   "execution_count": 159,
   "id": "61347334-4882-41fd-8ebe-556283d7a0ec",
   "metadata": {},
   "outputs": [],
   "source": [
    "from pandaprosumer.mapping import GenericMapping"
   ]
  },
  {
   "cell_type": "markdown",
   "id": "df8f1492-2f86-4a61-bdd2-0c95b1c4fe81",
   "metadata": {},
   "source": [
    "3.1. CONNECTION GENERAL CONTROLLER ---> BOOSTER HEAT PUMP:"
   ]
  },
  {
   "cell_type": "markdown",
   "id": "cc3613ca-343f-44e9-870a-5bcf8ad20de5",
   "metadata": {},
   "source": [
    "The general controller instructs the booster heat pump what source temperature and operating mode is required at each time step."
   ]
  },
  {
   "cell_type": "code",
   "execution_count": 160,
   "id": "48aef009-e2bf-473b-adaa-ae3b21dbc2a6",
   "metadata": {},
   "outputs": [],
   "source": [
    "GenericMapping(bhp_prosumer,\n",
    "                   initiator_id=cp_index,\n",
    "                   initiator_column=\"t_source_k_c\",\n",
    "                   responder_id=bhp_index,\n",
    "                   responder_column=\"t_source_k\",\n",
    ");\n",
    "GenericMapping(bhp_prosumer,\n",
    "                   initiator_id=cp_index,\n",
    "                   initiator_column=\"mode_c\",\n",
    "                   responder_id=bhp_index,\n",
    "                   responder_column=\"mode\",\n",
    ");"
   ]
  },
  {
   "cell_type": "markdown",
   "id": "b9c825b2-91ff-4692-bc35-e2d18eec7f63",
   "metadata": {},
   "source": [
    "3.2. CONNECTION BOOSTER HEAT PUMP ---> HEAT DEMAND (CONSUMER):"
   ]
  },
  {
   "cell_type": "markdown",
   "id": "a2cc20d3-f0ea-4e66-943f-ac18c1d78a9b",
   "metadata": {},
   "source": [
    "The booster heat pump controller informs the demand controller of how much thermal power it can supply at each time step. "
   ]
  },
  {
   "cell_type": "code",
   "execution_count": 161,
   "id": "1d4a6d0e-2f5a-4076-be5d-3a1af3b799f5",
   "metadata": {},
   "outputs": [],
   "source": [
    "GenericMapping(bhp_prosumer,\n",
    "                   initiator_id=bhp_index,\n",
    "                   initiator_column=\"q_floor\",\n",
    "                   responder_id=heat_demand_index,\n",
    "                   responder_column=\"q_received_kw\",\n",
    ");"
   ]
  },
  {
   "cell_type": "markdown",
   "id": "668f2ecb-1531-42db-8580-e34ab56c10f2",
   "metadata": {},
   "source": [
    "3.3. CONNECTION GENERAL CONTROLLER ---> HEAT DEMAND (CONSUMER):"
   ]
  },
  {
   "cell_type": "markdown",
   "id": "9ed5ea57-6273-4805-92d9-46f55c535fa6",
   "metadata": {},
   "source": [
    "The general controller sends the demand controller information about the actual demand at each time step."
   ]
  },
  {
   "cell_type": "code",
   "execution_count": 162,
   "id": "1db41054-da3d-47f9-ba13-67812adc68a3",
   "metadata": {},
   "outputs": [],
   "source": [
    "GenericMapping(bhp_prosumer,\n",
    "                   initiator_id=cp_index,\n",
    "                   initiator_column=\"demand_c\",\n",
    "                   responder_id=heat_demand_index,\n",
    "                   responder_column=\"q_demand_kw\",\n",
    ");"
   ]
  },
  {
   "cell_type": "markdown",
   "id": "9547f170-b131-4786-9e66-c5ee927ec1e0",
   "metadata": {},
   "source": [
    "4 - RUNNING THE ANALYSIS:\n",
    "-----------------------"
   ]
  },
  {
   "cell_type": "markdown",
   "id": "c19b2e84-4e8b-4884-8d63-e6b0dac82cdf",
   "metadata": {},
   "source": [
    "We can now run the analysis with the input data defined above. "
   ]
  },
  {
   "cell_type": "code",
   "execution_count": 163,
   "id": "a15ef6bc-dc6c-4161-8bc9-fdb174da4540",
   "metadata": {},
   "outputs": [
    {
     "name": "stderr",
     "output_type": "stream",
     "text": [
      "  7%|███▎                                          | 7/96 [00:00<00:01, 61.77it/s]"
     ]
    },
    {
     "name": "stdout",
     "output_type": "stream",
     "text": [
      "2020-01-01 00:00:00+00:00\n",
      "1.0\n",
      "2020-01-01 00:15:00+00:00\n",
      "1.0\n",
      "2020-01-01 00:30:00+00:00\n",
      "1.0\n",
      "2020-01-01 00:45:00+00:00\n",
      "1.0\n",
      "2020-01-01 01:00:00+00:00\n",
      "1.0\n",
      "2020-01-01 01:15:00+00:00\n",
      "1.0\n",
      "2020-01-01 01:30:00+00:00\n",
      "1.0\n",
      "2020-01-01 01:45:00+00:00\n",
      "1.0\n",
      "2020-01-01 02:00:00+00:00\n",
      "1.0\n",
      "2020-01-01 02:15:00+00:00\n",
      "1.0\n",
      "2020-01-01 02:30:00+00:00\n",
      "1.0\n",
      "2020-01-01 02:45:00+00:00\n",
      "1.0\n",
      "2020-01-01 03:00:00+00:00\n",
      "1.0\n"
     ]
    },
    {
     "name": "stderr",
     "output_type": "stream",
     "text": [
      " 27%|████████████▏                                | 26/96 [00:00<00:01, 53.18it/s]"
     ]
    },
    {
     "name": "stdout",
     "output_type": "stream",
     "text": [
      "2020-01-01 03:15:00+00:00\n",
      "1.0\n",
      "2020-01-01 03:30:00+00:00\n",
      "1.0\n",
      "2020-01-01 03:45:00+00:00\n",
      "1.0\n",
      "2020-01-01 04:00:00+00:00\n",
      "1.0\n",
      "2020-01-01 04:15:00+00:00\n",
      "1.0\n",
      "2020-01-01 04:30:00+00:00\n",
      "1.0\n",
      "2020-01-01 04:45:00+00:00\n",
      "1.0\n",
      "2020-01-01 05:00:00+00:00\n",
      "1.0\n",
      "2020-01-01 05:15:00+00:00\n",
      "1.0\n",
      "2020-01-01 05:30:00+00:00\n",
      "1.0\n",
      "2020-01-01 05:45:00+00:00\n",
      "1.0\n",
      "2020-01-01 06:00:00+00:00\n",
      "1.0\n",
      "2020-01-01 06:15:00+00:00\n",
      "1.0\n",
      "2020-01-01 06:30:00+00:00\n",
      "1.0\n",
      "2020-01-01 06:45:00+00:00\n",
      "1.0\n"
     ]
    },
    {
     "name": "stderr",
     "output_type": "stream",
     "text": [
      " 40%|█████████████████▊                           | 38/96 [00:00<00:01, 54.45it/s]"
     ]
    },
    {
     "name": "stdout",
     "output_type": "stream",
     "text": [
      "2020-01-01 07:00:00+00:00\n",
      "1.0\n",
      "2020-01-01 07:15:00+00:00\n",
      "1.0\n",
      "2020-01-01 07:30:00+00:00\n",
      "1.0\n",
      "2020-01-01 07:45:00+00:00\n",
      "1.0\n",
      "2020-01-01 08:00:00+00:00\n",
      "1.0\n",
      "2020-01-01 08:15:00+00:00\n",
      "1.0\n",
      "2020-01-01 08:30:00+00:00\n",
      "1.0\n",
      "2020-01-01 08:45:00+00:00\n",
      "1.0\n",
      "2020-01-01 09:00:00+00:00\n",
      "1.0\n",
      "2020-01-01 09:15:00+00:00\n",
      "1.0\n",
      "2020-01-01 09:30:00+00:00\n",
      "1.0\n",
      "2020-01-01 09:45:00+00:00\n",
      "1.0\n",
      "2020-01-01 10:00:00+00:00\n",
      "1.0\n"
     ]
    },
    {
     "name": "stderr",
     "output_type": "stream",
     "text": [
      " 52%|███████████████████████▍                     | 50/96 [00:00<00:00, 54.19it/s]"
     ]
    },
    {
     "name": "stdout",
     "output_type": "stream",
     "text": [
      "2020-01-01 10:15:00+00:00\n",
      "1.0\n",
      "2020-01-01 10:30:00+00:00\n",
      "1.0\n",
      "2020-01-01 10:45:00+00:00\n",
      "1.0\n",
      "2020-01-01 11:00:00+00:00\n",
      "1.0\n",
      "2020-01-01 11:15:00+00:00\n",
      "1.0\n",
      "2020-01-01 11:30:00+00:00\n",
      "1.0\n",
      "2020-01-01 11:45:00+00:00\n",
      "1.0\n",
      "2020-01-01 12:00:00+00:00\n",
      "1.0\n",
      "2020-01-01 12:15:00+00:00\n",
      "1.0\n",
      "2020-01-01 12:30:00+00:00\n",
      "1.0\n",
      "2020-01-01 12:45:00+00:00\n",
      "1.0\n",
      "2020-01-01 13:00:00+00:00\n",
      "1.0\n",
      "2020-01-01 13:15:00+00:00\n",
      "1.0\n",
      "2020-01-01 13:30:00+00:00\n",
      "1.0\n"
     ]
    },
    {
     "name": "stderr",
     "output_type": "stream",
     "text": [
      " 71%|███████████████████████████████▉             | 68/96 [00:01<00:00, 55.95it/s]"
     ]
    },
    {
     "name": "stdout",
     "output_type": "stream",
     "text": [
      "2020-01-01 13:45:00+00:00\n",
      "1.0\n",
      "2020-01-01 14:00:00+00:00\n",
      "1.0\n",
      "2020-01-01 14:15:00+00:00\n",
      "1.0\n",
      "2020-01-01 14:30:00+00:00\n",
      "1.0\n",
      "2020-01-01 14:45:00+00:00\n",
      "1.0\n",
      "2020-01-01 15:00:00+00:00\n",
      "1.0\n",
      "2020-01-01 15:15:00+00:00\n",
      "1.0\n",
      "2020-01-01 15:30:00+00:00\n",
      "1.0\n",
      "2020-01-01 15:45:00+00:00\n",
      "1.0\n",
      "2020-01-01 16:00:00+00:00\n",
      "1.0\n",
      "2020-01-01 16:15:00+00:00\n",
      "1.0\n",
      "2020-01-01 16:30:00+00:00\n",
      "1.0\n"
     ]
    },
    {
     "name": "stderr",
     "output_type": "stream",
     "text": [
      " 84%|█████████████████████████████████████▉       | 81/96 [00:01<00:00, 59.32it/s]"
     ]
    },
    {
     "name": "stdout",
     "output_type": "stream",
     "text": [
      "2020-01-01 16:45:00+00:00\n",
      "1.0\n",
      "2020-01-01 17:00:00+00:00\n",
      "1.0\n",
      "2020-01-01 17:15:00+00:00\n",
      "1.0\n",
      "2020-01-01 17:30:00+00:00\n",
      "1.0\n",
      "2020-01-01 17:45:00+00:00\n",
      "1.0\n",
      "2020-01-01 18:00:00+00:00\n",
      "1.0\n",
      "2020-01-01 18:15:00+00:00\n",
      "1.0\n",
      "2020-01-01 18:30:00+00:00\n",
      "1.0\n",
      "2020-01-01 18:45:00+00:00\n",
      "1.0\n",
      "2020-01-01 19:00:00+00:00\n",
      "1.0\n",
      "2020-01-01 19:15:00+00:00\n",
      "1.0\n",
      "2020-01-01 19:30:00+00:00\n",
      "1.0\n",
      "2020-01-01 19:45:00+00:00\n",
      "1.0\n"
     ]
    },
    {
     "name": "stderr",
     "output_type": "stream",
     "text": [
      " 93%|█████████████████████████████████████████▋   | 89/96 [00:01<00:00, 65.29it/s]"
     ]
    },
    {
     "name": "stdout",
     "output_type": "stream",
     "text": [
      "2020-01-01 20:00:00+00:00\n",
      "1.0\n",
      "2020-01-01 20:15:00+00:00\n",
      "1.0\n",
      "2020-01-01 20:30:00+00:00\n",
      "1.0\n",
      "2020-01-01 20:45:00+00:00\n",
      "1.0\n",
      "2020-01-01 21:00:00+00:00\n",
      "1.0\n",
      "2020-01-01 21:15:00+00:00\n",
      "1.0\n",
      "2020-01-01 21:30:00+00:00\n",
      "1.0\n",
      "2020-01-01 21:45:00+00:00\n",
      "1.0\n",
      "2020-01-01 22:00:00+00:00\n",
      "1.0\n",
      "2020-01-01 22:15:00+00:00\n",
      "1.0\n",
      "2020-01-01 22:30:00+00:00\n",
      "1.0\n",
      "2020-01-01 22:45:00+00:00\n",
      "1.0\n",
      "2020-01-01 23:00:00+00:00\n",
      "1.0\n",
      "2020-01-01 23:15:00+00:00\n",
      "1.0\n"
     ]
    },
    {
     "name": "stderr",
     "output_type": "stream",
     "text": [
      "100%|█████████████████████████████████████████████| 96/96 [00:01<00:00, 57.11it/s]"
     ]
    },
    {
     "name": "stdout",
     "output_type": "stream",
     "text": [
      "2020-01-01 23:30:00+00:00\n",
      "1.0\n",
      "2020-01-01 23:45:00+00:00\n",
      "1.0\n"
     ]
    },
    {
     "name": "stderr",
     "output_type": "stream",
     "text": [
      "\n"
     ]
    }
   ],
   "source": [
    "from pandaprosumer.run_time_series import run_timeseries\n",
    "\n",
    "run_timeseries(bhp_prosumer, bhp_period)"
   ]
  },
  {
   "cell_type": "markdown",
   "id": "0fbede9a-05f5-484d-96a3-fd10cdfb4144",
   "metadata": {},
   "source": [
    "5 - PRINTING AND PLOTTING RESULTS:\n",
    "----------------------------------"
   ]
  },
  {
   "cell_type": "markdown",
   "id": "50004ea5-07e4-47cc-acc7-bfa7753b9fba",
   "metadata": {},
   "source": [
    "First, we plot the evolution of the demand from the Excel file. "
   ]
  },
  {
   "cell_type": "code",
   "execution_count": 164,
   "id": "efb9a421-83a9-496d-97a7-e4f2013cf962",
   "metadata": {},
   "outputs": [],
   "source": [
    "import matplotlib.pyplot as plt"
   ]
  },
  {
   "cell_type": "code",
   "execution_count": 165,
   "id": "116b8244-57ca-4a58-a95f-b680541104d9",
   "metadata": {},
   "outputs": [
    {
     "data": {
      "image/png": "[encoded data removed]",
      "text/plain": [
       "<Figure size 640x480 with 1 Axes>"
      ]
     },
     "metadata": {},
     "output_type": "display_data"
    }
   ],
   "source": [
    "demand_data.plot(y='demand');\n",
    "plt.show()"
   ]
  },
  {
   "cell_type": "code",
   "execution_count": 166,
   "id": "6233d2e4-9aeb-4680-82a6-fe89a398526d",
   "metadata": {},
   "outputs": [
    {
     "name": "stdout",
     "output_type": "stream",
     "text": [
      "   name  scaling  in_service\n",
      "0  None      1.0        True\n"
     ]
    }
   ],
   "source": [
    "print(bhp_prosumer.heat_demand)"
   ]
  },
  {
   "cell_type": "markdown",
   "id": "ca6ed092-ab84-48ea-8542-fea2583e801a",
   "metadata": {},
   "source": [
    "Then we list the availabel results for the heat pump element. Results are stored in the form of time series, which can be plotted on a graph. The *.time_series* command lists all input and output dataframes. "
   ]
  },
  {
   "cell_type": "code",
   "execution_count": 167,
   "id": "69a783ec-3329-4b78-a4e9-27365f296ee7",
   "metadata": {},
   "outputs": [
    {
     "name": "stdout",
     "output_type": "stream",
     "text": [
      "         name            element  element_index  period_index data_source\n",
      "0  example_hp  booster_heat_pump            0.0           0.0      DFData\n",
      "1        None        heat_demand            0.0           0.0      DFData\n"
     ]
    }
   ],
   "source": [
    "print(bhp_prosumer.time_series)"
   ]
  },
  {
   "cell_type": "markdown",
   "id": "adc1b4fd-8ec2-4676-ad38-0816763efdb3",
   "metadata": {},
   "source": [
    "Here *.data_source* lists all available dataframes that we then specify with index in *.loc[]*."
   ]
  },
  {
   "cell_type": "code",
   "execution_count": 168,
   "id": "8d16ec70-45de-4cc0-a80a-361b16e546b9",
   "metadata": {},
   "outputs": [
    {
     "name": "stdout",
     "output_type": "stream",
     "text": [
      "0    DFData\n",
      "1    DFData\n",
      "Name: data_source, dtype: object\n"
     ]
    }
   ],
   "source": [
    "print(bhp_prosumer.time_series.data_source)"
   ]
  },
  {
   "cell_type": "markdown",
   "id": "2ac7c039-b0ce-4e0b-bf9e-e10102454b75",
   "metadata": {},
   "source": [
    "Before plotting we have to look at the resulting dataframe to see which quantity (column) do we want to plot. Index can be an integer or the defined name of specific component you want to look at."
   ]
  },
  {
   "cell_type": "code",
   "execution_count": 169,
   "id": "cfaaa423-0b0e-4202-8707-72e6d58c05b7",
   "metadata": {},
   "outputs": [
    {
     "name": "stdout",
     "output_type": "stream",
     "text": [
      "                           cop_floor  cop_radiator  p_el_floor  p_el_radiator  \\\n",
      "2020-01-01 00:00:00+00:00   4.107815      3.782815         0.0            0.0   \n",
      "2020-01-01 00:15:00+00:00   4.107815      3.782815         0.0            0.0   \n",
      "2020-01-01 00:30:00+00:00   4.107815      3.782815         0.0            0.0   \n",
      "2020-01-01 00:45:00+00:00   4.107815      3.782815         0.0            0.0   \n",
      "2020-01-01 01:00:00+00:00   4.107815      3.782815         0.0            0.0   \n",
      "\n",
      "                           q_remain  q_floor  q_radiator  \n",
      "2020-01-01 00:00:00+00:00       0.0      0.0         0.0  \n",
      "2020-01-01 00:15:00+00:00       0.0      0.0         0.0  \n",
      "2020-01-01 00:30:00+00:00       0.0      0.0         0.0  \n",
      "2020-01-01 00:45:00+00:00       0.0      0.0         0.0  \n",
      "2020-01-01 01:00:00+00:00       0.0      0.0         0.0  \n"
     ]
    }
   ],
   "source": [
    "print(bhp_prosumer.time_series.data_source.loc[0].df.head())"
   ]
  },
  {
   "cell_type": "code",
   "execution_count": 170,
   "id": "542b1e40-1cf4-498a-8725-1a0306867b07",
   "metadata": {},
   "outputs": [
    {
     "name": "stdout",
     "output_type": "stream",
     "text": [
      "                           cop_floor  cop_radiator  p_el_floor  p_el_radiator  \\\n",
      "2020-01-01 00:00:00+00:00   4.107815      3.782815    0.000000       0.000000   \n",
      "2020-01-01 00:15:00+00:00   4.107815      3.782815    0.000000       0.000000   \n",
      "2020-01-01 00:30:00+00:00   4.107815      3.782815    0.000000       0.000000   \n",
      "2020-01-01 00:45:00+00:00   4.107815      3.782815    0.000000       0.000000   \n",
      "2020-01-01 01:00:00+00:00   4.107815      3.782815    0.000000       0.000000   \n",
      "2020-01-01 01:15:00+00:00   4.107815      3.782815    0.000000       0.000000   \n",
      "2020-01-01 01:30:00+00:00   4.107815      3.782815    0.000000       0.000000   \n",
      "2020-01-01 01:45:00+00:00   4.107815      3.782815    0.000000       0.000000   \n",
      "2020-01-01 02:00:00+00:00   4.107815      3.782815    0.000000       0.000000   \n",
      "2020-01-01 02:15:00+00:00   4.107815      3.782815    0.000000       0.000000   \n",
      "2020-01-01 02:30:00+00:00   4.107815      3.782815    0.000000       0.000000   \n",
      "2020-01-01 02:45:00+00:00   4.107815      3.782815    0.000000       0.000000   \n",
      "2020-01-01 03:00:00+00:00   4.107815      3.782815    0.000000       0.000000   \n",
      "2020-01-01 03:15:00+00:00   4.107815      3.782815    0.000000       0.000000   \n",
      "2020-01-01 03:30:00+00:00   4.107815      3.782815    0.000000       0.000000   \n",
      "2020-01-01 03:45:00+00:00   4.107815      3.782815    0.000000       0.000000   \n",
      "2020-01-01 04:00:00+00:00   4.107815      3.782815    0.000000       0.000000   \n",
      "2020-01-01 04:15:00+00:00   4.107815      3.782815    0.000000       0.000000   \n",
      "2020-01-01 04:30:00+00:00   4.107815      3.782815    0.000000       0.000000   \n",
      "2020-01-01 04:45:00+00:00   4.107815      3.782815    0.000000       0.000000   \n",
      "2020-01-01 05:00:00+00:00   4.107815      3.782815    0.000000       0.000000   \n",
      "2020-01-01 05:15:00+00:00   4.107815      3.782815    0.000000       0.000000   \n",
      "2020-01-01 05:30:00+00:00   4.107815      3.782815    0.000000       0.000000   \n",
      "2020-01-01 05:45:00+00:00   4.107815      3.782815    0.000000       0.000000   \n",
      "2020-01-01 06:00:00+00:00   4.107815      3.782815    0.243438       0.264353   \n",
      "2020-01-01 06:15:00+00:00   4.107815      3.782815    0.243438       0.264353   \n",
      "2020-01-01 06:30:00+00:00   4.107815      3.782815    0.243438       0.264353   \n",
      "2020-01-01 06:45:00+00:00   4.107815      3.782815    0.243438       0.264353   \n",
      "2020-01-01 07:00:00+00:00   4.107815      3.782815    0.243438       0.264353   \n",
      "2020-01-01 07:15:00+00:00   4.107815      3.782815    0.243438       0.264353   \n",
      "2020-01-01 07:30:00+00:00   4.107815      3.782815    0.243438       0.264353   \n",
      "2020-01-01 07:45:00+00:00   4.107815      3.782815    0.243438       0.264353   \n",
      "2020-01-01 08:00:00+00:00   4.107815      3.782815    0.243438       0.264353   \n",
      "2020-01-01 08:15:00+00:00   4.107815      3.782815    0.243438       0.264353   \n",
      "2020-01-01 08:30:00+00:00   4.836215      4.761215    0.206773       0.210030   \n",
      "2020-01-01 08:45:00+00:00   4.836215      4.761215    0.206773       0.210030   \n",
      "2020-01-01 09:00:00+00:00   4.836215      4.761215    0.206773       0.210030   \n",
      "2020-01-01 09:15:00+00:00   4.836215      4.761215    0.206773       0.210030   \n",
      "2020-01-01 09:30:00+00:00   4.836215      4.761215    0.206773       0.210030   \n",
      "2020-01-01 09:45:00+00:00   4.836215      4.761215    0.206773       0.210030   \n",
      "2020-01-01 10:00:00+00:00   4.836215      4.761215    0.206773       0.210030   \n",
      "2020-01-01 10:15:00+00:00   4.836215      4.761215    0.206773       0.210030   \n",
      "2020-01-01 10:30:00+00:00   4.836215      4.761215    0.206773       0.210030   \n",
      "2020-01-01 10:45:00+00:00   4.836215      4.761215    0.206773       0.210030   \n",
      "2020-01-01 11:00:00+00:00   4.836215      4.761215    0.206773       0.210030   \n",
      "2020-01-01 11:15:00+00:00   4.836215      4.761215    0.206773       0.210030   \n",
      "2020-01-01 11:30:00+00:00   4.836215      4.761215    0.206773       0.210030   \n",
      "2020-01-01 11:45:00+00:00   4.836215      4.761215    0.206773       0.210030   \n",
      "2020-01-01 12:00:00+00:00   4.836215      4.761215    0.413547       0.420061   \n",
      "2020-01-01 12:15:00+00:00   4.836215      4.761215    0.413547       0.420061   \n",
      "2020-01-01 12:30:00+00:00   4.836215      4.761215    0.413547       0.420061   \n",
      "2020-01-01 12:45:00+00:00   4.836215      4.761215    0.413547       0.420061   \n",
      "2020-01-01 13:00:00+00:00   4.836215      4.761215    0.413547       0.420061   \n",
      "2020-01-01 13:15:00+00:00   4.836215      4.761215    0.413547       0.420061   \n",
      "2020-01-01 13:30:00+00:00   4.836215      4.761215    0.413547       0.420061   \n",
      "2020-01-01 13:45:00+00:00   4.836215      4.761215    0.413547       0.420061   \n",
      "2020-01-01 14:00:00+00:00   4.836215      4.761215    0.413547       0.420061   \n",
      "2020-01-01 14:15:00+00:00   4.836215      4.761215    0.413547       0.420061   \n",
      "2020-01-01 14:30:00+00:00   4.836215      4.761215    0.413547       0.420061   \n",
      "2020-01-01 14:45:00+00:00   4.836215      4.761215    0.413547       0.420061   \n",
      "2020-01-01 15:00:00+00:00   4.836215      4.761215    0.413547       0.420061   \n",
      "2020-01-01 15:15:00+00:00   4.836215      4.761215    0.413547       0.420061   \n",
      "2020-01-01 15:30:00+00:00   4.836215      4.761215    0.413547       0.420061   \n",
      "2020-01-01 15:45:00+00:00   4.836215      4.761215    0.413547       0.420061   \n",
      "2020-01-01 16:00:00+00:00   4.836215      4.761215    0.413547       0.420061   \n",
      "2020-01-01 16:15:00+00:00   4.836215      4.761215    0.413547       0.420061   \n",
      "2020-01-01 16:30:00+00:00   4.836215      4.761215    0.413547       0.420061   \n",
      "2020-01-01 16:45:00+00:00   4.836215      4.761215    0.413547       0.420061   \n",
      "2020-01-01 17:00:00+00:00   4.836215      4.761215    0.413547       0.420061   \n",
      "2020-01-01 17:15:00+00:00   4.836215      4.761215    0.413547       0.420061   \n",
      "2020-01-01 17:30:00+00:00   4.836215      4.761215    0.413547       0.420061   \n",
      "2020-01-01 17:45:00+00:00   4.836215      4.761215    0.413547       0.420061   \n",
      "2020-01-01 18:00:00+00:00   4.836215      4.761215    0.206773       0.210030   \n",
      "2020-01-01 18:15:00+00:00   4.836215      4.761215    0.206773       0.210030   \n",
      "2020-01-01 18:30:00+00:00   4.836215      4.761215    0.206773       0.210030   \n",
      "2020-01-01 18:45:00+00:00   4.836215      4.761215    0.206773       0.210030   \n",
      "2020-01-01 19:00:00+00:00   4.836215      4.761215    0.206773       0.210030   \n",
      "2020-01-01 19:15:00+00:00   4.836215      4.761215    0.206773       0.210030   \n",
      "2020-01-01 19:30:00+00:00   4.836215      4.761215    0.206773       0.210030   \n",
      "2020-01-01 19:45:00+00:00   4.836215      4.761215    0.206773       0.210030   \n",
      "2020-01-01 20:00:00+00:00   4.836215      4.761215    0.206773       0.210030   \n",
      "2020-01-01 20:15:00+00:00   4.836215      4.761215    0.206773       0.210030   \n",
      "2020-01-01 20:30:00+00:00   4.836215      4.761215    0.206773       0.210030   \n",
      "2020-01-01 20:45:00+00:00   4.688375      4.563375    0.213294       0.219136   \n",
      "2020-01-01 21:00:00+00:00   4.688375      4.563375    0.213294       0.219136   \n",
      "2020-01-01 21:15:00+00:00   4.688375      4.563375    0.213294       0.219136   \n",
      "2020-01-01 21:30:00+00:00   4.688375      4.563375    0.213294       0.219136   \n",
      "2020-01-01 21:45:00+00:00   4.688375      4.563375    0.213294       0.219136   \n",
      "2020-01-01 22:00:00+00:00   4.688375      4.563375    0.213294       0.219136   \n",
      "2020-01-01 22:15:00+00:00   4.688375      4.563375    0.213294       0.219136   \n",
      "2020-01-01 22:30:00+00:00   4.688375      4.563375    0.213294       0.219136   \n",
      "2020-01-01 22:45:00+00:00   4.688375      4.563375    0.213294       0.219136   \n",
      "2020-01-01 23:00:00+00:00   4.688375      4.563375    0.213294       0.219136   \n",
      "2020-01-01 23:15:00+00:00   4.688375      4.563375    0.213294       0.219136   \n",
      "2020-01-01 23:30:00+00:00   4.688375      4.563375    0.213294       0.219136   \n",
      "2020-01-01 23:45:00+00:00   4.688375      4.563375    0.213294       0.219136   \n",
      "\n",
      "                           q_remain  q_floor  q_radiator  \n",
      "2020-01-01 00:00:00+00:00       0.0      0.0         0.0  \n",
      "2020-01-01 00:15:00+00:00       0.0      0.0         0.0  \n",
      "2020-01-01 00:30:00+00:00       0.0      0.0         0.0  \n",
      "2020-01-01 00:45:00+00:00       0.0      0.0         0.0  \n",
      "2020-01-01 01:00:00+00:00       0.0      0.0         0.0  \n",
      "2020-01-01 01:15:00+00:00       0.0      0.0         0.0  \n",
      "2020-01-01 01:30:00+00:00       0.0      0.0         0.0  \n",
      "2020-01-01 01:45:00+00:00       0.0      0.0         0.0  \n",
      "2020-01-01 02:00:00+00:00       0.0      0.0         0.0  \n",
      "2020-01-01 02:15:00+00:00       0.0      0.0         0.0  \n",
      "2020-01-01 02:30:00+00:00       0.0      0.0         0.0  \n",
      "2020-01-01 02:45:00+00:00       0.0      0.0         0.0  \n",
      "2020-01-01 03:00:00+00:00       0.0      0.0         0.0  \n",
      "2020-01-01 03:15:00+00:00       0.0      0.0         0.0  \n",
      "2020-01-01 03:30:00+00:00       0.0      0.0         0.0  \n",
      "2020-01-01 03:45:00+00:00       0.0      0.0         0.0  \n",
      "2020-01-01 04:00:00+00:00       0.0      0.0         0.0  \n",
      "2020-01-01 04:15:00+00:00       0.0      0.0         0.0  \n",
      "2020-01-01 04:30:00+00:00       0.0      0.0         0.0  \n",
      "2020-01-01 04:45:00+00:00       0.0      0.0         0.0  \n",
      "2020-01-01 05:00:00+00:00       0.0      0.0         0.0  \n",
      "2020-01-01 05:15:00+00:00       0.0      0.0         0.0  \n",
      "2020-01-01 05:30:00+00:00       0.0      0.0         0.0  \n",
      "2020-01-01 05:45:00+00:00       0.0      0.0         0.0  \n",
      "2020-01-01 06:00:00+00:00       0.0      1.0         1.0  \n",
      "2020-01-01 06:15:00+00:00       0.0      1.0         1.0  \n",
      "2020-01-01 06:30:00+00:00       0.0      1.0         1.0  \n",
      "2020-01-01 06:45:00+00:00       0.0      1.0         1.0  \n",
      "2020-01-01 07:00:00+00:00       0.0      1.0         1.0  \n",
      "2020-01-01 07:15:00+00:00       0.0      1.0         1.0  \n",
      "2020-01-01 07:30:00+00:00       0.0      1.0         1.0  \n",
      "2020-01-01 07:45:00+00:00       0.0      1.0         1.0  \n",
      "2020-01-01 08:00:00+00:00       0.0      1.0         1.0  \n",
      "2020-01-01 08:15:00+00:00       0.0      1.0         1.0  \n",
      "2020-01-01 08:30:00+00:00       0.0      1.0         1.0  \n",
      "2020-01-01 08:45:00+00:00       0.0      1.0         1.0  \n",
      "2020-01-01 09:00:00+00:00       0.0      1.0         1.0  \n",
      "2020-01-01 09:15:00+00:00       0.0      1.0         1.0  \n",
      "2020-01-01 09:30:00+00:00       0.0      1.0         1.0  \n",
      "2020-01-01 09:45:00+00:00       0.0      1.0         1.0  \n",
      "2020-01-01 10:00:00+00:00       0.0      1.0         1.0  \n",
      "2020-01-01 10:15:00+00:00       0.0      1.0         1.0  \n",
      "2020-01-01 10:30:00+00:00       0.0      1.0         1.0  \n",
      "2020-01-01 10:45:00+00:00       0.0      1.0         1.0  \n",
      "2020-01-01 11:00:00+00:00       0.0      1.0         1.0  \n",
      "2020-01-01 11:15:00+00:00       0.0      1.0         1.0  \n",
      "2020-01-01 11:30:00+00:00       0.0      1.0         1.0  \n",
      "2020-01-01 11:45:00+00:00       0.0      1.0         1.0  \n",
      "2020-01-01 12:00:00+00:00       0.0      2.0         2.0  \n",
      "2020-01-01 12:15:00+00:00       0.0      2.0         2.0  \n",
      "2020-01-01 12:30:00+00:00       0.0      2.0         2.0  \n",
      "2020-01-01 12:45:00+00:00       0.0      2.0         2.0  \n",
      "2020-01-01 13:00:00+00:00       0.0      2.0         2.0  \n",
      "2020-01-01 13:15:00+00:00       0.0      2.0         2.0  \n",
      "2020-01-01 13:30:00+00:00       0.0      2.0         2.0  \n",
      "2020-01-01 13:45:00+00:00       0.0      2.0         2.0  \n",
      "2020-01-01 14:00:00+00:00       0.0      2.0         2.0  \n",
      "2020-01-01 14:15:00+00:00       0.0      2.0         2.0  \n",
      "2020-01-01 14:30:00+00:00       0.0      2.0         2.0  \n",
      "2020-01-01 14:45:00+00:00       0.0      2.0         2.0  \n",
      "2020-01-01 15:00:00+00:00       0.0      2.0         2.0  \n",
      "2020-01-01 15:15:00+00:00       0.0      2.0         2.0  \n",
      "2020-01-01 15:30:00+00:00       0.0      2.0         2.0  \n",
      "2020-01-01 15:45:00+00:00       0.0      2.0         2.0  \n",
      "2020-01-01 16:00:00+00:00       0.0      2.0         2.0  \n",
      "2020-01-01 16:15:00+00:00       0.0      2.0         2.0  \n",
      "2020-01-01 16:30:00+00:00       0.0      2.0         2.0  \n",
      "2020-01-01 16:45:00+00:00       0.0      2.0         2.0  \n",
      "2020-01-01 17:00:00+00:00       0.0      2.0         2.0  \n",
      "2020-01-01 17:15:00+00:00       0.0      2.0         2.0  \n",
      "2020-01-01 17:30:00+00:00       0.0      2.0         2.0  \n",
      "2020-01-01 17:45:00+00:00       0.0      2.0         2.0  \n",
      "2020-01-01 18:00:00+00:00       0.0      1.0         1.0  \n",
      "2020-01-01 18:15:00+00:00       0.0      1.0         1.0  \n",
      "2020-01-01 18:30:00+00:00       0.0      1.0         1.0  \n",
      "2020-01-01 18:45:00+00:00       0.0      1.0         1.0  \n",
      "2020-01-01 19:00:00+00:00       0.0      1.0         1.0  \n",
      "2020-01-01 19:15:00+00:00       0.0      1.0         1.0  \n",
      "2020-01-01 19:30:00+00:00       0.0      1.0         1.0  \n",
      "2020-01-01 19:45:00+00:00       0.0      1.0         1.0  \n",
      "2020-01-01 20:00:00+00:00       0.0      1.0         1.0  \n",
      "2020-01-01 20:15:00+00:00       0.0      1.0         1.0  \n",
      "2020-01-01 20:30:00+00:00       0.0      1.0         1.0  \n",
      "2020-01-01 20:45:00+00:00       0.0      1.0         1.0  \n",
      "2020-01-01 21:00:00+00:00       0.0      1.0         1.0  \n",
      "2020-01-01 21:15:00+00:00       0.0      1.0         1.0  \n",
      "2020-01-01 21:30:00+00:00       0.0      1.0         1.0  \n",
      "2020-01-01 21:45:00+00:00       0.0      1.0         1.0  \n",
      "2020-01-01 22:00:00+00:00       0.0      1.0         1.0  \n",
      "2020-01-01 22:15:00+00:00       0.0      1.0         1.0  \n",
      "2020-01-01 22:30:00+00:00       0.0      1.0         1.0  \n",
      "2020-01-01 22:45:00+00:00       0.0      1.0         1.0  \n",
      "2020-01-01 23:00:00+00:00       0.0      1.0         1.0  \n",
      "2020-01-01 23:15:00+00:00       0.0      1.0         1.0  \n",
      "2020-01-01 23:30:00+00:00       0.0      1.0         1.0  \n",
      "2020-01-01 23:45:00+00:00       0.0      1.0         1.0  \n"
     ]
    }
   ],
   "source": [
    "res_df = bhp_prosumer.time_series\n",
    "res_df.set_index('name', inplace=True)\n",
    "print(res_df.loc[bhp_name].data_source.df)"
   ]
  },
  {
   "cell_type": "markdown",
   "id": "95e420bd-5560-4f53-837c-bee2ae8cb6b0",
   "metadata": {},
   "source": [
    "Now we can plot the evolution of COP of the booster heat pump."
   ]
  },
  {
   "cell_type": "code",
   "execution_count": 171,
   "id": "f7925532-f511-45df-8d7f-0a7e0f53cbed",
   "metadata": {},
   "outputs": [
    {
     "data": {
      "image/png": "[encoded data removed]",
      "text/plain": [
       "<Figure size 640x480 with 1 Axes>"
      ]
     },
     "metadata": {},
     "output_type": "display_data"
    }
   ],
   "source": [
    "bhp_prosumer.time_series.data_source.loc[bhp_name].df.cop_floor.plot()\n",
    "plt.show()"
   ]
  },
  {
   "cell_type": "markdown",
   "id": "b59af8a1-f704-4087-96c9-d857e9cb7257",
   "metadata": {},
   "source": [
    "We can also for example plot the evolution of electrical power (floor) of the booster heat pump."
   ]
  },
  {
   "cell_type": "code",
   "execution_count": 172,
   "id": "ff0db993-be45-4ac4-9aa4-751b5723bfe9",
   "metadata": {},
   "outputs": [
    {
     "data": {
      "image/png": "[encoded data removed]",
      "text/plain": [
       "<Figure size 640x480 with 1 Axes>"
      ]
     },
     "metadata": {},
     "output_type": "display_data"
    }
   ],
   "source": [
    "bhp_prosumer.time_series.data_source.loc[bhp_name].df.p_el_floor.plot()\n",
    "plt.show()"
   ]
  },
  {
   "cell_type": "markdown",
   "id": "2f39cc71-e6f2-4457-a90c-9e3a9add504f",
   "metadata": {},
   "source": [
    "ACKNOWLEDGEMENTS:\n",
    "-----------------\n",
    "The authors would like to thank Pratikshya Mohanty and Odile Capron from the Fraunhofer Institute for the help in preparing this tutorial. Special thanks also to Pawel Lytaev and colleagues from the University of Kassel for their code reviews and suggestions during the development of the models. Support from the Senergy Nets project, funded by the European Union under the Horizon Europe program (Grant Agreement No. 101075731) is gratefully acknowledged. "
   ]
  }
 ],
 "metadata": {
  "kernelspec": {
   "display_name": "Python 3 (ipykernel)",
   "language": "python",
   "name": "python3"
  },
  "language_info": {
   "codemirror_mode": {
    "name": "ipython",
    "version": 3
   },
   "file_extension": ".py",
   "mimetype": "text/x-python",
   "name": "python",
   "nbconvert_exporter": "python",
   "pygments_lexer": "ipython3",
   "version": "3.11.11"
  }
 },
 "nbformat": 4,
 "nbformat_minor": 5
}
