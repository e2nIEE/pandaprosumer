{
 "cells": [
  {
   "cell_type": "markdown",
   "id": "1d72e27bb53ef49c",
   "metadata": {},
   "source": [
    "# PANDAPROSUMER EXAMPLE: CHILLER"
   ]
  },
  {
   "cell_type": "markdown",
   "id": "1a1460d5f91388be",
   "metadata": {},
   "source": [
    "## DESCRIPTION:\n",
    "This example describes how to create a single chiller element in pandaprosumer and connect it to a single consumer (heat demand). The demand and source temperature data is read from a CSV file and stored in pandas dataframe. It includes the information about the power required by the consumer and source temperature at each time step.\n",
    "\n",
    "\n",
    "![title](img/chiller_hd.png)"
   ]
  },
  {
   "cell_type": "markdown",
   "id": "500262c6f62f99c2",
   "metadata": {},
   "source": [
    "## Glossary:\n",
    "- Network: A configuration of connected energy generators and energy consumers\n",
    "- Element: A single energy generator or a single energy consumer\n",
    "- Controller: The logic of an element that defines its behaviour and its limits\n",
    "- Prosumer/Container: A pandaprosumer data structure that holds data related to elements and their controllers.\n",
    "- Const Profile Controller: The initial controller in the network that interacts with other element controllers; it also manages external data via time series.\n",
    "- Map / mapping: A connection between two controllers that specifies what information is exchanged between the corresponding elements."
   ]
  },
  {
   "cell_type": "markdown",
   "id": "455096554daf4b7c",
   "metadata": {},
   "source": [
    "## Network design philosophy:\n",
    "In pandaprosumer, a system's component is represented by a network element. Each element is assigned a container and its own element controller. A container is a structure that contains the component's configuration data (static input data), which can include information that will not change in the analysis such as size, nominal power, efficiency, etc. The behaviour of an element is governed by its controller. Connections between elements are defined in maps, which couple output parameters of one controller to the input parameter of a controller of a connected element. The network is managed by a controller called ConstProfileController. This controller is connected to all element controllers and manages dynamic input data from external sources (e.g. CSV file). For each time step it distributes the dynamic input data to the relevant element controllers."
   ]
  },
  {
   "cell_type": "markdown",
   "id": "c42b371621c904bf",
   "metadata": {},
   "source": [
    "# 1 - INPUT DATA:\n",
    "First let's import libraries required for data management."
   ]
  },
  {
   "cell_type": "code",
   "execution_count": 1,
   "id": "142082ad59af444",
   "metadata": {
    "ExecuteTime": {
     "end_time": "2025-03-31T09:53:49.269675Z",
     "start_time": "2025-03-31T09:53:48.079012Z"
    }
   },
   "outputs": [],
   "source": [
    "import pandas as pd\n",
    "from pandapower.timeseries.data_sources.frame_data import DFData"
   ]
  },
  {
   "cell_type": "markdown",
   "id": "2d7c1bd4bd7fa9e9",
   "metadata": {},
   "source": [
    "Next we need to define properties of the chiller which are treated as static input data, i.e. data (characteristics) that don't change during an analysis. In this case the properties for the chiller are :\n",
    "\n",
    "- `cp_water`: The specific heat capacity of water.\n",
    "- `t_sh`: The superheating temperature, which is the increase in temperature of the refrigerant vapor above its saturation (evaporation) temperature (°C).\n",
    "- `t_sc`: The subcooling temperature, which is the decrease in temperature of the refrigerant liquid below its saturation (condensation) temperature (°C.)\n",
    "- `pp_cond`: The temperature difference (pinch point) of the condenser (delta °C = K).\n",
    "- `pp_evap`: The temperature difference (pinch point) of the evaporator (delta °C = K).\n",
    "- `w_evap_pump`: The maximum pump power of the evaporator.\n",
    "- `w_cond_pump`: The maximum pump power of the condenser.\n",
    "- `n_ref`: The refrigerant fluid.\n",
    "- `in_service`: A boolean, setting the status of the chiller.\n",
    "- `name`: A label identifying the chiller.\n",
    "\n",
    "\n",
    " While these arguments are generally optional, in our specific case they are required. Other optional arguments are also available for more advanced configurations.\n",
    "\n"
   ]
  },
  {
   "cell_type": "code",
   "execution_count": 2,
   "id": "d09e6948fed57f3",
   "metadata": {
    "ExecuteTime": {
     "end_time": "2025-03-31T09:53:49.274674Z",
     "start_time": "2025-03-31T09:53:49.271173Z"
    }
   },
   "outputs": [],
   "source": [
    "chiller_params = {\n",
    "    \"cp_water\": 4.18,\n",
    "    \"t_sh\": 5.0,             \n",
    "    \"t_sc\": 2.0,\n",
    "    \"pp_cond\": 5.0,\n",
    "    \"pp_evap\": 5.0,\n",
    "    \"plf_cc\": 0.9,\n",
    "    \"w_evap_pump\": 200.0,\n",
    "    \"w_cond_pump\": 200.0,\n",
    "    \"eng_eff\": 1.0,\n",
    "    \"n_ref\": \"R410A\",\n",
    "    \"in_service\": True,\n",
    "    \"index\": None,\n",
    "    \"name\": \"sn_chiller\"\n",
    "}\n",
    "\n"
   ]
  },
  {
   "cell_type": "markdown",
   "id": "e2e94621f3d0f86d",
   "metadata": {},
   "source": [
    "We define the analysis time series."
   ]
  },
  {
   "cell_type": "code",
   "execution_count": 3,
   "id": "3ecbe4b60147ccf6",
   "metadata": {
    "ExecuteTime": {
     "end_time": "2025-03-31T09:53:49.283743Z",
     "start_time": "2025-03-31T09:53:49.275566Z"
    }
   },
   "outputs": [],
   "source": [
    "start = '2020-01-01 00:00:00'\n",
    "end = '2020-01-01 01:59:59'\n",
    "time_resolution_s = 3600"
   ]
  },
  {
   "cell_type": "markdown",
   "id": "ecd5c572e5fbb1b1",
   "metadata": {},
   "source": [
    "Now we import our demand data and transform it into an appropriate DFData object. All data of an individual element is stored in a dedicated DFData object."
   ]
  },
  {
   "cell_type": "code",
   "execution_count": 4,
   "id": "a4022973615f828b",
   "metadata": {
    "ExecuteTime": {
     "end_time": "2025-03-31T09:53:49.369089Z",
     "start_time": "2025-03-31T09:53:49.285014Z"
    }
   },
   "outputs": [],
   "source": [
    "import sys\n",
    "import os\n",
    "\n",
    "current_directory = os.getcwd()\n",
    "parent_directory = os.path.dirname(current_directory)\n",
    "sys.path.append(parent_directory)"
   ]
  },
  {
   "cell_type": "code",
   "execution_count": 5,
   "id": "bb3b0d21-1e38-4ac5-bbd3-121b3870469c",
   "metadata": {},
   "outputs": [
    {
     "data": {
      "text/plain": [
       "'C:\\\\Users\\\\pmohanty\\\\Git_repositories\\\\pandaprosumer'"
      ]
     },
     "execution_count": 5,
     "metadata": {},
     "output_type": "execute_result"
    }
   ],
   "source": [
    "os.getcwd()\n",
    "os.path.dirname(current_directory)"
   ]
  },
  {
   "cell_type": "code",
   "execution_count": 6,
   "id": "1777dcc1-a034-4a83-b47c-511eec978f42",
   "metadata": {},
   "outputs": [],
   "source": [
    "start = '2020-01-01 00:00:00'\n",
    "end = '2020-01-01 01:59:59'\n",
    "resol =3600"
   ]
  },
  {
   "cell_type": "code",
   "execution_count": 7,
   "id": "453cb606-99ef-4631-ae9f-750aad5e5c6b",
   "metadata": {},
   "outputs": [
    {
     "name": "stdout",
     "output_type": "stream",
     "text": [
      "                           Set Point Temperature T_set [K]  \\\n",
      "2020-01-01 00:00:00+00:00                              280   \n",
      "2020-01-01 01:00:00+00:00                              280   \n",
      "\n",
      "                           Evaporator inlet temperature T_in_ev [K]  \\\n",
      "2020-01-01 00:00:00+00:00                                       285   \n",
      "2020-01-01 01:00:00+00:00                                       285   \n",
      "\n",
      "                           Condenser inlet temperature T_in_cond [K]  \\\n",
      "2020-01-01 00:00:00+00:00                                        303   \n",
      "2020-01-01 01:00:00+00:00                                        303   \n",
      "\n",
      "                           Condenser temperature increase Dt_cond [K]  \\\n",
      "2020-01-01 00:00:00+00:00                                           3   \n",
      "2020-01-01 01:00:00+00:00                                           3   \n",
      "\n",
      "                           Cooling demand Q_load [kJ/h]  \\\n",
      "2020-01-01 00:00:00+00:00                             0   \n",
      "2020-01-01 01:00:00+00:00                         18000   \n",
      "\n",
      "                           Isentropic efficiency N_is [-]  \\\n",
      "2020-01-01 00:00:00+00:00                             0.7   \n",
      "2020-01-01 01:00:00+00:00                             0.7   \n",
      "\n",
      "                           Maximum chiller power Q_max [kJ/h]  \\\n",
      "2020-01-01 00:00:00+00:00                               36000   \n",
      "2020-01-01 01:00:00+00:00                               36000   \n",
      "\n",
      "                           Control signal Ctrl [-]  \n",
      "2020-01-01 00:00:00+00:00                        0  \n",
      "2020-01-01 01:00:00+00:00                        1  \n"
     ]
    }
   ],
   "source": [
    "demand_data = pd.read_excel('data/senergy_nets_example_chiller.xlsx')\n",
    "# Generate UTC-aware datetime index\n",
    "dur = pd.date_range(start, end, freq=f'{resol}s', tz='UTC')\n",
    "demand_data.index = dur\n",
    "demand_input = DFData(demand_data)\n",
    "print(demand_data.head())"
   ]
  },
  {
   "cell_type": "markdown",
   "id": "20bf208b14962417",
   "metadata": {},
   "source": [
    "We can plot the evolution of the demand from the Excel file."
   ]
  },
  {
   "cell_type": "markdown",
   "id": "b6f84d92889144d6",
   "metadata": {},
   "source": [
    "# 2 - CREATING ELEMENTS OF THE NETWORK:\n",
    "In this example, the network is made up of two elements: a chiller and a consumer, which is modelled by a single heat demand element.\n",
    "\n",
    "We begin by defining an empty prosumer container object and then add the different elements and their respective controllers to it."
   ]
  },
  {
   "cell_type": "code",
   "execution_count": 8,
   "id": "4bfed1f46eef0b4",
   "metadata": {
    "ExecuteTime": {
     "end_time": "2025-03-31T09:53:51.279268Z",
     "start_time": "2025-03-31T09:53:49.506695Z"
    }
   },
   "outputs": [],
   "source": [
    "from pandaprosumer2.create import create_empty_prosumer_container\n",
    "\n",
    "prosumer = create_empty_prosumer_container()"
   ]
  },
  {
   "cell_type": "markdown",
   "id": "37f38b289e5ee8a6",
   "metadata": {},
   "source": [
    "Then we define the period of the analysis using input data about the analysis of time and also timezone and period name."
   ]
  },
  {
   "cell_type": "code",
   "execution_count": 9,
   "id": "3bb1a6fd52d77654",
   "metadata": {
    "ExecuteTime": {
     "end_time": "2025-03-31T09:53:51.285080Z",
     "start_time": "2025-03-31T09:53:51.280279Z"
    }
   },
   "outputs": [],
   "source": [
    "from pandaprosumer2.create import create_period\n",
    "\n",
    "period_id = create_period(prosumer, time_resolution_s, start, end, 'utc', 'default')"
   ]
  },
  {
   "cell_type": "markdown",
   "id": "94601c61127ef2e5",
   "metadata": {},
   "source": [
    "Now we can create the controllers connected to their respective containers and data. We also define the topology of the network by setting the elements' priority. In this example, the network has a linear configuration (the direction of energy flow goes in one direction), so only the order parameter is set:\n",
    "\n",
    "- The const profile controller is always the first element in the network and is the only one that reads data from external sources (order 0, level 0),\n",
    "- The chiller is the second element (order 1, level 0) in the network,\n",
    "- The final element is the demand (order 2, level 0).\n",
    "\n",
    "We begin by creating the Const Profile Controller."
   ]
  },
  {
   "cell_type": "code",
   "execution_count": 10,
   "id": "a593b8cd32003abc",
   "metadata": {
    "ExecuteTime": {
     "end_time": "2025-03-31T09:53:51.296951Z",
     "start_time": "2025-03-31T09:53:51.286091Z"
    }
   },
   "outputs": [],
   "source": [
    "from pandaprosumer2.create_controlled import create_controlled_const_profile\n",
    "\n",
    "input_columns = [\"Set Point Temperature T_set [K]\", \"Evaporator inlet temperature T_in_ev [K]\", \"Condenser inlet temperature T_in_cond [K]\",\n",
    "                       \"Condenser temperature increase Dt_cond [K]\", \"Cooling demand Q_load [kJ/h]\", \"Isentropic efficiency N_is [-]\",\n",
    "                       \"Maximum chiller power Q_max [kJ/h]\", \"Control signal Ctrl [-]\"]\n",
    "result_columns=[\"t_set_pt_const_profile_in_c\", \"t_evap_in_const_profile_in_c\", \"t_cond_inlet_const_profile_in_c\", \"t_cond_delta_t_const_profile_in_c\",\n",
    "                        \"q_chiller_demand_const_profile_kw\", \"n_is_const_profile\", \"q_max_deliverable_const_profile_kw\", \"ctrl_signal_const_profile\"]\n",
    "\n",
    "cp_controller_index = create_controlled_const_profile(prosumer, input_columns, result_columns, period_id, demand_input, level=0, order=0)"
   ]
  },
  {
   "cell_type": "markdown",
   "id": "84444f62864b16ef",
   "metadata": {},
   "source": [
    "Now the chiller and the heat demand controllers are created."
   ]
  },
  {
   "cell_type": "code",
   "execution_count": 11,
   "id": "ff55fcc76370bf3b",
   "metadata": {
    "ExecuteTime": {
     "end_time": "2025-03-31T09:53:51.315126Z",
     "start_time": "2025-03-31T09:53:51.298008Z"
    }
   },
   "outputs": [
    {
     "name": "stdout",
     "output_type": "stream",
     "text": [
      "Element Instance Shape: (1, 12)\n"
     ]
    }
   ],
   "source": [
    "from pandaprosumer2.create_controlled import create_controlled_chiller, create_controlled_heat_demand\n",
    "\n",
    "chiller_controller_index = create_controlled_chiller(prosumer, period=period_id, level=0, order = 1, **chiller_params) \n",
    "hd_controller_index = create_controlled_heat_demand(prosumer, period=period_id, level=0, order = 2,scaling=1.0)"
   ]
  },
  {
   "cell_type": "markdown",
   "id": "f23591df7fae5f0",
   "metadata": {},
   "source": [
    "We can check that the elements were connected added to the prosumer with the specified parameters"
   ]
  },
  {
   "cell_type": "code",
   "execution_count": 12,
   "id": "e06b44aa1db18a71",
   "metadata": {
    "ExecuteTime": {
     "end_time": "2025-03-31T09:53:51.322687Z",
     "start_time": "2025-03-31T09:53:51.316644Z"
    }
   },
   "outputs": [
    {
     "data": {
      "text/html": [
       "<div>\n",
       "<style scoped>\n",
       "    .dataframe tbody tr th:only-of-type {\n",
       "        vertical-align: middle;\n",
       "    }\n",
       "\n",
       "    .dataframe tbody tr th {\n",
       "        vertical-align: top;\n",
       "    }\n",
       "\n",
       "    .dataframe thead th {\n",
       "        text-align: right;\n",
       "    }\n",
       "</style>\n",
       "<table border=\"1\" class=\"dataframe\">\n",
       "  <thead>\n",
       "    <tr style=\"text-align: right;\">\n",
       "      <th></th>\n",
       "      <th>name</th>\n",
       "      <th>in_service</th>\n",
       "      <th>cp_water</th>\n",
       "      <th>t_sh</th>\n",
       "      <th>t_sc</th>\n",
       "      <th>pp_cond</th>\n",
       "      <th>pp_evap</th>\n",
       "      <th>w_cond_pump</th>\n",
       "      <th>w_evap_pump</th>\n",
       "      <th>plf_cc</th>\n",
       "      <th>eng_eff</th>\n",
       "      <th>n_ref</th>\n",
       "    </tr>\n",
       "  </thead>\n",
       "  <tbody>\n",
       "    <tr>\n",
       "      <th>0</th>\n",
       "      <td>sn_chiller</td>\n",
       "      <td>True</td>\n",
       "      <td>4.18</td>\n",
       "      <td>5.0</td>\n",
       "      <td>2.0</td>\n",
       "      <td>5.0</td>\n",
       "      <td>5.0</td>\n",
       "      <td>200.0</td>\n",
       "      <td>200.0</td>\n",
       "      <td>0.9</td>\n",
       "      <td>1.0</td>\n",
       "      <td>R410A</td>\n",
       "    </tr>\n",
       "  </tbody>\n",
       "</table>\n",
       "</div>"
      ],
      "text/plain": [
       "         name  in_service  cp_water  t_sh  t_sc  pp_cond  pp_evap  \\\n",
       "0  sn_chiller        True      4.18   5.0   2.0      5.0      5.0   \n",
       "\n",
       "   w_cond_pump  w_evap_pump  plf_cc  eng_eff  n_ref  \n",
       "0        200.0        200.0     0.9      1.0  R410A  "
      ]
     },
     "execution_count": 12,
     "metadata": {},
     "output_type": "execute_result"
    }
   ],
   "source": [
    "prosumer.sn_chiller"
   ]
  },
  {
   "cell_type": "code",
   "execution_count": 13,
   "id": "6e89d7d9842eb04c",
   "metadata": {
    "ExecuteTime": {
     "end_time": "2025-03-31T09:53:51.345655Z",
     "start_time": "2025-03-31T09:53:51.337053Z"
    }
   },
   "outputs": [
    {
     "data": {
      "text/html": [
       "<div>\n",
       "<style scoped>\n",
       "    .dataframe tbody tr th:only-of-type {\n",
       "        vertical-align: middle;\n",
       "    }\n",
       "\n",
       "    .dataframe tbody tr th {\n",
       "        vertical-align: top;\n",
       "    }\n",
       "\n",
       "    .dataframe thead th {\n",
       "        text-align: right;\n",
       "    }\n",
       "</style>\n",
       "<table border=\"1\" class=\"dataframe\">\n",
       "  <thead>\n",
       "    <tr style=\"text-align: right;\">\n",
       "      <th></th>\n",
       "      <th>name</th>\n",
       "      <th>scaling</th>\n",
       "      <th>in_service</th>\n",
       "    </tr>\n",
       "  </thead>\n",
       "  <tbody>\n",
       "    <tr>\n",
       "      <th>0</th>\n",
       "      <td>None</td>\n",
       "      <td>1.0</td>\n",
       "      <td>True</td>\n",
       "    </tr>\n",
       "  </tbody>\n",
       "</table>\n",
       "</div>"
      ],
      "text/plain": [
       "   name  scaling  in_service\n",
       "0  None      1.0        True"
      ]
     },
     "execution_count": 13,
     "metadata": {},
     "output_type": "execute_result"
    }
   ],
   "source": [
    "prosumer.heat_demand"
   ]
  },
  {
   "cell_type": "markdown",
   "id": "8efe3429e7115fe8",
   "metadata": {},
   "source": [
    "Additionnaly, we can check that for each element, a controller has been added to the prosumer"
   ]
  },
  {
   "cell_type": "code",
   "execution_count": 14,
   "id": "9ecf4204c73aec04",
   "metadata": {
    "ExecuteTime": {
     "end_time": "2025-03-31T09:53:51.358427Z",
     "start_time": "2025-03-31T09:53:51.346782Z"
    }
   },
   "outputs": [
    {
     "data": {
      "text/html": [
       "<div>\n",
       "<style scoped>\n",
       "    .dataframe tbody tr th:only-of-type {\n",
       "        vertical-align: middle;\n",
       "    }\n",
       "\n",
       "    .dataframe tbody tr th {\n",
       "        vertical-align: top;\n",
       "    }\n",
       "\n",
       "    .dataframe thead th {\n",
       "        text-align: right;\n",
       "    }\n",
       "</style>\n",
       "<table border=\"1\" class=\"dataframe\">\n",
       "  <thead>\n",
       "    <tr style=\"text-align: right;\">\n",
       "      <th></th>\n",
       "      <th>object</th>\n",
       "      <th>in_service</th>\n",
       "      <th>order</th>\n",
       "      <th>level</th>\n",
       "      <th>initial_run</th>\n",
       "      <th>recycle</th>\n",
       "    </tr>\n",
       "  </thead>\n",
       "  <tbody>\n",
       "    <tr>\n",
       "      <th>0</th>\n",
       "      <td>ConstProfileController</td>\n",
       "      <td>True</td>\n",
       "      <td>0</td>\n",
       "      <td>0</td>\n",
       "      <td>True</td>\n",
       "      <td>False</td>\n",
       "    </tr>\n",
       "    <tr>\n",
       "      <th>1</th>\n",
       "      <td>ChillerController</td>\n",
       "      <td>True</td>\n",
       "      <td>1</td>\n",
       "      <td>0</td>\n",
       "      <td>True</td>\n",
       "      <td>False</td>\n",
       "    </tr>\n",
       "    <tr>\n",
       "      <th>2</th>\n",
       "      <td>HeatDemandController</td>\n",
       "      <td>True</td>\n",
       "      <td>2</td>\n",
       "      <td>0</td>\n",
       "      <td>True</td>\n",
       "      <td>False</td>\n",
       "    </tr>\n",
       "  </tbody>\n",
       "</table>\n",
       "</div>"
      ],
      "text/plain": [
       "                   object  in_service order level initial_run recycle\n",
       "0  ConstProfileController        True     0     0        True   False\n",
       "1       ChillerController        True     1     0        True   False\n",
       "2    HeatDemandController        True     2     0        True   False"
      ]
     },
     "execution_count": 14,
     "metadata": {},
     "output_type": "execute_result"
    }
   ],
   "source": [
    "prosumer.controller"
   ]
  },
  {
   "cell_type": "markdown",
   "id": "11c68a7f45e0e22a",
   "metadata": {},
   "source": [
    "We can also get the element associated to one controller:"
   ]
  },
  {
   "cell_type": "code",
   "execution_count": 15,
   "id": "877da7df3ff2f7d3",
   "metadata": {
    "ExecuteTime": {
     "end_time": "2025-03-31T09:55:26.419580Z",
     "start_time": "2025-03-31T09:55:26.412039Z"
    }
   },
   "outputs": [
    {
     "data": {
      "text/html": [
       "<div>\n",
       "<style scoped>\n",
       "    .dataframe tbody tr th:only-of-type {\n",
       "        vertical-align: middle;\n",
       "    }\n",
       "\n",
       "    .dataframe tbody tr th {\n",
       "        vertical-align: top;\n",
       "    }\n",
       "\n",
       "    .dataframe thead th {\n",
       "        text-align: right;\n",
       "    }\n",
       "</style>\n",
       "<table border=\"1\" class=\"dataframe\">\n",
       "  <thead>\n",
       "    <tr style=\"text-align: right;\">\n",
       "      <th></th>\n",
       "      <th>name</th>\n",
       "      <th>in_service</th>\n",
       "      <th>cp_water</th>\n",
       "      <th>t_sh</th>\n",
       "      <th>t_sc</th>\n",
       "      <th>pp_cond</th>\n",
       "      <th>pp_evap</th>\n",
       "      <th>w_cond_pump</th>\n",
       "      <th>w_evap_pump</th>\n",
       "      <th>plf_cc</th>\n",
       "      <th>eng_eff</th>\n",
       "      <th>n_ref</th>\n",
       "    </tr>\n",
       "  </thead>\n",
       "  <tbody>\n",
       "    <tr>\n",
       "      <th>0</th>\n",
       "      <td>sn_chiller</td>\n",
       "      <td>True</td>\n",
       "      <td>4.18</td>\n",
       "      <td>5.0</td>\n",
       "      <td>2.0</td>\n",
       "      <td>5.0</td>\n",
       "      <td>5.0</td>\n",
       "      <td>200.0</td>\n",
       "      <td>200.0</td>\n",
       "      <td>0.9</td>\n",
       "      <td>1.0</td>\n",
       "      <td>R410A</td>\n",
       "    </tr>\n",
       "  </tbody>\n",
       "</table>\n",
       "</div>"
      ],
      "text/plain": [
       "         name  in_service  cp_water  t_sh  t_sc  pp_cond  pp_evap  \\\n",
       "0  sn_chiller        True      4.18   5.0   2.0      5.0      5.0   \n",
       "\n",
       "   w_cond_pump  w_evap_pump  plf_cc  eng_eff  n_ref  \n",
       "0        200.0        200.0     0.9      1.0  R410A  "
      ]
     },
     "execution_count": 15,
     "metadata": {},
     "output_type": "execute_result"
    }
   ],
   "source": [
    "prosumer.controller.loc[1, 'object'].element_instance"
   ]
  },
  {
   "cell_type": "markdown",
   "id": "d91220b208da4390",
   "metadata": {},
   "source": [
    "# 4 - CREATING CONNECTIONS (MAPS) BETWEEN THE CONTROLLERS:\n",
    "network configuration\n",
    "\n",
    "For each controller we define how it is connected to other controllers.\n"
   ]
  },
  {
   "cell_type": "code",
   "execution_count": 16,
   "id": "6b201e8790966bd3",
   "metadata": {
    "ExecuteTime": {
     "end_time": "2025-04-01T09:46:15.147877Z",
     "start_time": "2025-04-01T09:46:11.359822Z"
    }
   },
   "outputs": [],
   "source": [
    "from pandaprosumer2.mapping import GenericMapping"
   ]
  },
  {
   "cell_type": "markdown",
   "id": "e2fc3e0b7fc0202e",
   "metadata": {},
   "source": [
    "CONNECTION CONST PROFILE CONTROLLER ---> CHILLER:\n",
    "\n",
    "The connection from the Const Profile Controller to the Chiller Controller enables the Chiller to access the columns from the input time series dataset."
   ]
  },
  {
   "cell_type": "code",
   "execution_count": 17,
   "id": "f82bcc756aa6ca38",
   "metadata": {},
   "outputs": [
    {
     "data": {
      "text/plain": [
       "<pandaprosumer2.mapping.generic.GenericMapping at 0x21207532e50>"
      ]
     },
     "execution_count": 17,
     "metadata": {},
     "output_type": "execute_result"
    }
   ],
   "source": [
    "GenericMapping(prosumer,\n",
    "               initiator_id=cp_controller_index,\n",
    "               initiator_column=[\"t_cond_inlet_const_profile_in_c\", \"t_cond_delta_t_const_profile_in_c\", \"t_evap_in_const_profile_in_c\", \"n_is_const_profile\",\n",
    "                                 \"t_set_pt_const_profile_in_c\", \"q_max_deliverable_const_profile_kw\", \"ctrl_signal_const_profile\"],\n",
    "               responder_id=chiller_controller_index,\n",
    "               responder_column= [\"t_in_cond_c\", \"dt_cond_c\", \"t_in_ev_c\", \"n_is\", \"t_set_pt_c\", \"q_max_kw\", \"ctrl\"],\n",
    "               order=0)"
   ]
  },
  {
   "cell_type": "markdown",
   "id": "2033f2c1ab0b321",
   "metadata": {},
   "source": [
    "CONNECTION CONST PROFILE CONTROLLER ---> HEAT DEMAND:\n",
    "\n",
    "The connection from the Const Profile Controller to the Heat Demand Controller enables the heat demand to access the columns from the input time series dataset.\n",
    "\n",
    "The order=1 in this mapping between ConstProfileController and HeatDemandController defines the sequence in which this mapping is applied, relative to other mappings from the ConstProfileController. It ensures that this mapping happens in the correct order if there are multiple mappings from the same initiator controller.\n",
    "\n",
    "This mapping order is separate from the controller execution order, which defines when the controllers themselves are executed during each simulation step. The order=1 ensures the data flows in the intended sequence without affecting the overall controller run order."
   ]
  },
  {
   "cell_type": "code",
   "execution_count": 18,
   "id": "990bb9e9be868f9e",
   "metadata": {
    "ExecuteTime": {
     "end_time": "2025-03-31T09:53:51.394147Z",
     "start_time": "2025-03-31T09:53:51.385439Z"
    }
   },
   "outputs": [
    {
     "data": {
      "text/plain": [
       "<pandaprosumer2.mapping.generic.GenericMapping at 0x21207532c50>"
      ]
     },
     "execution_count": 18,
     "metadata": {},
     "output_type": "execute_result"
    }
   ],
   "source": [
    "GenericMapping(prosumer,\n",
    "               initiator_id=cp_controller_index,\n",
    "               initiator_column=[\"q_chiller_demand_const_profile_kw\"],\n",
    "               responder_id=hd_controller_index,\n",
    "               responder_column=[\"q_demand_kw\"],\n",
    "               order=0)"
   ]
  },
  {
   "cell_type": "code",
   "execution_count": 19,
   "id": "36776cbd-1aa3-4cac-94fe-4f93ec5b8179",
   "metadata": {},
   "outputs": [
    {
     "data": {
      "text/plain": [
       "<pandaprosumer2.mapping.generic.GenericMapping at 0x21207539210>"
      ]
     },
     "execution_count": 19,
     "metadata": {},
     "output_type": "execute_result"
    }
   ],
   "source": [
    "GenericMapping(prosumer,\n",
    "               initiator_id=chiller_controller_index,\n",
    "               initiator_column=[\"q_cond_kw\"],\n",
    "               responder_id=hd_controller_index,\n",
    "               responder_column=[\"q_received_kw\"],\n",
    "               order=0)"
   ]
  },
  {
   "cell_type": "markdown",
   "id": "e4042aef59c2519c",
   "metadata": {},
   "source": [
    "# 5 - RUNNING THE ANALYSIS:\n",
    "We can now run the analysis with the input data defined above."
   ]
  },
  {
   "cell_type": "code",
   "execution_count": 20,
   "id": "dbe3275e195c01bd",
   "metadata": {
    "ExecuteTime": {
     "end_time": "2025-03-31T09:53:55.462393Z",
     "start_time": "2025-03-31T09:53:51.411707Z"
    }
   },
   "outputs": [
    {
     "name": "stderr",
     "output_type": "stream",
     "text": [
      "100%|████████████████████████████████████████████████████████████████████████████████████| 2/2 [00:00<00:00, 11.33it/s]"
     ]
    },
    {
     "name": "stdout",
     "output_type": "stream",
     "text": [
      "2020-01-01 00:00:00+00:00\n",
      "Chiller activation check:\n",
      "  _ctrl: 0.0\n",
      "  q_to_deliver_kw: 0.0\n",
      "  _t_set_pt_c: 280.0\n",
      "  _t_in_ev_c: 285.0\n",
      "Shape of result[0]: (1,)\n",
      "Shape of result[1]: (1,)\n",
      "Shape of result[2]: (1,)\n",
      "Shape of result[3]: (1,)\n",
      "Shape of result[4]: (1,)\n",
      "Shape of result[5]: (1,)\n",
      "Shape of result[6]: (1,)\n",
      "Shape of result[7]: (1,)\n",
      "Shape of result[8]: (1,)\n",
      "Shape of result[9]: (1,)\n",
      "2020-01-01 01:00:00+00:00\n",
      "Chiller activation check:\n",
      "  _ctrl: 1.0\n",
      "  q_to_deliver_kw: 18000.0\n",
      "  _t_set_pt_c: 280.0\n",
      "  _t_in_ev_c: 285.0\n"
     ]
    },
    {
     "name": "stderr",
     "output_type": "stream",
     "text": [
      "100%|████████████████████████████████████████████████████████████████████████████████████| 2/2 [00:00<00:00,  8.73it/s]\n"
     ]
    }
   ],
   "source": [
    "from pandaprosumer2.run_time_series import run_timeseries\n",
    "\n",
    "run_timeseries(prosumer, period_id, verbose=True)"
   ]
  },
  {
   "cell_type": "markdown",
   "id": "411100a194e1668c",
   "metadata": {},
   "source": [
    "# 6 - PRINTING AND PLOTTING RESULTS:\n",
    "All the results of the timeseries analysis are available in the prosumer.time_series dataframe"
   ]
  },
  {
   "cell_type": "code",
   "execution_count": 21,
   "id": "6e8380aeaa94cb8a",
   "metadata": {
    "ExecuteTime": {
     "end_time": "2025-03-31T09:53:55.467955Z",
     "start_time": "2025-03-31T09:53:55.463351Z"
    }
   },
   "outputs": [
    {
     "data": {
      "text/html": [
       "<div>\n",
       "<style scoped>\n",
       "    .dataframe tbody tr th:only-of-type {\n",
       "        vertical-align: middle;\n",
       "    }\n",
       "\n",
       "    .dataframe tbody tr th {\n",
       "        vertical-align: top;\n",
       "    }\n",
       "\n",
       "    .dataframe thead th {\n",
       "        text-align: right;\n",
       "    }\n",
       "</style>\n",
       "<table border=\"1\" class=\"dataframe\">\n",
       "  <thead>\n",
       "    <tr style=\"text-align: right;\">\n",
       "      <th></th>\n",
       "      <th>name</th>\n",
       "      <th>element</th>\n",
       "      <th>element_index</th>\n",
       "      <th>period_index</th>\n",
       "      <th>data_source</th>\n",
       "    </tr>\n",
       "  </thead>\n",
       "  <tbody>\n",
       "    <tr>\n",
       "      <th>0</th>\n",
       "      <td>sn_chiller</td>\n",
       "      <td>sn_chiller</td>\n",
       "      <td>0.0</td>\n",
       "      <td>0.0</td>\n",
       "      <td>DFData</td>\n",
       "    </tr>\n",
       "    <tr>\n",
       "      <th>1</th>\n",
       "      <td>None</td>\n",
       "      <td>heat_demand</td>\n",
       "      <td>0.0</td>\n",
       "      <td>0.0</td>\n",
       "      <td>DFData</td>\n",
       "    </tr>\n",
       "  </tbody>\n",
       "</table>\n",
       "</div>"
      ],
      "text/plain": [
       "         name      element  element_index  period_index data_source\n",
       "0  sn_chiller   sn_chiller            0.0           0.0      DFData\n",
       "1        None  heat_demand            0.0           0.0      DFData"
      ]
     },
     "execution_count": 21,
     "metadata": {},
     "output_type": "execute_result"
    }
   ],
   "source": [
    "prosumer.time_series"
   ]
  },
  {
   "cell_type": "markdown",
   "id": "fefb52cb61471d8e",
   "metadata": {},
   "source": [
    "Before plotting we have to look at the resulting dataframe to see which quantity (column) do we want to plot."
   ]
  },
  {
   "cell_type": "markdown",
   "id": "88ae499efa65c1af",
   "metadata": {},
   "source": [
    "Access the results of the chiller:"
   ]
  },
  {
   "cell_type": "code",
   "execution_count": 22,
   "id": "8a6be07def2b5b60",
   "metadata": {
    "ExecuteTime": {
     "end_time": "2025-03-31T09:53:55.481440Z",
     "start_time": "2025-03-31T09:53:55.468983Z"
    }
   },
   "outputs": [
    {
     "data": {
      "text/html": [
       "<div>\n",
       "<style scoped>\n",
       "    .dataframe tbody tr th:only-of-type {\n",
       "        vertical-align: middle;\n",
       "    }\n",
       "\n",
       "    .dataframe tbody tr th {\n",
       "        vertical-align: top;\n",
       "    }\n",
       "\n",
       "    .dataframe thead th {\n",
       "        text-align: right;\n",
       "    }\n",
       "</style>\n",
       "<table border=\"1\" class=\"dataframe\">\n",
       "  <thead>\n",
       "    <tr style=\"text-align: right;\">\n",
       "      <th></th>\n",
       "      <th>q_evap_kw</th>\n",
       "      <th>unmet_load_kw</th>\n",
       "      <th>w_in_tot_kw</th>\n",
       "      <th>eer</th>\n",
       "      <th>plr</th>\n",
       "      <th>t_out_ev_in_c</th>\n",
       "      <th>t_out_cond_in_c</th>\n",
       "      <th>m_evap_kg_per_s</th>\n",
       "      <th>m_cond_kg_per_s</th>\n",
       "      <th>q_cond_kw</th>\n",
       "    </tr>\n",
       "  </thead>\n",
       "  <tbody>\n",
       "    <tr>\n",
       "      <th>2020-01-01 00:00:00+00:00</th>\n",
       "      <td>0.0</td>\n",
       "      <td>0.0</td>\n",
       "      <td>0.000000</td>\n",
       "      <td>0.00000</td>\n",
       "      <td>0.0</td>\n",
       "      <td>285.0</td>\n",
       "      <td>303.0</td>\n",
       "      <td>0.000000</td>\n",
       "      <td>0.000000</td>\n",
       "      <td>0.000000</td>\n",
       "    </tr>\n",
       "    <tr>\n",
       "      <th>2020-01-01 01:00:00+00:00</th>\n",
       "      <td>18000.0</td>\n",
       "      <td>0.0</td>\n",
       "      <td>4369.430404</td>\n",
       "      <td>4.11953</td>\n",
       "      <td>0.5</td>\n",
       "      <td>280.0</td>\n",
       "      <td>306.0</td>\n",
       "      <td>861.244019</td>\n",
       "      <td>1801.146208</td>\n",
       "      <td>22586.373445</td>\n",
       "    </tr>\n",
       "  </tbody>\n",
       "</table>\n",
       "</div>"
      ],
      "text/plain": [
       "                           q_evap_kw  unmet_load_kw  w_in_tot_kw      eer  \\\n",
       "2020-01-01 00:00:00+00:00        0.0            0.0     0.000000  0.00000   \n",
       "2020-01-01 01:00:00+00:00    18000.0            0.0  4369.430404  4.11953   \n",
       "\n",
       "                           plr  t_out_ev_in_c  t_out_cond_in_c  \\\n",
       "2020-01-01 00:00:00+00:00  0.0          285.0            303.0   \n",
       "2020-01-01 01:00:00+00:00  0.5          280.0            306.0   \n",
       "\n",
       "                           m_evap_kg_per_s  m_cond_kg_per_s     q_cond_kw  \n",
       "2020-01-01 00:00:00+00:00         0.000000         0.000000      0.000000  \n",
       "2020-01-01 01:00:00+00:00       861.244019      1801.146208  22586.373445  "
      ]
     },
     "execution_count": 22,
     "metadata": {},
     "output_type": "execute_result"
    }
   ],
   "source": [
    "prosumer.time_series.data_source.loc[0].df.head(10)"
   ]
  },
  {
   "cell_type": "markdown",
   "id": "167f20a8ba01af3e",
   "metadata": {},
   "source": [
    "Access the results of the heat demand:"
   ]
  },
  {
   "cell_type": "code",
   "execution_count": 23,
   "id": "84a808d497a82f2c",
   "metadata": {
    "ExecuteTime": {
     "end_time": "2025-03-31T09:53:55.498501Z",
     "start_time": "2025-03-31T09:53:55.482559Z"
    }
   },
   "outputs": [
    {
     "data": {
      "text/html": [
       "<div>\n",
       "<style scoped>\n",
       "    .dataframe tbody tr th:only-of-type {\n",
       "        vertical-align: middle;\n",
       "    }\n",
       "\n",
       "    .dataframe tbody tr th {\n",
       "        vertical-align: top;\n",
       "    }\n",
       "\n",
       "    .dataframe thead th {\n",
       "        text-align: right;\n",
       "    }\n",
       "</style>\n",
       "<table border=\"1\" class=\"dataframe\">\n",
       "  <thead>\n",
       "    <tr style=\"text-align: right;\">\n",
       "      <th></th>\n",
       "      <th>q_received_kw</th>\n",
       "      <th>q_uncovered_kw</th>\n",
       "      <th>mdot_kg_per_s</th>\n",
       "      <th>t_in_c</th>\n",
       "      <th>t_out_c</th>\n",
       "    </tr>\n",
       "  </thead>\n",
       "  <tbody>\n",
       "    <tr>\n",
       "      <th>2020-01-01 00:00:00+00:00</th>\n",
       "      <td>0.000000</td>\n",
       "      <td>0.000000</td>\n",
       "      <td>0.0</td>\n",
       "      <td>0.0</td>\n",
       "      <td>0.0</td>\n",
       "    </tr>\n",
       "    <tr>\n",
       "      <th>2020-01-01 01:00:00+00:00</th>\n",
       "      <td>22586.373445</td>\n",
       "      <td>-4586.373445</td>\n",
       "      <td>0.0</td>\n",
       "      <td>0.0</td>\n",
       "      <td>0.0</td>\n",
       "    </tr>\n",
       "  </tbody>\n",
       "</table>\n",
       "</div>"
      ],
      "text/plain": [
       "                           q_received_kw  q_uncovered_kw  mdot_kg_per_s  \\\n",
       "2020-01-01 00:00:00+00:00       0.000000        0.000000            0.0   \n",
       "2020-01-01 01:00:00+00:00   22586.373445    -4586.373445            0.0   \n",
       "\n",
       "                           t_in_c  t_out_c  \n",
       "2020-01-01 00:00:00+00:00     0.0      0.0  \n",
       "2020-01-01 01:00:00+00:00     0.0      0.0  "
      ]
     },
     "execution_count": 23,
     "metadata": {},
     "output_type": "execute_result"
    }
   ],
   "source": [
    "prosumer.time_series.data_source.loc[1].df.head(10)"
   ]
  },
  {
   "cell_type": "markdown",
   "id": "6f54f746b893b80f",
   "metadata": {},
   "source": [
    "Alternatively, if the elements have unique names, we can change the indexing of the result dataframe to use the name of the elements as index and access the results more directly."
   ]
  }
 ],
 "metadata": {
  "kernelspec": {
   "display_name": "Python 3 (ipykernel)",
   "language": "python",
   "name": "python3"
  },
  "language_info": {
   "codemirror_mode": {
    "name": "ipython",
    "version": 3
   },
   "file_extension": ".py",
   "mimetype": "text/x-python",
   "name": "python",
   "nbconvert_exporter": "python",
   "pygments_lexer": "ipython3",
   "version": "3.11.11"
  }
 },
 "nbformat": 4,
 "nbformat_minor": 5
}
