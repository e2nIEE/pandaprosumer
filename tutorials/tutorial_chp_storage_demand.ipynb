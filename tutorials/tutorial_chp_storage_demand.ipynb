{
 "cells": [
  {
   "cell_type": "markdown",
   "id": "3a250c27-d4c5-46e0-8c6f-908685ddd6a7",
   "metadata": {},
   "source": [
    "<h1 style=\"line-height:2em;\">\n",
    "PANDAPROSUMER EXAMPLE:<br>\n",
    "INTERNAL COMBUSTION ENGINE COMBINED HEAT AND POWER (ICE CHP) WITH HEAT STORAGE\n",
    "</h1>"
   ]
  },
  {
   "cell_type": "markdown",
   "id": "6267e76f-ba9d-4167-9b2f-180584934187",
   "metadata": {},
   "source": [
    "Example prepared by:\n",
    "--------------------\n",
    "    Izak Oberčkal Pluško, Marko Keber, Katja Klinar, Tine Seljak*, Andrej Kitanovski\n",
    "\n",
    "    Faculty of Mechanical Engineering, University of Ljubljana, Slovenia\n",
    "    \n",
    "    *Contact: tine.seljak@fs.uni-lj.si"
   ]
  },
  {
   "cell_type": "markdown",
   "id": "241ad5a1-fa7c-456e-91b1-c1bbca999597",
   "metadata": {},
   "source": [
    "DESCRIPTION:\n",
    "--------------------\n",
    "This tutorial describes how to create a single ICE CHP element in *pandaprosumer* and connect it to a heat storage element. The storage is connected to a single consumer. The user can choose the size of the ICE CHP unit, fuel type and altitude at which the ICE CHP unit is installed, while the time-dependent data (chosen cycle, air intake temperature, demand) is read from a an Excel file and stored in a pandas dataframe. The storage size is defined by its capacity."
   ]
  },
  {
   "attachments": {},
   "cell_type": "markdown",
   "id": "21e1fa05-b258-417f-bd4e-31e7de4e0d46",
   "metadata": {},
   "source": [
    "![network](figures/ice_chp_storage_demand_1.png)"
   ]
  },
  {
   "cell_type": "markdown",
   "id": "21a6ed94-2267-4a16-b765-00286f4a9a78",
   "metadata": {},
   "source": [
    "Glossary:\n",
    "---------\n",
    "- Network: a configuration of connected energy generators and energy consumers\n",
    "- Element: a single energy generator or a single energy consumer\n",
    "- Container: a pandaprosumer data structure that contains data of an individual element; each element must have its container \n",
    "- Controller: the logic of an element that defines its behaviour and its limits\n",
    "- General controller: the first controller in the network that interacts with controllers of all other elements; this controller also manages external data\n",
    "- Map / mapping: a connection between two elements; contains information about the what is exchanged between the two elements"
   ]
  },
  {
   "cell_type": "markdown",
   "id": "d74ff131-cc15-4155-be34-aeb73b7c08cd",
   "metadata": {},
   "source": [
    "Network design philosophy:\n",
    "--------------------------\n",
    "In pandaprosumer, a system's component is represented by a network element. Each element is assigned a *container* and its own *element controller*. A container is a structure that contains the component's configuration data (static input data), which can include information that will not change in the analysis such as size, etc. The behaviour of an element is governed by its *controller*. Connections between elements are defined by *mappings*, which couple output parameters of one controller to the input parameter of a controller of a connected element. \n",
    "The network is managed by a *general controller* called *ConstProfileController*. This controller is connected to all element controllers and manages time-dependent input data from external sources (e.g. Excel file). For each time step it distributes the time-dependent input data to relevant element controllers. "
   ]
  },
  {
   "cell_type": "markdown",
   "id": "cf029aa0-00c2-4930-b9e4-72e9af18dfc9",
   "metadata": {},
   "source": [
    "CREATING A NETWORK:\n",
    "--------------------"
   ]
  },
  {
   "cell_type": "markdown",
   "id": "667cfa7e-ce33-4776-9a56-7160de35a412",
   "metadata": {},
   "source": [
    "If we are not in the pandaprosumer parent directory, we should add it to the path so that the program knows where to find the necessary functions:"
   ]
  },
  {
   "cell_type": "code",
   "execution_count": null,
   "id": "9b5f5b8e-5f33-4c8e-8c91-9a1d203ec701",
   "metadata": {},
   "outputs": [],
   "source": [
    "import sys\n",
    "import os\n",
    "\n",
    "current_directory = os.getcwd()\n",
    "parent_directory = os.path.dirname(current_directory)\n",
    "sys.path.append(parent_directory)"
   ]
  },
  {
   "cell_type": "markdown",
   "id": "4a6362cc-b762-4ece-9d27-e0795dab8085",
   "metadata": {},
   "source": [
    "1 - Input data:\n",
    "---------------"
   ]
  },
  {
   "cell_type": "markdown",
   "id": "d3a74a22-3a97-46e8-99c6-7ae3e9189b5a",
   "metadata": {},
   "source": [
    "First, let's import libraries required for data management."
   ]
  },
  {
   "cell_type": "code",
   "execution_count": null,
   "id": "9ddf9e33-c661-4d13-9cdd-f07c12a6fec8",
   "metadata": {},
   "outputs": [],
   "source": [
    "import pandas as pd\n",
    "from pandapower.timeseries.data_sources.frame_data import DFData"
   ]
  },
  {
   "cell_type": "markdown",
   "id": "f6dca0e6-8087-41e1-babd-8cac480349bb",
   "metadata": {},
   "source": [
    "Next, we need to define properties of the ICE CHP element (size, fuel type, altitude, name), which are treated as static input data, i.e. characteristics that don't change during an analysis. Size is the nominal maximum electrical power (unit: [kW]), the fuel type is chosen from the JSON file that contains the fuel map located in *library/chp_maps/fuel_maps.json*. We will use natural gas, which in pandaprosumer is denoted by \"ng\". The altitude is the altitude above sea level (unit: [m]) of the ICE CHP installation. In examples with more than one ICE CHP instance, we can give each one its own name to easily distinguish between them:"
   ]
  },
  {
   "cell_type": "code",
   "execution_count": null,
   "id": "ed137b49-fdd0-438f-8132-555451c88314",
   "metadata": {},
   "outputs": [],
   "source": [
    "size_kw = 1400\n",
    "name = 'example_chp'\n",
    "altitude_m = 0\n",
    "fuel = 'ng'"
   ]
  },
  {
   "cell_type": "markdown",
   "id": "008c6d4b-c6da-44d8-8046-f5e01815e71b",
   "metadata": {},
   "source": [
    "Because we are using an instance of a simple heat storage, we need only its capacity (unit: [kWh]) to define its size."
   ]
  },
  {
   "cell_type": "code",
   "execution_count": null,
   "id": "120799ea-97fe-425a-bf52-212567e7106f",
   "metadata": {},
   "outputs": [],
   "source": [
    "q_capacity_kwh = 10000"
   ]
  },
  {
   "cell_type": "markdown",
   "id": "538fd85e-102b-4b20-8f07-8cde62eb146c",
   "metadata": {},
   "source": [
    "We define the period of the analysis by setting its start and end, which have the form \"YYYY-MM-DD HH:MM:SS\". The time resolution is given in [s]. "
   ]
  },
  {
   "cell_type": "code",
   "execution_count": null,
   "id": "a01f7921-c6c9-4a5e-8873-3a2bd8440ab4",
   "metadata": {},
   "outputs": [],
   "source": [
    "start = '2020-01-01 00:00:00'\n",
    "end = '2020-01-02 00:00:00'\n",
    "time_resolution_s = 900         # 15 min\n",
    "frequency = '15min'"
   ]
  },
  {
   "cell_type": "markdown",
   "id": "6d5e9a49-b447-4e6a-9e0f-2fdb43ae31c3",
   "metadata": {},
   "source": [
    "Now we import our time-dependent data and transform it into an appropriate DFData object. DFData is a pandaprosumer object that stores all data of an individual element. The DFData object is limited by the duration of the analysis defined above."
   ]
  },
  {
   "cell_type": "code",
   "execution_count": null,
   "id": "2ed0fc75-609b-4aac-bd7f-5ebd280fa1b2",
   "metadata": {},
   "outputs": [],
   "source": [
    "time_series_data = pd.read_excel('data/input_chp.xlsx')\n",
    "\n",
    "dur = pd.date_range(start, end, freq=frequency, tz='utc')\n",
    "time_series_data.index = dur\n",
    "time_series_input = DFData(time_series_data)\n",
    "\n",
    "print(time_series_data.head())"
   ]
  },
  {
   "cell_type": "markdown",
   "id": "a771f641-d9ce-4b1a-87d3-4124f718316c",
   "metadata": {},
   "source": [
    "2 - Creating elements of the network:\n",
    "--------------------------------------"
   ]
  },
  {
   "cell_type": "markdown",
   "id": "600228f1-babc-4ba5-bb61-9faac3f58a1b",
   "metadata": {},
   "source": [
    "In this example, the network is made up of three elements: an energy source, a storage unit, and an energy consumer. The source is represented by a single ICE CHP element, storage by a simple heat storage element, and the consumer is modelled by a single heat demand element. "
   ]
  },
  {
   "attachments": {},
   "cell_type": "markdown",
   "id": "b1953c65-be8d-4880-b7d7-40ce0b1c13b5",
   "metadata": {},
   "source": [
    "![elements](figures/ice_chp_storage_demand_2.png)"
   ]
  },
  {
   "cell_type": "markdown",
   "id": "a28ac39a-464e-4151-aba3-d262f2daba33",
   "metadata": {},
   "source": [
    "First we define an empty prosumer *container* object. Each element of the network has its own container, which is later filled with data and results."
   ]
  },
  {
   "cell_type": "code",
   "execution_count": null,
   "id": "ec145147-1cff-441f-a908-7f530c007ef9",
   "metadata": {},
   "outputs": [],
   "source": [
    "from pandaprosumer.create import create_empty_prosumer_container\n",
    "\n",
    "chp_prosumer = create_empty_prosumer_container()"
   ]
  },
  {
   "cell_type": "markdown",
   "id": "3901edfc-156c-43e3-8445-c9f17431483e",
   "metadata": {},
   "source": [
    "Then we define the period of the analysis using time data for the analysis given above in Section 1."
   ]
  },
  {
   "cell_type": "code",
   "execution_count": null,
   "id": "7f463fac-d701-46c3-876d-742566e173b0",
   "metadata": {},
   "outputs": [],
   "source": [
    "from pandaprosumer.create import create_period\n",
    "\n",
    "period = create_period(chp_prosumer, time_resolution_s, start, end, 'utc', 'default')"
   ]
  },
  {
   "cell_type": "markdown",
   "id": "0ca1a21c-1f47-4f05-82a9-a49a6271003e",
   "metadata": {},
   "source": [
    "2.1. General element:"
   ]
  },
  {
   "cell_type": "markdown",
   "id": "f5251fa2-0977-4178-b943-b9a72d70af19",
   "metadata": {},
   "source": [
    "In a pandaprosumer network, the first element is a general controller (*Const Profile controller*). It reads time-dependent input data (*input_params*) and sends it to other elements of the network (*output_params*). The element's data is stored in the *ConstProfileControllerData* class. The controller (*ConstProfileController*) for this element is created with the  *create_controlled_const_profile* function. At this point, we pass to the general controller element the previously created prosumer container, titles of data columns (*input_params*) in the input file (Excel file, in this case) and the coresponding names of output columns (*output_params*), the period of the analysis and the time-dependent data in the DFData object."
   ]
  },
  {
   "cell_type": "code",
   "execution_count": null,
   "id": "60e00af5-7c02-4775-af95-c230f238f620",
   "metadata": {},
   "outputs": [],
   "source": [
    "from pandaprosumer.create_controlled import create_controlled_const_profile\n",
    "\n",
    "input_columns = ['q_demand_kw', 'cycle', 't_intake_k']\n",
    "result_columns = ['q_demand_cp_kw', 'cycle_cp', 't_intake_cp_k']\n",
    "\n",
    "cp_index = create_controlled_const_profile(\n",
    "    chp_prosumer, input_columns, result_columns, period, time_series_input)"
   ]
  },
  {
   "cell_type": "markdown",
   "id": "51cd9780-c1f2-40d9-b025-8255ade6771f",
   "metadata": {},
   "source": [
    "2.2. ICE CHP element:"
   ]
  },
  {
   "cell_type": "markdown",
   "id": "5369c05a-eb3e-42a6-a480-961beb161c8c",
   "metadata": {},
   "source": [
    "We define the ICE CHP element to which we pass the prosumer container and the data that defines the ICE CHP instance, i.e. size, fuel type, altitude, and its name."
   ]
  },
  {
   "cell_type": "code",
   "execution_count": null,
   "id": "e2440557-1681-479a-a101-0fc745ceb389",
   "metadata": {},
   "outputs": [],
   "source": [
    "from pandaprosumer.create_controlled import create_controlled_ice_chp\n",
    "ice_chp_index = create_controlled_ice_chp(chp_prosumer, size_kw, fuel, altitude_m, name)"
   ]
  },
  {
   "cell_type": "markdown",
   "id": "5b7a3430-9bbb-4330-979d-42d26c9f8220",
   "metadata": {},
   "source": [
    "2.3. Simple heat storage element:"
   ]
  },
  {
   "cell_type": "markdown",
   "id": "3cf4000d-a844-466a-9f67-e25628348588",
   "metadata": {},
   "source": [
    "Here we create second element in the network that represents heat storage."
   ]
  },
  {
   "cell_type": "code",
   "execution_count": null,
   "id": "c95f60e5-3270-4e8c-a7ed-0be862dcf5d7",
   "metadata": {},
   "outputs": [],
   "source": [
    "from pandaprosumer.create_controlled import create_controlled_heat_storage\n",
    "\n",
    "heat_storage_index = create_controlled_heat_storage(chp_prosumer, q_capacity_kwh)\n"
   ]
  },
  {
   "cell_type": "markdown",
   "id": "a085f92e-73d7-41cd-a5ba-7266f850c383",
   "metadata": {},
   "source": [
    "2.4. Heat demand element:"
   ]
  },
  {
   "cell_type": "markdown",
   "id": "818b3f5d-d45c-444f-8783-1da6d67e6da9",
   "metadata": {},
   "source": [
    "Finally, we create the consumer, which is simulated with the heat demand element. We pass the prosumer container to it. The auxiliary scaling parameter allows us to easily adjust the demanded heat by simply scaling it."
   ]
  },
  {
   "cell_type": "code",
   "execution_count": null,
   "id": "84beb007-b068-42b3-9f32-f6f6bc2991cf",
   "metadata": {},
   "outputs": [],
   "source": [
    "from pandaprosumer.create_controlled import create_controlled_heat_demand\n",
    "\n",
    "heat_demand_index = create_controlled_heat_demand(chp_prosumer, scaling=1.0)"
   ]
  },
  {
   "cell_type": "markdown",
   "id": "05a2d06d-2545-4d96-8b76-a5a3f975deda",
   "metadata": {},
   "source": [
    "3 - Creating connections (mappings) between controllers:\n",
    "---------------------------------------------------------"
   ]
  },
  {
   "cell_type": "markdown",
   "id": "d9a6c90e-7239-40bc-b67d-d326a83509e5",
   "metadata": {},
   "source": [
    "![controllers](figures/ice_chp_storage_demand_3.png)"
   ]
  },
  {
   "cell_type": "markdown",
   "id": "41e75ee5-f60d-49a1-9602-9ecb1a05b434",
   "metadata": {},
   "source": [
    "For each controller we define how it is connected to other controllers. In this case we use *Generic Mapping*. The main parameter for the map is the flow of thermal energy (*p_th_out_kw*): the output energy flow of one element is linked with the input energy flow of the connected element. "
   ]
  },
  {
   "cell_type": "code",
   "execution_count": null,
   "id": "a418ea6d-4a4c-4d6a-a1e8-0d65f7aab81b",
   "metadata": {},
   "outputs": [],
   "source": [
    "from pandaprosumer.mapping import GenericMapping"
   ]
  },
  {
   "cell_type": "markdown",
   "id": "f93727c3-a124-45b8-8411-008ec118c81b",
   "metadata": {},
   "source": [
    "3.1. Connection GENERAL CONTROLLER ---> ICE CHP:"
   ]
  },
  {
   "cell_type": "markdown",
   "id": "aebe6642-2427-46ae-b183-45bba91b74bf",
   "metadata": {},
   "source": [
    "The general controller (*initiator_column*) instructs the ICE CHP controller (*responder_column*) what value to use for *cycle* and *t_intake_k*. "
   ]
  },
  {
   "cell_type": "code",
   "execution_count": null,
   "id": "bf9982d0-8188-42ab-bb7c-a27648af42fa",
   "metadata": {},
   "outputs": [],
   "source": [
    "GenericMapping(\n",
    "    chp_prosumer,\n",
    "    initiator_id=cp_index,\n",
    "    initiator_column=\"cycle_cp\",\n",
    "    responder_id=ice_chp_index,\n",
    "    responder_column=\"cycle\",\n",
    ");\n",
    "GenericMapping(\n",
    "    chp_prosumer,\n",
    "    initiator_id=cp_index,\n",
    "    initiator_column=\"t_intake_cp_k\",\n",
    "    responder_id=ice_chp_index,\n",
    "    responder_column=\"t_intake_k\",\n",
    ");"
   ]
  },
  {
   "cell_type": "markdown",
   "id": "2c3824d5-4585-4f1b-a5a7-9b19d384ea8e",
   "metadata": {},
   "source": [
    "3.2. Connection ICE CHP ---> SIMPLE HEAT STORAGE:"
   ]
  },
  {
   "cell_type": "markdown",
   "id": "e5220a95-911c-4532-bdf8-ebd9bd0517c5",
   "metadata": {},
   "source": [
    "The ICE CHP controller (*initiator_column*) informs the heat storage controller (*responder_column*) of how much thermal power (*p_th_out_kw*) it can supply at each time step. "
   ]
  },
  {
   "cell_type": "code",
   "execution_count": null,
   "id": "f33c2a0d-4a8f-460c-b88f-7854413e4c99",
   "metadata": {},
   "outputs": [],
   "source": [
    "GenericMapping(\n",
    "    chp_prosumer,\n",
    "    initiator_id=ice_chp_index,\n",
    "    initiator_column=\"p_th_out_kw\",\n",
    "    responder_id=heat_storage_index,\n",
    "    responder_column=\"q_received_kw\",\n",
    ");"
   ]
  },
  {
   "cell_type": "markdown",
   "id": "27559506-19e5-4e3d-a7e6-dbdbd6db0705",
   "metadata": {},
   "source": [
    "3.3. Connection SIMPLE HEAT STORAGE ---> HEAT DEMAND (consumer):"
   ]
  },
  {
   "cell_type": "markdown",
   "id": "025ae05f-b434-460c-8504-739e793ee217",
   "metadata": {},
   "source": [
    "Heat demand controller instructs the heat storage controller how much heat to supply."
   ]
  },
  {
   "cell_type": "code",
   "execution_count": null,
   "id": "a5d02b7d-a991-4c94-baf0-2f18cd137797",
   "metadata": {},
   "outputs": [],
   "source": [
    "GenericMapping(\n",
    "    chp_prosumer,\n",
    "    initiator_id=heat_storage_index,\n",
    "    initiator_column=\"q_delivered_kw\",\n",
    "    responder_id=heat_demand_index,\n",
    "    responder_column=\"q_received_kw\",\n",
    ");"
   ]
  },
  {
   "cell_type": "markdown",
   "id": "68371210-dc38-444d-84ba-6f99fcaf95f9",
   "metadata": {},
   "source": [
    "3.4. Connection GENERAL CONTROLLER ---> HEAT DEMAND (consumer):"
   ]
  },
  {
   "cell_type": "markdown",
   "id": "ce8380fa-1ead-4da2-9e12-ef3b04d9fb63",
   "metadata": {},
   "source": [
    "The general controller sends the demand controller information about the actual demand at each time step."
   ]
  },
  {
   "cell_type": "code",
   "execution_count": null,
   "id": "d978b760-2dff-4059-95ab-840213ab8308",
   "metadata": {},
   "outputs": [],
   "source": [
    "GenericMapping(\n",
    "    chp_prosumer,                                                  \n",
    "    initiator_id=cp_index,                                               \n",
    "    initiator_column=\"q_demand_cp_kw\",\n",
    "    responder_id=heat_demand_index,                                                \n",
    "    responder_column=\"q_demand_kw\",\n",
    ");"
   ]
  },
  {
   "cell_type": "markdown",
   "id": "d554f254-7acf-4717-a4f9-06347d8ec40a",
   "metadata": {},
   "source": [
    "RUNNING THE ANALYSIS:\n",
    "-----------------------"
   ]
  },
  {
   "cell_type": "markdown",
   "id": "d6ab1a90-b32b-4122-a5ac-a6aa8e7dd073",
   "metadata": {},
   "source": [
    "We can now run the analysis with the input data defined above. "
   ]
  },
  {
   "cell_type": "code",
   "execution_count": null,
   "id": "ea0cfdde-6f31-42f2-842f-4ad762c18f92",
   "metadata": {},
   "outputs": [],
   "source": [
    "from pandaprosumer.run_time_series import run_timeseries\n",
    "\n",
    "run_timeseries(chp_prosumer, period, True);"
   ]
  },
  {
   "cell_type": "markdown",
   "id": "d1add37a-8f8a-4c7c-8d76-8846c3898de2",
   "metadata": {},
   "source": [
    "PRINTING AND PLOTTING RESULTS:\n",
    "----------------------------------"
   ]
  },
  {
   "cell_type": "markdown",
   "id": "12b3ff75-ead1-49b3-9aae-77ca7ec34ab3",
   "metadata": {},
   "source": [
    "First, we plot the evolution of the demand from the Excel file."
   ]
  },
  {
   "cell_type": "code",
   "execution_count": null,
   "id": "bfc284d5-535b-48f9-80e9-09ccbc875729",
   "metadata": {},
   "outputs": [],
   "source": [
    "import matplotlib.pyplot as plt"
   ]
  },
  {
   "cell_type": "code",
   "execution_count": null,
   "id": "7b7617c2-9947-4ca8-b601-2de06e0548ef",
   "metadata": {},
   "outputs": [],
   "source": [
    "time_series_data.plot(y='q_demand_kw');\n",
    "plt.show()"
   ]
  },
  {
   "cell_type": "code",
   "execution_count": null,
   "id": "35ca9a8d-8ad7-436d-a2df-7d6321361648",
   "metadata": {},
   "outputs": [],
   "source": [
    "print(chp_prosumer.heat_demand)"
   ]
  },
  {
   "cell_type": "markdown",
   "id": "98e29554-dd4a-4534-9d2c-22c87dd3e0a5",
   "metadata": {},
   "source": [
    "We then list the available results for the ICE CHP element. Results are stored in the form of time series, which can be plotted on a graph. The *.time_series* command lists all input and output dataframes. "
   ]
  },
  {
   "cell_type": "code",
   "execution_count": null,
   "id": "bcaaff72-c928-4b29-a167-cda6077e837f",
   "metadata": {},
   "outputs": [],
   "source": [
    "print(chp_prosumer.time_series)"
   ]
  },
  {
   "cell_type": "markdown",
   "id": "c65ef261-7154-4352-b3e6-2e835d9adb36",
   "metadata": {},
   "source": [
    "Here *.data_source* lists all available dataframes that we then specify with the *index* key in *.loc[]*."
   ]
  },
  {
   "cell_type": "code",
   "execution_count": null,
   "id": "4730291d-e89b-4248-a8fa-3bbb18edaf7a",
   "metadata": {},
   "outputs": [],
   "source": [
    "print(chp_prosumer.time_series.data_source)"
   ]
  },
  {
   "cell_type": "markdown",
   "id": "f5142157-84ba-47f7-bbfa-b595771a85e8",
   "metadata": {},
   "source": [
    "Before plotting we have to look at the resulting dataframe to see which quantity (column) we would like to plot. The *index* key can be an integer or the name of a specific component we want to look at. "
   ]
  },
  {
   "cell_type": "code",
   "execution_count": null,
   "id": "a37ef532-978c-4578-9767-26b6b20a887d",
   "metadata": {},
   "outputs": [],
   "source": [
    "print(chp_prosumer.time_series.data_source.loc[0].df.head())"
   ]
  },
  {
   "cell_type": "markdown",
   "id": "a6cd8e50-d972-4615-a543-e9e86d893afe",
   "metadata": {},
   "source": [
    "Now we can plot the evolution of the heat that the ICE CHP generates based on the demand. "
   ]
  },
  {
   "cell_type": "code",
   "execution_count": null,
   "id": "ed7f2b07-28c0-4b1b-a0da-eccb2a21bb59",
   "metadata": {},
   "outputs": [],
   "source": [
    "chp_prosumer.time_series.data_source.loc[0].df.p_th_out_kw.plot()\n",
    "plt.show()"
   ]
  },
  {
   "cell_type": "markdown",
   "id": "6c714815-af99-47a3-a480-244f6aa3e9b1",
   "metadata": {},
   "source": [
    "We can also plot time evolution of state of charge (SOC) of the heat storage element."
   ]
  },
  {
   "cell_type": "code",
   "execution_count": null,
   "id": "abbb098f-df43-47c8-b5e6-f20ed1871e28",
   "metadata": {},
   "outputs": [],
   "source": [
    "chp_prosumer.time_series.data_source.loc[1].df.soc.plot()\n",
    "plt.show()"
   ]
  },
  {
   "cell_type": "markdown",
   "id": "b6bc5f83-2992-4560-84c1-b4045d9c42f1",
   "metadata": {},
   "source": [
    "ACKNOWLEDGEMENTS:\n",
    "-----------------\n",
    "The authors would like to thank Pratikshya Mohanty and Odile Capron from the Fraunhofer Institute for the help in preparing this tutorial. Special thanks also to Pawel Lytaev and colleagues from the University of Kassel for their code reviews and suggestions during the development of the models. Support from the Senergy Nets project, funded by the European Union under the Horizon Europe program (Grant Agreement No. 101075731) is gratefully acknowledged."
   ]
  }
 ],
 "metadata": {
  "kernelspec": {
   "display_name": "pp python39",
   "language": "python",
   "name": "venvpp39"
  },
  "language_info": {
   "codemirror_mode": {
    "name": "ipython",
    "version": 3
   },
   "file_extension": ".py",
   "mimetype": "text/x-python",
   "name": "python",
   "nbconvert_exporter": "python",
   "pygments_lexer": "ipython3",
   "version": "3.9.21"
  }
 },
 "nbformat": 4,
 "nbformat_minor": 5
}
