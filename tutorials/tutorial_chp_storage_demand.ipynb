{
 "cells": [
  {
   "cell_type": "markdown",
   "id": "3a250c27-d4c5-46e0-8c6f-908685ddd6a7",
   "metadata": {},
   "source": [
    "# PANDAPROSUMER EXAMPLE: COMBINED HEAT AND POWER (CHP) WITH STORAGE UNIT"
   ]
  },
  {
   "cell_type": "markdown",
   "id": "6267e76f-ba9d-4167-9b2f-180584934187",
   "metadata": {},
   "source": [
    "Example prepared by:\n",
    "--------------------\n",
    "    Izak Oberčkal Pluško, Marko Keber, Katja Klinar, Tine Seljak*, Andrej Kitanovski\n",
    "\n",
    "    Faculty of Mechanical Engineering, University of Ljubljana, Slovenia\n",
    "    \n",
    "    *Contact: tine.seljak@fs.uni-lj.si"
   ]
  },
  {
   "cell_type": "markdown",
   "id": "241ad5a1-fa7c-456e-91b1-c1bbca999597",
   "metadata": {},
   "source": [
    "DESCRIPTION:\n",
    "--------------------\n",
    "This example describes how to create a single CHP element in the *pandaprosumer* software package and connect it to storage unit which is then connected to a single consumer. The user can choose the size of the CHP unit, while the demand data is read from an Excel file and stored in a pandas dataframe. It includes information about the power required by the consumer and the corresponding CHP output configuration (topping or bottoming). "
   ]
  },
  {
   "cell_type": "markdown",
   "id": "21a6ed94-2267-4a16-b765-00286f4a9a78",
   "metadata": {},
   "source": [
    "Glossary:\n",
    "---------\n",
    "- Network: a configuration of connected energy generators and energy consumers\n",
    "- Element: a single energy generator or a single energy consumer\n",
    "- Container: a pandaprosumer data structure that contains data of an individual element; each element must have its container \n",
    "- Controller: the logic of an element that defines its behaviour and its limits\n",
    "- General controller: the first controller in the network that interacts with controllers of all other elements; this controller also manages external data\n",
    "- Map / mapping: a connection between two elements; contains information about the what is exchanged between the two elements"
   ]
  },
  {
   "cell_type": "markdown",
   "id": "d74ff131-cc15-4155-be34-aeb73b7c08cd",
   "metadata": {},
   "source": [
    "Network design philosophy:\n",
    "--------------------------\n",
    "In pandaprosumer, a system's component is represented by a network element. Each element is assigned a *container* and its own *element controller*. A container is a structure that contains the component's configuration data (static input data), which can include information that will not change in the analysis such as size, nominal power, efficiency, etc. The behaviour of an element is governed by its *controller*. Connections between elements are defined in *maps*, which couple output parameters of one controller to the input parameter of a controller of a connected element. \n",
    "The network is managed by a *general controller* called *ConstProfileController*. This controller is connected to all element controllers and manages dynamic input data from external sources (e.g. Excel file). For each time step it distributes the dynamic input data to the relevant element controllers. "
   ]
  },
  {
   "cell_type": "markdown",
   "id": "cf029aa0-00c2-4930-b9e4-72e9af18dfc9",
   "metadata": {},
   "source": [
    "CREATING A NETWORK:\n",
    "--------------------\n",
    "If we are not in pandaprosumer parent directory, we should add it to the path so that the program knows where to find the necessary functions:"
   ]
  },
  {
   "cell_type": "code",
   "execution_count": null,
   "id": "9b5f5b8e-5f33-4c8e-8c91-9a1d203ec701",
   "metadata": {},
   "outputs": [],
   "source": [
    "import sys\n",
    "import os\n",
    "\n",
    "current_directory = os.getcwd()\n",
    "parent_directory = os.path.dirname(current_directory)\n",
    "sys.path.append(parent_directory)"
   ]
  },
  {
   "cell_type": "markdown",
   "id": "4a6362cc-b762-4ece-9d27-e0795dab8085",
   "metadata": {},
   "source": [
    "1 - INPUT DATA:\n",
    "---------------\n",
    "First let's import libraries required for data management."
   ]
  },
  {
   "cell_type": "code",
   "execution_count": null,
   "id": "9ddf9e33-c661-4d13-9cdd-f07c12a6fec8",
   "metadata": {},
   "outputs": [],
   "source": [
    "import pandas as pd\n",
    "from pandapower.timeseries.data_sources.frame_data import DFData"
   ]
  },
  {
   "cell_type": "markdown",
   "id": "f6dca0e6-8087-41e1-babd-8cac480349bb",
   "metadata": {},
   "source": [
    "Next, we need to define properties of the CHP element (size, name) and storage unit (capacity), which are treated as static input data, i.e. data (characteristics) that don't change during an analysis. Size is defined as the nominal maximum electrical power (unit: [kW]). A name can be added to describe the CHP element. # TODO opis altitude"
   ]
  },
  {
   "cell_type": "code",
   "execution_count": null,
   "id": "ed137b49-fdd0-438f-8132-555451c88314",
   "metadata": {},
   "outputs": [],
   "source": [
    "chp_size = 700\n",
    "chp_name = 'example_chp'\n",
    "altitude = 0\n",
    "fuel = 'ng'\n",
    "\n",
    "q_capacity_kwh = 500"
   ]
  },
  {
   "cell_type": "markdown",
   "id": "538fd85e-102b-4b20-8f07-8cde62eb146c",
   "metadata": {},
   "source": [
    "We define the analysis time series."
   ]
  },
  {
   "cell_type": "code",
   "execution_count": null,
   "id": "a01f7921-c6c9-4a5e-8873-3a2bd8440ab4",
   "metadata": {},
   "outputs": [],
   "source": [
    "start = '2020-01-01 00:00:00'\n",
    "end = '2020-01-02 00:00:00'\n",
    "time_resolution = 900"
   ]
  },
  {
   "cell_type": "markdown",
   "id": "6d5e9a49-b447-4e6a-9e0f-2fdb43ae31c3",
   "metadata": {},
   "source": [
    "Now we import our demand data and transform it into an appropriate DFData object. All data of an individual element is stored in a dedicated DFData object."
   ]
  },
  {
   "cell_type": "code",
   "execution_count": null,
   "id": "2ed0fc75-609b-4aac-bd7f-5ebd280fa1b2",
   "metadata": {},
   "outputs": [],
   "source": [
    "demand_data = pd.read_excel('example_data/input_chp_v2.xlsx')\n",
    "\n",
    "print(demand_data.head())\n",
    "\n",
    "dur = pd.date_range(start, end, freq=\"15min\", tz='utc')\n",
    "demand_data.index = dur\n",
    "demand_input = DFData(demand_data)"
   ]
  },
  {
   "cell_type": "markdown",
   "id": "a771f641-d9ce-4b1a-87d3-4124f718316c",
   "metadata": {},
   "source": [
    "2 - CREATING ELEMENTS OF THE NETWORK:\n",
    "--------------------------------------"
   ]
  },
  {
   "cell_type": "markdown",
   "id": "600228f1-babc-4ba5-bb61-9faac3f58a1b",
   "metadata": {},
   "source": [
    "In this example, the network is made up of three elements: a source, storage and a consumer. The source is represented by a single CHP unit, storage by a storage unit and the consumer is modelled by a single heat demand element. "
   ]
  },
  {
   "attachments": {},
   "cell_type": "markdown",
   "id": "8a8d2ba3-ccff-4bf7-b52e-e8dbcaf1b82b",
   "metadata": {},
   "source": [
    "![network configuration](figures/chp_storage_cons_1.png)"
   ]
  },
  {
   "cell_type": "markdown",
   "id": "397a5e6f-6c41-409e-9bc5-74a823968369",
   "metadata": {},
   "source": [
    "2.1. ELEMENT 1 (SOURCE) ---> CHP ELEMENT:"
   ]
  },
  {
   "cell_type": "markdown",
   "id": "a28ac39a-464e-4151-aba3-d262f2daba33",
   "metadata": {},
   "source": [
    "First we define an empty prosumer container object which in practice can be anything. In pandaprosumer, each element of the network has its own container, which is later filled with data and results."
   ]
  },
  {
   "cell_type": "code",
   "execution_count": null,
   "id": "ec145147-1cff-441f-a908-7f530c007ef9",
   "metadata": {},
   "outputs": [],
   "source": [
    "from pandaprosumer.create import create_empty_prosumer_container\n",
    "\n",
    "chp_prosumer = create_empty_prosumer_container()"
   ]
  },
  {
   "cell_type": "markdown",
   "id": "3901edfc-156c-43e3-8445-c9f17431483e",
   "metadata": {},
   "source": [
    "Then we define the period of the analysis using input data about the analysis of time and also timezone and period name."
   ]
  },
  {
   "cell_type": "code",
   "execution_count": null,
   "id": "7f463fac-d701-46c3-876d-742566e173b0",
   "metadata": {},
   "outputs": [],
   "source": [
    "from pandaprosumer.create import create_period\n",
    "\n",
    "chp_period = create_period(chp_prosumer, time_resolution, start, end, 'utc', 'default')"
   ]
  },
  {
   "cell_type": "markdown",
   "id": "5369c05a-eb3e-42a6-a480-961beb161c8c",
   "metadata": {},
   "source": [
    "Now we fill the container created above (chp_prosumer). We pass into the function of the empty prosumer container created above static input data (size, altitude). Finally, the last static input data (name) is passed to the function."
   ]
  },
  {
   "cell_type": "code",
   "execution_count": null,
   "id": "e2440557-1681-479a-a101-0fc745ceb389",
   "metadata": {},
   "outputs": [],
   "source": [
    "from pandaprosumer.create import create_ice_chp\n",
    "chp_index = create_ice_chp(chp_prosumer, chp_size,fuel, altitude, name=chp_name)\n",
    "print(chp_prosumer.ice_chp)"
   ]
  },
  {
   "cell_type": "markdown",
   "id": "c95c34c4-375b-4371-99bd-151c77b224e9",
   "metadata": {},
   "source": [
    "2.2 ELEMENT 2 (STORAGE) ---> STORAGE ELEMENT:"
   ]
  },
  {
   "cell_type": "markdown",
   "id": "3cf4000d-a844-466a-9f67-e25628348588",
   "metadata": {},
   "source": [
    "Here we create second element in the network that represents heat storage. Only parameter required is its capacity."
   ]
  },
  {
   "cell_type": "code",
   "execution_count": null,
   "id": "c95f60e5-3270-4e8c-a7ed-0be862dcf5d7",
   "metadata": {},
   "outputs": [],
   "source": [
    "from pandaprosumer.create import create_heat_storage\n",
    "\n",
    "heat_storage_index = create_heat_storage(\n",
    "    chp_prosumer,\n",
    "    q_capacity_kwh=q_capacity_kwh,\n",
    ")"
   ]
  },
  {
   "cell_type": "markdown",
   "id": "b073502e-e221-45e0-866e-99495988dcec",
   "metadata": {},
   "source": [
    "2.3. ELEMENT 3 (CONSUMER) ---> DEMAND ELEMENT:"
   ]
  },
  {
   "cell_type": "markdown",
   "id": "818b3f5d-d45c-444f-8783-1da6d67e6da9",
   "metadata": {},
   "source": [
    "Here we create the second element in the network, an element that represents the energy demand. In this case we have dynamic heat demand that is defined in the Excel file and is managed by the *general controller*. Scaling parameter scales the demand appropriately."
   ]
  },
  {
   "cell_type": "code",
   "execution_count": null,
   "id": "84beb007-b068-42b3-9f32-f6f6bc2991cf",
   "metadata": {},
   "outputs": [],
   "source": [
    "from pandaprosumer.create import create_heat_demand\n",
    "\n",
    "heat_demand_index = create_heat_demand(chp_prosumer, scaling=1.0)"
   ]
  },
  {
   "cell_type": "markdown",
   "id": "e595f8e3-1e5b-4452-91b3-4838f4602bb9",
   "metadata": {},
   "source": [
    "3 - CREATING CONTROLLERS OF THE ELEMENTS:\n",
    "------------------------------------------"
   ]
  },
  {
   "cell_type": "markdown",
   "id": "7418db56-39b0-497a-a167-b2244e176250",
   "metadata": {},
   "source": [
    "![controllers](figures/chp_storage_cons_2.png)"
   ]
  },
  {
   "cell_type": "markdown",
   "id": "8b9212a9-1486-413f-baba-dd45b7b0c740",
   "metadata": {},
   "source": [
    "3.1. DATA FOR CONTROLLERS:"
   ]
  },
  {
   "cell_type": "markdown",
   "id": "6432cde9-5dc6-4aed-b3b3-36aae6a8eab2",
   "metadata": {},
   "source": [
    "The first step in creating controllers is to define where each element controller gets the necessary data. "
   ]
  },
  {
   "cell_type": "markdown",
   "id": "b61b735f-5668-4d61-80f7-44acd6d40c36",
   "metadata": {},
   "source": [
    "3.1.1. GENERAL CONTROLLER DATA:"
   ]
  },
  {
   "cell_type": "markdown",
   "id": "1a43d4dc-f48c-4fa5-a7e4-6007b90b0e15",
   "metadata": {},
   "source": [
    "The general controller manages data from external sources. The input columns for this controller are the columns of the Excel file where dynamic input data is stored. The output columns are used later in the definitions of the mappings. "
   ]
  },
  {
   "cell_type": "code",
   "execution_count": null,
   "id": "4dc7a308-ce60-4395-a579-2a8f142f77c4",
   "metadata": {},
   "outputs": [],
   "source": [
    "from pandaprosumer.controller.data_model import ConstProfileControllerData\n",
    "\n",
    "const_controller_data = ConstProfileControllerData(\n",
    "    input_columns=['cycle', 'temperature_ice_chp_k', 'demand'],\n",
    "    result_columns=[\"cycle_cp\", 'temperature_ice_chp_k_cp', \"demand_cp\"],\n",
    "    period_index = chp_period\n",
    ")"
   ]
  },
  {
   "cell_type": "markdown",
   "id": "fc2593a8-a648-4cf1-8c96-0c3b496a5d0c",
   "metadata": {},
   "source": [
    "3.1.2. CHP CONTROLLER DATA:"
   ]
  },
  {
   "cell_type": "markdown",
   "id": "19f082a3-bca6-4254-8124-3920f3ac70aa",
   "metadata": {},
   "source": [
    "In CHP data controller object we add element index of the CHP that was created when we defined CHP and period index that was created when we defined period."
   ]
  },
  {
   "cell_type": "code",
   "execution_count": null,
   "id": "aa608bc9-83c3-47d0-ad29-dcb3c82e2873",
   "metadata": {},
   "outputs": [],
   "source": [
    "from pandaprosumer.controller.data_model.ice_chp import IceChpControllerData\n",
    "\n",
    "ice_chp_controller_data = IceChpControllerData(\n",
    "    element_name='ice_chp',                                                 # PM: copy of this here\n",
    "    element_index=[chp_index],\n",
    "    period_index=chp_period\n",
    ");"
   ]
  },
  {
   "cell_type": "markdown",
   "id": "2b397521-92e0-433f-991d-0ac88c2235d4",
   "metadata": {},
   "source": [
    "3.1.3 HEAT STORAGE CONTROLLER DATA:"
   ]
  },
  {
   "cell_type": "markdown",
   "id": "96684b06-8d30-4780-adaa-9650b787e240",
   "metadata": {},
   "source": [
    "In storage data controller object we add element index of the storage that was created when we defined storage and period index that was created when we defined period."
   ]
  },
  {
   "cell_type": "code",
   "execution_count": null,
   "id": "9ef8fd4f-d4aa-4eb8-8618-2226570efff2",
   "metadata": {},
   "outputs": [],
   "source": [
    "from pandaprosumer.controller import HeatStorageControllerData\n",
    "\n",
    "heat_storage_controller_data = HeatStorageControllerData(\n",
    "    element_name='heat_storage',\n",
    "    element_index=[heat_storage_index],\n",
    "    period_index=chp_period\n",
    ")"
   ]
  },
  {
   "cell_type": "markdown",
   "id": "e6124822-e02f-4416-97e7-94971b7a1bb1",
   "metadata": {},
   "source": [
    "3.1.4. HEAT DEMAND (CONTROLLER) CONTROLLER DATA:"
   ]
  },
  {
   "cell_type": "markdown",
   "id": "03bfa09a-58fe-4d70-aac2-3e838187b869",
   "metadata": {},
   "source": [
    "Like in CHP and storage we also add appropirate element index to heat demand data controller object that was created when heat demand was defined and again the period index."
   ]
  },
  {
   "cell_type": "code",
   "execution_count": null,
   "id": "c3e31068-0503-4da8-97e0-77ae02f1e385",
   "metadata": {},
   "outputs": [],
   "source": [
    "from pandaprosumer.controller.data_model.heat_demand import HeatDemandControllerData\n",
    "\n",
    "heat_demand_controller_data = HeatDemandControllerData(\n",
    "    element_name='heat_demand',                                             \n",
    "    element_index=[heat_demand_index],\n",
    "    period_index=chp_period\n",
    ");"
   ]
  },
  {
   "cell_type": "markdown",
   "id": "3cc1e895-ea83-4c49-a838-a90e301dce25",
   "metadata": {},
   "source": [
    "3.2. CREATING CONTROLLERS:"
   ]
  },
  {
   "cell_type": "markdown",
   "id": "0f9af1fa-34f8-4e5c-a7a1-33eff94e0648",
   "metadata": {},
   "source": [
    "Now we can create the controllers and connect them to their respective containers and data. We also define the topology of the network by setting the elements' priority. In this example, the network has a linear configuration (the direction of energy flow goes in one direction), so only the order parameter is set:\n",
    "- The *general controller* (ConstProfileController) is always the first element in the network and is the only one that reads data from external sources,\n",
    "- As the source, the CHP controller is the second element (order 1) in the network,\n",
    "- As the storage, the heat storage controller is the third element (order 2) in the network,\n",
    "- The final order is the demand. "
   ]
  },
  {
   "cell_type": "markdown",
   "id": "ae66c2bb-25e2-4961-8378-c7d7618dac25",
   "metadata": {},
   "source": [
    "3.2.1. GENERAL CONTROLLER:"
   ]
  },
  {
   "cell_type": "code",
   "execution_count": null,
   "id": "b6f86c47-8291-4b4d-9763-2db3832be92b",
   "metadata": {},
   "outputs": [],
   "source": [
    "from pandaprosumer.controller import ConstProfileController\n",
    "\n",
    "ConstProfileController(\n",
    "    chp_prosumer,                                           \n",
    "    const_object=const_controller_data,                \n",
    "    df_data=demand_input,                            \n",
    "    order=0,                                     \n",
    "    level=0\n",
    ");    "
   ]
  },
  {
   "cell_type": "markdown",
   "id": "c3ad58e4-61e5-42a9-aca3-954b28bb4415",
   "metadata": {},
   "source": [
    "3.2.2. CHP CONTROLLER:"
   ]
  },
  {
   "cell_type": "code",
   "execution_count": null,
   "id": "99dffead-d122-4e40-8e34-9312afcb7bad",
   "metadata": {},
   "outputs": [],
   "source": [
    "from pandaprosumer.controller import IceChpController\n",
    "\n",
    "ice_chp_obj.IceChpController(\n",
    "    chp_prosumer, \n",
    "    ice_chp_controller_data,\n",
    "    order=1,                                                   \n",
    "    level=0\n",
    "); "
   ]
  },
  {
   "cell_type": "markdown",
   "id": "bde460eb-368a-45cc-8db4-5d58b4ad7cc3",
   "metadata": {},
   "source": [
    "3.2.2. HEAT STORAGE CONTROLLER:"
   ]
  },
  {
   "cell_type": "code",
   "execution_count": null,
   "id": "120c9f99-82f1-4f75-86bc-936b339f3f60",
   "metadata": {},
   "outputs": [],
   "source": [
    "from pandaprosumer.controller import HeatStorageController\n",
    "\n",
    "HeatStorageController(chp_prosumer,\n",
    "                      heat_storage_controller_data,\n",
    "                      order=2,\n",
    "                      level=0);"
   ]
  },
  {
   "cell_type": "markdown",
   "id": "602868e0-0d7c-4c3d-a285-56f7d33aa5aa",
   "metadata": {},
   "source": [
    "3.2.3. HEAT DEMAND (CONSUMER) CONTROLLER:"
   ]
  },
  {
   "cell_type": "code",
   "execution_count": null,
   "id": "3c6fa14f-92f5-4917-a8d4-cce9a69f9bce",
   "metadata": {},
   "outputs": [],
   "source": [
    "from pandaprosumer.controller import HeatDemandController\n",
    "\n",
    "HeatDemandController(\n",
    "    chp_prosumer,\n",
    "    heat_demand_controller_data,\n",
    "    order=2,\n",
    "    level=0\n",
    ");"
   ]
  },
  {
   "cell_type": "markdown",
   "id": "05a2d06d-2545-4d96-8b76-a5a3f975deda",
   "metadata": {},
   "source": [
    "4 - CREATING CONNECTIONS (MAPS) BETWEEN THE CONTROLLERS:\n",
    "---------------------------------------------------------"
   ]
  },
  {
   "cell_type": "markdown",
   "id": "d9a6c90e-7239-40bc-b67d-d326a83509e5",
   "metadata": {},
   "source": [
    "![controllers](figures/chp_storage_cons_3.png)"
   ]
  },
  {
   "cell_type": "markdown",
   "id": "b2eafeb6-6ff9-4b4f-90fa-7200e9e0056c",
   "metadata": {},
   "source": [
    "For each controller we define how it is connected to other controllers. The main parameter for the map in this case is energy flow: the output energy flow of one element is linked with the input energy flow of the connected element. "
   ]
  },
  {
   "cell_type": "code",
   "execution_count": null,
   "id": "a418ea6d-4a4c-4d6a-a1e8-0d65f7aab81b",
   "metadata": {},
   "outputs": [],
   "source": [
    "from pandaprosumer.mapping import GenericMapping"
   ]
  },
  {
   "cell_type": "markdown",
   "id": "f93727c3-a124-45b8-8411-008ec118c81b",
   "metadata": {},
   "source": [
    "4.1. CONNECTION GENERAL CONTROLLER ---> CHP:"
   ]
  },
  {
   "cell_type": "markdown",
   "id": "aebe6642-2427-46ae-b183-45bba91b74bf",
   "metadata": {},
   "source": [
    "The general controller instructs the CHP controller what cycle to use and what demand is expected from the consumer. "
   ]
  },
  {
   "cell_type": "code",
   "execution_count": null,
   "id": "bf9982d0-8188-42ab-bb7c-a27648af42fa",
   "metadata": {},
   "outputs": [],
   "source": [
    "GenericMapping(\n",
    "    chp_prosumer,\n",
    "    initiator_id=0,\n",
    "    initiator_column=\"cycle_cp\",\n",
    "    responder_id=1,\n",
    "    responder_column=\"cycle\",\n",
    "    order=0\n",
    ");\n",
    "GenericMapping(\n",
    "    chp_prosumer,\n",
    "    initiator_id=0,\n",
    "    initiator_column=\"temperature_ice_chp_k_cp\",\n",
    "    responder_id=1,\n",
    "    responder_column=\"temperature_ice_chp_k\",\n",
    "    order=0\n",
    ");"
   ]
  },
  {
   "cell_type": "markdown",
   "id": "2c3824d5-4585-4f1b-a5a7-9b19d384ea8e",
   "metadata": {},
   "source": [
    "4.2 CONNECTION CHP ---> HEAT STORAGE:"
   ]
  },
  {
   "cell_type": "markdown",
   "id": "e5220a95-911c-4532-bdf8-ebd9bd0517c5",
   "metadata": {},
   "source": [
    "Heat storage controller instructs the CHP controller how much heat to supply."
   ]
  },
  {
   "cell_type": "code",
   "execution_count": null,
   "id": "f33c2a0d-4a8f-460c-b88f-7854413e4c99",
   "metadata": {},
   "outputs": [],
   "source": [
    "GenericMapping(\n",
    "    chp_prosumer,\n",
    "    initiator_id=1,\n",
    "    initiator_column=\"p_th_out_kw\",\n",
    "    responder_id=2,\n",
    "    responder_column=\"q_received_kw\",\n",
    "    order=0\n",
    ");"
   ]
  },
  {
   "cell_type": "markdown",
   "id": "27559506-19e5-4e3d-a7e6-dbdbd6db0705",
   "metadata": {},
   "source": [
    "4.3 CONNECTION HEAT STORAGE ---> HEAT DEMAND (CONSUMER)"
   ]
  },
  {
   "cell_type": "markdown",
   "id": "025ae05f-b434-460c-8504-739e793ee217",
   "metadata": {},
   "source": [
    "Heat demand controller instructs the heat storage controller how much heat to supply."
   ]
  },
  {
   "cell_type": "code",
   "execution_count": null,
   "id": "a5d02b7d-a991-4c94-baf0-2f18cd137797",
   "metadata": {},
   "outputs": [],
   "source": [
    "GenericMapping(\n",
    "    chp_prosumer,\n",
    "    initiator_id=2,\n",
    "    initiator_column=\"q_delivered_kw\",\n",
    "    responder_id=3,\n",
    "    responder_column=\"q_received_kw\",\n",
    "    order=0\n",
    ");"
   ]
  },
  {
   "cell_type": "markdown",
   "id": "68371210-dc38-444d-84ba-6f99fcaf95f9",
   "metadata": {},
   "source": [
    "4.3. CONNECTION GENERAL CONTROLLER ---> HEAT DEMAND (CONSUMER):"
   ]
  },
  {
   "cell_type": "markdown",
   "id": "ce8380fa-1ead-4da2-9e12-ef3b04d9fb63",
   "metadata": {},
   "source": [
    "The general controller sends the demand controller information about the actual demand at each time step."
   ]
  },
  {
   "cell_type": "code",
   "execution_count": null,
   "id": "d978b760-2dff-4059-95ab-840213ab8308",
   "metadata": {},
   "outputs": [],
   "source": [
    "GenericMapping(\n",
    "    chp_prosumer,                                                  \n",
    "    initiator_id=0,                                               \n",
    "    initiator_column=\"demand_cp\",\n",
    "    responder_id=3,                                                \n",
    "    responder_column=\"q_demand_kw\"\n",
    ");"
   ]
  },
  {
   "cell_type": "markdown",
   "id": "d554f254-7acf-4717-a4f9-06347d8ec40a",
   "metadata": {},
   "source": [
    "5 - RUNNING THE ANALYSIS:\n",
    "-----------------------"
   ]
  },
  {
   "cell_type": "markdown",
   "id": "d6ab1a90-b32b-4122-a5ac-a6aa8e7dd073",
   "metadata": {},
   "source": [
    "We can now run the analysis with the input data defined above. "
   ]
  },
  {
   "cell_type": "code",
   "execution_count": null,
   "id": "ea0cfdde-6f31-42f2-842f-4ad762c18f92",
   "metadata": {},
   "outputs": [],
   "source": [
    "from pandaprosumer.run_time_series import run_timeseries\n",
    "\n",
    "run_timeseries(chp_prosumer, chp_period, True);"
   ]
  },
  {
   "cell_type": "markdown",
   "id": "d1add37a-8f8a-4c7c-8d76-8846c3898de2",
   "metadata": {},
   "source": [
    "6 - PRINTING AND PLOTTING RESULTS:\n",
    "----------------------------------"
   ]
  },
  {
   "cell_type": "markdown",
   "id": "12b3ff75-ead1-49b3-9aae-77ca7ec34ab3",
   "metadata": {},
   "source": [
    "First, we plot the evolution of the demand from the Excel file."
   ]
  },
  {
   "cell_type": "code",
   "execution_count": null,
   "id": "bfc284d5-535b-48f9-80e9-09ccbc875729",
   "metadata": {},
   "outputs": [],
   "source": [
    "import matplotlib.pyplot as plt"
   ]
  },
  {
   "cell_type": "code",
   "execution_count": null,
   "id": "7b7617c2-9947-4ca8-b601-2de06e0548ef",
   "metadata": {},
   "outputs": [],
   "source": [
    "demand_data.plot(y='demand');\n",
    "plt.show()"
   ]
  },
  {
   "cell_type": "code",
   "execution_count": null,
   "id": "35ca9a8d-8ad7-436d-a2df-7d6321361648",
   "metadata": {},
   "outputs": [],
   "source": [
    "print(chp_prosumer.heat_demand)"
   ]
  },
  {
   "cell_type": "markdown",
   "id": "98e29554-dd4a-4534-9d2c-22c87dd3e0a5",
   "metadata": {},
   "source": [
    "Then we list the availabel results for the CHP element. Results are stored in the form of time series, which can be plotted on a graph. The *.time_series* command lists all input and output dataframes. "
   ]
  },
  {
   "cell_type": "code",
   "execution_count": null,
   "id": "bcaaff72-c928-4b29-a167-cda6077e837f",
   "metadata": {},
   "outputs": [],
   "source": [
    "print(chp_prosumer.time_series)"
   ]
  },
  {
   "cell_type": "markdown",
   "id": "c65ef261-7154-4352-b3e6-2e835d9adb36",
   "metadata": {},
   "source": [
    "Here *.data_source* lists all available dataframes that we then specify with index in *.loc[]*."
   ]
  },
  {
   "cell_type": "code",
   "execution_count": null,
   "id": "4730291d-e89b-4248-a8fa-3bbb18edaf7a",
   "metadata": {},
   "outputs": [],
   "source": [
    "print(chp_prosumer.time_series.data_source)"
   ]
  },
  {
   "cell_type": "markdown",
   "id": "f5142157-84ba-47f7-bbfa-b595771a85e8",
   "metadata": {},
   "source": [
    "Before plotting we have to look at the resulting dataframe to see which quantity (column) do we want to plot. Index can be an integer or the defined name of specific component you want to look at. "
   ]
  },
  {
   "cell_type": "code",
   "execution_count": null,
   "id": "a37ef532-978c-4578-9767-26b6b20a887d",
   "metadata": {},
   "outputs": [],
   "source": [
    "print(chp_prosumer.time_series.data_source.loc[0].df.head())"
   ]
  },
  {
   "cell_type": "code",
   "execution_count": null,
   "id": "7e4a2a2b-641b-4906-aae7-7c2cd24c79dd",
   "metadata": {},
   "outputs": [],
   "source": [
    "res_df = chp_prosumer.time_series\n",
    "res_df.name[1] = 'example_storage'\n",
    "storage_name = res_df.name[1]\n",
    "res_df.set_index('name', inplace=True)\n",
    "print(res_df.loc[chp_name].data_source.df)"
   ]
  },
  {
   "cell_type": "markdown",
   "id": "a6cd8e50-d972-4615-a543-e9e86d893afe",
   "metadata": {},
   "source": [
    "Now we can plot the evolution of the electrical power that the CHP generates based on the demand. "
   ]
  },
  {
   "cell_type": "code",
   "execution_count": null,
   "id": "ed7f2b07-28c0-4b1b-a0da-eccb2a21bb59",
   "metadata": {},
   "outputs": [],
   "source": [
    "chp_prosumer.time_series.data_source.loc[chp_name].df.p_el_out_kw.plot()\n",
    "plt.show()"
   ]
  },
  {
   "cell_type": "markdown",
   "id": "6c714815-af99-47a3-a480-244f6aa3e9b1",
   "metadata": {},
   "source": [
    "We can also plot time evolution of state of charge (SOC) of the heat storage."
   ]
  },
  {
   "cell_type": "code",
   "execution_count": null,
   "id": "abbb098f-df43-47c8-b5e6-f20ed1871e28",
   "metadata": {},
   "outputs": [],
   "source": [
    "chp_prosumer.time_series.data_source.loc[storage_name].df.soc.plot()\n",
    "plt.show()"
   ]
  },
  {
   "cell_type": "markdown",
   "id": "78107dc8-7174-4eb4-a21c-2fa25c4abce6",
   "metadata": {},
   "source": [
    "We now need to remove the log file handler."
   ]
  },
  {
   "cell_type": "code",
   "execution_count": null,
   "id": "652c572f-5247-4b7e-bbce-1dbd7ddd3a4e",
   "metadata": {},
   "outputs": [],
   "source": [
    "ice_chp_obj.remove_logfile_handler()"
   ]
  },
  {
   "cell_type": "markdown",
   "id": "7f662583-c1ec-49c5-b4e6-179d6ad47b30",
   "metadata": {},
   "source": [
    "ACKNOWLEDGEMENTS:\n",
    "-----------------\n",
    "We would like to thank Pratikshya Mohanty and Odile Capron from XXXXX for the help in preparing this tutorial. Special thanks also to Pawel Lytaev and colleagues from the University of Kassel for their code reviews and suggestions during the development of the models. Support from the SenergyNets project (XXXXX, No. XXXXXX) is gratefully acknowledged. \\\n",
    "#TODO: DOPOLNI ZGORNJI TEKST"
   ]
  }
 ],
 "metadata": {
  "kernelspec": {
   "display_name": "Python 3 (ipykernel)",
   "language": "python",
   "name": "python3"
  },
  "language_info": {
   "codemirror_mode": {
    "name": "ipython",
    "version": 3
   },
   "file_extension": ".py",
   "mimetype": "text/x-python",
   "name": "python",
   "nbconvert_exporter": "python",
   "pygments_lexer": "ipython3",
   "version": "3.12.2"
  }
 },
 "nbformat": 4,
 "nbformat_minor": 5
}
