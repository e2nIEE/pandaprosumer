{
 "cells": [
  {
   "metadata": {},
   "cell_type": "markdown",
   "source": "# PANDAPROSUMER EXAMPLE: HEAT PUMP AND 2 DEMANDS",
   "id": "1d72e27bb53ef49c"
  },
  {
   "metadata": {},
   "cell_type": "markdown",
   "source": [
    "## DESCRIPTION:\n",
    "This example demonstrates how to create a single heat pump element in pandaprosumer, which is connected to both a heat consumer (heat demand) and a dry cooler. When the heat pump produces more heat than the consumer requires, the excess is supplied to the dry cooler.\n",
    "\n",
    "The heat demand and source temperature data are read from an Excel file and stored in a pandas DataFrame. This data includes the consumer’s required power and the source temperature at each time step.\n",
    "\n",
    "\n",
    "![title](img/hp_hd_dc.png)"
   ],
   "id": "1a1460d5f91388be"
  },
  {
   "metadata": {},
   "cell_type": "markdown",
   "source": [
    "## Glossary:\n",
    "- Network: A configuration of connected energy generators and energy consumers\n",
    "- Element: A single energy generator or a single energy consumer\n",
    "- Controller: The logic of an element that defines its behaviour and its limits\n",
    "- Prosumer/Container: A pandaprosumer data structure that holds data related to elements and their controllers.\n",
    "- Const Profile Controller: The initial controller in the network that interacts with other element controllers; it also manages external data via time series.\n",
    "- Map / mapping: A connection between two controllers that specifies what information is exchanged between the corresponding elements."
   ],
   "id": "500262c6f62f99c2"
  },
  {
   "metadata": {},
   "cell_type": "markdown",
   "source": [
    "## Network design philosophy:\n",
    "In pandaprosumer, a system's component is represented by a network element. Each element is assigned a container and its own element controller. A container is a structure that contains the component's configuration data (static input data), which can include information that will not change in the analysis such as size, nominal power, efficiency, etc. The behaviour of an element is governed by its controller. Connections between elements are defined in maps, which couple output parameters of one controller to the input parameter of a controller of a connected element. The network is managed by a controller called ConstProfileController. This controller is connected to all element controllers and manages dynamic input data from external sources (e.g. Excel file). For each time step it distributes the dynamic input data to the relevant element controllers."
   ],
   "id": "455096554daf4b7c"
  },
  {
   "metadata": {},
   "cell_type": "markdown",
   "source": [
    "# 1 - INPUT DATA:\n",
    "First let's import libraries required for data management."
   ],
   "id": "c42b371621c904bf"
  },
  {
   "metadata": {
    "ExecuteTime": {
     "end_time": "2025-03-31T10:09:50.362304Z",
     "start_time": "2025-03-31T10:09:50.358866Z"
    }
   },
   "cell_type": "code",
   "source": [
    "import pandas as pd\n",
    "from pandapower.timeseries.data_sources.frame_data import DFData"
   ],
   "id": "142082ad59af444",
   "outputs": [],
   "execution_count": 90
  },
  {
   "metadata": {},
   "cell_type": "markdown",
   "source": [
    "Next we need to define properties of the heat pump (hp) which are treated as static input data, i.e. data (characteristics) that don't change during an analysis. In this case the properties for the heat pump are :\n",
    "\n",
    "\n",
    "- `carnot_efficiency`: The efficiency of the heat pump relative to the Carnot cycle (dimensionless, between 0 and 1).\n",
    "- `pinch_c`: The pinch point temperature difference (°C), which represents the minimum temperature difference in the heat exchanger.\n",
    "- `delta_t_evap_c`: The temperature difference at the evaporator (°C).\n",
    "- `max_p_comp_kw`: The maximum compressor power (kW), which limits the heat pump's capacity.\n",
    "- `name`: A label identifying the heat pump.\n",
    "\n",
    "Next, we define the properties of the **dry cooler (dc)** :\n",
    "\n",
    "- `n_nom_rpm`:   Nominal rotational speed of the fans [rpm]\n",
    "- `p_fan_nom_kw`: Nominal electric power of each fan [kW]\n",
    "- `qair_nom_m3_per_h`: Nominal air flow [m3/h]\n",
    "- `t_air_in_nom_c`: Air nominal input temperature [C]\n",
    "- `t_air_out_nom_c`:Air nominal output temperature [C]\n",
    "- `t_fluid_in_nom_c `:Air nominal input temperature [C]\n",
    "- `t_fluid_out_nom_c `:Air nominal output temperature [C]\n",
    "- `fans_number `:Number of fans in the dry cooler\n",
    "- `adiabatic_mode `:Whether to use the air adiabatic pre-cooling mode.\n",
    "- `min_delta_t_air_c`:Minimum air temperature difference [C]\n",
    "\n",
    " While these arguments are generally optional, in our specific case they are required in order to fully configure the heat exchanger. Other optional arguments are also available for more advanced configurations."
   ],
   "id": "2d7c1bd4bd7fa9e9"
  },
  {
   "metadata": {
    "ExecuteTime": {
     "end_time": "2025-03-31T10:09:50.505049Z",
     "start_time": "2025-03-31T10:09:50.501504Z"
    }
   },
   "cell_type": "code",
   "source": [
    "hp_params = {\"carnot_efficiency\": 0.5,\n",
    "             \"pinch_c\": 0,\n",
    "             \"delta_t_evap_c\": 5,\n",
    "             \"max_p_comp_kw\": 200,\n",
    "             \"name\":'air_water_heat_pump'}\n",
    "\n",
    "dc_params = {'fans_number': 8,\n",
    "             'n_nom_rpm': 300,\n",
    "             'p_fan_nom_kw': 15,\n",
    "             'qair_nom_m3_per_h': 50000,\n",
    "             't_air_in_nom_c': 25,\n",
    "             't_air_out_nom_c': 45,\n",
    "             't_fluid_in_nom_c': 76,\n",
    "             't_fluid_out_nom_c': 30,\n",
    "             'adiabatic_mode': True,\n",
    "             'min_delta_t_air_c': 5,\n",
    "             'name': 'dry cooler'}\n",
    "\n",
    "\n",
    "hd_params = {\"name\": 'heat_consumer'}"
   ],
   "id": "d09e6948fed57f3",
   "outputs": [],
   "execution_count": 91
  },
  {
   "metadata": {},
   "cell_type": "markdown",
   "source": "We define the analysis time series.",
   "id": "e2e94621f3d0f86d"
  },
  {
   "metadata": {
    "ExecuteTime": {
     "end_time": "2025-03-31T10:09:50.549669Z",
     "start_time": "2025-03-31T10:09:50.546507Z"
    }
   },
   "cell_type": "code",
   "source": [
    "start = '2020-01-01 00:00:00'\n",
    "end = '2020-01-01 23:59:59'\n",
    "time_resolution_s = 900"
   ],
   "id": "3ecbe4b60147ccf6",
   "outputs": [],
   "execution_count": 92
  },
  {
   "metadata": {},
   "cell_type": "markdown",
   "source": "Now we import our demand data and transform it into an appropriate DFData object. All data of an individual element is stored in a dedicated DFData object.",
   "id": "ecd5c572e5fbb1b1"
  },
  {
   "metadata": {
    "ExecuteTime": {
     "end_time": "2025-03-31T10:09:50.640725Z",
     "start_time": "2025-03-31T10:09:50.592632Z"
    }
   },
   "cell_type": "code",
   "source": [
    "import sys\n",
    "import os\n",
    "\n",
    "current_directory = os.getcwd()\n",
    "parent_directory = os.path.dirname(current_directory)\n",
    "sys.path.append(parent_directory)\n",
    "\n",
    "demand_data = pd.read_excel('data/hp_dc_data.xlsx')\n",
    "\n",
    "dur = pd.date_range(start=start, end=end, freq='900s',tz='utc')\n",
    "demand_data.index = dur\n",
    "demand_input = DFData(demand_data)\n",
    "demand_input.df.head(10)\n"
   ],
   "id": "a4022973615f828b",
   "outputs": [
    {
     "data": {
      "text/plain": [
       "                           t_air  demand_power  t_feed_demand_c  \\\n",
       "2020-01-01 00:00:00+00:00     25             0               80   \n",
       "2020-01-01 00:15:00+00:00     25             0               80   \n",
       "2020-01-01 00:30:00+00:00     25             0               80   \n",
       "2020-01-01 00:45:00+00:00     25             0               80   \n",
       "2020-01-01 01:00:00+00:00     25             0               80   \n",
       "2020-01-01 01:15:00+00:00     25           500               80   \n",
       "2020-01-01 01:30:00+00:00     25           500               80   \n",
       "2020-01-01 01:45:00+00:00     25           500               80   \n",
       "2020-01-01 02:00:00+00:00     25           321               80   \n",
       "2020-01-01 02:15:00+00:00     25           321               80   \n",
       "\n",
       "                           t_return_demand_c  mdot_fluid_kg_per_s  \\\n",
       "2020-01-01 00:00:00+00:00                 20                    1   \n",
       "2020-01-01 00:15:00+00:00                 20                    1   \n",
       "2020-01-01 00:30:00+00:00                 20                    1   \n",
       "2020-01-01 00:45:00+00:00                 20                    1   \n",
       "2020-01-01 01:00:00+00:00                 20                    1   \n",
       "2020-01-01 01:15:00+00:00                 20                    1   \n",
       "2020-01-01 01:30:00+00:00                 20                    1   \n",
       "2020-01-01 01:45:00+00:00                 20                    1   \n",
       "2020-01-01 02:00:00+00:00                 20                    1   \n",
       "2020-01-01 02:15:00+00:00                 20                    1   \n",
       "\n",
       "                           phi_air_in_percent  \n",
       "2020-01-01 00:00:00+00:00                  30  \n",
       "2020-01-01 00:15:00+00:00                  30  \n",
       "2020-01-01 00:30:00+00:00                  30  \n",
       "2020-01-01 00:45:00+00:00                  30  \n",
       "2020-01-01 01:00:00+00:00                  30  \n",
       "2020-01-01 01:15:00+00:00                  30  \n",
       "2020-01-01 01:30:00+00:00                  30  \n",
       "2020-01-01 01:45:00+00:00                  30  \n",
       "2020-01-01 02:00:00+00:00                  30  \n",
       "2020-01-01 02:15:00+00:00                  30  "
      ],
      "text/html": [
       "<div>\n",
       "<style scoped>\n",
       "    .dataframe tbody tr th:only-of-type {\n",
       "        vertical-align: middle;\n",
       "    }\n",
       "\n",
       "    .dataframe tbody tr th {\n",
       "        vertical-align: top;\n",
       "    }\n",
       "\n",
       "    .dataframe thead th {\n",
       "        text-align: right;\n",
       "    }\n",
       "</style>\n",
       "<table border=\"1\" class=\"dataframe\">\n",
       "  <thead>\n",
       "    <tr style=\"text-align: right;\">\n",
       "      <th></th>\n",
       "      <th>t_air</th>\n",
       "      <th>demand_power</th>\n",
       "      <th>t_feed_demand_c</th>\n",
       "      <th>t_return_demand_c</th>\n",
       "      <th>mdot_fluid_kg_per_s</th>\n",
       "      <th>phi_air_in_percent</th>\n",
       "    </tr>\n",
       "  </thead>\n",
       "  <tbody>\n",
       "    <tr>\n",
       "      <th>2020-01-01 00:00:00+00:00</th>\n",
       "      <td>25</td>\n",
       "      <td>0</td>\n",
       "      <td>80</td>\n",
       "      <td>20</td>\n",
       "      <td>1</td>\n",
       "      <td>30</td>\n",
       "    </tr>\n",
       "    <tr>\n",
       "      <th>2020-01-01 00:15:00+00:00</th>\n",
       "      <td>25</td>\n",
       "      <td>0</td>\n",
       "      <td>80</td>\n",
       "      <td>20</td>\n",
       "      <td>1</td>\n",
       "      <td>30</td>\n",
       "    </tr>\n",
       "    <tr>\n",
       "      <th>2020-01-01 00:30:00+00:00</th>\n",
       "      <td>25</td>\n",
       "      <td>0</td>\n",
       "      <td>80</td>\n",
       "      <td>20</td>\n",
       "      <td>1</td>\n",
       "      <td>30</td>\n",
       "    </tr>\n",
       "    <tr>\n",
       "      <th>2020-01-01 00:45:00+00:00</th>\n",
       "      <td>25</td>\n",
       "      <td>0</td>\n",
       "      <td>80</td>\n",
       "      <td>20</td>\n",
       "      <td>1</td>\n",
       "      <td>30</td>\n",
       "    </tr>\n",
       "    <tr>\n",
       "      <th>2020-01-01 01:00:00+00:00</th>\n",
       "      <td>25</td>\n",
       "      <td>0</td>\n",
       "      <td>80</td>\n",
       "      <td>20</td>\n",
       "      <td>1</td>\n",
       "      <td>30</td>\n",
       "    </tr>\n",
       "    <tr>\n",
       "      <th>2020-01-01 01:15:00+00:00</th>\n",
       "      <td>25</td>\n",
       "      <td>500</td>\n",
       "      <td>80</td>\n",
       "      <td>20</td>\n",
       "      <td>1</td>\n",
       "      <td>30</td>\n",
       "    </tr>\n",
       "    <tr>\n",
       "      <th>2020-01-01 01:30:00+00:00</th>\n",
       "      <td>25</td>\n",
       "      <td>500</td>\n",
       "      <td>80</td>\n",
       "      <td>20</td>\n",
       "      <td>1</td>\n",
       "      <td>30</td>\n",
       "    </tr>\n",
       "    <tr>\n",
       "      <th>2020-01-01 01:45:00+00:00</th>\n",
       "      <td>25</td>\n",
       "      <td>500</td>\n",
       "      <td>80</td>\n",
       "      <td>20</td>\n",
       "      <td>1</td>\n",
       "      <td>30</td>\n",
       "    </tr>\n",
       "    <tr>\n",
       "      <th>2020-01-01 02:00:00+00:00</th>\n",
       "      <td>25</td>\n",
       "      <td>321</td>\n",
       "      <td>80</td>\n",
       "      <td>20</td>\n",
       "      <td>1</td>\n",
       "      <td>30</td>\n",
       "    </tr>\n",
       "    <tr>\n",
       "      <th>2020-01-01 02:15:00+00:00</th>\n",
       "      <td>25</td>\n",
       "      <td>321</td>\n",
       "      <td>80</td>\n",
       "      <td>20</td>\n",
       "      <td>1</td>\n",
       "      <td>30</td>\n",
       "    </tr>\n",
       "  </tbody>\n",
       "</table>\n",
       "</div>"
      ]
     },
     "execution_count": 93,
     "metadata": {},
     "output_type": "execute_result"
    }
   ],
   "execution_count": 93
  },
  {
   "metadata": {},
   "cell_type": "markdown",
   "source": "We can plot the evolution of the demand from the Excel file.",
   "id": "20bf208b14962417"
  },
  {
   "metadata": {
    "ExecuteTime": {
     "end_time": "2025-03-31T10:09:50.777428Z",
     "start_time": "2025-03-31T10:09:50.642026Z"
    }
   },
   "cell_type": "code",
   "source": [
    "import matplotlib.pyplot as plt\n",
    "\n",
    "demand_input.df.plot(y='demand_power')\n",
    "plt.show()"
   ],
   "id": "acc208ed485f2f86",
   "outputs": [
    {
     "data": {
      "text/plain": [
       "<Figure size 640x480 with 1 Axes>"
      ],
      "image/png": "[encoded data removed]"
     },
     "metadata": {},
     "output_type": "display_data"
    }
   ],
   "execution_count": 94
  },
  {
   "metadata": {},
   "cell_type": "markdown",
   "source": [
    "# 2 - CREATING ELEMENTS OF THE NETWORK:\n",
    "In this example, the network is made up of three elements: a source, two consumer. The source is represented by a single heat pump, the first consumer is modelled by a single heat demand element and the second one in modelled by a single dry cooler element.\n",
    "\n",
    "We begin by defining an empty prosumer container object and then add the different elements and their respective controllers to it."
   ],
   "id": "b6f84d92889144d6"
  },
  {
   "metadata": {
    "ExecuteTime": {
     "end_time": "2025-03-31T10:09:50.783713Z",
     "start_time": "2025-03-31T10:09:50.778630Z"
    }
   },
   "cell_type": "code",
   "source": [
    "from pandaprosumer.create import create_empty_prosumer_container\n",
    "\n",
    "prosumer = create_empty_prosumer_container()"
   ],
   "id": "4bfed1f46eef0b4",
   "outputs": [],
   "execution_count": 95
  },
  {
   "metadata": {},
   "cell_type": "markdown",
   "source": "Then we define the period of the analysis using input data about the analysis of time and also timezone and period name.",
   "id": "37f38b289e5ee8a6"
  },
  {
   "metadata": {
    "ExecuteTime": {
     "end_time": "2025-03-31T10:09:50.790596Z",
     "start_time": "2025-03-31T10:09:50.785841Z"
    }
   },
   "cell_type": "code",
   "source": [
    "from pandaprosumer.create import create_period\n",
    "\n",
    "period_id = create_period(prosumer, time_resolution_s, start, end, 'utc', 'default')"
   ],
   "id": "3bb1a6fd52d77654",
   "outputs": [],
   "execution_count": 96
  },
  {
   "metadata": {},
   "cell_type": "markdown",
   "source": [
    "Now we can create the controllers connected to their respective containers and data. We also define the topology of the network by setting the elements' priority. In this example, the network has a linear configuration (the direction of energy flow goes in one direction), so only the order parameter is set:\n",
    "\n",
    "- The const profile controller is always the first element in the network and is the only one that reads data from external sources (order 0, level 0),\n",
    "- As the source, the gas boiler controller is the second element (order 0, level 1) in the network,\n",
    "- Third element represents the heat exchanger(order 1, level 1),\n",
    " -The final order is the demand (order 2, level 1).\n",
    "\n",
    "We begin by creating the Const Profile Controller."
   ],
   "id": "94601c61127ef2e5"
  },
  {
   "metadata": {
    "ExecuteTime": {
     "end_time": "2025-03-31T10:09:50.797640Z",
     "start_time": "2025-03-31T10:09:50.791702Z"
    }
   },
   "cell_type": "code",
   "source": [
    "from pandaprosumer.create_controlled import create_controlled_const_profile\n",
    "\n",
    "cp_input_columns = [\"t_air\", \"demand_power\", \"t_feed_demand_c\", \"t_return_demand_c\",\"mdot_fluid_kg_per_s\",\"phi_air_in_percent\"]\n",
    "cp_result_columns = [\"t_evap_in_c\", \"qdemand_kw\", \"t_feed_demand_c\", \"t_return_demand_c\",\"mdot_fluid_kg_per_s\",\"phi_air_in_percent\"]\n",
    "cp_controller_index = create_controlled_const_profile(prosumer, cp_input_columns, cp_result_columns, period_id, demand_input, 0, 0)"
   ],
   "id": "a593b8cd32003abc",
   "outputs": [],
   "execution_count": 97
  },
  {
   "metadata": {},
   "cell_type": "markdown",
   "source": "The heat exchanger, Gas Boiler and Heat demand controllers are now created",
   "id": "84444f62864b16ef"
  },
  {
   "metadata": {
    "ExecuteTime": {
     "end_time": "2025-03-31T10:09:50.829916Z",
     "start_time": "2025-03-31T10:09:50.798705Z"
    }
   },
   "cell_type": "code",
   "source": [
    "from pandaprosumer.create_controlled import create_controlled_heat_pump,create_controlled_dry_cooler,create_controlled_heat_demand\n",
    "\n",
    "hp_controller_index = create_controlled_heat_pump(prosumer, period=period_id, level=1, order=0, **hp_params)\n",
    "hd_controller_index = create_controlled_heat_demand(prosumer, period=period_id, level=1, order=1,**hd_params)\n",
    "dc_controller_index = create_controlled_dry_cooler(prosumer, period=period_id, level=1, order=2, **dc_params)"
   ],
   "id": "ff55fcc76370bf3b",
   "outputs": [
    {
     "name": "stderr",
     "output_type": "stream",
     "text": [
      "Unable to find Lower Heating Value for air\n",
      "Unable to find Higher Heating Value for air\n"
     ]
    }
   ],
   "execution_count": 98
  },
  {
   "metadata": {},
   "cell_type": "markdown",
   "source": "We can check that the elements were connected added to the prosumer with the specified parameters",
   "id": "f23591df7fae5f0"
  },
  {
   "metadata": {
    "ExecuteTime": {
     "end_time": "2025-03-31T10:09:50.838235Z",
     "start_time": "2025-03-31T10:09:50.831067Z"
    }
   },
   "cell_type": "code",
   "source": "prosumer.heat_pump",
   "id": "e06b44aa1db18a71",
   "outputs": [
    {
     "data": {
      "text/plain": [
       "                  name  delta_t_evap_c  carnot_efficiency  pinch_c  \\\n",
       "0  air_water_heat_pump             5.0                0.5      0.0   \n",
       "\n",
       "   delta_t_hot_default_c  max_p_comp_kw  min_p_comp_kw  max_t_cond_out_c  \\\n",
       "0                    5.0          200.0            NaN               NaN   \n",
       "\n",
       "   max_cop cond_fluid evap_fluid  in_service  \n",
       "0      NaN      water      water        True  "
      ],
      "text/html": [
       "<div>\n",
       "<style scoped>\n",
       "    .dataframe tbody tr th:only-of-type {\n",
       "        vertical-align: middle;\n",
       "    }\n",
       "\n",
       "    .dataframe tbody tr th {\n",
       "        vertical-align: top;\n",
       "    }\n",
       "\n",
       "    .dataframe thead th {\n",
       "        text-align: right;\n",
       "    }\n",
       "</style>\n",
       "<table border=\"1\" class=\"dataframe\">\n",
       "  <thead>\n",
       "    <tr style=\"text-align: right;\">\n",
       "      <th></th>\n",
       "      <th>name</th>\n",
       "      <th>delta_t_evap_c</th>\n",
       "      <th>carnot_efficiency</th>\n",
       "      <th>pinch_c</th>\n",
       "      <th>delta_t_hot_default_c</th>\n",
       "      <th>max_p_comp_kw</th>\n",
       "      <th>min_p_comp_kw</th>\n",
       "      <th>max_t_cond_out_c</th>\n",
       "      <th>max_cop</th>\n",
       "      <th>cond_fluid</th>\n",
       "      <th>evap_fluid</th>\n",
       "      <th>in_service</th>\n",
       "    </tr>\n",
       "  </thead>\n",
       "  <tbody>\n",
       "    <tr>\n",
       "      <th>0</th>\n",
       "      <td>air_water_heat_pump</td>\n",
       "      <td>5.0</td>\n",
       "      <td>0.5</td>\n",
       "      <td>0.0</td>\n",
       "      <td>5.0</td>\n",
       "      <td>200.0</td>\n",
       "      <td>NaN</td>\n",
       "      <td>NaN</td>\n",
       "      <td>NaN</td>\n",
       "      <td>water</td>\n",
       "      <td>water</td>\n",
       "      <td>True</td>\n",
       "    </tr>\n",
       "  </tbody>\n",
       "</table>\n",
       "</div>"
      ]
     },
     "execution_count": 99,
     "metadata": {},
     "output_type": "execute_result"
    }
   ],
   "execution_count": 99
  },
  {
   "metadata": {
    "ExecuteTime": {
     "end_time": "2025-03-31T10:09:50.846935Z",
     "start_time": "2025-03-31T10:09:50.839471Z"
    }
   },
   "cell_type": "code",
   "source": "prosumer.dry_cooler",
   "id": "10e2840f555cc4fe",
   "outputs": [
    {
     "data": {
      "text/plain": [
       "         name  n_nom_rpm  p_fan_nom_kw  qair_nom_m3_per_h  t_air_in_nom_c  \\\n",
       "0  dry cooler      300.0          15.0            50000.0            25.0   \n",
       "\n",
       "   t_air_out_nom_c  t_fluid_in_nom_c  t_fluid_out_nom_c  fans_number  \\\n",
       "0             45.0              76.0               30.0            8   \n",
       "\n",
       "   adiabatic_mode  phi_adiabatic_sat_percent  min_delta_t_air_c  in_service  \n",
       "0            True                       99.0                5.0        True  "
      ],
      "text/html": [
       "<div>\n",
       "<style scoped>\n",
       "    .dataframe tbody tr th:only-of-type {\n",
       "        vertical-align: middle;\n",
       "    }\n",
       "\n",
       "    .dataframe tbody tr th {\n",
       "        vertical-align: top;\n",
       "    }\n",
       "\n",
       "    .dataframe thead th {\n",
       "        text-align: right;\n",
       "    }\n",
       "</style>\n",
       "<table border=\"1\" class=\"dataframe\">\n",
       "  <thead>\n",
       "    <tr style=\"text-align: right;\">\n",
       "      <th></th>\n",
       "      <th>name</th>\n",
       "      <th>n_nom_rpm</th>\n",
       "      <th>p_fan_nom_kw</th>\n",
       "      <th>qair_nom_m3_per_h</th>\n",
       "      <th>t_air_in_nom_c</th>\n",
       "      <th>t_air_out_nom_c</th>\n",
       "      <th>t_fluid_in_nom_c</th>\n",
       "      <th>t_fluid_out_nom_c</th>\n",
       "      <th>fans_number</th>\n",
       "      <th>adiabatic_mode</th>\n",
       "      <th>phi_adiabatic_sat_percent</th>\n",
       "      <th>min_delta_t_air_c</th>\n",
       "      <th>in_service</th>\n",
       "    </tr>\n",
       "  </thead>\n",
       "  <tbody>\n",
       "    <tr>\n",
       "      <th>0</th>\n",
       "      <td>dry cooler</td>\n",
       "      <td>300.0</td>\n",
       "      <td>15.0</td>\n",
       "      <td>50000.0</td>\n",
       "      <td>25.0</td>\n",
       "      <td>45.0</td>\n",
       "      <td>76.0</td>\n",
       "      <td>30.0</td>\n",
       "      <td>8</td>\n",
       "      <td>True</td>\n",
       "      <td>99.0</td>\n",
       "      <td>5.0</td>\n",
       "      <td>True</td>\n",
       "    </tr>\n",
       "  </tbody>\n",
       "</table>\n",
       "</div>"
      ]
     },
     "execution_count": 100,
     "metadata": {},
     "output_type": "execute_result"
    }
   ],
   "execution_count": 100
  },
  {
   "metadata": {
    "ExecuteTime": {
     "end_time": "2025-03-31T10:09:50.853060Z",
     "start_time": "2025-03-31T10:09:50.848297Z"
    }
   },
   "cell_type": "code",
   "source": "prosumer.heat_demand",
   "id": "6e89d7d9842eb04c",
   "outputs": [
    {
     "data": {
      "text/plain": [
       "            name  scaling  in_service\n",
       "0  heat_consumer      1.0        True"
      ],
      "text/html": [
       "<div>\n",
       "<style scoped>\n",
       "    .dataframe tbody tr th:only-of-type {\n",
       "        vertical-align: middle;\n",
       "    }\n",
       "\n",
       "    .dataframe tbody tr th {\n",
       "        vertical-align: top;\n",
       "    }\n",
       "\n",
       "    .dataframe thead th {\n",
       "        text-align: right;\n",
       "    }\n",
       "</style>\n",
       "<table border=\"1\" class=\"dataframe\">\n",
       "  <thead>\n",
       "    <tr style=\"text-align: right;\">\n",
       "      <th></th>\n",
       "      <th>name</th>\n",
       "      <th>scaling</th>\n",
       "      <th>in_service</th>\n",
       "    </tr>\n",
       "  </thead>\n",
       "  <tbody>\n",
       "    <tr>\n",
       "      <th>0</th>\n",
       "      <td>heat_consumer</td>\n",
       "      <td>1.0</td>\n",
       "      <td>True</td>\n",
       "    </tr>\n",
       "  </tbody>\n",
       "</table>\n",
       "</div>"
      ]
     },
     "execution_count": 101,
     "metadata": {},
     "output_type": "execute_result"
    }
   ],
   "execution_count": 101
  },
  {
   "metadata": {},
   "cell_type": "markdown",
   "source": "Additionnaly, we can check that for each element, a controller has been added to the prosumer",
   "id": "8efe3429e7115fe8"
  },
  {
   "metadata": {
    "ExecuteTime": {
     "end_time": "2025-03-31T10:09:50.859990Z",
     "start_time": "2025-03-31T10:09:50.854716Z"
    }
   },
   "cell_type": "code",
   "source": "prosumer.controller",
   "id": "9ecf4204c73aec04",
   "outputs": [
    {
     "data": {
      "text/plain": [
       "                   object  in_service order level initial_run recycle\n",
       "0  ConstProfileController        True     0     0        True   False\n",
       "1      HeatPumpController        True     0     1        True   False\n",
       "2    HeatDemandController        True     1     1        True   False\n",
       "3     DryCoolerController        True     2     1        True   False"
      ],
      "text/html": [
       "<div>\n",
       "<style scoped>\n",
       "    .dataframe tbody tr th:only-of-type {\n",
       "        vertical-align: middle;\n",
       "    }\n",
       "\n",
       "    .dataframe tbody tr th {\n",
       "        vertical-align: top;\n",
       "    }\n",
       "\n",
       "    .dataframe thead th {\n",
       "        text-align: right;\n",
       "    }\n",
       "</style>\n",
       "<table border=\"1\" class=\"dataframe\">\n",
       "  <thead>\n",
       "    <tr style=\"text-align: right;\">\n",
       "      <th></th>\n",
       "      <th>object</th>\n",
       "      <th>in_service</th>\n",
       "      <th>order</th>\n",
       "      <th>level</th>\n",
       "      <th>initial_run</th>\n",
       "      <th>recycle</th>\n",
       "    </tr>\n",
       "  </thead>\n",
       "  <tbody>\n",
       "    <tr>\n",
       "      <th>0</th>\n",
       "      <td>ConstProfileController</td>\n",
       "      <td>True</td>\n",
       "      <td>0</td>\n",
       "      <td>0</td>\n",
       "      <td>True</td>\n",
       "      <td>False</td>\n",
       "    </tr>\n",
       "    <tr>\n",
       "      <th>1</th>\n",
       "      <td>HeatPumpController</td>\n",
       "      <td>True</td>\n",
       "      <td>0</td>\n",
       "      <td>1</td>\n",
       "      <td>True</td>\n",
       "      <td>False</td>\n",
       "    </tr>\n",
       "    <tr>\n",
       "      <th>2</th>\n",
       "      <td>HeatDemandController</td>\n",
       "      <td>True</td>\n",
       "      <td>1</td>\n",
       "      <td>1</td>\n",
       "      <td>True</td>\n",
       "      <td>False</td>\n",
       "    </tr>\n",
       "    <tr>\n",
       "      <th>3</th>\n",
       "      <td>DryCoolerController</td>\n",
       "      <td>True</td>\n",
       "      <td>2</td>\n",
       "      <td>1</td>\n",
       "      <td>True</td>\n",
       "      <td>False</td>\n",
       "    </tr>\n",
       "  </tbody>\n",
       "</table>\n",
       "</div>"
      ]
     },
     "execution_count": 102,
     "metadata": {},
     "output_type": "execute_result"
    }
   ],
   "execution_count": 102
  },
  {
   "metadata": {},
   "cell_type": "markdown",
   "source": [
    "# 4 - CREATING CONNECTIONS (MAPS) BETWEEN THE CONTROLLERS:\n",
    "network configuration\n",
    "\n",
    "For each controller we define how it is connected to other controllers."
   ],
   "id": "d91220b208da4390"
  },
  {
   "metadata": {
    "ExecuteTime": {
     "end_time": "2025-03-31T10:09:50.864054Z",
     "start_time": "2025-03-31T10:09:50.861102Z"
    }
   },
   "cell_type": "code",
   "source": [
    "from pandaprosumer.mapping import GenericMapping\n",
    "from pandaprosumer.mapping import FluidMixMapping"
   ],
   "id": "1f366d4a29935e57",
   "outputs": [],
   "execution_count": 103
  },
  {
   "metadata": {
    "ExecuteTime": {
     "end_time": "2025-03-31T10:09:50.870421Z",
     "start_time": "2025-03-31T10:09:50.865594Z"
    }
   },
   "cell_type": "code",
   "source": [
    "GenericMapping(prosumer,\n",
    "               initiator_id=cp_controller_index,\n",
    "               initiator_column=\"t_evap_in_c\",\n",
    "               responder_id=hp_controller_index,\n",
    "               responder_column=\"t_evap_in_c\",\n",
    "               order=0)"
   ],
   "id": "c768602db1c31e89",
   "outputs": [
    {
     "data": {
      "text/plain": [
       "<pandaprosumer.mapping.generic.GenericMapping at 0x7f7d3c6bf550>"
      ]
     },
     "execution_count": 104,
     "metadata": {},
     "output_type": "execute_result"
    }
   ],
   "execution_count": 104
  },
  {
   "metadata": {},
   "cell_type": "markdown",
   "source": [
    "CONNECTION CONST PROFILE CONTROLLER ---> HEAT DEMAND:\n",
    "\n",
    "The connection from the Const Profile Controller to the Heat Demand Controller enables the heat demand to access the demand_power, t_feed_demand_c, t_return_demand_c columns from the input time series dataset.\n",
    "\n",
    "The order=1 in this mapping between ConstProfileController and HeatDemandController defines the sequence in which this mapping is applied, relative to other mappings from the ConstProfileController. It ensures that this mapping happens in the correct order if there are multiple mappings from the same initiator controller.\n",
    "\n",
    "This mapping order is separate from the controller execution order, which defines when the controllers themselves are executed during each simulation step. The order=1 ensures the data flows in the intended sequence without affecting the overall controller run order."
   ],
   "id": "2033f2c1ab0b321"
  },
  {
   "metadata": {
    "ExecuteTime": {
     "end_time": "2025-03-31T10:09:50.888884Z",
     "start_time": "2025-03-31T10:09:50.884248Z"
    }
   },
   "cell_type": "code",
   "source": [
    "GenericMapping(prosumer,\n",
    "               initiator_id=cp_controller_index,\n",
    "               initiator_column=[\"qdemand_kw\", \"t_feed_demand_c\", \"t_return_demand_c\"],\n",
    "               responder_id=hd_controller_index,\n",
    "               responder_column=[\"q_demand_kw\", \"t_feed_demand_c\", \"t_return_demand_c\"],\n",
    "               order=1)"
   ],
   "id": "990bb9e9be868f9e",
   "outputs": [
    {
     "data": {
      "text/plain": [
       "<pandaprosumer.mapping.generic.GenericMapping at 0x7f7d3c6be8f0>"
      ]
     },
     "execution_count": 105,
     "metadata": {},
     "output_type": "execute_result"
    }
   ],
   "execution_count": 105
  },
  {
   "metadata": {},
   "cell_type": "markdown",
   "source": [
    "CONNECTION CONST PROFILE CONTROLLER ---> Dry Cooler:\n",
    "\n",
    "The connection from the Const Profile Controller to the Dry Cooler Controller enables the dry cooler to access the t_feed_demand_c, t_return_demand_c, t_evap_in_c,mdot_fluid_kg_per_s,  phi_air_in_percent columns from the input time series dataset.\n"
   ],
   "id": "4d3728c5bafdf662"
  },
  {
   "metadata": {
    "ExecuteTime": {
     "end_time": "2025-03-31T10:09:50.983340Z",
     "start_time": "2025-03-31T10:09:50.978234Z"
    }
   },
   "cell_type": "code",
   "source": [
    "GenericMapping(prosumer,\n",
    "               initiator_id=cp_controller_index,\n",
    "               initiator_column=[\"t_feed_demand_c\", \"t_return_demand_c\", \"mdot_fluid_kg_per_s\", \"t_evap_in_c\", \"phi_air_in_percent\"],\n",
    "               responder_id=dc_controller_index,\n",
    "               responder_column=[\"t_in_c\", \"t_out_c\", \"mdot_fluid_kg_per_s\", \"t_air_in_c\", \"phi_air_in_percent\"],\n",
    "               order=2)\n"
   ],
   "id": "86638fb648bcb2fe",
   "outputs": [
    {
     "data": {
      "text/plain": [
       "<pandaprosumer.mapping.generic.GenericMapping at 0x7f7d3c6bcdf0>"
      ]
     },
     "execution_count": 106,
     "metadata": {},
     "output_type": "execute_result"
    }
   ],
   "execution_count": 106
  },
  {
   "metadata": {},
   "cell_type": "markdown",
   "source": [
    "CONNECTION HEAT PUMP --->HEAT DEMAND:\n",
    "The connection between the Heat Pump Controller and the Heat Demand Controller allows the Heat Demand to read the pump’s output and use it as an input for its own calculations. Instead of a generic mapping, a fluid mix mapping is used—this is necessary because the parameters being exchanged, such as mass flow, are dynamic and not static."
   ],
   "id": "480b06e68a1f282b"
  },
  {
   "metadata": {
    "ExecuteTime": {
     "end_time": "2025-03-31T10:09:51.128264Z",
     "start_time": "2025-03-31T10:09:51.123478Z"
    }
   },
   "cell_type": "code",
   "source": [
    "FluidMixMapping(prosumer,\n",
    "                initiator_id=hp_controller_index,\n",
    "                responder_id=hd_controller_index,\n",
    "                order=0)"
   ],
   "id": "37fa33d165243a94",
   "outputs": [
    {
     "data": {
      "text/plain": [
       "<pandaprosumer.mapping.fluid_mix.FluidMixMapping at 0x7f7d3c6bdab0>"
      ]
     },
     "execution_count": 107,
     "metadata": {},
     "output_type": "execute_result"
    }
   ],
   "execution_count": 107
  },
  {
   "metadata": {},
   "cell_type": "markdown",
   "source": [
    "CONNECTION HEAT PUMP --->DRY COOLER:\n",
    "The connection between the Heat Pump Controller and the Dry Cooler Controller allows the dry cooler to read the pump’s output and use it as an input for its own calculations. Instead of a generic mapping, a fluid mix mapping is used—this is necessary because the parameters being exchanged, such as mass flow, are dynamic and not static. Order = 1 because the initiator is already mapped to a responder and we need to define an order."
   ],
   "id": "e8a6874c57a84624"
  },
  {
   "metadata": {
    "ExecuteTime": {
     "end_time": "2025-03-31T10:09:51.350480Z",
     "start_time": "2025-03-31T10:09:51.345232Z"
    }
   },
   "cell_type": "code",
   "source": [
    "FluidMixMapping(prosumer,\n",
    "                initiator_id=hp_controller_index,\n",
    "                responder_id=dc_controller_index,\n",
    "                order=1)"
   ],
   "id": "4bf23ec7c9365e08",
   "outputs": [
    {
     "data": {
      "text/plain": [
       "<pandaprosumer.mapping.fluid_mix.FluidMixMapping at 0x7f7d3c6be6e0>"
      ]
     },
     "execution_count": 108,
     "metadata": {},
     "output_type": "execute_result"
    }
   ],
   "execution_count": 108
  },
  {
   "metadata": {},
   "cell_type": "markdown",
   "source": [
    "5 - RUNNING THE ANALYSIS:\n",
    "We can now run the analysis with the input data defined above."
   ],
   "id": "e4042aef59c2519c"
  },
  {
   "metadata": {
    "ExecuteTime": {
     "end_time": "2025-03-31T10:09:52.155294Z",
     "start_time": "2025-03-31T10:09:51.384395Z"
    }
   },
   "cell_type": "code",
   "source": [
    "from pandaprosumer.run_time_series import run_timeseries\n",
    "\n",
    "run_timeseries(prosumer, period_id, verbose=True)"
   ],
   "id": "dbe3275e195c01bd",
   "outputs": [
    {
     "name": "stderr",
     "output_type": "stream",
     "text": [
      "  0%|          | 0/96 [00:00<?, ?it/s]/mnt/c/Users/mena138/Projects/SenergyNets/pandaprosumer/pandaprosumer/controller/models/dry_cooler.py:270: RuntimeWarning: divide by zero encountered in scalar divide\n",
      "  a_cold = delta_t_cold_c / (q_ratio * lmtd_nom)\n",
      "/mnt/c/Users/mena138/Projects/SenergyNets/pandaprosumer/pandaprosumer/controller/models/dry_cooler.py:270: RuntimeWarning: divide by zero encountered in scalar divide\n",
      "  a_cold = delta_t_cold_c / (q_ratio * lmtd_nom)\n",
      "/mnt/c/Users/mena138/Projects/SenergyNets/pandaprosumer/pandaprosumer/controller/models/dry_cooler.py:270: RuntimeWarning: divide by zero encountered in scalar divide\n",
      "  a_cold = delta_t_cold_c / (q_ratio * lmtd_nom)\n",
      "/mnt/c/Users/mena138/Projects/SenergyNets/pandaprosumer/pandaprosumer/controller/models/dry_cooler.py:270: RuntimeWarning: divide by zero encountered in scalar divide\n",
      "  a_cold = delta_t_cold_c / (q_ratio * lmtd_nom)\n",
      " 16%|█▌        | 15/96 [00:00<00:00, 140.62it/s]/mnt/c/Users/mena138/Projects/SenergyNets/pandaprosumer/pandaprosumer/controller/models/dry_cooler.py:270: RuntimeWarning: divide by zero encountered in scalar divide\n",
      "  a_cold = delta_t_cold_c / (q_ratio * lmtd_nom)\n",
      "/mnt/c/Users/mena138/Projects/SenergyNets/pandaprosumer/pandaprosumer/controller/models/dry_cooler.py:270: RuntimeWarning: divide by zero encountered in scalar divide\n",
      "  a_cold = delta_t_cold_c / (q_ratio * lmtd_nom)\n",
      "/mnt/c/Users/mena138/Projects/SenergyNets/pandaprosumer/pandaprosumer/controller/models/dry_cooler.py:270: RuntimeWarning: divide by zero encountered in scalar divide\n",
      "  a_cold = delta_t_cold_c / (q_ratio * lmtd_nom)\n",
      "/mnt/c/Users/mena138/Projects/SenergyNets/pandaprosumer/pandaprosumer/controller/models/dry_cooler.py:270: RuntimeWarning: divide by zero encountered in scalar divide\n",
      "  a_cold = delta_t_cold_c / (q_ratio * lmtd_nom)\n",
      "/mnt/c/Users/mena138/Projects/SenergyNets/pandaprosumer/pandaprosumer/controller/models/dry_cooler.py:270: RuntimeWarning: divide by zero encountered in scalar divide\n",
      "  a_cold = delta_t_cold_c / (q_ratio * lmtd_nom)\n",
      " 46%|████▌     | 44/96 [00:00<00:00, 129.40it/s]/mnt/c/Users/mena138/Projects/SenergyNets/pandaprosumer/pandaprosumer/controller/models/dry_cooler.py:270: RuntimeWarning: divide by zero encountered in scalar divide\n",
      "  a_cold = delta_t_cold_c / (q_ratio * lmtd_nom)\n",
      "/mnt/c/Users/mena138/Projects/SenergyNets/pandaprosumer/pandaprosumer/controller/models/dry_cooler.py:270: RuntimeWarning: divide by zero encountered in scalar divide\n",
      "  a_cold = delta_t_cold_c / (q_ratio * lmtd_nom)\n",
      "/mnt/c/Users/mena138/Projects/SenergyNets/pandaprosumer/pandaprosumer/controller/models/dry_cooler.py:270: RuntimeWarning: divide by zero encountered in scalar divide\n",
      "  a_cold = delta_t_cold_c / (q_ratio * lmtd_nom)\n",
      "/mnt/c/Users/mena138/Projects/SenergyNets/pandaprosumer/pandaprosumer/controller/models/dry_cooler.py:270: RuntimeWarning: divide by zero encountered in scalar divide\n",
      "  a_cold = delta_t_cold_c / (q_ratio * lmtd_nom)\n",
      "/mnt/c/Users/mena138/Projects/SenergyNets/pandaprosumer/pandaprosumer/controller/models/dry_cooler.py:270: RuntimeWarning: divide by zero encountered in scalar divide\n",
      "  a_cold = delta_t_cold_c / (q_ratio * lmtd_nom)\n",
      "/mnt/c/Users/mena138/Projects/SenergyNets/pandaprosumer/pandaprosumer/controller/models/dry_cooler.py:270: RuntimeWarning: divide by zero encountered in scalar divide\n",
      "  a_cold = delta_t_cold_c / (q_ratio * lmtd_nom)\n",
      "/mnt/c/Users/mena138/Projects/SenergyNets/pandaprosumer/pandaprosumer/controller/models/dry_cooler.py:270: RuntimeWarning: divide by zero encountered in scalar divide\n",
      "  a_cold = delta_t_cold_c / (q_ratio * lmtd_nom)\n",
      "/mnt/c/Users/mena138/Projects/SenergyNets/pandaprosumer/pandaprosumer/controller/models/dry_cooler.py:270: RuntimeWarning: divide by zero encountered in scalar divide\n",
      "  a_cold = delta_t_cold_c / (q_ratio * lmtd_nom)\n",
      "/mnt/c/Users/mena138/Projects/SenergyNets/pandaprosumer/pandaprosumer/controller/models/dry_cooler.py:270: RuntimeWarning: divide by zero encountered in scalar divide\n",
      "  a_cold = delta_t_cold_c / (q_ratio * lmtd_nom)\n",
      "/mnt/c/Users/mena138/Projects/SenergyNets/pandaprosumer/pandaprosumer/controller/models/dry_cooler.py:270: RuntimeWarning: divide by zero encountered in scalar divide\n",
      "  a_cold = delta_t_cold_c / (q_ratio * lmtd_nom)\n",
      "/mnt/c/Users/mena138/Projects/SenergyNets/pandaprosumer/pandaprosumer/controller/models/dry_cooler.py:270: RuntimeWarning: divide by zero encountered in scalar divide\n",
      "  a_cold = delta_t_cold_c / (q_ratio * lmtd_nom)\n",
      "/mnt/c/Users/mena138/Projects/SenergyNets/pandaprosumer/pandaprosumer/controller/models/dry_cooler.py:270: RuntimeWarning: divide by zero encountered in scalar divide\n",
      "  a_cold = delta_t_cold_c / (q_ratio * lmtd_nom)\n",
      " 59%|█████▉    | 57/96 [00:00<00:00, 127.42it/s]/mnt/c/Users/mena138/Projects/SenergyNets/pandaprosumer/pandaprosumer/controller/models/dry_cooler.py:270: RuntimeWarning: divide by zero encountered in scalar divide\n",
      "  a_cold = delta_t_cold_c / (q_ratio * lmtd_nom)\n",
      "/mnt/c/Users/mena138/Projects/SenergyNets/pandaprosumer/pandaprosumer/controller/models/dry_cooler.py:270: RuntimeWarning: divide by zero encountered in scalar divide\n",
      "  a_cold = delta_t_cold_c / (q_ratio * lmtd_nom)\n",
      "/mnt/c/Users/mena138/Projects/SenergyNets/pandaprosumer/pandaprosumer/controller/models/dry_cooler.py:270: RuntimeWarning: divide by zero encountered in scalar divide\n",
      "  a_cold = delta_t_cold_c / (q_ratio * lmtd_nom)\n",
      "/mnt/c/Users/mena138/Projects/SenergyNets/pandaprosumer/pandaprosumer/controller/models/dry_cooler.py:270: RuntimeWarning: divide by zero encountered in scalar divide\n",
      "  a_cold = delta_t_cold_c / (q_ratio * lmtd_nom)\n",
      "/mnt/c/Users/mena138/Projects/SenergyNets/pandaprosumer/pandaprosumer/controller/models/dry_cooler.py:270: RuntimeWarning: divide by zero encountered in scalar divide\n",
      "  a_cold = delta_t_cold_c / (q_ratio * lmtd_nom)\n",
      "/mnt/c/Users/mena138/Projects/SenergyNets/pandaprosumer/pandaprosumer/controller/models/dry_cooler.py:270: RuntimeWarning: divide by zero encountered in scalar divide\n",
      "  a_cold = delta_t_cold_c / (q_ratio * lmtd_nom)\n",
      "/mnt/c/Users/mena138/Projects/SenergyNets/pandaprosumer/pandaprosumer/controller/models/dry_cooler.py:270: RuntimeWarning: divide by zero encountered in scalar divide\n",
      "  a_cold = delta_t_cold_c / (q_ratio * lmtd_nom)\n",
      "/mnt/c/Users/mena138/Projects/SenergyNets/pandaprosumer/pandaprosumer/controller/models/dry_cooler.py:270: RuntimeWarning: divide by zero encountered in scalar divide\n",
      "  a_cold = delta_t_cold_c / (q_ratio * lmtd_nom)\n",
      "/mnt/c/Users/mena138/Projects/SenergyNets/pandaprosumer/pandaprosumer/controller/models/dry_cooler.py:270: RuntimeWarning: divide by zero encountered in scalar divide\n",
      "  a_cold = delta_t_cold_c / (q_ratio * lmtd_nom)\n",
      "/mnt/c/Users/mena138/Projects/SenergyNets/pandaprosumer/pandaprosumer/controller/models/dry_cooler.py:270: RuntimeWarning: divide by zero encountered in scalar divide\n",
      "  a_cold = delta_t_cold_c / (q_ratio * lmtd_nom)\n",
      "/mnt/c/Users/mena138/Projects/SenergyNets/pandaprosumer/pandaprosumer/controller/models/dry_cooler.py:270: RuntimeWarning: divide by zero encountered in scalar divide\n",
      "  a_cold = delta_t_cold_c / (q_ratio * lmtd_nom)\n",
      "/mnt/c/Users/mena138/Projects/SenergyNets/pandaprosumer/pandaprosumer/controller/models/dry_cooler.py:270: RuntimeWarning: divide by zero encountered in scalar divide\n",
      "  a_cold = delta_t_cold_c / (q_ratio * lmtd_nom)\n",
      "/mnt/c/Users/mena138/Projects/SenergyNets/pandaprosumer/pandaprosumer/controller/models/dry_cooler.py:270: RuntimeWarning: divide by zero encountered in scalar divide\n",
      "  a_cold = delta_t_cold_c / (q_ratio * lmtd_nom)\n",
      " 73%|███████▎  | 70/96 [00:00<00:00, 127.05it/s]/mnt/c/Users/mena138/Projects/SenergyNets/pandaprosumer/pandaprosumer/controller/models/dry_cooler.py:270: RuntimeWarning: divide by zero encountered in scalar divide\n",
      "  a_cold = delta_t_cold_c / (q_ratio * lmtd_nom)\n",
      "/mnt/c/Users/mena138/Projects/SenergyNets/pandaprosumer/pandaprosumer/controller/models/dry_cooler.py:270: RuntimeWarning: divide by zero encountered in scalar divide\n",
      "  a_cold = delta_t_cold_c / (q_ratio * lmtd_nom)\n",
      "/mnt/c/Users/mena138/Projects/SenergyNets/pandaprosumer/pandaprosumer/controller/models/dry_cooler.py:270: RuntimeWarning: divide by zero encountered in scalar divide\n",
      "  a_cold = delta_t_cold_c / (q_ratio * lmtd_nom)\n",
      "/mnt/c/Users/mena138/Projects/SenergyNets/pandaprosumer/pandaprosumer/controller/models/dry_cooler.py:270: RuntimeWarning: divide by zero encountered in scalar divide\n",
      "  a_cold = delta_t_cold_c / (q_ratio * lmtd_nom)\n",
      "/mnt/c/Users/mena138/Projects/SenergyNets/pandaprosumer/pandaprosumer/controller/models/dry_cooler.py:270: RuntimeWarning: divide by zero encountered in scalar divide\n",
      "  a_cold = delta_t_cold_c / (q_ratio * lmtd_nom)\n",
      "/mnt/c/Users/mena138/Projects/SenergyNets/pandaprosumer/pandaprosumer/controller/models/dry_cooler.py:270: RuntimeWarning: divide by zero encountered in scalar divide\n",
      "  a_cold = delta_t_cold_c / (q_ratio * lmtd_nom)\n",
      "/mnt/c/Users/mena138/Projects/SenergyNets/pandaprosumer/pandaprosumer/controller/models/dry_cooler.py:270: RuntimeWarning: divide by zero encountered in scalar divide\n",
      "  a_cold = delta_t_cold_c / (q_ratio * lmtd_nom)\n",
      "/mnt/c/Users/mena138/Projects/SenergyNets/pandaprosumer/pandaprosumer/controller/models/dry_cooler.py:270: RuntimeWarning: divide by zero encountered in scalar divide\n",
      "  a_cold = delta_t_cold_c / (q_ratio * lmtd_nom)\n",
      "/mnt/c/Users/mena138/Projects/SenergyNets/pandaprosumer/pandaprosumer/controller/models/dry_cooler.py:270: RuntimeWarning: divide by zero encountered in scalar divide\n",
      "  a_cold = delta_t_cold_c / (q_ratio * lmtd_nom)\n",
      "/mnt/c/Users/mena138/Projects/SenergyNets/pandaprosumer/pandaprosumer/controller/models/dry_cooler.py:270: RuntimeWarning: divide by zero encountered in scalar divide\n",
      "  a_cold = delta_t_cold_c / (q_ratio * lmtd_nom)\n",
      "/mnt/c/Users/mena138/Projects/SenergyNets/pandaprosumer/pandaprosumer/controller/models/dry_cooler.py:270: RuntimeWarning: divide by zero encountered in scalar divide\n",
      "  a_cold = delta_t_cold_c / (q_ratio * lmtd_nom)\n",
      "/mnt/c/Users/mena138/Projects/SenergyNets/pandaprosumer/pandaprosumer/controller/models/dry_cooler.py:270: RuntimeWarning: divide by zero encountered in scalar divide\n",
      "  a_cold = delta_t_cold_c / (q_ratio * lmtd_nom)\n",
      "/mnt/c/Users/mena138/Projects/SenergyNets/pandaprosumer/pandaprosumer/controller/models/dry_cooler.py:270: RuntimeWarning: divide by zero encountered in scalar divide\n",
      "  a_cold = delta_t_cold_c / (q_ratio * lmtd_nom)\n",
      " 86%|████████▋ | 83/96 [00:00<00:00, 125.01it/s]/mnt/c/Users/mena138/Projects/SenergyNets/pandaprosumer/pandaprosumer/controller/models/dry_cooler.py:270: RuntimeWarning: divide by zero encountered in scalar divide\n",
      "  a_cold = delta_t_cold_c / (q_ratio * lmtd_nom)\n",
      "/mnt/c/Users/mena138/Projects/SenergyNets/pandaprosumer/pandaprosumer/controller/models/dry_cooler.py:270: RuntimeWarning: divide by zero encountered in scalar divide\n",
      "  a_cold = delta_t_cold_c / (q_ratio * lmtd_nom)\n",
      "/mnt/c/Users/mena138/Projects/SenergyNets/pandaprosumer/pandaprosumer/controller/models/dry_cooler.py:270: RuntimeWarning: divide by zero encountered in scalar divide\n",
      "  a_cold = delta_t_cold_c / (q_ratio * lmtd_nom)\n",
      "/mnt/c/Users/mena138/Projects/SenergyNets/pandaprosumer/pandaprosumer/controller/models/dry_cooler.py:270: RuntimeWarning: divide by zero encountered in scalar divide\n",
      "  a_cold = delta_t_cold_c / (q_ratio * lmtd_nom)\n",
      "/mnt/c/Users/mena138/Projects/SenergyNets/pandaprosumer/pandaprosumer/controller/models/dry_cooler.py:270: RuntimeWarning: divide by zero encountered in scalar divide\n",
      "  a_cold = delta_t_cold_c / (q_ratio * lmtd_nom)\n",
      "/mnt/c/Users/mena138/Projects/SenergyNets/pandaprosumer/pandaprosumer/controller/models/dry_cooler.py:270: RuntimeWarning: divide by zero encountered in scalar divide\n",
      "  a_cold = delta_t_cold_c / (q_ratio * lmtd_nom)\n",
      "/mnt/c/Users/mena138/Projects/SenergyNets/pandaprosumer/pandaprosumer/controller/models/dry_cooler.py:270: RuntimeWarning: divide by zero encountered in scalar divide\n",
      "  a_cold = delta_t_cold_c / (q_ratio * lmtd_nom)\n",
      "/mnt/c/Users/mena138/Projects/SenergyNets/pandaprosumer/pandaprosumer/controller/models/dry_cooler.py:270: RuntimeWarning: divide by zero encountered in scalar divide\n",
      "  a_cold = delta_t_cold_c / (q_ratio * lmtd_nom)\n",
      "/mnt/c/Users/mena138/Projects/SenergyNets/pandaprosumer/pandaprosumer/controller/models/dry_cooler.py:270: RuntimeWarning: divide by zero encountered in scalar divide\n",
      "  a_cold = delta_t_cold_c / (q_ratio * lmtd_nom)\n",
      "/mnt/c/Users/mena138/Projects/SenergyNets/pandaprosumer/pandaprosumer/controller/models/dry_cooler.py:270: RuntimeWarning: divide by zero encountered in scalar divide\n",
      "  a_cold = delta_t_cold_c / (q_ratio * lmtd_nom)\n",
      "/mnt/c/Users/mena138/Projects/SenergyNets/pandaprosumer/pandaprosumer/controller/models/dry_cooler.py:270: RuntimeWarning: divide by zero encountered in scalar divide\n",
      "  a_cold = delta_t_cold_c / (q_ratio * lmtd_nom)\n",
      "/mnt/c/Users/mena138/Projects/SenergyNets/pandaprosumer/pandaprosumer/controller/models/dry_cooler.py:270: RuntimeWarning: divide by zero encountered in scalar divide\n",
      "  a_cold = delta_t_cold_c / (q_ratio * lmtd_nom)\n",
      "/mnt/c/Users/mena138/Projects/SenergyNets/pandaprosumer/pandaprosumer/controller/models/dry_cooler.py:270: RuntimeWarning: divide by zero encountered in scalar divide\n",
      "  a_cold = delta_t_cold_c / (q_ratio * lmtd_nom)\n",
      "100%|██████████| 96/96 [00:00<00:00, 126.56it/s]/mnt/c/Users/mena138/Projects/SenergyNets/pandaprosumer/pandaprosumer/controller/models/dry_cooler.py:270: RuntimeWarning: divide by zero encountered in scalar divide\n",
      "  a_cold = delta_t_cold_c / (q_ratio * lmtd_nom)\n",
      "100%|██████████| 96/96 [00:00<00:00, 125.58it/s]\n"
     ]
    }
   ],
   "execution_count": 109
  },
  {
   "metadata": {},
   "cell_type": "markdown",
   "source": [
    "# 6 - PRINTING AND PLOTTING RESULTS:\n",
    "All the results of the timeseries analysis are available in the prosumer.time_series dataframe"
   ],
   "id": "411100a194e1668c"
  },
  {
   "metadata": {
    "ExecuteTime": {
     "end_time": "2025-03-31T10:09:52.161496Z",
     "start_time": "2025-03-31T10:09:52.156685Z"
    }
   },
   "cell_type": "code",
   "source": "prosumer.time_series",
   "id": "6e8380aeaa94cb8a",
   "outputs": [
    {
     "data": {
      "text/plain": [
       "                  name      element  element_index  period_index data_source\n",
       "0  air_water_heat_pump    heat_pump            0.0           0.0      DFData\n",
       "1        heat_consumer  heat_demand            0.0           0.0      DFData\n",
       "2           dry cooler   dry_cooler            0.0           0.0      DFData"
      ],
      "text/html": [
       "<div>\n",
       "<style scoped>\n",
       "    .dataframe tbody tr th:only-of-type {\n",
       "        vertical-align: middle;\n",
       "    }\n",
       "\n",
       "    .dataframe tbody tr th {\n",
       "        vertical-align: top;\n",
       "    }\n",
       "\n",
       "    .dataframe thead th {\n",
       "        text-align: right;\n",
       "    }\n",
       "</style>\n",
       "<table border=\"1\" class=\"dataframe\">\n",
       "  <thead>\n",
       "    <tr style=\"text-align: right;\">\n",
       "      <th></th>\n",
       "      <th>name</th>\n",
       "      <th>element</th>\n",
       "      <th>element_index</th>\n",
       "      <th>period_index</th>\n",
       "      <th>data_source</th>\n",
       "    </tr>\n",
       "  </thead>\n",
       "  <tbody>\n",
       "    <tr>\n",
       "      <th>0</th>\n",
       "      <td>air_water_heat_pump</td>\n",
       "      <td>heat_pump</td>\n",
       "      <td>0.0</td>\n",
       "      <td>0.0</td>\n",
       "      <td>DFData</td>\n",
       "    </tr>\n",
       "    <tr>\n",
       "      <th>1</th>\n",
       "      <td>heat_consumer</td>\n",
       "      <td>heat_demand</td>\n",
       "      <td>0.0</td>\n",
       "      <td>0.0</td>\n",
       "      <td>DFData</td>\n",
       "    </tr>\n",
       "    <tr>\n",
       "      <th>2</th>\n",
       "      <td>dry cooler</td>\n",
       "      <td>dry_cooler</td>\n",
       "      <td>0.0</td>\n",
       "      <td>0.0</td>\n",
       "      <td>DFData</td>\n",
       "    </tr>\n",
       "  </tbody>\n",
       "</table>\n",
       "</div>"
      ]
     },
     "execution_count": 110,
     "metadata": {},
     "output_type": "execute_result"
    }
   ],
   "execution_count": 110
  },
  {
   "metadata": {},
   "cell_type": "markdown",
   "source": "Before plotting we have to look at the resulting dataframe to see which quantity (column) do we want to plot.",
   "id": "fefb52cb61471d8e"
  },
  {
   "metadata": {},
   "cell_type": "markdown",
   "source": "Access the results of the heat_pump:",
   "id": "88ae499efa65c1af"
  },
  {
   "metadata": {
    "ExecuteTime": {
     "end_time": "2025-03-31T10:09:52.170884Z",
     "start_time": "2025-03-31T10:09:52.162405Z"
    }
   },
   "cell_type": "code",
   "source": "prosumer.time_series.data_source.loc[0].df.head(10)",
   "id": "8a6be07def2b5b60",
   "outputs": [
    {
     "data": {
      "text/plain": [
       "                            q_cond_kw   p_comp_kw   q_evap_kw       cop  \\\n",
       "2020-01-01 00:00:00+00:00  250.893240   78.148822  172.744418  3.210455   \n",
       "2020-01-01 00:15:00+00:00  250.893240   78.148822  172.744418  3.210455   \n",
       "2020-01-01 00:30:00+00:00  250.893240   78.148822  172.744418  3.210455   \n",
       "2020-01-01 00:45:00+00:00  250.893240   78.148822  172.744418  3.210455   \n",
       "2020-01-01 01:00:00+00:00  250.893240   78.148822  172.744418  3.210455   \n",
       "2020-01-01 01:15:00+00:00  642.090909  200.000000  442.090909  3.210455   \n",
       "2020-01-01 01:30:00+00:00  642.090909  200.000000  442.090909  3.210455   \n",
       "2020-01-01 01:45:00+00:00  642.090909  200.000000  442.090909  3.210455   \n",
       "2020-01-01 02:00:00+00:00  571.893240  178.134663  393.758577  3.210455   \n",
       "2020-01-01 02:15:00+00:00  571.893240  178.134663  393.758577  3.210455   \n",
       "\n",
       "                           mdot_cond_kg_per_s  t_cond_in_c  t_cond_out_c  \\\n",
       "2020-01-01 00:00:00+00:00            1.000000         20.0          80.0   \n",
       "2020-01-01 00:15:00+00:00            1.000000         20.0          80.0   \n",
       "2020-01-01 00:30:00+00:00            1.000000         20.0          80.0   \n",
       "2020-01-01 00:45:00+00:00            1.000000         20.0          80.0   \n",
       "2020-01-01 01:00:00+00:00            1.000000         20.0          80.0   \n",
       "2020-01-01 01:15:00+00:00            2.559220         20.0          80.0   \n",
       "2020-01-01 01:30:00+00:00            2.559220         20.0          80.0   \n",
       "2020-01-01 01:45:00+00:00            2.559220         20.0          80.0   \n",
       "2020-01-01 02:00:00+00:00            2.279429         20.0          80.0   \n",
       "2020-01-01 02:15:00+00:00            2.279429         20.0          80.0   \n",
       "\n",
       "                           mdot_evap_kg_per_s  t_evap_in_c  t_evap_out_c  \n",
       "2020-01-01 00:00:00+00:00            8.259521         25.0          20.0  \n",
       "2020-01-01 00:15:00+00:00            8.259521         25.0          20.0  \n",
       "2020-01-01 00:30:00+00:00            8.259521         25.0          20.0  \n",
       "2020-01-01 00:45:00+00:00            8.259521         25.0          20.0  \n",
       "2020-01-01 01:00:00+00:00            8.259521         25.0          20.0  \n",
       "2020-01-01 01:15:00+00:00           21.137929         25.0          20.0  \n",
       "2020-01-01 01:30:00+00:00           21.137929         25.0          20.0  \n",
       "2020-01-01 01:45:00+00:00           21.137929         25.0          20.0  \n",
       "2020-01-01 02:00:00+00:00           18.826989         25.0          20.0  \n",
       "2020-01-01 02:15:00+00:00           18.826989         25.0          20.0  "
      ],
      "text/html": [
       "<div>\n",
       "<style scoped>\n",
       "    .dataframe tbody tr th:only-of-type {\n",
       "        vertical-align: middle;\n",
       "    }\n",
       "\n",
       "    .dataframe tbody tr th {\n",
       "        vertical-align: top;\n",
       "    }\n",
       "\n",
       "    .dataframe thead th {\n",
       "        text-align: right;\n",
       "    }\n",
       "</style>\n",
       "<table border=\"1\" class=\"dataframe\">\n",
       "  <thead>\n",
       "    <tr style=\"text-align: right;\">\n",
       "      <th></th>\n",
       "      <th>q_cond_kw</th>\n",
       "      <th>p_comp_kw</th>\n",
       "      <th>q_evap_kw</th>\n",
       "      <th>cop</th>\n",
       "      <th>mdot_cond_kg_per_s</th>\n",
       "      <th>t_cond_in_c</th>\n",
       "      <th>t_cond_out_c</th>\n",
       "      <th>mdot_evap_kg_per_s</th>\n",
       "      <th>t_evap_in_c</th>\n",
       "      <th>t_evap_out_c</th>\n",
       "    </tr>\n",
       "  </thead>\n",
       "  <tbody>\n",
       "    <tr>\n",
       "      <th>2020-01-01 00:00:00+00:00</th>\n",
       "      <td>250.893240</td>\n",
       "      <td>78.148822</td>\n",
       "      <td>172.744418</td>\n",
       "      <td>3.210455</td>\n",
       "      <td>1.000000</td>\n",
       "      <td>20.0</td>\n",
       "      <td>80.0</td>\n",
       "      <td>8.259521</td>\n",
       "      <td>25.0</td>\n",
       "      <td>20.0</td>\n",
       "    </tr>\n",
       "    <tr>\n",
       "      <th>2020-01-01 00:15:00+00:00</th>\n",
       "      <td>250.893240</td>\n",
       "      <td>78.148822</td>\n",
       "      <td>172.744418</td>\n",
       "      <td>3.210455</td>\n",
       "      <td>1.000000</td>\n",
       "      <td>20.0</td>\n",
       "      <td>80.0</td>\n",
       "      <td>8.259521</td>\n",
       "      <td>25.0</td>\n",
       "      <td>20.0</td>\n",
       "    </tr>\n",
       "    <tr>\n",
       "      <th>2020-01-01 00:30:00+00:00</th>\n",
       "      <td>250.893240</td>\n",
       "      <td>78.148822</td>\n",
       "      <td>172.744418</td>\n",
       "      <td>3.210455</td>\n",
       "      <td>1.000000</td>\n",
       "      <td>20.0</td>\n",
       "      <td>80.0</td>\n",
       "      <td>8.259521</td>\n",
       "      <td>25.0</td>\n",
       "      <td>20.0</td>\n",
       "    </tr>\n",
       "    <tr>\n",
       "      <th>2020-01-01 00:45:00+00:00</th>\n",
       "      <td>250.893240</td>\n",
       "      <td>78.148822</td>\n",
       "      <td>172.744418</td>\n",
       "      <td>3.210455</td>\n",
       "      <td>1.000000</td>\n",
       "      <td>20.0</td>\n",
       "      <td>80.0</td>\n",
       "      <td>8.259521</td>\n",
       "      <td>25.0</td>\n",
       "      <td>20.0</td>\n",
       "    </tr>\n",
       "    <tr>\n",
       "      <th>2020-01-01 01:00:00+00:00</th>\n",
       "      <td>250.893240</td>\n",
       "      <td>78.148822</td>\n",
       "      <td>172.744418</td>\n",
       "      <td>3.210455</td>\n",
       "      <td>1.000000</td>\n",
       "      <td>20.0</td>\n",
       "      <td>80.0</td>\n",
       "      <td>8.259521</td>\n",
       "      <td>25.0</td>\n",
       "      <td>20.0</td>\n",
       "    </tr>\n",
       "    <tr>\n",
       "      <th>2020-01-01 01:15:00+00:00</th>\n",
       "      <td>642.090909</td>\n",
       "      <td>200.000000</td>\n",
       "      <td>442.090909</td>\n",
       "      <td>3.210455</td>\n",
       "      <td>2.559220</td>\n",
       "      <td>20.0</td>\n",
       "      <td>80.0</td>\n",
       "      <td>21.137929</td>\n",
       "      <td>25.0</td>\n",
       "      <td>20.0</td>\n",
       "    </tr>\n",
       "    <tr>\n",
       "      <th>2020-01-01 01:30:00+00:00</th>\n",
       "      <td>642.090909</td>\n",
       "      <td>200.000000</td>\n",
       "      <td>442.090909</td>\n",
       "      <td>3.210455</td>\n",
       "      <td>2.559220</td>\n",
       "      <td>20.0</td>\n",
       "      <td>80.0</td>\n",
       "      <td>21.137929</td>\n",
       "      <td>25.0</td>\n",
       "      <td>20.0</td>\n",
       "    </tr>\n",
       "    <tr>\n",
       "      <th>2020-01-01 01:45:00+00:00</th>\n",
       "      <td>642.090909</td>\n",
       "      <td>200.000000</td>\n",
       "      <td>442.090909</td>\n",
       "      <td>3.210455</td>\n",
       "      <td>2.559220</td>\n",
       "      <td>20.0</td>\n",
       "      <td>80.0</td>\n",
       "      <td>21.137929</td>\n",
       "      <td>25.0</td>\n",
       "      <td>20.0</td>\n",
       "    </tr>\n",
       "    <tr>\n",
       "      <th>2020-01-01 02:00:00+00:00</th>\n",
       "      <td>571.893240</td>\n",
       "      <td>178.134663</td>\n",
       "      <td>393.758577</td>\n",
       "      <td>3.210455</td>\n",
       "      <td>2.279429</td>\n",
       "      <td>20.0</td>\n",
       "      <td>80.0</td>\n",
       "      <td>18.826989</td>\n",
       "      <td>25.0</td>\n",
       "      <td>20.0</td>\n",
       "    </tr>\n",
       "    <tr>\n",
       "      <th>2020-01-01 02:15:00+00:00</th>\n",
       "      <td>571.893240</td>\n",
       "      <td>178.134663</td>\n",
       "      <td>393.758577</td>\n",
       "      <td>3.210455</td>\n",
       "      <td>2.279429</td>\n",
       "      <td>20.0</td>\n",
       "      <td>80.0</td>\n",
       "      <td>18.826989</td>\n",
       "      <td>25.0</td>\n",
       "      <td>20.0</td>\n",
       "    </tr>\n",
       "  </tbody>\n",
       "</table>\n",
       "</div>"
      ]
     },
     "execution_count": 111,
     "metadata": {},
     "output_type": "execute_result"
    }
   ],
   "execution_count": 111
  },
  {
   "metadata": {},
   "cell_type": "markdown",
   "source": "Access the results of the dry_cooler:",
   "id": "167f20a8ba01af3e"
  },
  {
   "metadata": {
    "ExecuteTime": {
     "end_time": "2025-03-31T10:09:52.177768Z",
     "start_time": "2025-03-31T10:09:52.172086Z"
    }
   },
   "cell_type": "code",
   "source": "prosumer.time_series.data_source.loc[1].df.head(10)",
   "id": "84a808d497a82f2c",
   "outputs": [
    {
     "data": {
      "text/plain": [
       "                           q_received_kw  q_uncovered_kw  mdot_kg_per_s  \\\n",
       "2020-01-01 00:00:00+00:00            0.0    0.000000e+00       0.000000   \n",
       "2020-01-01 00:15:00+00:00            0.0    0.000000e+00       0.000000   \n",
       "2020-01-01 00:30:00+00:00            0.0    0.000000e+00       0.000000   \n",
       "2020-01-01 00:45:00+00:00            0.0    0.000000e+00       0.000000   \n",
       "2020-01-01 01:00:00+00:00            0.0    0.000000e+00       0.000000   \n",
       "2020-01-01 01:15:00+00:00          500.0    5.684342e-14       1.992880   \n",
       "2020-01-01 01:30:00+00:00          500.0    5.684342e-14       1.992880   \n",
       "2020-01-01 01:45:00+00:00          500.0    5.684342e-14       1.992880   \n",
       "2020-01-01 02:00:00+00:00          321.0    0.000000e+00       1.279429   \n",
       "2020-01-01 02:15:00+00:00          321.0    0.000000e+00       1.279429   \n",
       "\n",
       "                           t_in_c  t_out_c  \n",
       "2020-01-01 00:00:00+00:00    80.0     20.0  \n",
       "2020-01-01 00:15:00+00:00    80.0     20.0  \n",
       "2020-01-01 00:30:00+00:00    80.0     20.0  \n",
       "2020-01-01 00:45:00+00:00    80.0     20.0  \n",
       "2020-01-01 01:00:00+00:00    80.0     20.0  \n",
       "2020-01-01 01:15:00+00:00    80.0     20.0  \n",
       "2020-01-01 01:30:00+00:00    80.0     20.0  \n",
       "2020-01-01 01:45:00+00:00    80.0     20.0  \n",
       "2020-01-01 02:00:00+00:00    80.0     20.0  \n",
       "2020-01-01 02:15:00+00:00    80.0     20.0  "
      ],
      "text/html": [
       "<div>\n",
       "<style scoped>\n",
       "    .dataframe tbody tr th:only-of-type {\n",
       "        vertical-align: middle;\n",
       "    }\n",
       "\n",
       "    .dataframe tbody tr th {\n",
       "        vertical-align: top;\n",
       "    }\n",
       "\n",
       "    .dataframe thead th {\n",
       "        text-align: right;\n",
       "    }\n",
       "</style>\n",
       "<table border=\"1\" class=\"dataframe\">\n",
       "  <thead>\n",
       "    <tr style=\"text-align: right;\">\n",
       "      <th></th>\n",
       "      <th>q_received_kw</th>\n",
       "      <th>q_uncovered_kw</th>\n",
       "      <th>mdot_kg_per_s</th>\n",
       "      <th>t_in_c</th>\n",
       "      <th>t_out_c</th>\n",
       "    </tr>\n",
       "  </thead>\n",
       "  <tbody>\n",
       "    <tr>\n",
       "      <th>2020-01-01 00:00:00+00:00</th>\n",
       "      <td>0.0</td>\n",
       "      <td>0.000000e+00</td>\n",
       "      <td>0.000000</td>\n",
       "      <td>80.0</td>\n",
       "      <td>20.0</td>\n",
       "    </tr>\n",
       "    <tr>\n",
       "      <th>2020-01-01 00:15:00+00:00</th>\n",
       "      <td>0.0</td>\n",
       "      <td>0.000000e+00</td>\n",
       "      <td>0.000000</td>\n",
       "      <td>80.0</td>\n",
       "      <td>20.0</td>\n",
       "    </tr>\n",
       "    <tr>\n",
       "      <th>2020-01-01 00:30:00+00:00</th>\n",
       "      <td>0.0</td>\n",
       "      <td>0.000000e+00</td>\n",
       "      <td>0.000000</td>\n",
       "      <td>80.0</td>\n",
       "      <td>20.0</td>\n",
       "    </tr>\n",
       "    <tr>\n",
       "      <th>2020-01-01 00:45:00+00:00</th>\n",
       "      <td>0.0</td>\n",
       "      <td>0.000000e+00</td>\n",
       "      <td>0.000000</td>\n",
       "      <td>80.0</td>\n",
       "      <td>20.0</td>\n",
       "    </tr>\n",
       "    <tr>\n",
       "      <th>2020-01-01 01:00:00+00:00</th>\n",
       "      <td>0.0</td>\n",
       "      <td>0.000000e+00</td>\n",
       "      <td>0.000000</td>\n",
       "      <td>80.0</td>\n",
       "      <td>20.0</td>\n",
       "    </tr>\n",
       "    <tr>\n",
       "      <th>2020-01-01 01:15:00+00:00</th>\n",
       "      <td>500.0</td>\n",
       "      <td>5.684342e-14</td>\n",
       "      <td>1.992880</td>\n",
       "      <td>80.0</td>\n",
       "      <td>20.0</td>\n",
       "    </tr>\n",
       "    <tr>\n",
       "      <th>2020-01-01 01:30:00+00:00</th>\n",
       "      <td>500.0</td>\n",
       "      <td>5.684342e-14</td>\n",
       "      <td>1.992880</td>\n",
       "      <td>80.0</td>\n",
       "      <td>20.0</td>\n",
       "    </tr>\n",
       "    <tr>\n",
       "      <th>2020-01-01 01:45:00+00:00</th>\n",
       "      <td>500.0</td>\n",
       "      <td>5.684342e-14</td>\n",
       "      <td>1.992880</td>\n",
       "      <td>80.0</td>\n",
       "      <td>20.0</td>\n",
       "    </tr>\n",
       "    <tr>\n",
       "      <th>2020-01-01 02:00:00+00:00</th>\n",
       "      <td>321.0</td>\n",
       "      <td>0.000000e+00</td>\n",
       "      <td>1.279429</td>\n",
       "      <td>80.0</td>\n",
       "      <td>20.0</td>\n",
       "    </tr>\n",
       "    <tr>\n",
       "      <th>2020-01-01 02:15:00+00:00</th>\n",
       "      <td>321.0</td>\n",
       "      <td>0.000000e+00</td>\n",
       "      <td>1.279429</td>\n",
       "      <td>80.0</td>\n",
       "      <td>20.0</td>\n",
       "    </tr>\n",
       "  </tbody>\n",
       "</table>\n",
       "</div>"
      ]
     },
     "execution_count": 112,
     "metadata": {},
     "output_type": "execute_result"
    }
   ],
   "execution_count": 112
  },
  {
   "metadata": {},
   "cell_type": "markdown",
   "source": "Access the results of the heat demand:",
   "id": "c148fb4c8f3cdede"
  },
  {
   "metadata": {
    "ExecuteTime": {
     "end_time": "2025-03-31T10:09:52.186354Z",
     "start_time": "2025-03-31T10:09:52.178793Z"
    }
   },
   "cell_type": "code",
   "source": "prosumer.time_series.data_source.loc[2].df.head(10)",
   "id": "9327c18a9a4e5401",
   "outputs": [
    {
     "data": {
      "text/plain": [
       "                           q_exchanged_kw  p_fans_kw       n_rpm  \\\n",
       "2020-01-01 00:00:00+00:00      250.893240   5.570370  107.817402   \n",
       "2020-01-01 00:15:00+00:00      250.893240   5.570370  107.817402   \n",
       "2020-01-01 00:30:00+00:00      250.893240   5.570370  107.817402   \n",
       "2020-01-01 00:45:00+00:00      250.893240   5.570370  107.817402   \n",
       "2020-01-01 01:00:00+00:00      250.893240   5.570370  107.817402   \n",
       "2020-01-01 01:15:00+00:00      142.090909   0.495907   48.142393   \n",
       "2020-01-01 01:30:00+00:00      142.090909   0.495907   48.142393   \n",
       "2020-01-01 01:45:00+00:00      142.090909   0.495907   48.142393   \n",
       "2020-01-01 02:00:00+00:00      250.893240   5.570370  107.817402   \n",
       "2020-01-01 02:15:00+00:00      250.893240   5.570370  107.817402   \n",
       "\n",
       "                           mdot_air_m3_per_h  mdot_air_kg_per_s  t_air_in_c  \\\n",
       "2020-01-01 00:00:00+00:00       17969.566946           5.603921    14.73297   \n",
       "2020-01-01 00:15:00+00:00       17969.566946           5.603921    14.73297   \n",
       "2020-01-01 00:30:00+00:00       17969.566946           5.603921    14.73297   \n",
       "2020-01-01 00:45:00+00:00       17969.566946           5.603921    14.73297   \n",
       "2020-01-01 01:00:00+00:00       17969.566946           5.603921    14.73297   \n",
       "2020-01-01 01:15:00+00:00        8023.732085           2.451061    14.73297   \n",
       "2020-01-01 01:30:00+00:00        8023.732085           2.451061    14.73297   \n",
       "2020-01-01 01:45:00+00:00        8023.732085           2.451061    14.73297   \n",
       "2020-01-01 02:00:00+00:00       17969.566946           5.603921    14.73297   \n",
       "2020-01-01 02:15:00+00:00       17969.566946           5.603921    14.73297   \n",
       "\n",
       "                           t_air_out_c  mdot_fluid_kg_per_s  t_fluid_in_c  \\\n",
       "2020-01-01 00:00:00+00:00    59.192766              1.00000          80.0   \n",
       "2020-01-01 00:15:00+00:00    59.192766              1.00000          80.0   \n",
       "2020-01-01 00:30:00+00:00    59.192766              1.00000          80.0   \n",
       "2020-01-01 00:45:00+00:00    59.192766              1.00000          80.0   \n",
       "2020-01-01 01:00:00+00:00    59.192766              1.00000          80.0   \n",
       "2020-01-01 01:15:00+00:00    72.301167              0.56634          80.0   \n",
       "2020-01-01 01:30:00+00:00    72.301167              0.56634          80.0   \n",
       "2020-01-01 01:45:00+00:00    72.301167              0.56634          80.0   \n",
       "2020-01-01 02:00:00+00:00    59.192766              1.00000          80.0   \n",
       "2020-01-01 02:15:00+00:00    59.192766              1.00000          80.0   \n",
       "\n",
       "                           t_fluid_out_c  \n",
       "2020-01-01 00:00:00+00:00           20.0  \n",
       "2020-01-01 00:15:00+00:00           20.0  \n",
       "2020-01-01 00:30:00+00:00           20.0  \n",
       "2020-01-01 00:45:00+00:00           20.0  \n",
       "2020-01-01 01:00:00+00:00           20.0  \n",
       "2020-01-01 01:15:00+00:00           20.0  \n",
       "2020-01-01 01:30:00+00:00           20.0  \n",
       "2020-01-01 01:45:00+00:00           20.0  \n",
       "2020-01-01 02:00:00+00:00           20.0  \n",
       "2020-01-01 02:15:00+00:00           20.0  "
      ],
      "text/html": [
       "<div>\n",
       "<style scoped>\n",
       "    .dataframe tbody tr th:only-of-type {\n",
       "        vertical-align: middle;\n",
       "    }\n",
       "\n",
       "    .dataframe tbody tr th {\n",
       "        vertical-align: top;\n",
       "    }\n",
       "\n",
       "    .dataframe thead th {\n",
       "        text-align: right;\n",
       "    }\n",
       "</style>\n",
       "<table border=\"1\" class=\"dataframe\">\n",
       "  <thead>\n",
       "    <tr style=\"text-align: right;\">\n",
       "      <th></th>\n",
       "      <th>q_exchanged_kw</th>\n",
       "      <th>p_fans_kw</th>\n",
       "      <th>n_rpm</th>\n",
       "      <th>mdot_air_m3_per_h</th>\n",
       "      <th>mdot_air_kg_per_s</th>\n",
       "      <th>t_air_in_c</th>\n",
       "      <th>t_air_out_c</th>\n",
       "      <th>mdot_fluid_kg_per_s</th>\n",
       "      <th>t_fluid_in_c</th>\n",
       "      <th>t_fluid_out_c</th>\n",
       "    </tr>\n",
       "  </thead>\n",
       "  <tbody>\n",
       "    <tr>\n",
       "      <th>2020-01-01 00:00:00+00:00</th>\n",
       "      <td>250.893240</td>\n",
       "      <td>5.570370</td>\n",
       "      <td>107.817402</td>\n",
       "      <td>17969.566946</td>\n",
       "      <td>5.603921</td>\n",
       "      <td>14.73297</td>\n",
       "      <td>59.192766</td>\n",
       "      <td>1.00000</td>\n",
       "      <td>80.0</td>\n",
       "      <td>20.0</td>\n",
       "    </tr>\n",
       "    <tr>\n",
       "      <th>2020-01-01 00:15:00+00:00</th>\n",
       "      <td>250.893240</td>\n",
       "      <td>5.570370</td>\n",
       "      <td>107.817402</td>\n",
       "      <td>17969.566946</td>\n",
       "      <td>5.603921</td>\n",
       "      <td>14.73297</td>\n",
       "      <td>59.192766</td>\n",
       "      <td>1.00000</td>\n",
       "      <td>80.0</td>\n",
       "      <td>20.0</td>\n",
       "    </tr>\n",
       "    <tr>\n",
       "      <th>2020-01-01 00:30:00+00:00</th>\n",
       "      <td>250.893240</td>\n",
       "      <td>5.570370</td>\n",
       "      <td>107.817402</td>\n",
       "      <td>17969.566946</td>\n",
       "      <td>5.603921</td>\n",
       "      <td>14.73297</td>\n",
       "      <td>59.192766</td>\n",
       "      <td>1.00000</td>\n",
       "      <td>80.0</td>\n",
       "      <td>20.0</td>\n",
       "    </tr>\n",
       "    <tr>\n",
       "      <th>2020-01-01 00:45:00+00:00</th>\n",
       "      <td>250.893240</td>\n",
       "      <td>5.570370</td>\n",
       "      <td>107.817402</td>\n",
       "      <td>17969.566946</td>\n",
       "      <td>5.603921</td>\n",
       "      <td>14.73297</td>\n",
       "      <td>59.192766</td>\n",
       "      <td>1.00000</td>\n",
       "      <td>80.0</td>\n",
       "      <td>20.0</td>\n",
       "    </tr>\n",
       "    <tr>\n",
       "      <th>2020-01-01 01:00:00+00:00</th>\n",
       "      <td>250.893240</td>\n",
       "      <td>5.570370</td>\n",
       "      <td>107.817402</td>\n",
       "      <td>17969.566946</td>\n",
       "      <td>5.603921</td>\n",
       "      <td>14.73297</td>\n",
       "      <td>59.192766</td>\n",
       "      <td>1.00000</td>\n",
       "      <td>80.0</td>\n",
       "      <td>20.0</td>\n",
       "    </tr>\n",
       "    <tr>\n",
       "      <th>2020-01-01 01:15:00+00:00</th>\n",
       "      <td>142.090909</td>\n",
       "      <td>0.495907</td>\n",
       "      <td>48.142393</td>\n",
       "      <td>8023.732085</td>\n",
       "      <td>2.451061</td>\n",
       "      <td>14.73297</td>\n",
       "      <td>72.301167</td>\n",
       "      <td>0.56634</td>\n",
       "      <td>80.0</td>\n",
       "      <td>20.0</td>\n",
       "    </tr>\n",
       "    <tr>\n",
       "      <th>2020-01-01 01:30:00+00:00</th>\n",
       "      <td>142.090909</td>\n",
       "      <td>0.495907</td>\n",
       "      <td>48.142393</td>\n",
       "      <td>8023.732085</td>\n",
       "      <td>2.451061</td>\n",
       "      <td>14.73297</td>\n",
       "      <td>72.301167</td>\n",
       "      <td>0.56634</td>\n",
       "      <td>80.0</td>\n",
       "      <td>20.0</td>\n",
       "    </tr>\n",
       "    <tr>\n",
       "      <th>2020-01-01 01:45:00+00:00</th>\n",
       "      <td>142.090909</td>\n",
       "      <td>0.495907</td>\n",
       "      <td>48.142393</td>\n",
       "      <td>8023.732085</td>\n",
       "      <td>2.451061</td>\n",
       "      <td>14.73297</td>\n",
       "      <td>72.301167</td>\n",
       "      <td>0.56634</td>\n",
       "      <td>80.0</td>\n",
       "      <td>20.0</td>\n",
       "    </tr>\n",
       "    <tr>\n",
       "      <th>2020-01-01 02:00:00+00:00</th>\n",
       "      <td>250.893240</td>\n",
       "      <td>5.570370</td>\n",
       "      <td>107.817402</td>\n",
       "      <td>17969.566946</td>\n",
       "      <td>5.603921</td>\n",
       "      <td>14.73297</td>\n",
       "      <td>59.192766</td>\n",
       "      <td>1.00000</td>\n",
       "      <td>80.0</td>\n",
       "      <td>20.0</td>\n",
       "    </tr>\n",
       "    <tr>\n",
       "      <th>2020-01-01 02:15:00+00:00</th>\n",
       "      <td>250.893240</td>\n",
       "      <td>5.570370</td>\n",
       "      <td>107.817402</td>\n",
       "      <td>17969.566946</td>\n",
       "      <td>5.603921</td>\n",
       "      <td>14.73297</td>\n",
       "      <td>59.192766</td>\n",
       "      <td>1.00000</td>\n",
       "      <td>80.0</td>\n",
       "      <td>20.0</td>\n",
       "    </tr>\n",
       "  </tbody>\n",
       "</table>\n",
       "</div>"
      ]
     },
     "execution_count": 113,
     "metadata": {},
     "output_type": "execute_result"
    }
   ],
   "execution_count": 113
  },
  {
   "metadata": {},
   "cell_type": "markdown",
   "source": "Alternatively, if the elements have unique names, we can change the indexing of the result dataframe to use the name of the elements as index and access the results more directly.",
   "id": "6f54f746b893b80f"
  },
  {
   "metadata": {
    "ExecuteTime": {
     "end_time": "2025-03-31T10:09:52.191440Z",
     "start_time": "2025-03-31T10:09:52.187328Z"
    }
   },
   "cell_type": "code",
   "source": [
    "res_df = prosumer.time_series.copy()\n",
    "res_df.set_index('name', inplace=True)"
   ],
   "id": "11d3bf8be7c64318",
   "outputs": [],
   "execution_count": 114
  },
  {
   "metadata": {
    "ExecuteTime": {
     "end_time": "2025-03-31T10:09:52.201557Z",
     "start_time": "2025-03-31T10:09:52.193401Z"
    }
   },
   "cell_type": "code",
   "source": "res_df",
   "id": "f57c5476dee422cd",
   "outputs": [
    {
     "data": {
      "text/plain": [
       "                         element  element_index  period_index data_source\n",
       "name                                                                     \n",
       "air_water_heat_pump    heat_pump            0.0           0.0      DFData\n",
       "heat_consumer        heat_demand            0.0           0.0      DFData\n",
       "dry cooler            dry_cooler            0.0           0.0      DFData"
      ],
      "text/html": [
       "<div>\n",
       "<style scoped>\n",
       "    .dataframe tbody tr th:only-of-type {\n",
       "        vertical-align: middle;\n",
       "    }\n",
       "\n",
       "    .dataframe tbody tr th {\n",
       "        vertical-align: top;\n",
       "    }\n",
       "\n",
       "    .dataframe thead th {\n",
       "        text-align: right;\n",
       "    }\n",
       "</style>\n",
       "<table border=\"1\" class=\"dataframe\">\n",
       "  <thead>\n",
       "    <tr style=\"text-align: right;\">\n",
       "      <th></th>\n",
       "      <th>element</th>\n",
       "      <th>element_index</th>\n",
       "      <th>period_index</th>\n",
       "      <th>data_source</th>\n",
       "    </tr>\n",
       "    <tr>\n",
       "      <th>name</th>\n",
       "      <th></th>\n",
       "      <th></th>\n",
       "      <th></th>\n",
       "      <th></th>\n",
       "    </tr>\n",
       "  </thead>\n",
       "  <tbody>\n",
       "    <tr>\n",
       "      <th>air_water_heat_pump</th>\n",
       "      <td>heat_pump</td>\n",
       "      <td>0.0</td>\n",
       "      <td>0.0</td>\n",
       "      <td>DFData</td>\n",
       "    </tr>\n",
       "    <tr>\n",
       "      <th>heat_consumer</th>\n",
       "      <td>heat_demand</td>\n",
       "      <td>0.0</td>\n",
       "      <td>0.0</td>\n",
       "      <td>DFData</td>\n",
       "    </tr>\n",
       "    <tr>\n",
       "      <th>dry cooler</th>\n",
       "      <td>dry_cooler</td>\n",
       "      <td>0.0</td>\n",
       "      <td>0.0</td>\n",
       "      <td>DFData</td>\n",
       "    </tr>\n",
       "  </tbody>\n",
       "</table>\n",
       "</div>"
      ]
     },
     "execution_count": 115,
     "metadata": {},
     "output_type": "execute_result"
    }
   ],
   "execution_count": 115
  },
  {
   "metadata": {
    "ExecuteTime": {
     "end_time": "2025-03-31T10:09:52.313084Z",
     "start_time": "2025-03-31T10:09:52.202593Z"
    }
   },
   "cell_type": "code",
   "source": [
    "res_df.data_source.loc['air_water_heat_pump'].df.q_cond_kw.plot()\n",
    "plt.show()"
   ],
   "id": "4c3a063727a7cfa1",
   "outputs": [
    {
     "data": {
      "text/plain": [
       "<Figure size 640x480 with 1 Axes>"
      ],
      "image/png": "[encoded data removed]"
     },
     "metadata": {},
     "output_type": "display_data"
    }
   ],
   "execution_count": 116
  },
  {
   "metadata": {
    "ExecuteTime": {
     "end_time": "2025-03-31T10:09:52.517310Z",
     "start_time": "2025-03-31T10:09:52.314726Z"
    }
   },
   "cell_type": "code",
   "source": [
    "res_df.data_source.loc['heat_consumer'].df.q_uncovered_kw.plot()\n",
    "plt.show()"
   ],
   "id": "7427331962b22bee",
   "outputs": [
    {
     "data": {
      "text/plain": [
       "<Figure size 640x480 with 1 Axes>"
      ],
      "image/png": "[encoded data removed]"
     },
     "metadata": {},
     "output_type": "display_data"
    }
   ],
   "execution_count": 117
  },
  {
   "metadata": {},
   "cell_type": "markdown",
   "source": "In the previous graph, we can observe that when the heat demand is lower than the heat pump’s capacity, the excess supply is redirected to the dry cooler.",
   "id": "ce31fd09320949b"
  },
  {
   "metadata": {
    "ExecuteTime": {
     "end_time": "2025-03-31T10:09:52.623488Z",
     "start_time": "2025-03-31T10:09:52.519004Z"
    }
   },
   "cell_type": "code",
   "source": [
    "res_df.data_source.loc['dry cooler'].df.q_exchanged_kw.plot()\n",
    "plt.show()"
   ],
   "id": "b293182ebbcb9e9f",
   "outputs": [
    {
     "data": {
      "text/plain": [
       "<Figure size 640x480 with 1 Axes>"
      ],
      "image/png": "[encoded data removed]"
     },
     "metadata": {},
     "output_type": "display_data"
    }
   ],
   "execution_count": 118
  }
 ],
 "metadata": {
  "kernelspec": {
   "display_name": "Python 3",
   "language": "python",
   "name": "python3"
  },
  "language_info": {
   "codemirror_mode": {
    "name": "ipython",
    "version": 2
   },
   "file_extension": ".py",
   "mimetype": "text/x-python",
   "name": "python",
   "nbconvert_exporter": "python",
   "pygments_lexer": "ipython2",
   "version": "2.7.6"
  }
 },
 "nbformat": 4,
 "nbformat_minor": 5
}
