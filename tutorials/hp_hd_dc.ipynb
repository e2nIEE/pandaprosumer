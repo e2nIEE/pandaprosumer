{
 "cells": [
  {
   "metadata": {},
   "cell_type": "markdown",
   "source": "# PANDAPROSUMER EXAMPLE: HEAT PUMP AND 2 DEMANDS",
   "id": "1d72e27bb53ef49c"
  },
  {
   "metadata": {},
   "cell_type": "markdown",
   "source": [
    "## DESCRIPTION:\n",
    "This example demonstrates how to create a single heat pump element in pandaprosumer, which is connected to both a heat consumer (heat demand) and a dry cooler. When the heat pump produces more heat than the consumer requires, the excess is supplied to the dry cooler.\n",
    "\n",
    "This tutorial illustrates how to use the **mappings orders** in a parallel configuration to define a **merit order between two heat receivers**.\n",
    "\n",
    "The heat demand and source temperature data are read from an Excel file and stored in a pandas DataFrame. This data includes the consumer’s required power and the source temperature at each time step.\n",
    "\n",
    "\n",
    "![title](img/hp_hd_dc.png)"
   ],
   "id": "1a1460d5f91388be"
  },
  {
   "metadata": {},
   "cell_type": "markdown",
   "source": [
    "## Glossary:\n",
    "- Network: A configuration of connected energy generators and energy consumers\n",
    "- Element: A single energy generator or a single energy consumer\n",
    "- Controller: The logic of an element that defines its behaviour and its limits\n",
    "- Prosumer/Container: A pandaprosumer data structure that holds data related to elements and their controllers.\n",
    "- Const Profile Controller: The initial controller in the network that interacts with other element controllers; it also manages external data via time series.\n",
    "- Map / mapping: A connection between two controllers that specifies what information is exchanged between the corresponding elements."
   ],
   "id": "500262c6f62f99c2"
  },
  {
   "metadata": {},
   "cell_type": "markdown",
   "source": [
    "## Network design philosophy:\n",
    "In pandaprosumer, a system's component is represented by a network element. Each element is assigned a container and its own element controller. A container is a structure that contains the component's configuration data (static input data), which can include information that will not change in the analysis such as size, nominal power, efficiency, etc. The behaviour of an element is governed by its controller. Connections between elements are defined in maps, which couple output parameters of one controller to the input parameter of a controller of a connected element. The network is managed by a controller called ConstProfileController. This controller is connected to all element controllers and manages dynamic input data from external sources (e.g. Excel file). For each time step it distributes the dynamic input data to the relevant element controllers."
   ],
   "id": "455096554daf4b7c"
  },
  {
   "metadata": {},
   "cell_type": "markdown",
   "source": [
    "# 1 - INPUT DATA:\n",
    "First let's import libraries required for data management."
   ],
   "id": "c42b371621c904bf"
  },
  {
   "metadata": {
    "ExecuteTime": {
     "end_time": "2025-05-08T07:48:47.473047Z",
     "start_time": "2025-05-08T07:48:44.409887Z"
    }
   },
   "cell_type": "code",
   "source": [
    "import pandas as pd\n",
    "from pandapower.timeseries.data_sources.frame_data import DFData"
   ],
   "id": "142082ad59af444",
   "outputs": [],
   "execution_count": 1
  },
  {
   "metadata": {},
   "cell_type": "markdown",
   "source": [
    "Next we need to define properties of the heat pump (hp) which are treated as static input data, i.e. data (characteristics) that don't change during an analysis. In this case the properties for the heat pump are :\n",
    "\n",
    "\n",
    "- `carnot_efficiency`: The efficiency of the heat pump relative to the Carnot cycle (dimensionless, between 0 and 1).\n",
    "- `pinch_c`: The pinch point temperature difference (°C), which represents the minimum temperature difference in the heat exchanger.\n",
    "- `delta_t_evap_c`: The temperature difference at the evaporator (°C).\n",
    "- `max_p_comp_kw`: The maximum compressor power (kW), which limits the heat pump's capacity.\n",
    "- `name`: A label identifying the heat pump.\n",
    "\n",
    "Next, we define the properties of the **dry cooler (dc)** :\n",
    "\n",
    "- `n_nom_rpm`:   Nominal rotational speed of the fans [rpm]\n",
    "- `p_fan_nom_kw`: Nominal electric power of each fan [kW]\n",
    "- `qair_nom_m3_per_h`: Nominal air flow [m3/h]\n",
    "- `t_air_in_nom_c`: Air nominal input temperature [C]\n",
    "- `t_air_out_nom_c`:Air nominal output temperature [C]\n",
    "- `t_fluid_in_nom_c `:Air nominal input temperature [C]\n",
    "- `t_fluid_out_nom_c `:Air nominal output temperature [C]\n",
    "- `fans_number `:Number of fans in the dry cooler\n",
    "- `adiabatic_mode `:Whether to use the air adiabatic pre-cooling mode.\n",
    "- `min_delta_t_air_c`:Minimum air temperature difference [C]\n",
    "\n",
    " While these arguments are generally optional, in our specific case they are required in order to fully configure the heat exchanger. Other optional arguments are also available for more advanced configurations."
   ],
   "id": "2d7c1bd4bd7fa9e9"
  },
  {
   "metadata": {
    "ExecuteTime": {
     "end_time": "2025-05-08T07:48:47.503961Z",
     "start_time": "2025-05-08T07:48:47.481470Z"
    }
   },
   "cell_type": "code",
   "source": [
    "hp_params = {\"carnot_efficiency\": 0.5,\n",
    "             \"pinch_c\": 0,\n",
    "             \"delta_t_evap_c\": 5,\n",
    "             \"max_p_comp_kw\": 150,\n",
    "             \"name\":'air_water_heat_pump'}\n",
    "\n",
    "dc_params = {'fans_number': 8,\n",
    "             'n_nom_rpm': 300,\n",
    "             'p_fan_nom_kw': 15,\n",
    "             'qair_nom_m3_per_h': 50000,\n",
    "             't_air_in_nom_c': 25,\n",
    "             't_air_out_nom_c': 45,\n",
    "             't_fluid_in_nom_c': 76,\n",
    "             't_fluid_out_nom_c': 30,\n",
    "             'adiabatic_mode': True,\n",
    "             'min_delta_t_air_c': 5,\n",
    "             'name': 'dry cooler'}\n",
    "\n",
    "hd_params = {\"name\": 'heat_consumer'}"
   ],
   "id": "d09e6948fed57f3",
   "outputs": [],
   "execution_count": 2
  },
  {
   "metadata": {},
   "cell_type": "markdown",
   "source": "We define the analysis time series.",
   "id": "e2e94621f3d0f86d"
  },
  {
   "metadata": {
    "ExecuteTime": {
     "end_time": "2025-05-08T07:48:47.908808Z",
     "start_time": "2025-05-08T07:48:47.895569Z"
    }
   },
   "cell_type": "code",
   "source": [
    "start = '2020-01-01 00:00:00'\n",
    "end = '2020-01-01 23:59:59'\n",
    "time_resolution_s = 900"
   ],
   "id": "3ecbe4b60147ccf6",
   "outputs": [],
   "execution_count": 3
  },
  {
   "metadata": {},
   "cell_type": "markdown",
   "source": "Now we import our demand data and transform it into an appropriate DFData object. All data of an individual element is stored in a dedicated DFData object.",
   "id": "ecd5c572e5fbb1b1"
  },
  {
   "metadata": {
    "ExecuteTime": {
     "end_time": "2025-05-08T07:48:48.066867Z",
     "start_time": "2025-05-08T07:48:47.974786Z"
    }
   },
   "cell_type": "code",
   "source": [
    "import sys\n",
    "import os\n",
    "\n",
    "current_directory = os.getcwd()\n",
    "parent_directory = os.path.dirname(current_directory)\n",
    "sys.path.append(parent_directory)\n",
    "\n",
    "demand_data = pd.read_excel('data/hp_dc_data.xlsx')\n",
    "\n",
    "dur = pd.date_range(start=start, end=end, freq='900s',tz='utc')\n",
    "demand_data.index = dur\n",
    "demand_input = DFData(demand_data)\n",
    "demand_input.df.head(10)\n"
   ],
   "id": "a4022973615f828b",
   "outputs": [
    {
     "data": {
      "text/plain": [
       "                           t_air  demand_power  t_feed_demand_c  \\\n",
       "2020-01-01 00:00:00+00:00     25             0               80   \n",
       "2020-01-01 00:15:00+00:00     25             0               80   \n",
       "2020-01-01 00:30:00+00:00     25             0               80   \n",
       "2020-01-01 00:45:00+00:00     25             0               80   \n",
       "2020-01-01 01:00:00+00:00     25             0               80   \n",
       "2020-01-01 01:15:00+00:00     25           500               80   \n",
       "2020-01-01 01:30:00+00:00     25           500               80   \n",
       "2020-01-01 01:45:00+00:00     25           500               80   \n",
       "2020-01-01 02:00:00+00:00     25           321               80   \n",
       "2020-01-01 02:15:00+00:00     25           321               80   \n",
       "\n",
       "                           t_return_demand_c  mdot_fluid_kg_per_s  \\\n",
       "2020-01-01 00:00:00+00:00                 20                    5   \n",
       "2020-01-01 00:15:00+00:00                 20                    5   \n",
       "2020-01-01 00:30:00+00:00                 20                    5   \n",
       "2020-01-01 00:45:00+00:00                 20                    5   \n",
       "2020-01-01 01:00:00+00:00                 20                    5   \n",
       "2020-01-01 01:15:00+00:00                 20                    5   \n",
       "2020-01-01 01:30:00+00:00                 20                    5   \n",
       "2020-01-01 01:45:00+00:00                 20                    5   \n",
       "2020-01-01 02:00:00+00:00                 20                    5   \n",
       "2020-01-01 02:15:00+00:00                 20                    5   \n",
       "\n",
       "                           phi_air_in_percent  \n",
       "2020-01-01 00:00:00+00:00                  30  \n",
       "2020-01-01 00:15:00+00:00                  30  \n",
       "2020-01-01 00:30:00+00:00                  30  \n",
       "2020-01-01 00:45:00+00:00                  30  \n",
       "2020-01-01 01:00:00+00:00                  30  \n",
       "2020-01-01 01:15:00+00:00                  30  \n",
       "2020-01-01 01:30:00+00:00                  30  \n",
       "2020-01-01 01:45:00+00:00                  30  \n",
       "2020-01-01 02:00:00+00:00                  30  \n",
       "2020-01-01 02:15:00+00:00                  30  "
      ],
      "text/html": [
       "<div>\n",
       "<style scoped>\n",
       "    .dataframe tbody tr th:only-of-type {\n",
       "        vertical-align: middle;\n",
       "    }\n",
       "\n",
       "    .dataframe tbody tr th {\n",
       "        vertical-align: top;\n",
       "    }\n",
       "\n",
       "    .dataframe thead th {\n",
       "        text-align: right;\n",
       "    }\n",
       "</style>\n",
       "<table border=\"1\" class=\"dataframe\">\n",
       "  <thead>\n",
       "    <tr style=\"text-align: right;\">\n",
       "      <th></th>\n",
       "      <th>t_air</th>\n",
       "      <th>demand_power</th>\n",
       "      <th>t_feed_demand_c</th>\n",
       "      <th>t_return_demand_c</th>\n",
       "      <th>mdot_fluid_kg_per_s</th>\n",
       "      <th>phi_air_in_percent</th>\n",
       "    </tr>\n",
       "  </thead>\n",
       "  <tbody>\n",
       "    <tr>\n",
       "      <th>2020-01-01 00:00:00+00:00</th>\n",
       "      <td>25</td>\n",
       "      <td>0</td>\n",
       "      <td>80</td>\n",
       "      <td>20</td>\n",
       "      <td>5</td>\n",
       "      <td>30</td>\n",
       "    </tr>\n",
       "    <tr>\n",
       "      <th>2020-01-01 00:15:00+00:00</th>\n",
       "      <td>25</td>\n",
       "      <td>0</td>\n",
       "      <td>80</td>\n",
       "      <td>20</td>\n",
       "      <td>5</td>\n",
       "      <td>30</td>\n",
       "    </tr>\n",
       "    <tr>\n",
       "      <th>2020-01-01 00:30:00+00:00</th>\n",
       "      <td>25</td>\n",
       "      <td>0</td>\n",
       "      <td>80</td>\n",
       "      <td>20</td>\n",
       "      <td>5</td>\n",
       "      <td>30</td>\n",
       "    </tr>\n",
       "    <tr>\n",
       "      <th>2020-01-01 00:45:00+00:00</th>\n",
       "      <td>25</td>\n",
       "      <td>0</td>\n",
       "      <td>80</td>\n",
       "      <td>20</td>\n",
       "      <td>5</td>\n",
       "      <td>30</td>\n",
       "    </tr>\n",
       "    <tr>\n",
       "      <th>2020-01-01 01:00:00+00:00</th>\n",
       "      <td>25</td>\n",
       "      <td>0</td>\n",
       "      <td>80</td>\n",
       "      <td>20</td>\n",
       "      <td>5</td>\n",
       "      <td>30</td>\n",
       "    </tr>\n",
       "    <tr>\n",
       "      <th>2020-01-01 01:15:00+00:00</th>\n",
       "      <td>25</td>\n",
       "      <td>500</td>\n",
       "      <td>80</td>\n",
       "      <td>20</td>\n",
       "      <td>5</td>\n",
       "      <td>30</td>\n",
       "    </tr>\n",
       "    <tr>\n",
       "      <th>2020-01-01 01:30:00+00:00</th>\n",
       "      <td>25</td>\n",
       "      <td>500</td>\n",
       "      <td>80</td>\n",
       "      <td>20</td>\n",
       "      <td>5</td>\n",
       "      <td>30</td>\n",
       "    </tr>\n",
       "    <tr>\n",
       "      <th>2020-01-01 01:45:00+00:00</th>\n",
       "      <td>25</td>\n",
       "      <td>500</td>\n",
       "      <td>80</td>\n",
       "      <td>20</td>\n",
       "      <td>5</td>\n",
       "      <td>30</td>\n",
       "    </tr>\n",
       "    <tr>\n",
       "      <th>2020-01-01 02:00:00+00:00</th>\n",
       "      <td>25</td>\n",
       "      <td>321</td>\n",
       "      <td>80</td>\n",
       "      <td>20</td>\n",
       "      <td>5</td>\n",
       "      <td>30</td>\n",
       "    </tr>\n",
       "    <tr>\n",
       "      <th>2020-01-01 02:15:00+00:00</th>\n",
       "      <td>25</td>\n",
       "      <td>321</td>\n",
       "      <td>80</td>\n",
       "      <td>20</td>\n",
       "      <td>5</td>\n",
       "      <td>30</td>\n",
       "    </tr>\n",
       "  </tbody>\n",
       "</table>\n",
       "</div>"
      ]
     },
     "execution_count": 4,
     "metadata": {},
     "output_type": "execute_result"
    }
   ],
   "execution_count": 4
  },
  {
   "metadata": {},
   "cell_type": "markdown",
   "source": "We can plot the evolution of the demand from the Excel file.",
   "id": "20bf208b14962417"
  },
  {
   "metadata": {
    "ExecuteTime": {
     "end_time": "2025-05-08T07:48:48.550616Z",
     "start_time": "2025-05-08T07:48:48.193756Z"
    }
   },
   "cell_type": "code",
   "source": [
    "import matplotlib.pyplot as plt\n",
    "\n",
    "demand_input.df.plot(y='demand_power')\n",
    "plt.title(\"Heat Consumer demand power\")\n",
    "plt.ylabel(\"Thermal power (kW)\")\n",
    "plt.show()"
   ],
   "id": "acc208ed485f2f86",
   "outputs": [
    {
     "data": {
      "text/plain": [
       "<Figure size 640x480 with 1 Axes>"
      ],
      "image/png": "[encoded data removed]"
     },
     "metadata": {},
     "output_type": "display_data"
    }
   ],
   "execution_count": 5
  },
  {
   "metadata": {},
   "cell_type": "markdown",
   "source": [
    "# 2 - CREATING ELEMENTS OF THE NETWORK:\n",
    "In this example, the network is made up of three elements: a source, two consumer. The source is represented by a single heat pump, the first consumer is modelled by a single heat demand element and the second one in modelled by a single dry cooler element.\n",
    "\n",
    "We begin by defining an empty prosumer container object and then add the different elements and their respective controllers to it."
   ],
   "id": "b6f84d92889144d6"
  },
  {
   "metadata": {
    "ExecuteTime": {
     "end_time": "2025-05-08T07:48:48.973883Z",
     "start_time": "2025-05-08T07:48:48.616877Z"
    }
   },
   "cell_type": "code",
   "source": [
    "from pandaprosumer.create import create_empty_prosumer_container\n",
    "\n",
    "prosumer = create_empty_prosumer_container()"
   ],
   "id": "4bfed1f46eef0b4",
   "outputs": [],
   "execution_count": 6
  },
  {
   "metadata": {},
   "cell_type": "markdown",
   "source": "Then we define the period of the analysis using input data about the analysis of time and also timezone and period name.",
   "id": "37f38b289e5ee8a6"
  },
  {
   "metadata": {
    "ExecuteTime": {
     "end_time": "2025-05-08T07:48:49.005378Z",
     "start_time": "2025-05-08T07:48:48.982503Z"
    }
   },
   "cell_type": "code",
   "source": [
    "from pandaprosumer.create import create_period\n",
    "\n",
    "period_id = create_period(prosumer, time_resolution_s, start, end, 'utc', 'default')"
   ],
   "id": "3bb1a6fd52d77654",
   "outputs": [],
   "execution_count": 7
  },
  {
   "metadata": {},
   "cell_type": "markdown",
   "source": [
    "Now we can create the controllers connected to their respective containers and data. We also define the topology of the network by setting the elements' priority. In this example, the network has a linear configuration (the direction of energy flow goes in one direction), so only the order parameter is set:\n",
    "\n",
    "- The const profile controller is always the first element in the network and is the only one that reads data from external sources (order 0, level 0),\n",
    "- As the source, the gas boiler controller is the second element (order 0, level 1) in the network,\n",
    "- Third element represents the heat exchanger(order 1, level 1),\n",
    " -The final order is the demand (order 2, level 1).\n",
    "\n",
    "We begin by creating the Const Profile Controller."
   ],
   "id": "94601c61127ef2e5"
  },
  {
   "metadata": {
    "ExecuteTime": {
     "end_time": "2025-05-08T07:48:49.038027Z",
     "start_time": "2025-05-08T07:48:49.022577Z"
    }
   },
   "cell_type": "code",
   "source": [
    "from pandaprosumer.create_controlled import create_controlled_const_profile\n",
    "\n",
    "cp_input_columns = [\"t_air\", \"demand_power\", \"t_feed_demand_c\", \"t_return_demand_c\",\"mdot_fluid_kg_per_s\",\"phi_air_in_percent\"]\n",
    "cp_result_columns = [\"t_evap_in_c\", \"qdemand_kw\", \"t_feed_demand_c\", \"t_return_demand_c\",\"mdot_fluid_kg_per_s\",\"phi_air_in_percent\"]\n",
    "cp_controller_index = create_controlled_const_profile(prosumer, cp_input_columns, cp_result_columns, demand_input, period_id, 0, 0)"
   ],
   "id": "a593b8cd32003abc",
   "outputs": [],
   "execution_count": 8
  },
  {
   "metadata": {},
   "cell_type": "markdown",
   "source": "The heat exchanger, Gas Boiler and Heat demand controllers are now created",
   "id": "84444f62864b16ef"
  },
  {
   "metadata": {
    "ExecuteTime": {
     "end_time": "2025-05-08T07:48:49.192762Z",
     "start_time": "2025-05-08T07:48:49.085256Z"
    }
   },
   "cell_type": "code",
   "source": [
    "from pandaprosumer.create_controlled import create_controlled_heat_pump,create_controlled_dry_cooler,create_controlled_heat_demand\n",
    "\n",
    "hp_controller_index = create_controlled_heat_pump(prosumer, period=period_id, level=1, order=0, **hp_params)\n",
    "hd_controller_index = create_controlled_heat_demand(prosumer, period=period_id, level=1, order=1,**hd_params)\n",
    "dc_controller_index = create_controlled_dry_cooler(prosumer, period=period_id, level=1, order=2, **dc_params)"
   ],
   "id": "ff55fcc76370bf3b",
   "outputs": [],
   "execution_count": 9
  },
  {
   "metadata": {},
   "cell_type": "markdown",
   "source": "We can check that the elements were connected added to the prosumer with the specified parameters",
   "id": "f23591df7fae5f0"
  },
  {
   "metadata": {
    "ExecuteTime": {
     "end_time": "2025-05-08T07:48:49.254562Z",
     "start_time": "2025-05-08T07:48:49.226135Z"
    }
   },
   "cell_type": "code",
   "source": "prosumer.heat_pump",
   "id": "e06b44aa1db18a71",
   "outputs": [
    {
     "data": {
      "text/plain": [
       "                  name  delta_t_evap_c  carnot_efficiency  pinch_c  \\\n",
       "0  air_water_heat_pump             5.0                0.5      0.0   \n",
       "\n",
       "   delta_t_hot_default_c  max_p_comp_kw  min_p_comp_kw  max_t_cond_out_c  \\\n",
       "0                    5.0          150.0            NaN               NaN   \n",
       "\n",
       "   max_cop cond_fluid evap_fluid  in_service  \n",
       "0      NaN      water      water        True  "
      ],
      "text/html": [
       "<div>\n",
       "<style scoped>\n",
       "    .dataframe tbody tr th:only-of-type {\n",
       "        vertical-align: middle;\n",
       "    }\n",
       "\n",
       "    .dataframe tbody tr th {\n",
       "        vertical-align: top;\n",
       "    }\n",
       "\n",
       "    .dataframe thead th {\n",
       "        text-align: right;\n",
       "    }\n",
       "</style>\n",
       "<table border=\"1\" class=\"dataframe\">\n",
       "  <thead>\n",
       "    <tr style=\"text-align: right;\">\n",
       "      <th></th>\n",
       "      <th>name</th>\n",
       "      <th>delta_t_evap_c</th>\n",
       "      <th>carnot_efficiency</th>\n",
       "      <th>pinch_c</th>\n",
       "      <th>delta_t_hot_default_c</th>\n",
       "      <th>max_p_comp_kw</th>\n",
       "      <th>min_p_comp_kw</th>\n",
       "      <th>max_t_cond_out_c</th>\n",
       "      <th>max_cop</th>\n",
       "      <th>cond_fluid</th>\n",
       "      <th>evap_fluid</th>\n",
       "      <th>in_service</th>\n",
       "    </tr>\n",
       "  </thead>\n",
       "  <tbody>\n",
       "    <tr>\n",
       "      <th>0</th>\n",
       "      <td>air_water_heat_pump</td>\n",
       "      <td>5.0</td>\n",
       "      <td>0.5</td>\n",
       "      <td>0.0</td>\n",
       "      <td>5.0</td>\n",
       "      <td>150.0</td>\n",
       "      <td>NaN</td>\n",
       "      <td>NaN</td>\n",
       "      <td>NaN</td>\n",
       "      <td>water</td>\n",
       "      <td>water</td>\n",
       "      <td>True</td>\n",
       "    </tr>\n",
       "  </tbody>\n",
       "</table>\n",
       "</div>"
      ]
     },
     "execution_count": 10,
     "metadata": {},
     "output_type": "execute_result"
    }
   ],
   "execution_count": 10
  },
  {
   "metadata": {
    "ExecuteTime": {
     "end_time": "2025-05-08T07:48:49.408169Z",
     "start_time": "2025-05-08T07:48:49.379401Z"
    }
   },
   "cell_type": "code",
   "source": "prosumer.dry_cooler",
   "id": "10e2840f555cc4fe",
   "outputs": [
    {
     "data": {
      "text/plain": [
       "         name  n_nom_rpm  p_fan_nom_kw  qair_nom_m3_per_h  t_air_in_nom_c  \\\n",
       "0  dry cooler      300.0          15.0            50000.0            25.0   \n",
       "\n",
       "   t_air_out_nom_c  t_fluid_in_nom_c  t_fluid_out_nom_c  fans_number  \\\n",
       "0             45.0              76.0               30.0            8   \n",
       "\n",
       "   adiabatic_mode  phi_adiabatic_sat_percent  min_delta_t_air_c  in_service  \n",
       "0            True                       99.0                5.0        True  "
      ],
      "text/html": [
       "<div>\n",
       "<style scoped>\n",
       "    .dataframe tbody tr th:only-of-type {\n",
       "        vertical-align: middle;\n",
       "    }\n",
       "\n",
       "    .dataframe tbody tr th {\n",
       "        vertical-align: top;\n",
       "    }\n",
       "\n",
       "    .dataframe thead th {\n",
       "        text-align: right;\n",
       "    }\n",
       "</style>\n",
       "<table border=\"1\" class=\"dataframe\">\n",
       "  <thead>\n",
       "    <tr style=\"text-align: right;\">\n",
       "      <th></th>\n",
       "      <th>name</th>\n",
       "      <th>n_nom_rpm</th>\n",
       "      <th>p_fan_nom_kw</th>\n",
       "      <th>qair_nom_m3_per_h</th>\n",
       "      <th>t_air_in_nom_c</th>\n",
       "      <th>t_air_out_nom_c</th>\n",
       "      <th>t_fluid_in_nom_c</th>\n",
       "      <th>t_fluid_out_nom_c</th>\n",
       "      <th>fans_number</th>\n",
       "      <th>adiabatic_mode</th>\n",
       "      <th>phi_adiabatic_sat_percent</th>\n",
       "      <th>min_delta_t_air_c</th>\n",
       "      <th>in_service</th>\n",
       "    </tr>\n",
       "  </thead>\n",
       "  <tbody>\n",
       "    <tr>\n",
       "      <th>0</th>\n",
       "      <td>dry cooler</td>\n",
       "      <td>300.0</td>\n",
       "      <td>15.0</td>\n",
       "      <td>50000.0</td>\n",
       "      <td>25.0</td>\n",
       "      <td>45.0</td>\n",
       "      <td>76.0</td>\n",
       "      <td>30.0</td>\n",
       "      <td>8</td>\n",
       "      <td>True</td>\n",
       "      <td>99.0</td>\n",
       "      <td>5.0</td>\n",
       "      <td>True</td>\n",
       "    </tr>\n",
       "  </tbody>\n",
       "</table>\n",
       "</div>"
      ]
     },
     "execution_count": 11,
     "metadata": {},
     "output_type": "execute_result"
    }
   ],
   "execution_count": 11
  },
  {
   "metadata": {
    "ExecuteTime": {
     "end_time": "2025-05-08T07:48:49.517137Z",
     "start_time": "2025-05-08T07:48:49.504919Z"
    }
   },
   "cell_type": "code",
   "source": "prosumer.heat_demand",
   "id": "6e89d7d9842eb04c",
   "outputs": [
    {
     "data": {
      "text/plain": [
       "            name  scaling  in_service\n",
       "0  heat_consumer      1.0        True"
      ],
      "text/html": [
       "<div>\n",
       "<style scoped>\n",
       "    .dataframe tbody tr th:only-of-type {\n",
       "        vertical-align: middle;\n",
       "    }\n",
       "\n",
       "    .dataframe tbody tr th {\n",
       "        vertical-align: top;\n",
       "    }\n",
       "\n",
       "    .dataframe thead th {\n",
       "        text-align: right;\n",
       "    }\n",
       "</style>\n",
       "<table border=\"1\" class=\"dataframe\">\n",
       "  <thead>\n",
       "    <tr style=\"text-align: right;\">\n",
       "      <th></th>\n",
       "      <th>name</th>\n",
       "      <th>scaling</th>\n",
       "      <th>in_service</th>\n",
       "    </tr>\n",
       "  </thead>\n",
       "  <tbody>\n",
       "    <tr>\n",
       "      <th>0</th>\n",
       "      <td>heat_consumer</td>\n",
       "      <td>1.0</td>\n",
       "      <td>True</td>\n",
       "    </tr>\n",
       "  </tbody>\n",
       "</table>\n",
       "</div>"
      ]
     },
     "execution_count": 12,
     "metadata": {},
     "output_type": "execute_result"
    }
   ],
   "execution_count": 12
  },
  {
   "metadata": {},
   "cell_type": "markdown",
   "source": "Additionnaly, we can check that for each element, a controller has been added to the prosumer",
   "id": "8efe3429e7115fe8"
  },
  {
   "metadata": {
    "ExecuteTime": {
     "end_time": "2025-05-08T07:48:49.779982Z",
     "start_time": "2025-05-08T07:48:49.767168Z"
    }
   },
   "cell_type": "code",
   "source": "prosumer.controller",
   "id": "9ecf4204c73aec04",
   "outputs": [
    {
     "data": {
      "text/plain": [
       "                   object  in_service order level initial_run recycle\n",
       "0  ConstProfileController        True     0     0        True   False\n",
       "1      HeatPumpController        True     0     1        True   False\n",
       "2    HeatDemandController        True     1     1        True   False\n",
       "3     DryCoolerController        True     2     1        True   False"
      ],
      "text/html": [
       "<div>\n",
       "<style scoped>\n",
       "    .dataframe tbody tr th:only-of-type {\n",
       "        vertical-align: middle;\n",
       "    }\n",
       "\n",
       "    .dataframe tbody tr th {\n",
       "        vertical-align: top;\n",
       "    }\n",
       "\n",
       "    .dataframe thead th {\n",
       "        text-align: right;\n",
       "    }\n",
       "</style>\n",
       "<table border=\"1\" class=\"dataframe\">\n",
       "  <thead>\n",
       "    <tr style=\"text-align: right;\">\n",
       "      <th></th>\n",
       "      <th>object</th>\n",
       "      <th>in_service</th>\n",
       "      <th>order</th>\n",
       "      <th>level</th>\n",
       "      <th>initial_run</th>\n",
       "      <th>recycle</th>\n",
       "    </tr>\n",
       "  </thead>\n",
       "  <tbody>\n",
       "    <tr>\n",
       "      <th>0</th>\n",
       "      <td>ConstProfileController</td>\n",
       "      <td>True</td>\n",
       "      <td>0</td>\n",
       "      <td>0</td>\n",
       "      <td>True</td>\n",
       "      <td>False</td>\n",
       "    </tr>\n",
       "    <tr>\n",
       "      <th>1</th>\n",
       "      <td>HeatPumpController</td>\n",
       "      <td>True</td>\n",
       "      <td>0</td>\n",
       "      <td>1</td>\n",
       "      <td>True</td>\n",
       "      <td>False</td>\n",
       "    </tr>\n",
       "    <tr>\n",
       "      <th>2</th>\n",
       "      <td>HeatDemandController</td>\n",
       "      <td>True</td>\n",
       "      <td>1</td>\n",
       "      <td>1</td>\n",
       "      <td>True</td>\n",
       "      <td>False</td>\n",
       "    </tr>\n",
       "    <tr>\n",
       "      <th>3</th>\n",
       "      <td>DryCoolerController</td>\n",
       "      <td>True</td>\n",
       "      <td>2</td>\n",
       "      <td>1</td>\n",
       "      <td>True</td>\n",
       "      <td>False</td>\n",
       "    </tr>\n",
       "  </tbody>\n",
       "</table>\n",
       "</div>"
      ]
     },
     "execution_count": 13,
     "metadata": {},
     "output_type": "execute_result"
    }
   ],
   "execution_count": 13
  },
  {
   "metadata": {},
   "cell_type": "markdown",
   "source": [
    "# 4 - CREATING CONNECTIONS (MAPS) BETWEEN THE CONTROLLERS:\n",
    "network configuration\n",
    "\n",
    "For each controller we define how it is connected to other controllers."
   ],
   "id": "d91220b208da4390"
  },
  {
   "metadata": {
    "ExecuteTime": {
     "end_time": "2025-05-08T07:48:49.938194Z",
     "start_time": "2025-05-08T07:48:49.925832Z"
    }
   },
   "cell_type": "code",
   "source": [
    "from pandaprosumer.mapping import GenericMapping\n",
    "from pandaprosumer.mapping import FluidMixMapping"
   ],
   "id": "1f366d4a29935e57",
   "outputs": [],
   "execution_count": 14
  },
  {
   "metadata": {
    "ExecuteTime": {
     "end_time": "2025-05-08T07:48:50.234170Z",
     "start_time": "2025-05-08T07:48:50.221331Z"
    }
   },
   "cell_type": "code",
   "source": [
    "GenericMapping(prosumer,\n",
    "               initiator_id=cp_controller_index,\n",
    "               initiator_column=\"t_evap_in_c\",\n",
    "               responder_id=hp_controller_index,\n",
    "               responder_column=\"t_evap_in_c\",\n",
    "               order=0)"
   ],
   "id": "c768602db1c31e89",
   "outputs": [
    {
     "data": {
      "text/plain": [
       "<pandaprosumer.mapping.generic.GenericMapping at 0x1bf8be85720>"
      ]
     },
     "execution_count": 15,
     "metadata": {},
     "output_type": "execute_result"
    }
   ],
   "execution_count": 15
  },
  {
   "metadata": {},
   "cell_type": "markdown",
   "source": [
    "CONNECTION CONST PROFILE CONTROLLER ---> HEAT DEMAND:\n",
    "\n",
    "The connection from the Const Profile Controller to the Heat Demand Controller enables the heat demand to access the demand_power, t_feed_demand_c, t_return_demand_c columns from the input time series dataset.\n",
    "\n",
    "The order=1 in this mapping between ConstProfileController and HeatDemandController defines the sequence in which this mapping is applied, relative to other mappings from the ConstProfileController. It ensures that this mapping happens in the correct order if there are multiple mappings from the same initiator controller.\n",
    "\n",
    "This mapping order is separate from the controller execution order, which defines when the controllers themselves are executed during each simulation step. The order=1 ensures the data flows in the intended sequence without affecting the overall controller run order."
   ],
   "id": "2033f2c1ab0b321"
  },
  {
   "metadata": {
    "ExecuteTime": {
     "end_time": "2025-05-08T07:48:50.404577Z",
     "start_time": "2025-05-08T07:48:50.391248Z"
    }
   },
   "cell_type": "code",
   "source": [
    "GenericMapping(prosumer,\n",
    "               initiator_id=cp_controller_index,\n",
    "               initiator_column=[\"qdemand_kw\", \"t_feed_demand_c\", \"t_return_demand_c\"],\n",
    "               responder_id=hd_controller_index,\n",
    "               responder_column=[\"q_demand_kw\", \"t_feed_demand_c\", \"t_return_demand_c\"],\n",
    "               order=1)"
   ],
   "id": "990bb9e9be868f9e",
   "outputs": [
    {
     "data": {
      "text/plain": [
       "<pandaprosumer.mapping.generic.GenericMapping at 0x1bf8adef3d0>"
      ]
     },
     "execution_count": 16,
     "metadata": {},
     "output_type": "execute_result"
    }
   ],
   "execution_count": 16
  },
  {
   "metadata": {},
   "cell_type": "markdown",
   "source": [
    "CONNECTION CONST PROFILE CONTROLLER ---> DRY COOLER:\n",
    "\n",
    "The connection from the Const Profile Controller to the Dry Cooler Controller enables the dry cooler to access the t_feed_demand_c, t_return_demand_c, t_evap_in_c,mdot_fluid_kg_per_s,  phi_air_in_percent columns from the input time series dataset.\n"
   ],
   "id": "4d3728c5bafdf662"
  },
  {
   "metadata": {
    "ExecuteTime": {
     "end_time": "2025-05-08T07:48:50.498347Z",
     "start_time": "2025-05-08T07:48:50.484338Z"
    }
   },
   "cell_type": "code",
   "source": [
    "GenericMapping(prosumer,\n",
    "               initiator_id=cp_controller_index,\n",
    "               initiator_column=[\"t_feed_demand_c\", \"t_return_demand_c\", \"mdot_fluid_kg_per_s\", \"t_evap_in_c\", \"phi_air_in_percent\"],\n",
    "               responder_id=dc_controller_index,\n",
    "               responder_column=[\"t_in_c\", \"t_out_c\", \"mdot_fluid_kg_per_s\", \"t_air_in_c\", \"phi_air_in_percent\"],\n",
    "               order=2)\n"
   ],
   "id": "86638fb648bcb2fe",
   "outputs": [
    {
     "data": {
      "text/plain": [
       "<pandaprosumer.mapping.generic.GenericMapping at 0x1bf8aea7ca0>"
      ]
     },
     "execution_count": 17,
     "metadata": {},
     "output_type": "execute_result"
    }
   ],
   "execution_count": 17
  },
  {
   "metadata": {},
   "cell_type": "markdown",
   "source": "",
   "id": "ca71e5e5c28f40df"
  },
  {
   "metadata": {},
   "cell_type": "markdown",
   "source": [
    "CONNECTION HEAT PUMP --->HEAT DEMAND:\n",
    "\n",
    "The connection between the Heat Pump Controller and the Heat Demand Controller allows the Heat Demand to read the pump’s output and use it as an input for its own calculations. Instead of a generic mapping, a fluid mix mapping is used—this is necessary because the parameters being exchanged, such as mass flow, are dynamic and not static.\n",
    "\n",
    "The Heat Pump controller is the initiator for two different mappings: to the Heat Demand and the Dry Cooler controllers.\n",
    "\n",
    "We can use the FluidMix mapping order to define a merit order between the two heat receivers.\n",
    "\n",
    "We want that the heat pump will provide power in priority to the Heat Demand controller. To do so, we set the order of this mapping to 0. "
   ],
   "id": "480b06e68a1f282b"
  },
  {
   "metadata": {
    "ExecuteTime": {
     "end_time": "2025-05-08T07:48:50.560791Z",
     "start_time": "2025-05-08T07:48:50.548678Z"
    }
   },
   "cell_type": "code",
   "source": [
    "FluidMixMapping(prosumer,\n",
    "                initiator_id=hp_controller_index,\n",
    "                responder_id=hd_controller_index,\n",
    "                order=0)"
   ],
   "id": "37fa33d165243a94",
   "outputs": [
    {
     "data": {
      "text/plain": [
       "<pandaprosumer.mapping.fluid_mix.FluidMixMapping at 0x1bf8aea61d0>"
      ]
     },
     "execution_count": 18,
     "metadata": {},
     "output_type": "execute_result"
    }
   ],
   "execution_count": 18
  },
  {
   "metadata": {},
   "cell_type": "markdown",
   "source": [
    "CONNECTION HEAT PUMP --->DRY COOLER:\n",
    "\n",
    "The connection between the Heat Pump Controller and the Dry Cooler Controller allows the dry cooler to read the pump’s output and use it as an input for its own calculations. Instead of a generic mapping, a fluid mix mapping is used—this is necessary because the parameters being exchanged, such as mass flow, are dynamic and not static. Order = 1 because the initiator is already mapped to a responder and we need to define an order.\n",
    "\n",
    "We want the heat pump to provide any remaining power (after meeting the demand), to the dry cooler controller. To do so, we set the order of this mapping to 1. \n"
   ],
   "id": "e8a6874c57a84624"
  },
  {
   "metadata": {
    "ExecuteTime": {
     "end_time": "2025-05-08T07:48:50.669304Z",
     "start_time": "2025-05-08T07:48:50.653789Z"
    }
   },
   "cell_type": "code",
   "source": [
    "FluidMixMapping(prosumer,\n",
    "                initiator_id=hp_controller_index,\n",
    "                responder_id=dc_controller_index,\n",
    "                order=1)"
   ],
   "id": "4bf23ec7c9365e08",
   "outputs": [
    {
     "data": {
      "text/plain": [
       "<pandaprosumer.mapping.fluid_mix.FluidMixMapping at 0x1bf8aea6350>"
      ]
     },
     "execution_count": 19,
     "metadata": {},
     "output_type": "execute_result"
    }
   ],
   "execution_count": 19
  },
  {
   "metadata": {},
   "cell_type": "markdown",
   "source": [
    "5 - RUNNING THE ANALYSIS:\n",
    "We can now run the analysis with the input data defined above."
   ],
   "id": "e4042aef59c2519c"
  },
  {
   "metadata": {
    "ExecuteTime": {
     "end_time": "2025-05-08T07:48:53.308512Z",
     "start_time": "2025-05-08T07:48:50.749940Z"
    }
   },
   "cell_type": "code",
   "source": [
    "from pandaprosumer.run_time_series import run_timeseries\n",
    "\n",
    "run_timeseries(prosumer, period_id, verbose=True)"
   ],
   "id": "dbe3275e195c01bd",
   "outputs": [
    {
     "name": "stderr",
     "output_type": "stream",
     "text": [
      "100%|██████████| 96/96 [00:02<00:00, 38.05it/s]\n"
     ]
    }
   ],
   "execution_count": 20
  },
  {
   "metadata": {},
   "cell_type": "markdown",
   "source": [
    "# 6 - PRINTING AND PLOTTING RESULTS:\n",
    "All the results of the timeseries analysis are available in the prosumer.time_series dataframe"
   ],
   "id": "411100a194e1668c"
  },
  {
   "metadata": {
    "ExecuteTime": {
     "end_time": "2025-05-08T07:48:53.340084Z",
     "start_time": "2025-05-08T07:48:53.318812Z"
    }
   },
   "cell_type": "code",
   "source": "prosumer.time_series",
   "id": "6e8380aeaa94cb8a",
   "outputs": [
    {
     "data": {
      "text/plain": [
       "                  name      element  element_index  period_index data_source\n",
       "0  air_water_heat_pump    heat_pump            0.0           0.0      DFData\n",
       "1        heat_consumer  heat_demand            0.0           0.0      DFData\n",
       "2           dry cooler   dry_cooler            0.0           0.0      DFData"
      ],
      "text/html": [
       "<div>\n",
       "<style scoped>\n",
       "    .dataframe tbody tr th:only-of-type {\n",
       "        vertical-align: middle;\n",
       "    }\n",
       "\n",
       "    .dataframe tbody tr th {\n",
       "        vertical-align: top;\n",
       "    }\n",
       "\n",
       "    .dataframe thead th {\n",
       "        text-align: right;\n",
       "    }\n",
       "</style>\n",
       "<table border=\"1\" class=\"dataframe\">\n",
       "  <thead>\n",
       "    <tr style=\"text-align: right;\">\n",
       "      <th></th>\n",
       "      <th>name</th>\n",
       "      <th>element</th>\n",
       "      <th>element_index</th>\n",
       "      <th>period_index</th>\n",
       "      <th>data_source</th>\n",
       "    </tr>\n",
       "  </thead>\n",
       "  <tbody>\n",
       "    <tr>\n",
       "      <th>0</th>\n",
       "      <td>air_water_heat_pump</td>\n",
       "      <td>heat_pump</td>\n",
       "      <td>0.0</td>\n",
       "      <td>0.0</td>\n",
       "      <td>DFData</td>\n",
       "    </tr>\n",
       "    <tr>\n",
       "      <th>1</th>\n",
       "      <td>heat_consumer</td>\n",
       "      <td>heat_demand</td>\n",
       "      <td>0.0</td>\n",
       "      <td>0.0</td>\n",
       "      <td>DFData</td>\n",
       "    </tr>\n",
       "    <tr>\n",
       "      <th>2</th>\n",
       "      <td>dry cooler</td>\n",
       "      <td>dry_cooler</td>\n",
       "      <td>0.0</td>\n",
       "      <td>0.0</td>\n",
       "      <td>DFData</td>\n",
       "    </tr>\n",
       "  </tbody>\n",
       "</table>\n",
       "</div>"
      ]
     },
     "execution_count": 21,
     "metadata": {},
     "output_type": "execute_result"
    }
   ],
   "execution_count": 21
  },
  {
   "metadata": {},
   "cell_type": "markdown",
   "source": "Before plotting we have to look at the resulting dataframe to see which quantity (column) do we want to plot.",
   "id": "fefb52cb61471d8e"
  },
  {
   "metadata": {},
   "cell_type": "markdown",
   "source": "Access the results of the heat_pump:",
   "id": "88ae499efa65c1af"
  },
  {
   "metadata": {
    "ExecuteTime": {
     "end_time": "2025-05-08T07:48:53.450194Z",
     "start_time": "2025-05-08T07:48:53.420954Z"
    }
   },
   "cell_type": "code",
   "source": "prosumer.time_series.data_source.loc[0].df.head(10)",
   "id": "8a6be07def2b5b60",
   "outputs": [
    {
     "data": {
      "text/plain": [
       "                            q_cond_kw  p_comp_kw   q_evap_kw       cop  \\\n",
       "2020-01-01 00:00:00+00:00  481.568182      150.0  331.568182  3.210455   \n",
       "2020-01-01 00:15:00+00:00  481.568182      150.0  331.568182  3.210455   \n",
       "2020-01-01 00:30:00+00:00  481.568182      150.0  331.568182  3.210455   \n",
       "2020-01-01 00:45:00+00:00  481.568182      150.0  331.568182  3.210455   \n",
       "2020-01-01 01:00:00+00:00  481.568182      150.0  331.568182  3.210455   \n",
       "2020-01-01 01:15:00+00:00  481.568182      150.0  331.568182  3.210455   \n",
       "2020-01-01 01:30:00+00:00  481.568182      150.0  331.568182  3.210455   \n",
       "2020-01-01 01:45:00+00:00  481.568182      150.0  331.568182  3.210455   \n",
       "2020-01-01 02:00:00+00:00  481.568182      150.0  331.568182  3.210455   \n",
       "2020-01-01 02:15:00+00:00  481.568182      150.0  331.568182  3.210455   \n",
       "\n",
       "                           mdot_cond_kg_per_s  t_cond_in_c  t_cond_out_c  \\\n",
       "2020-01-01 00:00:00+00:00            1.919415         20.0          80.0   \n",
       "2020-01-01 00:15:00+00:00            1.919415         20.0          80.0   \n",
       "2020-01-01 00:30:00+00:00            1.919415         20.0          80.0   \n",
       "2020-01-01 00:45:00+00:00            1.919415         20.0          80.0   \n",
       "2020-01-01 01:00:00+00:00            1.919415         20.0          80.0   \n",
       "2020-01-01 01:15:00+00:00            1.919415         20.0          80.0   \n",
       "2020-01-01 01:30:00+00:00            1.919415         20.0          80.0   \n",
       "2020-01-01 01:45:00+00:00            1.919415         20.0          80.0   \n",
       "2020-01-01 02:00:00+00:00            1.919415         20.0          80.0   \n",
       "2020-01-01 02:15:00+00:00            1.919415         20.0          80.0   \n",
       "\n",
       "                           mdot_evap_kg_per_s  t_evap_in_c  t_evap_out_c  \n",
       "2020-01-01 00:00:00+00:00           15.853447         25.0          20.0  \n",
       "2020-01-01 00:15:00+00:00           15.853447         25.0          20.0  \n",
       "2020-01-01 00:30:00+00:00           15.853447         25.0          20.0  \n",
       "2020-01-01 00:45:00+00:00           15.853447         25.0          20.0  \n",
       "2020-01-01 01:00:00+00:00           15.853447         25.0          20.0  \n",
       "2020-01-01 01:15:00+00:00           15.853447         25.0          20.0  \n",
       "2020-01-01 01:30:00+00:00           15.853447         25.0          20.0  \n",
       "2020-01-01 01:45:00+00:00           15.853447         25.0          20.0  \n",
       "2020-01-01 02:00:00+00:00           15.853447         25.0          20.0  \n",
       "2020-01-01 02:15:00+00:00           15.853447         25.0          20.0  "
      ],
      "text/html": [
       "<div>\n",
       "<style scoped>\n",
       "    .dataframe tbody tr th:only-of-type {\n",
       "        vertical-align: middle;\n",
       "    }\n",
       "\n",
       "    .dataframe tbody tr th {\n",
       "        vertical-align: top;\n",
       "    }\n",
       "\n",
       "    .dataframe thead th {\n",
       "        text-align: right;\n",
       "    }\n",
       "</style>\n",
       "<table border=\"1\" class=\"dataframe\">\n",
       "  <thead>\n",
       "    <tr style=\"text-align: right;\">\n",
       "      <th></th>\n",
       "      <th>q_cond_kw</th>\n",
       "      <th>p_comp_kw</th>\n",
       "      <th>q_evap_kw</th>\n",
       "      <th>cop</th>\n",
       "      <th>mdot_cond_kg_per_s</th>\n",
       "      <th>t_cond_in_c</th>\n",
       "      <th>t_cond_out_c</th>\n",
       "      <th>mdot_evap_kg_per_s</th>\n",
       "      <th>t_evap_in_c</th>\n",
       "      <th>t_evap_out_c</th>\n",
       "    </tr>\n",
       "  </thead>\n",
       "  <tbody>\n",
       "    <tr>\n",
       "      <th>2020-01-01 00:00:00+00:00</th>\n",
       "      <td>481.568182</td>\n",
       "      <td>150.0</td>\n",
       "      <td>331.568182</td>\n",
       "      <td>3.210455</td>\n",
       "      <td>1.919415</td>\n",
       "      <td>20.0</td>\n",
       "      <td>80.0</td>\n",
       "      <td>15.853447</td>\n",
       "      <td>25.0</td>\n",
       "      <td>20.0</td>\n",
       "    </tr>\n",
       "    <tr>\n",
       "      <th>2020-01-01 00:15:00+00:00</th>\n",
       "      <td>481.568182</td>\n",
       "      <td>150.0</td>\n",
       "      <td>331.568182</td>\n",
       "      <td>3.210455</td>\n",
       "      <td>1.919415</td>\n",
       "      <td>20.0</td>\n",
       "      <td>80.0</td>\n",
       "      <td>15.853447</td>\n",
       "      <td>25.0</td>\n",
       "      <td>20.0</td>\n",
       "    </tr>\n",
       "    <tr>\n",
       "      <th>2020-01-01 00:30:00+00:00</th>\n",
       "      <td>481.568182</td>\n",
       "      <td>150.0</td>\n",
       "      <td>331.568182</td>\n",
       "      <td>3.210455</td>\n",
       "      <td>1.919415</td>\n",
       "      <td>20.0</td>\n",
       "      <td>80.0</td>\n",
       "      <td>15.853447</td>\n",
       "      <td>25.0</td>\n",
       "      <td>20.0</td>\n",
       "    </tr>\n",
       "    <tr>\n",
       "      <th>2020-01-01 00:45:00+00:00</th>\n",
       "      <td>481.568182</td>\n",
       "      <td>150.0</td>\n",
       "      <td>331.568182</td>\n",
       "      <td>3.210455</td>\n",
       "      <td>1.919415</td>\n",
       "      <td>20.0</td>\n",
       "      <td>80.0</td>\n",
       "      <td>15.853447</td>\n",
       "      <td>25.0</td>\n",
       "      <td>20.0</td>\n",
       "    </tr>\n",
       "    <tr>\n",
       "      <th>2020-01-01 01:00:00+00:00</th>\n",
       "      <td>481.568182</td>\n",
       "      <td>150.0</td>\n",
       "      <td>331.568182</td>\n",
       "      <td>3.210455</td>\n",
       "      <td>1.919415</td>\n",
       "      <td>20.0</td>\n",
       "      <td>80.0</td>\n",
       "      <td>15.853447</td>\n",
       "      <td>25.0</td>\n",
       "      <td>20.0</td>\n",
       "    </tr>\n",
       "    <tr>\n",
       "      <th>2020-01-01 01:15:00+00:00</th>\n",
       "      <td>481.568182</td>\n",
       "      <td>150.0</td>\n",
       "      <td>331.568182</td>\n",
       "      <td>3.210455</td>\n",
       "      <td>1.919415</td>\n",
       "      <td>20.0</td>\n",
       "      <td>80.0</td>\n",
       "      <td>15.853447</td>\n",
       "      <td>25.0</td>\n",
       "      <td>20.0</td>\n",
       "    </tr>\n",
       "    <tr>\n",
       "      <th>2020-01-01 01:30:00+00:00</th>\n",
       "      <td>481.568182</td>\n",
       "      <td>150.0</td>\n",
       "      <td>331.568182</td>\n",
       "      <td>3.210455</td>\n",
       "      <td>1.919415</td>\n",
       "      <td>20.0</td>\n",
       "      <td>80.0</td>\n",
       "      <td>15.853447</td>\n",
       "      <td>25.0</td>\n",
       "      <td>20.0</td>\n",
       "    </tr>\n",
       "    <tr>\n",
       "      <th>2020-01-01 01:45:00+00:00</th>\n",
       "      <td>481.568182</td>\n",
       "      <td>150.0</td>\n",
       "      <td>331.568182</td>\n",
       "      <td>3.210455</td>\n",
       "      <td>1.919415</td>\n",
       "      <td>20.0</td>\n",
       "      <td>80.0</td>\n",
       "      <td>15.853447</td>\n",
       "      <td>25.0</td>\n",
       "      <td>20.0</td>\n",
       "    </tr>\n",
       "    <tr>\n",
       "      <th>2020-01-01 02:00:00+00:00</th>\n",
       "      <td>481.568182</td>\n",
       "      <td>150.0</td>\n",
       "      <td>331.568182</td>\n",
       "      <td>3.210455</td>\n",
       "      <td>1.919415</td>\n",
       "      <td>20.0</td>\n",
       "      <td>80.0</td>\n",
       "      <td>15.853447</td>\n",
       "      <td>25.0</td>\n",
       "      <td>20.0</td>\n",
       "    </tr>\n",
       "    <tr>\n",
       "      <th>2020-01-01 02:15:00+00:00</th>\n",
       "      <td>481.568182</td>\n",
       "      <td>150.0</td>\n",
       "      <td>331.568182</td>\n",
       "      <td>3.210455</td>\n",
       "      <td>1.919415</td>\n",
       "      <td>20.0</td>\n",
       "      <td>80.0</td>\n",
       "      <td>15.853447</td>\n",
       "      <td>25.0</td>\n",
       "      <td>20.0</td>\n",
       "    </tr>\n",
       "  </tbody>\n",
       "</table>\n",
       "</div>"
      ]
     },
     "execution_count": 22,
     "metadata": {},
     "output_type": "execute_result"
    }
   ],
   "execution_count": 22
  },
  {
   "metadata": {},
   "cell_type": "markdown",
   "source": "Access the results of the dry_cooler:",
   "id": "167f20a8ba01af3e"
  },
  {
   "metadata": {
    "ExecuteTime": {
     "end_time": "2025-05-08T07:48:53.606615Z",
     "start_time": "2025-05-08T07:48:53.587651Z"
    }
   },
   "cell_type": "code",
   "source": "prosumer.time_series.data_source.loc[1].df.head(10)",
   "id": "84a808d497a82f2c",
   "outputs": [
    {
     "data": {
      "text/plain": [
       "                           q_received_kw  q_uncovered_kw  mdot_kg_per_s  \\\n",
       "2020-01-01 00:00:00+00:00       0.000000        0.000000       0.000000   \n",
       "2020-01-01 00:15:00+00:00       0.000000        0.000000       0.000000   \n",
       "2020-01-01 00:30:00+00:00       0.000000        0.000000       0.000000   \n",
       "2020-01-01 00:45:00+00:00       0.000000        0.000000       0.000000   \n",
       "2020-01-01 01:00:00+00:00       0.000000        0.000000       0.000000   \n",
       "2020-01-01 01:15:00+00:00     481.568182       18.431818       1.919415   \n",
       "2020-01-01 01:30:00+00:00     481.568182       18.431818       1.919415   \n",
       "2020-01-01 01:45:00+00:00     481.568182       18.431818       1.919415   \n",
       "2020-01-01 02:00:00+00:00     321.000000        0.000000       1.279429   \n",
       "2020-01-01 02:15:00+00:00     321.000000        0.000000       1.279429   \n",
       "\n",
       "                           t_in_c  t_out_c  \n",
       "2020-01-01 00:00:00+00:00    80.0     20.0  \n",
       "2020-01-01 00:15:00+00:00    80.0     20.0  \n",
       "2020-01-01 00:30:00+00:00    80.0     20.0  \n",
       "2020-01-01 00:45:00+00:00    80.0     20.0  \n",
       "2020-01-01 01:00:00+00:00    80.0     20.0  \n",
       "2020-01-01 01:15:00+00:00    80.0     20.0  \n",
       "2020-01-01 01:30:00+00:00    80.0     20.0  \n",
       "2020-01-01 01:45:00+00:00    80.0     20.0  \n",
       "2020-01-01 02:00:00+00:00    80.0     20.0  \n",
       "2020-01-01 02:15:00+00:00    80.0     20.0  "
      ],
      "text/html": [
       "<div>\n",
       "<style scoped>\n",
       "    .dataframe tbody tr th:only-of-type {\n",
       "        vertical-align: middle;\n",
       "    }\n",
       "\n",
       "    .dataframe tbody tr th {\n",
       "        vertical-align: top;\n",
       "    }\n",
       "\n",
       "    .dataframe thead th {\n",
       "        text-align: right;\n",
       "    }\n",
       "</style>\n",
       "<table border=\"1\" class=\"dataframe\">\n",
       "  <thead>\n",
       "    <tr style=\"text-align: right;\">\n",
       "      <th></th>\n",
       "      <th>q_received_kw</th>\n",
       "      <th>q_uncovered_kw</th>\n",
       "      <th>mdot_kg_per_s</th>\n",
       "      <th>t_in_c</th>\n",
       "      <th>t_out_c</th>\n",
       "    </tr>\n",
       "  </thead>\n",
       "  <tbody>\n",
       "    <tr>\n",
       "      <th>2020-01-01 00:00:00+00:00</th>\n",
       "      <td>0.000000</td>\n",
       "      <td>0.000000</td>\n",
       "      <td>0.000000</td>\n",
       "      <td>80.0</td>\n",
       "      <td>20.0</td>\n",
       "    </tr>\n",
       "    <tr>\n",
       "      <th>2020-01-01 00:15:00+00:00</th>\n",
       "      <td>0.000000</td>\n",
       "      <td>0.000000</td>\n",
       "      <td>0.000000</td>\n",
       "      <td>80.0</td>\n",
       "      <td>20.0</td>\n",
       "    </tr>\n",
       "    <tr>\n",
       "      <th>2020-01-01 00:30:00+00:00</th>\n",
       "      <td>0.000000</td>\n",
       "      <td>0.000000</td>\n",
       "      <td>0.000000</td>\n",
       "      <td>80.0</td>\n",
       "      <td>20.0</td>\n",
       "    </tr>\n",
       "    <tr>\n",
       "      <th>2020-01-01 00:45:00+00:00</th>\n",
       "      <td>0.000000</td>\n",
       "      <td>0.000000</td>\n",
       "      <td>0.000000</td>\n",
       "      <td>80.0</td>\n",
       "      <td>20.0</td>\n",
       "    </tr>\n",
       "    <tr>\n",
       "      <th>2020-01-01 01:00:00+00:00</th>\n",
       "      <td>0.000000</td>\n",
       "      <td>0.000000</td>\n",
       "      <td>0.000000</td>\n",
       "      <td>80.0</td>\n",
       "      <td>20.0</td>\n",
       "    </tr>\n",
       "    <tr>\n",
       "      <th>2020-01-01 01:15:00+00:00</th>\n",
       "      <td>481.568182</td>\n",
       "      <td>18.431818</td>\n",
       "      <td>1.919415</td>\n",
       "      <td>80.0</td>\n",
       "      <td>20.0</td>\n",
       "    </tr>\n",
       "    <tr>\n",
       "      <th>2020-01-01 01:30:00+00:00</th>\n",
       "      <td>481.568182</td>\n",
       "      <td>18.431818</td>\n",
       "      <td>1.919415</td>\n",
       "      <td>80.0</td>\n",
       "      <td>20.0</td>\n",
       "    </tr>\n",
       "    <tr>\n",
       "      <th>2020-01-01 01:45:00+00:00</th>\n",
       "      <td>481.568182</td>\n",
       "      <td>18.431818</td>\n",
       "      <td>1.919415</td>\n",
       "      <td>80.0</td>\n",
       "      <td>20.0</td>\n",
       "    </tr>\n",
       "    <tr>\n",
       "      <th>2020-01-01 02:00:00+00:00</th>\n",
       "      <td>321.000000</td>\n",
       "      <td>0.000000</td>\n",
       "      <td>1.279429</td>\n",
       "      <td>80.0</td>\n",
       "      <td>20.0</td>\n",
       "    </tr>\n",
       "    <tr>\n",
       "      <th>2020-01-01 02:15:00+00:00</th>\n",
       "      <td>321.000000</td>\n",
       "      <td>0.000000</td>\n",
       "      <td>1.279429</td>\n",
       "      <td>80.0</td>\n",
       "      <td>20.0</td>\n",
       "    </tr>\n",
       "  </tbody>\n",
       "</table>\n",
       "</div>"
      ]
     },
     "execution_count": 23,
     "metadata": {},
     "output_type": "execute_result"
    }
   ],
   "execution_count": 23
  },
  {
   "metadata": {},
   "cell_type": "markdown",
   "source": "Access the results of the heat demand:",
   "id": "c148fb4c8f3cdede"
  },
  {
   "metadata": {
    "ExecuteTime": {
     "end_time": "2025-05-08T07:48:53.902941Z",
     "start_time": "2025-05-08T07:48:53.872942Z"
    }
   },
   "cell_type": "code",
   "source": "prosumer.time_series.data_source.loc[2].df.head(10)",
   "id": "9327c18a9a4e5401",
   "outputs": [
    {
     "data": {
      "text/plain": [
       "                           q_exchanged_kw    p_fans_kw       n_rpm  \\\n",
       "2020-01-01 00:00:00+00:00      481.568182  2412.617780  815.749872   \n",
       "2020-01-01 00:15:00+00:00      481.568182  2412.617780  815.749872   \n",
       "2020-01-01 00:30:00+00:00      481.568182  2412.617780  815.749872   \n",
       "2020-01-01 00:45:00+00:00      481.568182  2412.617780  815.749872   \n",
       "2020-01-01 01:00:00+00:00      481.568182  2412.617780  815.749872   \n",
       "2020-01-01 01:15:00+00:00        0.000000     0.000000    0.000000   \n",
       "2020-01-01 01:30:00+00:00        0.000000     0.000000    0.000000   \n",
       "2020-01-01 01:45:00+00:00        0.000000     0.000000    0.000000   \n",
       "2020-01-01 02:00:00+00:00      160.568182     0.786622   56.145673   \n",
       "2020-01-01 02:15:00+00:00      160.568182     0.786622   56.145673   \n",
       "\n",
       "                           mdot_air_m3_per_h  mdot_air_kg_per_s  t_air_in_c  \\\n",
       "2020-01-01 00:00:00+00:00      135958.311922          44.834405    14.73297   \n",
       "2020-01-01 00:15:00+00:00      135958.311922          44.834405    14.73297   \n",
       "2020-01-01 00:30:00+00:00      135958.311922          44.834405    14.73297   \n",
       "2020-01-01 00:45:00+00:00      135958.311922          44.834405    14.73297   \n",
       "2020-01-01 01:00:00+00:00      135958.311922          44.834405    14.73297   \n",
       "2020-01-01 01:15:00+00:00           0.000000           0.000000    14.73297   \n",
       "2020-01-01 01:30:00+00:00           0.000000           0.000000    14.73297   \n",
       "2020-01-01 01:45:00+00:00           0.000000           0.000000    14.73297   \n",
       "2020-01-01 02:00:00+00:00        9357.612163           2.867031    14.73297   \n",
       "2020-01-01 02:15:00+00:00        9357.612163           2.867031    14.73297   \n",
       "\n",
       "                           t_air_out_c  mdot_fluid_kg_per_s  t_fluid_in_c  \\\n",
       "2020-01-01 00:00:00+00:00    25.399346             1.919415          80.0   \n",
       "2020-01-01 00:15:00+00:00    25.399346             1.919415          80.0   \n",
       "2020-01-01 00:30:00+00:00    25.399346             1.919415          80.0   \n",
       "2020-01-01 00:45:00+00:00    25.399346             1.919415          80.0   \n",
       "2020-01-01 01:00:00+00:00    25.399346             1.919415          80.0   \n",
       "2020-01-01 01:15:00+00:00    14.732970             0.000000          80.0   \n",
       "2020-01-01 01:30:00+00:00    14.732970             0.000000          80.0   \n",
       "2020-01-01 01:45:00+00:00    14.732970             0.000000          80.0   \n",
       "2020-01-01 02:00:00+00:00    70.348693             0.639986          80.0   \n",
       "2020-01-01 02:15:00+00:00    70.348693             0.639986          80.0   \n",
       "\n",
       "                           t_fluid_out_c  \n",
       "2020-01-01 00:00:00+00:00           20.0  \n",
       "2020-01-01 00:15:00+00:00           20.0  \n",
       "2020-01-01 00:30:00+00:00           20.0  \n",
       "2020-01-01 00:45:00+00:00           20.0  \n",
       "2020-01-01 01:00:00+00:00           20.0  \n",
       "2020-01-01 01:15:00+00:00           20.0  \n",
       "2020-01-01 01:30:00+00:00           20.0  \n",
       "2020-01-01 01:45:00+00:00           20.0  \n",
       "2020-01-01 02:00:00+00:00           20.0  \n",
       "2020-01-01 02:15:00+00:00           20.0  "
      ],
      "text/html": [
       "<div>\n",
       "<style scoped>\n",
       "    .dataframe tbody tr th:only-of-type {\n",
       "        vertical-align: middle;\n",
       "    }\n",
       "\n",
       "    .dataframe tbody tr th {\n",
       "        vertical-align: top;\n",
       "    }\n",
       "\n",
       "    .dataframe thead th {\n",
       "        text-align: right;\n",
       "    }\n",
       "</style>\n",
       "<table border=\"1\" class=\"dataframe\">\n",
       "  <thead>\n",
       "    <tr style=\"text-align: right;\">\n",
       "      <th></th>\n",
       "      <th>q_exchanged_kw</th>\n",
       "      <th>p_fans_kw</th>\n",
       "      <th>n_rpm</th>\n",
       "      <th>mdot_air_m3_per_h</th>\n",
       "      <th>mdot_air_kg_per_s</th>\n",
       "      <th>t_air_in_c</th>\n",
       "      <th>t_air_out_c</th>\n",
       "      <th>mdot_fluid_kg_per_s</th>\n",
       "      <th>t_fluid_in_c</th>\n",
       "      <th>t_fluid_out_c</th>\n",
       "    </tr>\n",
       "  </thead>\n",
       "  <tbody>\n",
       "    <tr>\n",
       "      <th>2020-01-01 00:00:00+00:00</th>\n",
       "      <td>481.568182</td>\n",
       "      <td>2412.617780</td>\n",
       "      <td>815.749872</td>\n",
       "      <td>135958.311922</td>\n",
       "      <td>44.834405</td>\n",
       "      <td>14.73297</td>\n",
       "      <td>25.399346</td>\n",
       "      <td>1.919415</td>\n",
       "      <td>80.0</td>\n",
       "      <td>20.0</td>\n",
       "    </tr>\n",
       "    <tr>\n",
       "      <th>2020-01-01 00:15:00+00:00</th>\n",
       "      <td>481.568182</td>\n",
       "      <td>2412.617780</td>\n",
       "      <td>815.749872</td>\n",
       "      <td>135958.311922</td>\n",
       "      <td>44.834405</td>\n",
       "      <td>14.73297</td>\n",
       "      <td>25.399346</td>\n",
       "      <td>1.919415</td>\n",
       "      <td>80.0</td>\n",
       "      <td>20.0</td>\n",
       "    </tr>\n",
       "    <tr>\n",
       "      <th>2020-01-01 00:30:00+00:00</th>\n",
       "      <td>481.568182</td>\n",
       "      <td>2412.617780</td>\n",
       "      <td>815.749872</td>\n",
       "      <td>135958.311922</td>\n",
       "      <td>44.834405</td>\n",
       "      <td>14.73297</td>\n",
       "      <td>25.399346</td>\n",
       "      <td>1.919415</td>\n",
       "      <td>80.0</td>\n",
       "      <td>20.0</td>\n",
       "    </tr>\n",
       "    <tr>\n",
       "      <th>2020-01-01 00:45:00+00:00</th>\n",
       "      <td>481.568182</td>\n",
       "      <td>2412.617780</td>\n",
       "      <td>815.749872</td>\n",
       "      <td>135958.311922</td>\n",
       "      <td>44.834405</td>\n",
       "      <td>14.73297</td>\n",
       "      <td>25.399346</td>\n",
       "      <td>1.919415</td>\n",
       "      <td>80.0</td>\n",
       "      <td>20.0</td>\n",
       "    </tr>\n",
       "    <tr>\n",
       "      <th>2020-01-01 01:00:00+00:00</th>\n",
       "      <td>481.568182</td>\n",
       "      <td>2412.617780</td>\n",
       "      <td>815.749872</td>\n",
       "      <td>135958.311922</td>\n",
       "      <td>44.834405</td>\n",
       "      <td>14.73297</td>\n",
       "      <td>25.399346</td>\n",
       "      <td>1.919415</td>\n",
       "      <td>80.0</td>\n",
       "      <td>20.0</td>\n",
       "    </tr>\n",
       "    <tr>\n",
       "      <th>2020-01-01 01:15:00+00:00</th>\n",
       "      <td>0.000000</td>\n",
       "      <td>0.000000</td>\n",
       "      <td>0.000000</td>\n",
       "      <td>0.000000</td>\n",
       "      <td>0.000000</td>\n",
       "      <td>14.73297</td>\n",
       "      <td>14.732970</td>\n",
       "      <td>0.000000</td>\n",
       "      <td>80.0</td>\n",
       "      <td>20.0</td>\n",
       "    </tr>\n",
       "    <tr>\n",
       "      <th>2020-01-01 01:30:00+00:00</th>\n",
       "      <td>0.000000</td>\n",
       "      <td>0.000000</td>\n",
       "      <td>0.000000</td>\n",
       "      <td>0.000000</td>\n",
       "      <td>0.000000</td>\n",
       "      <td>14.73297</td>\n",
       "      <td>14.732970</td>\n",
       "      <td>0.000000</td>\n",
       "      <td>80.0</td>\n",
       "      <td>20.0</td>\n",
       "    </tr>\n",
       "    <tr>\n",
       "      <th>2020-01-01 01:45:00+00:00</th>\n",
       "      <td>0.000000</td>\n",
       "      <td>0.000000</td>\n",
       "      <td>0.000000</td>\n",
       "      <td>0.000000</td>\n",
       "      <td>0.000000</td>\n",
       "      <td>14.73297</td>\n",
       "      <td>14.732970</td>\n",
       "      <td>0.000000</td>\n",
       "      <td>80.0</td>\n",
       "      <td>20.0</td>\n",
       "    </tr>\n",
       "    <tr>\n",
       "      <th>2020-01-01 02:00:00+00:00</th>\n",
       "      <td>160.568182</td>\n",
       "      <td>0.786622</td>\n",
       "      <td>56.145673</td>\n",
       "      <td>9357.612163</td>\n",
       "      <td>2.867031</td>\n",
       "      <td>14.73297</td>\n",
       "      <td>70.348693</td>\n",
       "      <td>0.639986</td>\n",
       "      <td>80.0</td>\n",
       "      <td>20.0</td>\n",
       "    </tr>\n",
       "    <tr>\n",
       "      <th>2020-01-01 02:15:00+00:00</th>\n",
       "      <td>160.568182</td>\n",
       "      <td>0.786622</td>\n",
       "      <td>56.145673</td>\n",
       "      <td>9357.612163</td>\n",
       "      <td>2.867031</td>\n",
       "      <td>14.73297</td>\n",
       "      <td>70.348693</td>\n",
       "      <td>0.639986</td>\n",
       "      <td>80.0</td>\n",
       "      <td>20.0</td>\n",
       "    </tr>\n",
       "  </tbody>\n",
       "</table>\n",
       "</div>"
      ]
     },
     "execution_count": 24,
     "metadata": {},
     "output_type": "execute_result"
    }
   ],
   "execution_count": 24
  },
  {
   "metadata": {},
   "cell_type": "markdown",
   "source": "Alternatively, if the elements have unique names, we can change the indexing of the result dataframe to use the name of the elements as index and access the results more directly.",
   "id": "6f54f746b893b80f"
  },
  {
   "metadata": {
    "ExecuteTime": {
     "end_time": "2025-05-08T07:48:54.093625Z",
     "start_time": "2025-05-08T07:48:54.087482Z"
    }
   },
   "cell_type": "code",
   "source": [
    "res_df = prosumer.time_series.copy()\n",
    "res_df.set_index('name', inplace=True)"
   ],
   "id": "11d3bf8be7c64318",
   "outputs": [],
   "execution_count": 25
  },
  {
   "metadata": {
    "ExecuteTime": {
     "end_time": "2025-05-08T07:48:54.437469Z",
     "start_time": "2025-05-08T07:48:54.424970Z"
    }
   },
   "cell_type": "code",
   "source": "res_df",
   "id": "f57c5476dee422cd",
   "outputs": [
    {
     "data": {
      "text/plain": [
       "                         element  element_index  period_index data_source\n",
       "name                                                                     \n",
       "air_water_heat_pump    heat_pump            0.0           0.0      DFData\n",
       "heat_consumer        heat_demand            0.0           0.0      DFData\n",
       "dry cooler            dry_cooler            0.0           0.0      DFData"
      ],
      "text/html": [
       "<div>\n",
       "<style scoped>\n",
       "    .dataframe tbody tr th:only-of-type {\n",
       "        vertical-align: middle;\n",
       "    }\n",
       "\n",
       "    .dataframe tbody tr th {\n",
       "        vertical-align: top;\n",
       "    }\n",
       "\n",
       "    .dataframe thead th {\n",
       "        text-align: right;\n",
       "    }\n",
       "</style>\n",
       "<table border=\"1\" class=\"dataframe\">\n",
       "  <thead>\n",
       "    <tr style=\"text-align: right;\">\n",
       "      <th></th>\n",
       "      <th>element</th>\n",
       "      <th>element_index</th>\n",
       "      <th>period_index</th>\n",
       "      <th>data_source</th>\n",
       "    </tr>\n",
       "    <tr>\n",
       "      <th>name</th>\n",
       "      <th></th>\n",
       "      <th></th>\n",
       "      <th></th>\n",
       "      <th></th>\n",
       "    </tr>\n",
       "  </thead>\n",
       "  <tbody>\n",
       "    <tr>\n",
       "      <th>air_water_heat_pump</th>\n",
       "      <td>heat_pump</td>\n",
       "      <td>0.0</td>\n",
       "      <td>0.0</td>\n",
       "      <td>DFData</td>\n",
       "    </tr>\n",
       "    <tr>\n",
       "      <th>heat_consumer</th>\n",
       "      <td>heat_demand</td>\n",
       "      <td>0.0</td>\n",
       "      <td>0.0</td>\n",
       "      <td>DFData</td>\n",
       "    </tr>\n",
       "    <tr>\n",
       "      <th>dry cooler</th>\n",
       "      <td>dry_cooler</td>\n",
       "      <td>0.0</td>\n",
       "      <td>0.0</td>\n",
       "      <td>DFData</td>\n",
       "    </tr>\n",
       "  </tbody>\n",
       "</table>\n",
       "</div>"
      ]
     },
     "execution_count": 26,
     "metadata": {},
     "output_type": "execute_result"
    }
   ],
   "execution_count": 26
  },
  {
   "metadata": {},
   "cell_type": "markdown",
   "source": "Thanks to the dry cooler, the heat pump will be able to run at a not too low regime during the timesteps of low demand",
   "id": "8f9ae928b0d7e9f5"
  },
  {
   "metadata": {
    "ExecuteTime": {
     "end_time": "2025-05-08T07:48:55.338819Z",
     "start_time": "2025-05-08T07:48:54.690183Z"
    }
   },
   "cell_type": "code",
   "source": [
    "res_df.data_source.loc['air_water_heat_pump'].df.q_cond_kw.plot()\n",
    "plt.title(\"Heat Pump provided power\")\n",
    "plt.ylabel(\"Thermal power (kW)\")\n",
    "plt.show()"
   ],
   "id": "4c3a063727a7cfa1",
   "outputs": [
    {
     "data": {
      "text/plain": [
       "<Figure size 640x480 with 1 Axes>"
      ],
      "image/png": "[encoded data removed]"
     },
     "metadata": {},
     "output_type": "display_data"
    }
   ],
   "execution_count": 27
  },
  {
   "metadata": {
    "ExecuteTime": {
     "end_time": "2025-05-08T07:48:57.743725Z",
     "start_time": "2025-05-08T07:48:55.672304Z"
    }
   },
   "cell_type": "code",
   "source": [
    "res_df.data_source.loc['air_water_heat_pump'].df.p_comp_kw.plot()\n",
    "plt.title(\"Heat Pump provided power\")\n",
    "plt.ylabel(\"Thermal power (kW)\")\n",
    "plt.show()"
   ],
   "id": "980e7e3ff6ca1b57",
   "outputs": [
    {
     "data": {
      "text/plain": [
       "<Figure size 640x480 with 1 Axes>"
      ],
      "image/png": "[encoded data removed]"
     },
     "metadata": {},
     "output_type": "display_data"
    }
   ],
   "execution_count": 28
  },
  {
   "metadata": {
    "ExecuteTime": {
     "end_time": "2025-05-08T07:48:59.049008Z",
     "start_time": "2025-05-08T07:48:57.866911Z"
    }
   },
   "cell_type": "code",
   "source": [
    "res_df.data_source.loc['heat_consumer'].df.q_uncovered_kw.plot()\n",
    "plt.title(\"Heat Consumer unmet demand\")\n",
    "plt.ylabel(\"Thermal power (kW)\")\n",
    "plt.show()"
   ],
   "id": "7427331962b22bee",
   "outputs": [
    {
     "data": {
      "text/plain": [
       "<Figure size 640x480 with 1 Axes>"
      ],
      "image/png": "[encoded data removed]"
     },
     "metadata": {},
     "output_type": "display_data"
    }
   ],
   "execution_count": 29
  },
  {
   "metadata": {},
   "cell_type": "markdown",
   "source": "In the next graph, we can observe that when the heat demand is lower than the heat pump’s production, the excess supply is redirected to the dry cooler, that will exchanged it to the ambiant air",
   "id": "ce31fd09320949b"
  },
  {
   "metadata": {
    "ExecuteTime": {
     "end_time": "2025-05-08T07:48:59.424458Z",
     "start_time": "2025-05-08T07:48:59.060011Z"
    }
   },
   "cell_type": "code",
   "source": [
    "res_df.data_source.loc['dry cooler'].df.q_exchanged_kw.plot()\n",
    "plt.title(\"Dry Cooler exchanged power\")\n",
    "plt.ylabel(\"Thermal power (kW)\")\n",
    "plt.show()"
   ],
   "id": "b293182ebbcb9e9f",
   "outputs": [
    {
     "data": {
      "text/plain": [
       "<Figure size 640x480 with 1 Axes>"
      ],
      "image/png": "[encoded data removed]"
     },
     "metadata": {},
     "output_type": "display_data"
    }
   ],
   "execution_count": 30
  },
  {
   "metadata": {},
   "cell_type": "markdown",
   "source": "The electrical consumption of the Dry Cooler fans follow the exchanged heat.",
   "id": "fbf74f1d9a3212e9"
  },
  {
   "metadata": {
    "ExecuteTime": {
     "end_time": "2025-05-08T07:48:59.751864Z",
     "start_time": "2025-05-08T07:48:59.457783Z"
    }
   },
   "cell_type": "code",
   "source": [
    "res_df.data_source.loc['dry cooler'].df.p_fans_kw.plot()\n",
    "plt.title(\"Dry Cooler consumed power\")\n",
    "plt.ylabel(\"Electrical power (kW)\")\n",
    "plt.show()"
   ],
   "id": "34db35ae1ff3515a",
   "outputs": [
    {
     "data": {
      "text/plain": [
       "<Figure size 640x480 with 1 Axes>"
      ],
      "image/png": "[encoded data removed]"
     },
     "metadata": {},
     "output_type": "display_data"
    }
   ],
   "execution_count": 31
  }
 ],
 "metadata": {
  "kernelspec": {
   "display_name": "Python 3",
   "language": "python",
   "name": "python3"
  },
  "language_info": {
   "codemirror_mode": {
    "name": "ipython",
    "version": 2
   },
   "file_extension": ".py",
   "mimetype": "text/x-python",
   "name": "python",
   "nbconvert_exporter": "python",
   "pygments_lexer": "ipython2",
   "version": "2.7.6"
  }
 },
 "nbformat": 4,
 "nbformat_minor": 5
}
