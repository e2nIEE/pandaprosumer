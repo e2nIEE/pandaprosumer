{
 "cells": [
  {
   "cell_type": "markdown",
   "id": "470b9922-749e-4200-bfc3-887dda293789",
   "metadata": {},
   "source": [
    "# PANDAPROSUMER EXAMPLE: COMBINED HEAT AND POWER (CHP)"
   ]
  },
  {
   "cell_type": "markdown",
   "id": "50e968f7-c9b5-4ad6-afcd-b46b146376c7",
   "metadata": {
    "jp-MarkdownHeadingCollapsed": true
   },
   "source": [
    "Example prepared by:\n",
    "--------------------\n",
    "    Izak Oberčkal Pluško, Marko Keber, Katja Klinar, Tine Seljak*, Andrej Kitanovski\n",
    "\n",
    "    Faculty of Mechanical Engineering, University of Ljubljana, Slovenia\n",
    "    \n",
    "    *Contact: tine.seljak@fs.uni-lj.si"
   ]
  },
  {
   "cell_type": "markdown",
   "id": "2995e353-291b-445a-8361-783b319b13c8",
   "metadata": {},
   "source": [
    "DESCRIPTION:\n",
    "--------------------\n",
    "This example describes how to create a single CHP element in the *pandaprosumer* software package and connect it to a single consumer. The user can choose the size of the CHP unit, while the demand data is read from a an Excel file and stored in a pandas dataframe. It includes information about the heat flow required by the consumer and the corresponding CHP output configuration (topping or bottoming). "
   ]
  },
  {
   "cell_type": "markdown",
   "id": "1cd4d244-6109-40b0-b3a0-9eb5315c5c64",
   "metadata": {},
   "source": [
    "Glossary:\n",
    "---------\n",
    "- Network: a configuration of connected energy generators and energy consumers\n",
    "- Element: a single energy generator or a single energy consumer\n",
    "- Container: a pandaprosumer data structure that contains data of an individual element; each element must have its container \n",
    "- Controller: the logic of an element that defines its behaviour and its limits\n",
    "- General controller: the first controller in the network that interacts with controllers of all other elements; this controller also manages external data\n",
    "- Map / mapping: a connection between two elements; contains information about the what is exchanged between the two elements"
   ]
  },
  {
   "cell_type": "markdown",
   "id": "934896a0-9b37-4226-abce-a77823bd5971",
   "metadata": {},
   "source": [
    "Network design philosophy:\n",
    "--------------------------\n",
    "In pandaprosumer, a system's component is represented by a network element. Each element is assigned a *container* and its own *element controller*. A container is a structure that contains the component's configuration data (static input data), which can include information that will not change in the analysis such as size, nominal power, efficiency, etc. The behaviour of an element is governed by its *controller*. Connections between elements are defined in *maps*, which couple output parameters of one controller to the input parameter of a controller of a connected element. \n",
    "The network is managed by a *general controller* called *ConstProfileController*. This controller is connected to all element controllers and manages dynamic input data from external sources (e.g. Excel file). For each time step it distributes the dynamic input data to the relevant element controllers. "
   ]
  },
  {
   "cell_type": "markdown",
   "id": "4719111a-a7d3-46f6-b273-2c6b47727800",
   "metadata": {},
   "source": [
    "CREATING A NETWORK:\n",
    "--------------------\n",
    "If we are not in pandaprosumer parent directory, we should add it to the path so that the program knows where to find the necessary functions:"
   ]
  },
  {
   "cell_type": "code",
   "execution_count": 1,
   "id": "39735ed5-81fb-48ce-8bfd-20d0dc18a42f",
   "metadata": {},
   "source": [
    "import sys\n",
    "import os\n",
    "\n",
    "current_directory = os.getcwd()\n",
    "parent_directory = os.path.dirname(current_directory)\n",
    "sys.path.append(parent_directory)"
   ],
   "outputs": []
  },
  {
   "cell_type": "markdown",
   "id": "f6932e38-5b9e-46bd-8642-8d67e26e9e17",
   "metadata": {},
   "source": [
    "1 - INPUT DATA:\n",
    "---------------\n",
    "First let's import libraries required for data management."
   ]
  },
  {
   "cell_type": "code",
   "execution_count": 2,
   "id": "7a250c34-c8db-4d8d-8581-2bab23c4782d",
   "metadata": {},
   "source": [
    "import pandas as pd\n",
    "from pandapower.timeseries.data_sources.frame_data import DFData"
   ],
   "outputs": []
  },
  {
   "cell_type": "markdown",
   "id": "b4094d6d-bba0-408b-95a1-8a4e617eade2",
   "metadata": {},
   "source": [
    "Next, we need to define properties of the CHP element (size, name), which are treated as static input data, i.e. data (characteristics) that don't change during an analysis. Size is defined as the nominal maximum electrical power (unit: [kW]). A name can be added to describe the CHP element. # TODO opis "
   ]
  },
  {
   "cell_type": "code",
   "execution_count": 3,
   "id": "11fde3c8-f61f-411d-ba9f-40d44ad29cb0",
   "metadata": {},
   "source": [
    "chp_size = 500\n",
    "chp_name = 'example_chp'\n",
    "altitude = 0"
   ],
   "outputs": []
  },
  {
   "cell_type": "markdown",
   "id": "047fe6e6-22ce-4d67-8647-b239c167e209",
   "metadata": {},
   "source": [
    "We define the analysis time series."
   ]
  },
  {
   "cell_type": "code",
   "execution_count": 4,
   "id": "67839443-0c42-44dc-b024-bf559f6b52dd",
   "metadata": {},
   "source": [
    "start = '2020-01-01 00:00:00' \n",
    "end = '2020-01-02 00:00:00'\n",
    "time_resolution = 900 # 15 min "
   ],
   "outputs": []
  },
  {
   "cell_type": "markdown",
   "id": "6a60c6ea-351b-43d1-b325-c6877f2ce338",
   "metadata": {},
   "source": [
    "Now we import our demand data and transform it into an appropriate DFData object. All data of an individual element is stored in a dedicated DFData object."
   ]
  },
  {
   "cell_type": "code",
   "execution_count": 5,
   "id": "ab0af77b-36fb-4df0-b5a3-b29558d9af56",
   "metadata": {},
   "source": [
    "demand_data = pd.read_excel('example_data/input_chp.xlsx') \n",
    "\n",
    "print(demand_data.head())\n",
    "\n",
    "dur = pd.date_range(start, end, freq=\"15min\")                              \n",
    "demand_data.index = dur\n",
    "demand_input = DFData(demand_data)"
   ],
   "outputs": []
  },
  {
   "cell_type": "markdown",
   "id": "8f39ffdb-b03f-43cf-9af8-2f6ca5681f3c",
   "metadata": {},
   "source": [
    "2 - CREATING ELEMENTS OF THE NETWORK:\n",
    "--------------------------------------"
   ]
  },
  {
   "cell_type": "markdown",
   "id": "a8cab8d9-bdd5-4fea-a15d-2b9cf882370b",
   "metadata": {},
   "source": [
    "In this example, the network is made up of two elements: a source and a consumer. The source is represented by a single CHP unit and the consumer is modelled by a single heat demand element. "
   ]
  },
  {
   "cell_type": "markdown",
   "id": "0fa0258c-0800-4118-ab1f-c0de83d77c38",
   "metadata": {},
   "source": [
    "![network](chp_cons_1.png)"
   ]
  },
  {
   "cell_type": "markdown",
   "id": "eb9b5b8e-49ad-4006-9542-9ba22b394e24",
   "metadata": {},
   "source": [
    "2.1. ELEMENT 1 (SOURCE) ---> CHP ELEMENT:"
   ]
  },
  {
   "cell_type": "markdown",
   "id": "4a16dff7-2627-46c0-b4ab-a88be4e06eff",
   "metadata": {},
   "source": [
    "First we define an empty prosumer container object which in practice can be anything. In pandaprosumer, each element of the network has its own container, which is later filled with data and results."
   ]
  },
  {
   "cell_type": "code",
   "execution_count": 6,
   "id": "0cff2645-4bd7-48dc-93b2-413d0e65f6e7",
   "metadata": {},
   "source": [
    "from pandaprosumer.create import create_empty_prosumer_container\n",
    "\n",
    "chp_prosumer = create_empty_prosumer_container()"
   ],
   "outputs": []
  },
  {
   "cell_type": "markdown",
   "id": "054b96d8-56ee-41f4-b2b6-dc36566822a7",
   "metadata": {},
   "source": [
    "Then we define the period of the analysis using input data about the analysis of time and also timezone and period name."
   ]
  },
  {
   "cell_type": "code",
   "execution_count": 7,
   "id": "90e212cf-9011-4680-ae3a-94e266419aad",
   "metadata": {},
   "source": [
    "from pandaprosumer.create import create_period\n",
    "\n",
    "chp_period = create_period(chp_prosumer, time_resolution, start, end, 'utc', 'default')"
   ],
   "outputs": []
  },
  {
   "cell_type": "markdown",
   "id": "c336569c-209b-4dad-a7a5-ecfe64fe0de2",
   "metadata": {},
   "source": [
    "Now we fill the container created above (chp_prosumer). We pass into the function of the empty prosumer container created above static input data (size, altitude). Finally, the last static input data (name) is passed to the function."
   ]
  },
  {
   "cell_type": "code",
   "execution_count": 8,
   "id": "174090f0-2f1b-4960-9e6f-b464bd6a16f4",
   "metadata": {},
   "source": [
    "from pandaprosumer.create import create_ice_chp\n",
    "\n",
    "chp_index = create_ice_chp(chp_prosumer, chp_size, altitude, name=chp_name)\n",
    "print(chp_prosumer.ice_chp)"
   ],
   "outputs": []
  },
  {
   "cell_type": "markdown",
   "id": "c1d3f4f4-e4a9-4924-bfbd-98c7d61a831f",
   "metadata": {},
   "source": [
    "2.2. ELEMENT 2 (CONSUMER) ---> DEMAND ELEMENT:"
   ]
  },
  {
   "cell_type": "markdown",
   "id": "2faa1c5f-38f8-4271-a331-b0bb5a5da996",
   "metadata": {},
   "source": [
    "Here we create the second element in the network, an element that represents the energy demand. In this case we have dynamic heat demand that is defined in the Excel file and is managed by the *general controller*. Scaling parameter scales the demand appropriately."
   ]
  },
  {
   "cell_type": "code",
   "execution_count": 9,
   "id": "63f8fe36-a680-411c-929f-e76bf0b10cd0",
   "metadata": {},
   "source": [
    "from pandaprosumer.create import create_heat_demand\n",
    "\n",
    "heat_demand_index = create_heat_demand(chp_prosumer, scaling=1.0)"
   ],
   "outputs": []
  },
  {
   "cell_type": "markdown",
   "id": "ae72d75c-010d-4e38-af7b-6b4a2360f23f",
   "metadata": {},
   "source": [
    "3 - CREATING CONTROLLERS OF THE ELEMENTS:\n",
    "------------------------------------------"
   ]
  },
  {
   "cell_type": "markdown",
   "id": "09ff6a77-bf4e-46ad-849d-1a8ca9a2819c",
   "metadata": {},
   "source": [
    "![controllers](chp_cons_2.png)"
   ]
  },
  {
   "cell_type": "markdown",
   "id": "8ed98725-be26-4696-bbd6-ca90c334b09f",
   "metadata": {},
   "source": [
    "3.1. DATA FOR CONTROLLERS:"
   ]
  },
  {
   "cell_type": "markdown",
   "id": "f13fb3d9-f547-4c4a-b0ff-6c88350ea07b",
   "metadata": {},
   "source": [
    "The first step in creating controllers is to define where each element controller gets the necessary data. "
   ]
  },
  {
   "cell_type": "markdown",
   "id": "4995e177-e4bf-4145-bb54-f96c08a299af",
   "metadata": {},
   "source": [
    "3.1.1. GENERAL CONTROLLER DATA:"
   ]
  },
  {
   "cell_type": "markdown",
   "id": "192ebd70-aa7c-4fc1-8864-0d1665d23971",
   "metadata": {},
   "source": [
    "The general controller manages data from external sources. The input columns for this controller are the columns of the Excel file where dynamic input data is stored. The output columns are used later in the definitions of the mappings. "
   ]
  },
  {
   "cell_type": "code",
   "execution_count": 10,
   "id": "85cb4256-e703-41bb-ba27-450525c736dc",
   "metadata": {},
   "source": [
    "from pandaprosumer.controller.data_model import ConstProfileControllerData\n",
    "\n",
    "const_controller_data = ConstProfileControllerData(\n",
    "    input_columns=['cycle', 'demand'],\n",
    "    result_columns=[\"cycle_cp\", \"demand_cp\"],\n",
    "    period_index = chp_period\n",
    ");"
   ],
   "outputs": []
  },
  {
   "cell_type": "markdown",
   "id": "bbf85965-4878-489f-851a-3adf89896826",
   "metadata": {},
   "source": [
    "3.1.2. CHP CONTROLLER DATA:"
   ]
  },
  {
   "cell_type": "markdown",
   "id": "26b455eb-fb03-48af-a807-28919b7088f8",
   "metadata": {},
   "source": [
    "In CHP data controller object we add element index of the CHP that was created when we defined CHP and period index that was created when we defined period."
   ]
  },
  {
   "cell_type": "code",
   "execution_count": 11,
   "id": "f8beda20-5e1d-40c3-9371-7a23ae9154f7",
   "metadata": {},
   "source": [
    "from pandaprosumer.controller.data_model.ice_chp import IceChpControllerData\n",
    "\n",
    "ice_chp_controller_data = IceChpControllerData(\n",
    "    element_name='ice_chp',                                                 # PM: copy of this here\n",
    "    element_index=[chp_index],\n",
    "    period_index=chp_period\n",
    ");"
   ],
   "outputs": []
  },
  {
   "cell_type": "markdown",
   "id": "c82db1b3-e358-4c0c-8062-a45960a3955b",
   "metadata": {},
   "source": [
    "3.1.3. HEAT DEMAND (CONTROLLER) CONTROLLER DATA:"
   ]
  },
  {
   "cell_type": "markdown",
   "id": "cc0ca98b-777c-4883-86ba-14a5574aaa93",
   "metadata": {},
   "source": [
    "Like in CHP we also add appropirate element index to heat demand data controller object that was created when heat demand was defined and again the period index."
   ]
  },
  {
   "cell_type": "code",
   "execution_count": 12,
   "id": "3f09dbd7-b4a1-431b-8376-c97737e51f39",
   "metadata": {},
   "source": [
    "from pandaprosumer.controller.data_model.heat_demand import HeatDemandControllerData\n",
    "\n",
    "heat_demand_controller_data = HeatDemandControllerData(\n",
    "    element_name='heat_demand',                                             \n",
    "    element_index=[heat_demand_index],\n",
    "    period_index=chp_period\n",
    ");"
   ],
   "outputs": []
  },
  {
   "cell_type": "markdown",
   "id": "49ec7437-3fa4-4c6d-ac34-bb8f4e145a16",
   "metadata": {},
   "source": [
    "3.2. CREATING CONTROLLERS:"
   ]
  },
  {
   "cell_type": "markdown",
   "id": "3a10c6b8-a439-44e2-b83f-1eda03f8fbee",
   "metadata": {},
   "source": [
    "Now we can create the controllers and connect them to their respective containers and data. We also define the topology of the network by setting the elements' priority. In this example, the network has a linear configuration (the direction of energy flow goes in one direction), so only the order parameter is set:\n",
    "- The *general controller* (ConstProfileController) is always the first element in the network and is the only one that reads data from external sources,\n",
    "- As the source, the CHP controller is the second element (order 1) in the network,\n",
    "- The final order is the demand. "
   ]
  },
  {
   "cell_type": "markdown",
   "id": "97b56767-c917-426f-addc-6195c95cf24d",
   "metadata": {},
   "source": [
    "3.2.1. GENERAL CONTROLLER:"
   ]
  },
  {
   "cell_type": "code",
   "execution_count": 13,
   "id": "748e94a6-aaa6-4279-854b-74c93fc84166",
   "metadata": {
    "scrolled": true
   },
   "source": [
    "from pandaprosumer.controller import ConstProfileController\n",
    "\n",
    "ConstProfileController(\n",
    "    chp_prosumer,                                           \n",
    "    const_object=const_controller_data,                \n",
    "    df_data=demand_input,                            \n",
    "    order=0,                                     \n",
    "    level=0\n",
    ");                                    "
   ],
   "outputs": []
  },
  {
   "cell_type": "markdown",
   "id": "4004682e-a73f-44a5-abb9-97d30126eb66",
   "metadata": {},
   "source": [
    "3.2.2. CHP CONTROLLER:"
   ]
  },
  {
   "cell_type": "code",
   "execution_count": null,
   "id": "bb0f9c7f-ddf9-47a7-8c72-9be073c91dd2",
   "metadata": {},
   "source": [
    "from pandaprosumer.controller import IceChpController\n",
    "\n",
    "IceChpController(\n",
    "    chp_prosumer, \n",
    "    ice_chp_controller_data,\n",
    "    order=1,                                                   \n",
    "    level=0\n",
    "); "
   ],
   "outputs": []
  },
  {
   "cell_type": "markdown",
   "id": "33e8d1a4-dfc7-4473-b546-bf90b1a8cc49",
   "metadata": {},
   "source": [
    "3.2.3. HEAT DEMAND (CONSUMER) CONTROLLER:"
   ]
  },
  {
   "cell_type": "code",
   "execution_count": null,
   "id": "4d3e2e70-1b16-4fbe-81be-9912aa18a703",
   "metadata": {},
   "source": [
    "from pandaprosumer.controller import HeatDemandController\n",
    "\n",
    "HeatDemandController(\n",
    "    chp_prosumer,\n",
    "    heat_demand_controller_data,\n",
    "    order=2,\n",
    "    level=0\n",
    ");"
   ],
   "outputs": []
  },
  {
   "cell_type": "markdown",
   "id": "235cc010-f622-4a65-b15a-4a6c5569eff0",
   "metadata": {},
   "source": [
    "4 - CREATING CONNECTIONS (MAPS) BETWEEN THE CONTROLLERS:\n",
    "---------------------------------------------------------"
   ]
  },
  {
   "attachments": {},
   "cell_type": "markdown",
   "id": "fdf73826-be8e-40b9-b4ed-0b39b3aa54b4",
   "metadata": {},
   "source": [
    "![connections](chp_cons_3.png)"
   ]
  },
  {
   "cell_type": "markdown",
   "id": "1e2ede86-a0f0-4f9f-a58d-50cf10c45d72",
   "metadata": {},
   "source": [
    "For each controller we define how it is connected to other controllers. The main parameter for the map in this case is energy flow: the output energy flow of one element is linked with the input energy flow of the connected element. "
   ]
  },
  {
   "cell_type": "code",
   "execution_count": null,
   "id": "92eefb1c-93f0-4a6d-acb5-b07c8777f47a",
   "metadata": {},
   "source": [
    "from pandaprosumer.mapping import GenericMapping"
   ],
   "outputs": []
  },
  {
   "cell_type": "markdown",
   "id": "8e6fcd1e-da3c-4f41-820e-08e27b8184bd",
   "metadata": {},
   "source": [
    "4.1. CONNECTION GENERAL CONTROLLER ---> CHP:"
   ]
  },
  {
   "cell_type": "markdown",
   "id": "9b862afc-085f-40f3-801a-e97bc736ea4e",
   "metadata": {},
   "source": [
    "The general controller instructs the CHP controller what cycle to use and what demand is expected from the consumer. "
   ]
  },
  {
   "cell_type": "code",
   "execution_count": null,
   "id": "3781726d-d78e-4a02-aa0a-d7688d2b60e4",
   "metadata": {},
   "source": [
    "GenericMapping(\n",
    "    chp_prosumer,                                                   \n",
    "    initiator=0,                                           \n",
    "    initiator_column=\"cycle_cp\",                              \n",
    "    responder=1,                                                \n",
    "    responder_column=\"cycle\"\n",
    ");  "
   ],
   "outputs": []
  },
  {
   "cell_type": "markdown",
   "id": "7c5a1aad-f758-47f4-948a-b266858241ae",
   "metadata": {},
   "source": [
    "4.2. CONNECTION CHP ---> HEAT DEMAND (CONSUMER):"
   ]
  },
  {
   "cell_type": "markdown",
   "id": "99316b2b-fba1-4d74-b692-346e25b1060e",
   "metadata": {},
   "source": [
    "The CHP controller informs the demand controller of how much thermal power it can supply at each time step. "
   ]
  },
  {
   "cell_type": "code",
   "execution_count": null,
   "id": "ced2b119-a9cf-49d8-b0ff-68d1934d15d0",
   "metadata": {},
   "source": [
    "GenericMapping(\n",
    "    chp_prosumer,                                              \n",
    "    initiator=1,                                             \n",
    "    initiator_column=\"p_th_mw\",\n",
    "    responder=2,                                           \n",
    "    responder_column=\"q_received_kw\"\n",
    ");"
   ],
   "outputs": []
  },
  {
   "cell_type": "markdown",
   "id": "ddb0796e-9ed5-47bd-9e5b-6a96ece88387",
   "metadata": {},
   "source": [
    "4.3. CONNECTION GENERAL CONTROLLER ---> HEAT DEMAND (CONSUMER):"
   ]
  },
  {
   "cell_type": "markdown",
   "id": "d724c8b9-7716-4cbd-956f-e83c9c1858be",
   "metadata": {},
   "source": [
    "The general controller sends the demand controller information about the actual demand at each time step."
   ]
  },
  {
   "cell_type": "code",
   "execution_count": null,
   "id": "0aff4b9b-15cb-4c9f-b1fb-c808a46cba86",
   "metadata": {},
   "source": [
    "GenericMapping(\n",
    "    chp_prosumer,                                                  \n",
    "    initiator=0,                                               \n",
    "    initiator_column=\"demand_cp\",\n",
    "    responder=2,                                                \n",
    "    responder_column=\"q_demand_kw\"\n",
    ");"
   ],
   "outputs": []
  },
  {
   "cell_type": "markdown",
   "id": "ec418375-6c54-4dbf-ace8-b461d41e6bd8",
   "metadata": {},
   "source": [
    "5 - RUNNING THE ANALYSIS:\n",
    "-----------------------"
   ]
  },
  {
   "cell_type": "markdown",
   "id": "ffd3ebae-43e5-4d0d-8e03-7b6becbe0c2d",
   "metadata": {},
   "source": [
    "We can now run the analysis with the input data defined above. "
   ]
  },
  {
   "cell_type": "code",
   "execution_count": null,
   "id": "fd2d018f-fe5d-4304-8450-b61395c87065",
   "metadata": {},
   "source": [
    "from pandaprosumer.run_time_series import run_timeseries\n",
    "\n",
    "run_timeseries(chp_prosumer, chp_period, True);"
   ],
   "outputs": []
  },
  {
   "cell_type": "markdown",
   "id": "acd876fa-ed5f-4752-b69c-91bef00abf06",
   "metadata": {},
   "source": [
    "6 - PRINTING AND PLOTTING RESULTS:\n",
    "----------------------------------"
   ]
  },
  {
   "cell_type": "markdown",
   "id": "1cf23ef3-ea61-47db-a1b5-30ddf921617f",
   "metadata": {},
   "source": [
    "First, we plot the evolution of the demand from the Excel file."
   ]
  },
  {
   "cell_type": "code",
   "execution_count": null,
   "id": "142d0338-951a-4727-a287-f8bedfeb0095",
   "metadata": {},
   "source": [
    "import matplotlib.pyplot as plt"
   ],
   "outputs": []
  },
  {
   "cell_type": "code",
   "execution_count": null,
   "id": "c2c75492-0356-41f6-98b7-eb4413785c83",
   "metadata": {},
   "source": [
    "demand_data.plot(y='demand');\n",
    "plt.show()"
   ],
   "outputs": []
  },
  {
   "cell_type": "code",
   "execution_count": null,
   "id": "aa03b80c-23b5-4336-b66d-bd2ff032a40e",
   "metadata": {},
   "source": [
    "print(chp_prosumer.heat_demand)"
   ],
   "outputs": []
  },
  {
   "cell_type": "markdown",
   "id": "5989ed57-96f8-4fe0-a0fe-ea41a6317c11",
   "metadata": {},
   "source": [
    "Then we list the availabel results for the CHP element. Results are stored in the form of time series, which can be plotted on a graph. The *.time_series* command lists all input and output dataframes. "
   ]
  },
  {
   "cell_type": "code",
   "execution_count": null,
   "id": "036b950c-c59d-4f6b-a504-ef28e13fdbbf",
   "metadata": {},
   "source": [
    "print(chp_prosumer.time_series)"
   ],
   "outputs": []
  },
  {
   "cell_type": "markdown",
   "id": "fccc3bca-8bf6-4f92-a9bb-81c1a11c166f",
   "metadata": {},
   "source": [
    "Here *.data_source* lists all available dataframes that we then specify with index in *.loc[]*."
   ]
  },
  {
   "cell_type": "code",
   "execution_count": null,
   "id": "4b4fc9e7-b0f0-4835-b389-6a73f77fee71",
   "metadata": {},
   "source": [
    "print(chp_prosumer.time_series.data_source)"
   ],
   "outputs": []
  },
  {
   "cell_type": "markdown",
   "id": "27136e17-ddbb-41a6-96d6-a379e10b94e3",
   "metadata": {},
   "source": [
    "Before plotting we have to look at the resulting dataframe to see which quantity (column) do we want to plot. Index can be an integer or the defined name of specific component you want to look at."
   ]
  },
  {
   "cell_type": "code",
   "execution_count": null,
   "id": "f7e0cfd3-87cd-4e43-9dc9-dbf1a37c4225",
   "metadata": {},
   "source": [
    "print(chp_prosumer.time_series.data_source.loc[0].df.head())"
   ],
   "outputs": []
  },
  {
   "cell_type": "code",
   "execution_count": null,
   "id": "8fe1c8b0-2096-4c16-aaa4-54428c611dcb",
   "metadata": {},
   "source": [
    "res_df = chp_prosumer.time_series\n",
    "res_df.set_index('name', inplace=True)\n",
    "print(res_df.loc[chp_name].data_source.df)"
   ],
   "outputs": []
  },
  {
   "cell_type": "markdown",
   "id": "ca9e2018-41d2-482d-99ce-eec2cdd47bba",
   "metadata": {},
   "source": [
    "Now we can plot the evolution of the electrical power that the CHP generates based on the demand. "
   ]
  },
  {
   "cell_type": "code",
   "execution_count": null,
   "id": "a8126e95-1584-42f3-be44-fc5e6323f7df",
   "metadata": {},
   "source": [
    "chp_prosumer.time_series.data_source.loc[chp_name].df.p_el_mw.plot()\n",
    "plt.show()"
   ],
   "outputs": []
  },
  {
   "cell_type": "markdown",
   "id": "473258ad-0cdb-46d5-89ae-d06249a0c3ab",
   "metadata": {},
   "source": [
    "We can also for example plot time evolution of mass flow."
   ]
  },
  {
   "cell_type": "code",
   "execution_count": null,
   "id": "6a2b6671-6f97-436f-83aa-bd3b161a1d17",
   "metadata": {},
   "source": [
    "chp_prosumer.time_series.data_source.loc[chp_name].df.m_in_kg_s.plot()\n",
    "plt.show()"
   ],
   "outputs": []
  },
  {
   "cell_type": "markdown",
   "id": "1b54f932-12da-41ba-b321-800ef3e52301",
   "metadata": {},
   "source": [
    "ACKNOWLEDGEMENTS:\n",
    "-----------------\n",
    "We would like to thank Pratikshya Mohanty and Odile Capron for the help in preparing this tutorial. Special thanks also to Pawel Lytaev and colleagues from the University of Kassel for their code reviews and suggestions during the development of the models. Support from the SenergyNets project (XXXXX, No. XXXXXX) is gratefully acknowledged. \\\n",
    "#TODO: DOPOLNI ZGORNJI TEKST"
   ]
  }
 ],
 "metadata": {
  "kernelspec": {
   "display_name": "Python (venvsenergy)",
   "language": "python",
   "name": "venvsenergy"
  },
  "language_info": {
   "codemirror_mode": {
    "name": "ipython",
    "version": 3
   },
   "file_extension": ".py",
   "mimetype": "text/x-python",
   "name": "python",
   "nbconvert_exporter": "python",
   "pygments_lexer": "ipython3",
   "version": "3.9.18"
  }
 },
 "nbformat": 4,
 "nbformat_minor": 5
}
