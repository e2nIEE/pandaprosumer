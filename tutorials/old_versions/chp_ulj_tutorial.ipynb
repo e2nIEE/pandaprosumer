{
 "cells": [
  {
   "cell_type": "markdown",
   "id": "470b9922-749e-4200-bfc3-887dda293789",
   "metadata": {},
   "source": [
    "# PANDAPROSUMER CHP MODULE EXAMPLE"
   ]
  },
  {
   "cell_type": "markdown",
   "id": "50e968f7-c9b5-4ad6-afcd-b46b146376c7",
   "metadata": {
    "jp-MarkdownHeadingCollapsed": true
   },
   "source": [
    "Example prepared by:\n",
    "--------------------\n",
    "    Izak Oberčkal Pluško*, Marko Keber*, Katja Klinar*, Tine Seljak*, Andrej Kitanovski*\n",
    "\n",
    "    Faculty of Mechanical Engineering, University of Ljubljana\n",
    "\n",
    "            *Contact: izak.oberckalplusko@fs.uni-lj.si \n",
    "            *Contact: marko.keber@fs.uni-lj.si\n",
    "            *Contact: katja.klinar@fs.uni-lj.si\n",
    "            *Contact: tine.seljak@fs.uni-lj.si\n",
    "            *Contact: andrej.kitanovski@fs.uni-lj.si"
   ]
  },
  {
   "cell_type": "markdown",
   "id": "2995e353-291b-445a-8361-783b319b13c8",
   "metadata": {},
   "source": [
    "DESCRIPTION:\n",
    "--------------------\n",
    "1 CHP unit connected directly to the consumer. CHP or combined heat and power plant is a system that simultaneously generates electricity and useful heat from the same source."
   ]
  },
  {
   "cell_type": "markdown",
   "id": "d91b37d1-dcf2-4daf-825c-81c9e7a0a188",
   "metadata": {},
   "source": [
    "INSTRUCTIONS:\n",
    "--------------------\n",
    "1. Python 3.9 is required\n",
    "2. Following libraries are required:\n",
    "- astral==3.2\n",
    "- converter==1.0.0\n",
    "- coolprop==6.4.1\n",
    "- matplotlib==3.7.1\n",
    "- numpy==1.24.3\n",
    "- openpyxl==3.1.2\n",
    "- pandapipes==0.8.4\n",
    "- pandapower==2.13.1\n",
    "- pandas==2.0.2\n",
    "- pyomo==6.6.1\n",
    "- pyromat==2.2.4\n",
    "- savReaderWriter==3.4.2\n",
    "- scikit_learn==1.2.2\n",
    "- scipy==1.10.1\n",
    "- seaborn==0.12.2\n",
    "- simbench==1.4.0\n",
    "- tqdm==4.65.0\n",
    "- writer==0.1.4\n"
   ]
  },
  {
   "cell_type": "markdown",
   "id": "92ce5044-f000-49fd-af7e-7b183e9ba953",
   "metadata": {},
   "source": [
    "Before starting let's add a pandaprosumer parent directory:"
   ]
  },
  {
   "cell_type": "code",
   "execution_count": 137,
   "id": "39735ed5-81fb-48ce-8bfd-20d0dc18a42f",
   "metadata": {},
   "source": [
    "import sys\n",
    "import os\n",
    "\n",
    "current_directory = os.getcwd()\n",
    "parent_directory = os.path.dirname(current_directory)\n",
    "sys.path.append(parent_directory)\n",
    "print(\"Parent directory added to sys.path:\", parent_directory)"
   ],
   "outputs": []
  },
  {
   "cell_type": "markdown",
   "id": "f6932e38-5b9e-46bd-8642-8d67e26e9e17",
   "metadata": {},
   "source": [
    "INPUTS\n",
    "--------------------"
   ]
  },
  {
   "cell_type": "markdown",
   "id": "c9ad7b30-dfb9-47b4-a387-6f4e4f945dee",
   "metadata": {},
   "source": [
    "First let's import required libraries:\n"
   ]
  },
  {
   "cell_type": "code",
   "execution_count": 138,
   "id": "7a250c34-c8db-4d8d-8581-2bab23c4782d",
   "metadata": {},
   "source": [
    "import pandas as pd\n",
    "from pandapower.timeseries.data_sources.frame_data import DFData"
   ],
   "outputs": []
  },
  {
   "cell_type": "markdown",
   "id": "b4094d6d-bba0-408b-95a1-8a4e617eade2",
   "metadata": {},
   "source": [
    "We defined element properties - static input data for the chp element:"
   ]
  },
  {
   "cell_type": "code",
   "execution_count": 139,
   "id": "11fde3c8-f61f-411d-ba9f-40d44ad29cb0",
   "metadata": {},
   "source": [
    "cycle = 't'\n",
    "size = 0.35\n",
    "name = 'example_chp'"
   ],
   "outputs": []
  },
  {
   "cell_type": "markdown",
   "id": "047fe6e6-22ce-4d67-8647-b239c167e209",
   "metadata": {},
   "source": [
    "We also define analysis time series:"
   ]
  },
  {
   "cell_type": "code",
   "execution_count": 140,
   "id": "67839443-0c42-44dc-b024-bf559f6b52dd",
   "metadata": {},
   "source": [
    "start = '2020-01-01 00:00:00'                                              # time period\n",
    "end = '2020-01-02 00:00:00'\n",
    "resol = 900   "
   ],
   "outputs": []
  },
  {
   "cell_type": "markdown",
   "id": "6a60c6ea-351b-43d1-b325-c6877f2ce338",
   "metadata": {},
   "source": [
    "Now we import our demand data and transform it into appropriate DFData object:"
   ]
  },
  {
   "cell_type": "code",
   "execution_count": 141,
   "id": "ab0af77b-36fb-4df0-b5a3-b29558d9af56",
   "metadata": {},
   "source": [
    "demand_data = pd.read_excel('TestingData/input_chp.xlsx') # zdaj ni Markotovega excela\n",
    "print(demand_data)\n",
    "dur = pd.date_range(start, end, freq=\"15min\")                              \n",
    "demand_data.index = dur\n",
    "data_source = DFData(demand_data)"
   ],
   "outputs": []
  },
  {
   "cell_type": "markdown",
   "id": "8f39ffdb-b03f-43cf-9af8-2f6ca5681f3c",
   "metadata": {},
   "source": [
    "CALCULATIONS\n",
    "--------------------"
   ]
  },
  {
   "cell_type": "markdown",
   "id": "4a16dff7-2627-46c0-b4ab-a88be4e06eff",
   "metadata": {},
   "source": [
    "First we define an empty prosumer container object which in practice can be anything:"
   ]
  },
  {
   "cell_type": "code",
   "execution_count": 142,
   "id": "0cff2645-4bd7-48dc-93b2-413d0e65f6e7",
   "metadata": {},
   "source": [
    "from pandaprosumer.create import create_empty_prosumer_container\n",
    "prosumer = create_empty_prosumer_container()"
   ],
   "outputs": []
  },
  {
   "cell_type": "markdown",
   "id": "054b96d8-56ee-41f4-b2b6-dc36566822a7",
   "metadata": {},
   "source": [
    "Then we define period of the analysis:"
   ]
  },
  {
   "cell_type": "code",
   "execution_count": 143,
   "id": "90e212cf-9011-4680-ae3a-94e266419aad",
   "metadata": {},
   "source": [
    "from pandaprosumer.create import define_period\n",
    "period = define_period(prosumer, resol, start, end, 'utc', 'default')"
   ],
   "outputs": []
  },
  {
   "cell_type": "markdown",
   "id": "c336569c-209b-4dad-a7a5-ecfe64fe0de2",
   "metadata": {},
   "source": [
    "Now we define a specific container which in this case is chp container where we pass into function empty prosumer container created above, static input data (cycle, size), additional parameter that is always set to True and the last static input data (name):"
   ]
  },
  {
   "cell_type": "code",
   "execution_count": 144,
   "id": "174090f0-2f1b-4960-9e6f-b464bd6a16f4",
   "metadata": {},
   "source": [
    "from pandaprosumer.create import define_ice_chp\n",
    "chp_index = define_ice_chp(prosumer, size)\n",
    "print(prosumer.ice_chp)"
   ],
   "outputs": []
  },
  {
   "cell_type": "code",
   "execution_count": 145,
   "id": "63f8fe36-a680-411c-929f-e76bf0b10cd0",
   "metadata": {},
   "source": [
    "from pandaprosumer.create import define_heat_demand\n",
    "heat_demand_index = define_heat_demand(prosumer, scaling=1.0)"
   ],
   "outputs": []
  },
  {
   "cell_type": "code",
   "execution_count": 146,
   "id": "85cb4256-e703-41bb-ba27-450525c736dc",
   "metadata": {},
   "source": [
    "from pandaprosumer.controller.data_model import ConstProfileControllerData\n",
    "const_controller_data = ConstProfileControllerData(\n",
    "    input_columns=['c', 'demand'],\n",
    "    result_columns=[\"cycle_cp\", \"demand\"],\n",
    "    period_index = period\n",
    ")\n",
    "    \n",
    "    "
   ],
   "outputs": []
  },
  {
   "cell_type": "code",
   "execution_count": 147,
   "id": "f8beda20-5e1d-40c3-9371-7a23ae9154f7",
   "metadata": {},
   "source": [
    "from pandaprosumer.controller.data_model.ice_chp import IceChpControllerData\n",
    "ice_chp_controller_data = IceChpControllerData(element_name='ice_chp',                                                 # PM: copy of this here\n",
    "        element_index=[chp_index],\n",
    "        period_index=period\n",
    "    )"
   ],
   "outputs": []
  },
  {
   "cell_type": "code",
   "execution_count": 148,
   "id": "3f09dbd7-b4a1-431b-8376-c97737e51f39",
   "metadata": {},
   "source": [
    "from pandaprosumer.controller.data_model.heat_demand import HeatDemandControllerData\n",
    "heat_demand_controller_data = HeatDemandControllerData(\n",
    "        element_name='heat_demand',                                             \n",
    "        element_index=[heat_demand_index],\n",
    "        period_index=period\n",
    "    )"
   ],
   "outputs": []
  },
  {
   "cell_type": "code",
   "execution_count": 149,
   "id": "748e94a6-aaa6-4279-854b-74c93fc84166",
   "metadata": {
    "scrolled": true
   },
   "source": [
    "from pandaprosumer.controller import ConstProfileController, HeatDemandController, IceChpController\n",
    "ConstProfileController(prosumer,                                           \n",
    "                           const_object=const_controller_data,                \n",
    "                           df_data=data_source,                            \n",
    "                           order=0,                                     \n",
    "                           level=0)                                       \n",
    "                                                                               \n",
    "IceChpController(prosumer,\n",
    "                     ice_chp_controller_data,\n",
    "                     order=0,                                                   \n",
    "                     level=1)                                                  \n",
    "\n",
    "HeatDemandController(prosumer,                                              \n",
    "                         heat_demand_controller_data,\n",
    "                         order=0,\n",
    "                         level=2)  # dont print this"
   ],
   "outputs": []
  },
  {
   "cell_type": "markdown",
   "id": "0fa0258c-0800-4118-ab1f-c0de83d77c38",
   "metadata": {},
   "source": [
    "![kuzek](TestingData/nemški-ovčar-1.webp)"
   ]
  },
  {
   "cell_type": "code",
   "execution_count": 150,
   "id": "92eefb1c-93f0-4a6d-acb5-b07c8777f47a",
   "metadata": {},
   "source": [
    "from pandaprosumer.mapping import GenericMapping\n",
    "GenericMapping(prosumer,                                                   \n",
    "                   initiator=0,                                           \n",
    "                   initiator_column=\"cycle_cp\",                              \n",
    "                   responder=1,                                                \n",
    "                   responder_column=\"cycle\")                                 \n",
    "\n",
    "GenericMapping(prosumer,                                              \n",
    "                   initiator=1,                                             \n",
    "                   initiator_column=\"p_th_mw\",\n",
    "                   responder=2,                                           \n",
    "                   responder_column=\"q_received_kw\")\n",
    "\n",
    "GenericMapping(prosumer,                                                  \n",
    "                   initiator=0,                                               \n",
    "                   initiator_column=\"demand\",\n",
    "                   responder=2,                                                \n",
    "                   responder_column=\"q_demand_kw\") # dont print this"
   ],
   "outputs": []
  },
  {
   "cell_type": "code",
   "execution_count": 151,
   "id": "fd2d018f-fe5d-4304-8450-b61395c87065",
   "metadata": {},
   "source": [
    "from pandaprosumer.run_time_series import run_timeseries\n",
    "run_timeseries(prosumer, period, True)"
   ],
   "outputs": []
  },
  {
   "cell_type": "code",
   "execution_count": 153,
   "id": "aa03b80c-23b5-4336-b66d-bd2ff032a40e",
   "metadata": {},
   "source": [
    "print(prosumer.heat_demand)\n",
    "print(prosumer.time_series.data_source.loc[0].df.p_el_mw.plot())\n",
    "import matplotlib.pyplot as plt\n",
    "plt.show()"
   ],
   "outputs": []
  },
  {
   "cell_type": "code",
   "execution_count": null,
   "id": "5411ee06-10c4-4ce8-81cd-2652dd2bc015",
   "metadata": {},
   "source": [],
   "outputs": []
  }
 ],
 "metadata": {
  "kernelspec": {
   "display_name": "Python 3 (ipykernel)",
   "language": "python",
   "name": "python3"
  },
  "language_info": {
   "codemirror_mode": {
    "name": "ipython",
    "version": 3
   },
   "file_extension": ".py",
   "mimetype": "text/x-python",
   "name": "python",
   "nbconvert_exporter": "python",
   "pygments_lexer": "ipython3",
   "version": "3.9.13"
  }
 },
 "nbformat": 4,
 "nbformat_minor": 5
}
