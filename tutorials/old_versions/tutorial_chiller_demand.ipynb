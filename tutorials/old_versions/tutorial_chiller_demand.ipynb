{
 "cells": [
  {
   "cell_type": "markdown",
   "metadata": {
    "slideshow": {
     "slide_type": "-"
    }
   },
   "source": [
    "# Chiller Model"
   ]
  },
  {
   "cell_type": "markdown",
   "metadata": {
    "slideshow": {
     "slide_type": "skip"
    }
   },
   "source": [
    "In this tutorial we want to create a prosumer model for asessing the heat production (delivered power), and the power consumption of a ater-coooler compressor chiller."
   ]
  },
  {
   "cell_type": "markdown",
   "metadata": {},
   "source": [
    "## Chiller Calculation"
   ]
  },
  {
   "cell_type": "markdown",
   "metadata": {},
   "source": [
    "Our model uses CoolProp data to calculate a simple refrigeration cycle, and it makes no assumptions about compressor speed, so it will work better with an all or nothing chiller (although it can be tuned to calculate a variable speed chiller approximately).\n",
    "\n",
    "First, some imports:"
   ]
  },
  {
   "cell_type": "code",
   "execution_count": 1,
   "metadata": {
    "slideshow": {
     "slide_type": "fragment"
    }
   },
   "outputs": [
    {
     "name": "stdout",
     "output_type": "stream",
     "text": [
      "integrate microscope first!\n",
      "integrate microscope first!\n",
      "integrate microscope first!\n",
      "integrate microscope first!\n",
      "integrate microscope first!\n"
     ]
    }
   ],
   "source": [
    "import os,sys\n",
    "sys.path.insert(1, r\"/Users/vincenzonavavnava/Documents/SENERGY/pandaprosumer\") #to be removed later\n",
    "\n",
    "import pandas as pd\n",
    "import matplotlib.pyplot as plt\n",
    "import pyromat as pm\n",
    "import warnings\n",
    "warnings.simplefilter(action='ignore', category=FutureWarning)\n",
    "\n",
    "\n",
    "from pandaprosumer.prosumer.senergy_nets.chiller import chiller\n",
    "from pandapower.timeseries.data_sources.frame_data import DFData\n",
    "\n",
    "from pandaprosumer.create import (\n",
    "    create_empty_prosumer_container,\n",
    "    define_location,\n",
    "    define_period,\n",
    "    define_senergy_nets_chiller,\n",
    ")\n",
    "\n",
    "from pandaprosumer.run_time_series import run_timeseries\n",
    "\n",
    "from pandaprosumer.controller.senergy_nets import (\n",
    "    ChillerControllerData,\n",
    "    ChillerController,\n",
    ")\n"
   ]
  },
  {
   "cell_type": "markdown",
   "metadata": {},
   "source": [
    "In this example, we create a heat demand for a temperature time-series for 1st Jan 2020, with a 60min resolution, using a support spreadsheet for the input time series:\n",
    "\n",
    "* Set Point Temperature T_set [K]\t\n",
    "\n",
    "* Evaporator inlet temperature T_in_ev [K]\n",
    "\n",
    "* Condenser inlet temperature T_in_cond [K]\n",
    "\n",
    "* Condenser temperature increase Dt_cond [K]\n",
    "\n",
    "* Cooling demand Q_load [kJ/h]\n",
    "\n",
    "* Isentropic efficiency N_is [-]\n",
    "\n",
    "* Maximum chiller power Q_max [kJ/h]\n",
    "\n",
    "* Control signal Ctrl [-]\n",
    "\n"
   ]
  },
  {
   "cell_type": "code",
   "execution_count": 2,
   "metadata": {},
   "outputs": [],
   "source": [
    "data = pd.read_excel(\"senergy_nets_example_chiller.xlsx\")\n",
    "start = \"2020-01-01 00:00:00\"\n",
    "end = \"2020-01-01 01:59:59\"\n",
    "resol = 3600\n",
    "dur = pd.date_range(start, end, freq=\"%ss\" % resol)\n",
    "data.index = dur"
   ]
  },
  {
   "cell_type": "markdown",
   "metadata": {},
   "source": [
    "Similarly to pandapower and pandapipes, the input for a time-series calculation has to be converted to the DFData format, which we imported before."
   ]
  },
  {
   "cell_type": "code",
   "execution_count": 3,
   "metadata": {},
   "outputs": [],
   "source": [
    "data_DFD = DFData(data)"
   ]
  },
  {
   "cell_type": "markdown",
   "metadata": {},
   "source": [
    "The needed set of *inputs* required to run the calculation of the chiller are the following:\n",
    "\n",
    "1. **data_source** = the name of the file containing the time histories;\n",
    "2. **profile_name_t_set_k** = Name of the column header of the Set Temperature column in the input data excel\n",
    "3. **profile_name_t_in_ev_k** = Name of the column header of the Evaporator inlet temperature column in the input data excel\n",
    "4. **profile_name_t_in_cond_k** = Name of the column header of the Condenser inlet temperature column in the input data excel\n",
    "5. **profile_name_dt_cond_k** = Name of the column header of the Condenser temperature increase column in the input data excel\n",
    "6. **profile_name_q_load_kj_per_h** = Name of the column header of the Cooling demand column in the input data excel\n",
    "7. **profile_name_n_is** = Name of the column header of the Isentropic efficiency column in the input data excel\n",
    "8. **profile_name_q_max_kj_per_h** = Name of the column header of the Maximum chiller power column in the input data excel\n",
    "9. **profile_name_ctrl** = Name of the column header of the Control signal column in the input data excel\n",
    "\n",
    "In the following example we also set a user-defined start and end of the time series, as well as the data_source. All the other optional inputs can be input when calling the chiller function."
   ]
  },
  {
   "cell_type": "code",
   "execution_count": 4,
   "metadata": {},
   "outputs": [
    {
     "name": "stderr",
     "output_type": "stream",
     "text": [
      "100%|█████████████████████████████████████████████████████████████████████████████████████████████████████████████████████| 2/2 [00:00<00:00, 134.11it/s]\n"
     ]
    }
   ],
   "source": [
    "prosumer_ch = chiller(\n",
    "        period_start=start,\n",
    "        period_end=end,\n",
    "        data_source=data_DFD,\n",
    "        profile_name_t_set_k=[\"Set Point Temperature T_set [K]\"],\n",
    "        profile_name_t_in_ev_k=[\"Evaporator inlet temperature T_in_ev [K]\"],\n",
    "        profile_name_t_in_cond_k=[\"Condenser inlet temperature T_in_cond [K]\"],\n",
    "        profile_name_dt_cond_k=[\"Condenser temperature increase Dt_cond [K]\"],\n",
    "        profile_name_q_load_kj_per_h=[\"Cooling demand Q_load [kJ/h]\"],\n",
    "        profile_name_n_is=[\"Isentropic efficiency N_is [-]\"],\n",
    "        profile_name_q_max_kj_per_h=[\"Maximum chiller power Q_max [kJ/h]\"],\n",
    "        profile_name_ctrl=[\"Control signal Ctrl [-]\"],\n",
    "  )\n"
   ]
  },
  {
   "cell_type": "markdown",
   "metadata": {},
   "source": [
    "We can see what is the object *prosumer_ch*"
   ]
  },
  {
   "cell_type": "code",
   "execution_count": 5,
   "metadata": {},
   "outputs": [
    {
     "data": {
      "text/plain": [
       "Following constraints are included:\n",
       "   - controller (1 entries)\n",
       "   - location (1 entries)\n",
       "   - period (1 entries)\n",
       "   - sn_chiller (1 entries)\n",
       "Following time_series are generated:\n",
       "   - time_series (1 entries)"
      ]
     },
     "execution_count": 5,
     "metadata": {},
     "output_type": "execute_result"
    }
   ],
   "source": [
    "prosumer_ch"
   ]
  },
  {
   "cell_type": "markdown",
   "metadata": {},
   "source": [
    "We can analyse the time series deeper, exporting them into a Pandas Dataframe."
   ]
  },
  {
   "cell_type": "code",
   "execution_count": 6,
   "metadata": {},
   "outputs": [
    {
     "name": "stdout",
     "output_type": "stream",
     "text": [
      "                     q_evap_kj_per_h  unmet_load_kj_per_h  w_in_tot_kj_per_h  \\\n",
      "2020-01-01 00:00:00              0.0                  0.0           0.000000   \n",
      "2020-01-01 01:00:00          18000.0                  0.0        4369.430404   \n",
      "\n",
      "                         eer  plr  t_out_ev_k  t_out_cond_k  m_evap_kg_per_h  \\\n",
      "2020-01-01 00:00:00  0.00000  0.0         0.0           0.0         0.000000   \n",
      "2020-01-01 01:00:00  4.11953  0.5       280.0         306.0       861.244019   \n",
      "\n",
      "                     m_cond_kg_per_h  q_cond_kj_per_h  \n",
      "2020-01-01 00:00:00         0.000000         0.000000  \n",
      "2020-01-01 01:00:00      1801.146208     22586.373445  \n"
     ]
    }
   ],
   "source": [
    "res_df = prosumer_ch.time_series.loc[0].data_source.df\n",
    "print(res_df)"
   ]
  },
  {
   "cell_type": "markdown",
   "metadata": {},
   "source": [
    "The *outputs* that are produced are the following:\n",
    "\n",
    "1. **q_evap_kj_per_h** = Chiller delivered power chiller\n",
    "2. **unmet_load_kj_per_h** = Unmet demand\n",
    "3. **w_in_tot_kj_per_h** = Compressor power consumption\n",
    "4. **eer** = EER\n",
    "5. **plr** = PLR\n",
    "6. **t_out_ev_k** = Evaporator temperature\n",
    "7. **t_out_cond_k** = Condenser temperature\n",
    "8. **m_evap_kg_per_h** = Evaporator flow rate \n",
    "9. **m_cond_kg_per_h** = Condenser flow rate \n",
    "10. **q_cond_kj_per_h** = Evaporator power consumption "
   ]
  },
  {
   "cell_type": "markdown",
   "metadata": {},
   "source": [
    "The following default values are considered:\n",
    "\n",
    "* **Period**\n",
    "  \n",
    "  1. *period_name* = 'default'\n",
    "  2. *period_start* = '2020-01-01 00:00:00'\n",
    "  3. *perod_end* = '2020-01-02 00:00:00'\n",
    "  4. *period_resolution* = 3600\n",
    "\n",
    "* **Location**\n",
    "  \n",
    "  1. *location_name* = 'cordoba'\n",
    "  2. *location_lat*  =37.888\n",
    "  3. *location_long* =4.77\n",
    "  4. *elevation* = 0\n",
    "  5. *timezone* = \"utc\"\n",
    "  6. *state* = \"HE\"\n",
    "  7. *country* = \"Spain\"\n",
    " \n",
    " \n",
    "* **Characteristics of the Chiller**\n",
    "  \n",
    "  1. *cp_wat* = 4.18\n",
    "  2. *t_sh* = 5.0\n",
    "  3. *t_sc* = 2.0\n",
    "  4. *pp_cond* = 5.0\n",
    "  5. *pp_evap* = 5.0\n",
    "  6. *plf_cc* = 0.9\n",
    "  7. *w_evap_pump* = 200.0\n",
    "  8. *w_cond_pump* = 200.0\n",
    "  9. *eng_eff* = 1.0\n",
    "  10. *n_ref* = \"R410A\"\n",
    "   "
   ]
  },
  {
   "cell_type": "markdown",
   "metadata": {},
   "source": [
    "As an example, we can assess another chiller, with the same time series and characteristics of the chiller, but considering water as refrigerant."
   ]
  },
  {
   "cell_type": "code",
   "execution_count": 7,
   "metadata": {},
   "outputs": [
    {
     "name": "stderr",
     "output_type": "stream",
     "text": [
      "100%|█████████████████████████████████████████████████████████████████████████████████████████████████████████████████████| 2/2 [00:00<00:00, 243.73it/s]"
     ]
    },
    {
     "name": "stdout",
     "output_type": "stream",
     "text": [
      "                     q_evap_kj_per_h  unmet_load_kj_per_h  w_in_tot_kj_per_h  \\\n",
      "2020-01-01 00:00:00              0.0                  0.0           0.000000   \n",
      "2020-01-01 01:00:00          18000.0                  0.0        4274.616708   \n",
      "\n",
      "                          eer  plr  t_out_ev_k  t_out_cond_k  m_evap_kg_per_h  \\\n",
      "2020-01-01 00:00:00  0.000000  0.0         0.0           0.0         0.000000   \n",
      "2020-01-01 01:00:00  4.210904  0.5       280.0         306.0       861.244019   \n",
      "\n",
      "                     m_cond_kg_per_h  q_cond_kj_per_h  \n",
      "2020-01-01 00:00:00         0.000000         0.000000  \n",
      "2020-01-01 01:00:00      1792.829217     22482.078379  \n"
     ]
    },
    {
     "name": "stderr",
     "output_type": "stream",
     "text": [
      "\n"
     ]
    }
   ],
   "source": [
    "prosumer_ch_water = chiller(\n",
    "        period_start=start,\n",
    "        period_end=end,\n",
    "        data_source=data_DFD,\n",
    "        profile_name_t_set_k=[\"Set Point Temperature T_set [K]\"],\n",
    "        profile_name_t_in_ev_k=[\"Evaporator inlet temperature T_in_ev [K]\"],\n",
    "        profile_name_t_in_cond_k=[\"Condenser inlet temperature T_in_cond [K]\"],\n",
    "        profile_name_dt_cond_k=[\"Condenser temperature increase Dt_cond [K]\"],\n",
    "        profile_name_q_load_kj_per_h=[\"Cooling demand Q_load [kJ/h]\"],\n",
    "        profile_name_n_is=[\"Isentropic efficiency N_is [-]\"],\n",
    "        profile_name_q_max_kj_per_h=[\"Maximum chiller power Q_max [kJ/h]\"],\n",
    "        profile_name_ctrl=[\"Control signal Ctrl [-]\"],\n",
    "        n_ref = 'Water'\n",
    "  )\n",
    "\n",
    "res_water_df = prosumer_ch_water.time_series.loc[0].data_source.df\n",
    "print(res_water_df)"
   ]
  },
  {
   "cell_type": "markdown",
   "metadata": {},
   "source": [
    "Let us consider now a new chiller, chiller 1"
   ]
  },
  {
   "cell_type": "code",
   "execution_count": 8,
   "metadata": {},
   "outputs": [
    {
     "name": "stderr",
     "output_type": "stream",
     "text": [
      "100%|█████████████████████████████████████████████████████████████████████████████████████████████████████████████████████| 1/1 [00:00<00:00, 213.26it/s]\n"
     ]
    }
   ],
   "source": [
    "data_1 = pd.read_excel(\"senergy_nets_chiller1.xlsx\")\n",
    "start = \"2020-01-01 00:00:00\"\n",
    "end = \"2020-01-01 00:59:59\"\n",
    "resol = 3600\n",
    "dur = pd.date_range(start, end, freq=\"%ss\" % resol)\n",
    "data_1.index = dur\n",
    "data_DFD_1 = DFData(data_1)\n",
    "prosumer_ch_1 = chiller(\n",
    "        period_start=start,\n",
    "        period_end=end,\n",
    "        data_source=data_DFD_1,\n",
    "        profile_name_t_set_k=[\"Set Point Temperature T_set [K]\"],\n",
    "        profile_name_t_in_ev_k=[\"Evaporator inlet temperature T_in_ev [K]\"],\n",
    "        profile_name_t_in_cond_k=[\"Condenser inlet temperature T_in_cond [K]\"],\n",
    "        profile_name_dt_cond_k=[\"Condenser temperature increase Dt_cond [K]\"],\n",
    "        profile_name_q_load_kj_per_h=[\"Cooling demand Q_load [kJ/h]\"],\n",
    "        profile_name_n_is=[\"Isentropic efficiency N_is [-]\"],\n",
    "        profile_name_q_max_kj_per_h=[\"Maximum chiller power Q_max [kJ/h]\"],\n",
    "        profile_name_ctrl=[\"Control signal Ctrl [-]\"],\n",
    "        cp_water = 4.18,\n",
    "        t_sh = 5.0,\n",
    "        t_sc = 2.0,\n",
    "        pp_cond = 5.0,\n",
    "        pp_evap = 5.0,\n",
    "        plf_cc = 1.0,\n",
    "        w_evap_pump = 900.0,\n",
    "        w_cond_pump = 900.0,\n",
    "        eng_eff = 0.99,\n",
    "        n_ref = \"R410A\"\n",
    "  )"
   ]
  },
  {
   "cell_type": "code",
   "execution_count": 9,
   "metadata": {},
   "outputs": [
    {
     "name": "stdout",
     "output_type": "stream",
     "text": [
      "            q_evap_kj_per_h  unmet_load_kj_per_h  w_in_tot_kj_per_h       eer  \\\n",
      "2020-01-01         337320.0                  0.0       78423.948671  4.301237   \n",
      "\n",
      "            plr  t_out_ev_k  t_out_cond_k  m_evap_kg_per_h  m_cond_kg_per_h  \\\n",
      "2020-01-01  1.0      280.15        308.15     16139.712919     19769.268382   \n",
      "\n",
      "            q_cond_kj_per_h  \n",
      "2020-01-01    413177.709184  \n"
     ]
    }
   ],
   "source": [
    "res_chiller_1_df = prosumer_ch_1.time_series.loc[0].data_source.df\n",
    "print(res_chiller_1_df)"
   ]
  },
  {
   "cell_type": "code",
   "execution_count": 11,
   "metadata": {},
   "outputs": [
    {
     "name": "stderr",
     "output_type": "stream",
     "text": [
      "100%|█████████████████████████████████████████████████████████████████████████████████████████████████████████████████████| 1/1 [00:00<00:00, 180.93it/s]\n"
     ]
    }
   ],
   "source": [
    "data_2 = pd.read_excel(\"senergy_nets_chiller2.xlsx\")\n",
    "start = \"2020-01-01 00:00:00\"\n",
    "end = \"2020-01-01 00:59:59\"\n",
    "resol = 3600\n",
    "dur = pd.date_range(start, end, freq=\"%ss\" % resol)\n",
    "data_2.index = dur\n",
    "data_DFD_2 = DFData(data_2)\n",
    "prosumer_ch_2 = chiller(\n",
    "        period_start=start,\n",
    "        period_end=end,\n",
    "        data_source=data_DFD_2,\n",
    "        profile_name_t_set_k=[\"Set Point Temperature T_set [K]\"],\n",
    "        profile_name_t_in_ev_k=[\"Evaporator inlet temperature T_in_ev [K]\"],\n",
    "        profile_name_t_in_cond_k=[\"Condenser inlet temperature T_in_cond [K]\"],\n",
    "        profile_name_dt_cond_k=[\"Condenser temperature increase Dt_cond [K]\"],\n",
    "        profile_name_q_load_kj_per_h=[\"Cooling demand Q_load [kJ/h]\"],\n",
    "        profile_name_n_is=[\"Isentropic efficiency N_is [-]\"],\n",
    "        profile_name_q_max_kj_per_h=[\"Maximum chiller power Q_max [kJ/h]\"],\n",
    "        profile_name_ctrl=[\"Control signal Ctrl [-]\"],\n",
    "        cp_water = 4.18,\n",
    "        t_sh = 5.0,\n",
    "        t_sc = 2.0,\n",
    "        pp_cond = 5.0,\n",
    "        pp_evap = 5.0,\n",
    "        plf_cc = 1.0,\n",
    "        w_evap_pump = 1980.0,\n",
    "        w_cond_pump = 1980.0,\n",
    "        eng_eff = 0.99,\n",
    "        n_ref = \"R1234ZE\"\n",
    "  )"
   ]
  },
  {
   "cell_type": "code",
   "execution_count": 12,
   "metadata": {},
   "outputs": [
    {
     "name": "stdout",
     "output_type": "stream",
     "text": [
      "            q_evap_kj_per_h  unmet_load_kj_per_h  w_in_tot_kj_per_h       eer  \\\n",
      "2020-01-01        1594800.0                  0.0      321552.483792  4.959688   \n",
      "\n",
      "            plr  t_out_ev_k  t_out_cond_k  m_evap_kg_per_h  m_cond_kg_per_h  \\\n",
      "2020-01-01  1.0      280.15        308.15     76306.220096     91350.074591   \n",
      "\n",
      "            q_cond_kj_per_h  \n",
      "2020-01-01     1.909217e+06  \n"
     ]
    }
   ],
   "source": [
    "res_chiller_2_df = prosumer_ch_2.time_series.loc[0].data_source.df\n",
    "print(res_chiller_2_df)"
   ]
  },
  {
   "cell_type": "code",
   "execution_count": null,
   "metadata": {},
   "outputs": [],
   "source": []
  },
  {
   "cell_type": "code",
   "execution_count": null,
   "metadata": {},
   "outputs": [],
   "source": []
  }
 ],
 "metadata": {
  "anaconda-cloud": {},
  "kernelspec": {
   "display_name": "Python 3 (ipykernel)",
   "language": "python",
   "name": "python3"
  },
  "language_info": {
   "codemirror_mode": {
    "name": "ipython",
    "version": 3
   },
   "file_extension": ".py",
   "mimetype": "text/x-python",
   "name": "python",
   "nbconvert_exporter": "python",
   "pygments_lexer": "ipython3",
   "version": "3.10.13"
  }
 },
 "nbformat": 4,
 "nbformat_minor": 4
}
