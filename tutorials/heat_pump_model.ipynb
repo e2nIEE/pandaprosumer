{
 "cells": [
  {
   "cell_type": "markdown",
   "metadata": {
    "slideshow": {
     "slide_type": "-"
    }
   },
   "source": [
    "# Heat Pump Model"
   ]
  },
  {
   "cell_type": "markdown",
   "metadata": {
    "slideshow": {
     "slide_type": "skip"
    }
   },
   "source": [
    "In this tutorial we want to create a prosumer model consisting of a heat pump, heater and a storage. But as a first step, the heat demand of our building model needs to be calculated."
   ]
  },
  {
   "cell_type": "markdown",
   "metadata": {},
   "source": [
    "## Heat Demand Calculation"
   ]
  },
  {
   "cell_type": "markdown",
   "metadata": {},
   "source": [
    "In pandaprosumer, single family house models are implemented. Thermal inertia of buildings is not yet considered. The building types are based on the classification by the Institute for Housing and Environment (IWU). More information on the building types can be found here: https://episcope.eu/welcome/ and here: https://webtool.building-typology.eu/#bm\n",
    "\n",
    "For our example, we choose the building type \"k\" with no additional modernization.\n",
    "\n",
    "First, some imports:"
   ]
  },
  {
   "cell_type": "code",
   "execution_count": 1,
   "metadata": {
    "slideshow": {
     "slide_type": "fragment"
    }
   },
   "source": [
    "import os,sys\n",
    "sys.path.insert(1, r\"C:\\Users\\e2n037\\git\\pandaprosumer\")\n",
    "\n",
    "import numpy as np\n",
    "import pandas as pd\n",
    "from pandapower.timeseries.data_sources.frame_data import DFData\n",
    "from pandaprosumer.controller.heat_demand import SpaceHeatingApartmentControl, SpaceHeatingElementControl\n",
    "from pandaprosumer.controller.heat_demand.data_model import SpaceHeatingApartment, SpaceHeatingElement\n",
    "from pandaprosumer.controller.mapping import Mapping\n",
    "from pandaprosumer.create import define_space_heating_element, create_empty_prosumer_container, \\\n",
    "    define_space_heating_apartment, define_location, define_period\n",
    "from pandaprosumer.run_time_series import run_timeseries\n"
   ],
   "outputs": []
  },
  {
   "cell_type": "markdown",
   "metadata": {},
   "source": [
    "In this example, we create a heat demand for a temperature time-series for 1st Jan 2020, with a 15min resolution."
   ]
  },
  {
   "cell_type": "code",
   "execution_count": 2,
   "metadata": {},
   "source": [
    "start = '2020-01-01 00:00:00'\n",
    "end = '2020-01-01 23:59:59'\n",
    "resol = 900\n",
    "dur = pd.date_range(start, end, freq='%ss' % resol)\n",
    "\n",
    "temperature = pd.DataFrame(np.array([3]*24+[0]*24+[-10]*36+[-5]*12), index=dur, columns=['t_amb_c'])\n",
    "temperature.plot()"
   ],
   "outputs": []
  },
  {
   "cell_type": "markdown",
   "metadata": {},
   "source": [
    "Similarly to pandapower and pandapipes, the input for a time-series calculation has to be converted to the DFData format, which we imported before."
   ]
  },
  {
   "cell_type": "code",
   "execution_count": 3,
   "metadata": {},
   "source": [
    "data_source = DFData(temperature)\n",
    "data_source"
   ],
   "outputs": []
  },
  {
   "cell_type": "markdown",
   "metadata": {},
   "source": [
    "Then we define a function which describes the geometry of our building, according to the standardized catalogue of IWU:"
   ]
  },
  {
   "cell_type": "code",
   "execution_count": 4,
   "metadata": {},
   "source": [
    "def type_k_boundaries(prosumer, variant='var1'):\n",
    "    el = []\n",
    "    el += [define_space_heating_element(prosumer, variant, 132, 'roof_1', 'k', 0, 0)]\n",
    "    el += [define_space_heating_element(prosumer, variant, 108, 'floor_2', 'k', 0, 0)]\n",
    "    el += [define_space_heating_element(prosumer, variant, 3, 'door', 'k', 0, 90)]\n",
    "    el += [define_space_heating_element(prosumer, variant, 57, 'wall_1', 'k', 0, 90)]\n",
    "    el += [define_space_heating_element(prosumer, variant, 57, 'wall_1', 'k', 90, 90)]\n",
    "    el += [define_space_heating_element(prosumer, variant, 57, 'wall_1', 'k', 180, 90)]\n",
    "    el += [define_space_heating_element(prosumer, variant, 57, 'wall_1', 'k', 270, 90)]\n",
    "    el += [define_space_heating_element(prosumer, variant, 8.4, 'window_1', 'k', 0, 0)]\n",
    "    el += [define_space_heating_element(prosumer, variant, 8.4, 'window_1', 'k', 0, 90)]\n",
    "    el += [define_space_heating_element(prosumer, variant, 8.4, 'window_1', 'k', 90, 90)]\n",
    "    el += [define_space_heating_element(prosumer, variant, 8.4, 'window_1', 'k', 180, 90)]\n",
    "    el += [define_space_heating_element(prosumer, variant, 8.4, 'window_1', 'k', 270, 90)]\n",
    "    ap = [define_space_heating_apartment(prosumer, 3, 186.8 * 2.5, 186.8)]\n",
    "    return el, ap\n"
   ],
   "outputs": []
  },
  {
   "cell_type": "markdown",
   "metadata": {},
   "source": [
    "Element describes the roof, walls, windows and the floor. The variable ap sums it all up and defines the volume of the apartment. The variant 'var1' describes the modernization rate \"no modernization\"."
   ]
  },
  {
   "cell_type": "markdown",
   "metadata": {},
   "source": [
    "In pandaprosumer for creating a prosumer container, the following 3 steps always need to be taken: create the empty prosumer container, define a location, and define a period.\n",
    "In this example, we create a prosumer container with the name 'space_heating', for the location Kassel (Hessen, Germany) (latitude, longitude, elevation: 51.3128, 9.481544, 0), and a period (time-axis for the simulation later) with a resolution of 900s=15min, for a 3-day period in 2020. Timezone and a name for the period also are given."
   ]
  },
  {
   "cell_type": "code",
   "execution_count": 5,
   "metadata": {},
   "source": [
    "location_long=9.481544\n",
    "location_lat=51.312801\n",
    "elevation=0\n",
    "location_name='kassel'\n",
    "state='HE'\n",
    "country='Germany'"
   ],
   "outputs": []
  },
  {
   "cell_type": "code",
   "execution_count": 6,
   "metadata": {},
   "source": [
    "timezone='utc'\n",
    "period_name='test'"
   ],
   "outputs": []
  },
  {
   "cell_type": "code",
   "execution_count": 7,
   "metadata": {},
   "source": [
    "prosumer = create_empty_prosumer_container('space_heating')\n",
    "loc = define_location(prosumer, location_long, location_lat, elevation, state, country, location_name)\n",
    "per = define_period(prosumer, resol, start, end, timezone, period_name)"
   ],
   "outputs": []
  },
  {
   "cell_type": "code",
   "execution_count": 8,
   "metadata": {},
   "source": [
    "prosumer"
   ],
   "outputs": []
  },
  {
   "cell_type": "markdown",
   "metadata": {},
   "source": [
    "After the general container is created, we need to add our apartment and element models to the prosumer container. We define the following function:"
   ]
  },
  {
   "cell_type": "code",
   "execution_count": 9,
   "metadata": {},
   "source": [
    "def space_heating_dataclass(period_index, location_index, profile_name_t_amb_c,\n",
    "                            space_heating_element, space_heating_apartment):\n",
    "    el_map = Mapping('space_heating_element', space_heating_element)\n",
    "\n",
    "    el = SpaceHeatingElement(\n",
    "        element_index=space_heating_element,\n",
    "        profile_name_t_amb_c=profile_name_t_amb_c,\n",
    "        period_index=period_index,\n",
    "        location_index=location_index)\n",
    "\n",
    "    ap = SpaceHeatingApartment(\n",
    "        element_index=space_heating_apartment,\n",
    "        profile_name_t_amb_c=profile_name_t_amb_c,\n",
    "        assigned_space_heating_element=[[el_map]],\n",
    "        period_index=period_index,\n",
    "        location_index=location_index)\n",
    "    return el, ap"
   ],
   "outputs": []
  },
  {
   "cell_type": "markdown",
   "metadata": {},
   "source": [
    "This function creates the dataclasses according to the given templates in pandaprosumer for the elements and the apartment, which we defined with the function \"type_k_boundaries\" before. Now, let's create the dataclasses"
   ]
  },
  {
   "cell_type": "code",
   "execution_count": 10,
   "metadata": {},
   "source": [
    "el, ap = space_heating_dataclass(per, loc, ['t_amb_c'], *type_k_boundaries(prosumer))\n",
    "prosumer"
   ],
   "outputs": []
  },
  {
   "cell_type": "code",
   "execution_count": 11,
   "metadata": {},
   "source": [
    "el\n"
   ],
   "outputs": []
  },
  {
   "cell_type": "code",
   "execution_count": 12,
   "metadata": {},
   "source": [
    "ap"
   ],
   "outputs": []
  },
  {
   "cell_type": "markdown",
   "metadata": {},
   "source": [
    "Then we define the controllers, both for the space heating elements and apartments:"
   ]
  },
  {
   "cell_type": "code",
   "execution_count": 13,
   "metadata": {
    "scrolled": true
   },
   "source": [
    "shec = SpaceHeatingElementControl(prosumer, el, data_source, 0, 0)\n",
    "shac = SpaceHeatingApartmentControl(prosumer, ap, data_source, 0, 1)\n",
    "prosumer"
   ],
   "outputs": []
  },
  {
   "cell_type": "markdown",
   "metadata": {},
   "source": [
    "Inside these two classes, the space heating calculation is taking place, which we trigger by running the time-series calculation:"
   ]
  },
  {
   "cell_type": "code",
   "execution_count": 14,
   "metadata": {
    "scrolled": true
   },
   "source": [
    "run_timeseries(prosumer, per)\n",
    "prosumer.time_series.loc[0,'data_source'].df*=-1e-6"
   ],
   "outputs": []
  },
  {
   "cell_type": "code",
   "execution_count": 15,
   "metadata": {},
   "source": [
    "prosumer"
   ],
   "outputs": []
  },
  {
   "cell_type": "code",
   "execution_count": 16,
   "metadata": {
    "scrolled": true
   },
   "source": [
    "\n",
    "prosumer.time_series.data_source.at[0].df.p_th_mw.plot()\n",
    "temperature.plot()"
   ],
   "outputs": []
  },
  {
   "cell_type": "markdown",
   "metadata": {},
   "source": [
    "## Heat Pump Simulation"
   ]
  },
  {
   "cell_type": "markdown",
   "metadata": {},
   "source": [
    "First, some imports:"
   ]
  },
  {
   "cell_type": "code",
   "execution_count": 17,
   "metadata": {},
   "source": [
    "from pandapower.timeseries.data_sources.frame_data import DFData\n",
    "from pandaprosumer.controller.basics import ExtGridControl\n",
    "from pandaprosumer.controller.basics.data_model import ExtGrid\n",
    "from pandaprosumer.controller.constant.const import ConstProsumerControl\n",
    "from pandaprosumer.controller.constant.data_model import ConstProsumer\n",
    "from pandaprosumer.controller.mapping import Mapping, StorageMapping\n",
    "from pandaprosumer.controller.sector_coupling import HeaterControl, HeatPumpControl\n",
    "from pandaprosumer.controller.sector_coupling.data_model import Heater, HeatPump\n",
    "from pandaprosumer.controller.storages import EnergyStorageControl\n",
    "from pandaprosumer.controller.storages.data_model import EnergyStorage\n",
    "from pandaprosumer.controller.storages.energy_storage import control_strategy as control_strategy_store, \\\n",
    "    finalize_strategy\n",
    "from pandaprosumer.create import create_empty_prosumer_container, define_location, define_period, define_heat_demand, \\\n",
    "    define_heater, define_ext_grid, define_heat_pump, define_energy_storage\n",
    "from pandaprosumer.run_time_series import run_timeseries\n"
   ],
   "outputs": []
  },
  {
   "cell_type": "markdown",
   "metadata": {},
   "source": [
    "Now as the heat demand is calculated, we jump to the heat pump simulation. The heat pump system consists of a heat pump (2kW), heater (5kW) and a storage (10kWh) which all cover the heat demand calculated before. The flow temperature shall remain constant as 60°C. We define a new dataframe which has the flow temperature, ambient temperature and heat demand inside and convert it into a DFData object."
   ]
  },
  {
   "cell_type": "code",
   "execution_count": 18,
   "metadata": {},
   "source": [
    "heat_pump_power_mw=0.002\n",
    "heater_power_mw=0.005\n",
    "storage_e_mwh=0.01\n",
    "flow_temperature=[60] * len(dur)\n",
    "\n",
    "hd_amb_flow = pd.DataFrame(np.array([prosumer.time_series.data_source.at[0].df.p_th_mw.values, temperature.t_amb_c.values, flow_temperature]).T, index=dur,\n",
    "                     columns=['p_demand_mw', 't_amb_c', 't_sink_c'])\n",
    "data_source = DFData(hd_amb_flow)\n",
    "\n",
    "prosumer = create_empty_prosumer_container('space_heating')\n",
    "loc = define_location(prosumer, location_long, location_lat, elevation, state, country, location_name)\n",
    "per = define_period(prosumer, resol, start, end, timezone, period_name)"
   ],
   "outputs": []
  },
  {
   "cell_type": "code",
   "execution_count": 19,
   "metadata": {},
   "source": [
    "hd_amb_flow"
   ],
   "outputs": []
  },
  {
   "cell_type": "markdown",
   "metadata": {},
   "source": [
    "Similarly to the heat demand calculation, we define a dataclass function which connects our components of the heat pump system and we define a function which defines the heat pump, heater, storage and external grid."
   ]
  },
  {
   "cell_type": "code",
   "execution_count": 20,
   "metadata": {},
   "source": [
    "def hp_heater_energy_storage_demand_boundaries(prosumer, hp_power_mw, heater_power_mw, storage_e_mwh):\n",
    "    demand = define_heat_demand(prosumer, 0.15)\n",
    "    store = define_energy_storage(prosumer, 0, storage_e_mwh, 50, 100, 100)\n",
    "    hp = define_heat_pump(prosumer, hp_power_mw, 0)\n",
    "    heater = define_heater(prosumer, heater_power_mw, 0)\n",
    "    ext = define_ext_grid(prosumer, p_el_mw=0, q_el_mvar=0, p_th_mw=0)\n",
    "    return [demand], [store], [hp], [heater], [ext]\n",
    "\n",
    "\n",
    "def hp_heater_energy_storage_demand_dataclass(period_index, location_index,\n",
    "                                              profile_name_demand, profile_name_t_amb_c,\n",
    "                                              profile_name_t_source_c, profile_name_t_sink_c,\n",
    "                                              demand_index, energy_storage_index, heat_pump_index, heater_index,\n",
    "                                              ext_grid_index):\n",
    "    demand = ConstProsumer(\n",
    "        element='heat_demand',\n",
    "        element_index=demand_index,\n",
    "        element_variable='p_th_mw',\n",
    "        profile_name=profile_name_demand,\n",
    "        period_index=period_index)\n",
    "    storage = EnergyStorage(\n",
    "        element_variable='p_th_mw',\n",
    "        element_index=energy_storage_index,\n",
    "        assigned_element=[[demand]],\n",
    "        period_index=period_index,\n",
    "        location_index=location_index)\n",
    "    mapping_storage_hp = StorageMapping(\n",
    "        element='energy_storage',\n",
    "        element_variable='p_th_mw',\n",
    "        element_index=energy_storage_index,\n",
    "        upper_limit=[100],\n",
    "        lower_limit=[50])\n",
    "    hp = HeatPump(\n",
    "        element_variable='p_el_mw',\n",
    "        element_index=heat_pump_index,\n",
    "        efficiency_variable='eff_percent',\n",
    "        assigned_element=[[mapping_storage_hp]],\n",
    "        profile_name_t_amb_c=profile_name_t_amb_c,\n",
    "        profile_name_t_sink_c=profile_name_t_sink_c,\n",
    "        profile_name_t_source_c=profile_name_t_source_c,\n",
    "        control_strategy=[control_strategy_store],\n",
    "        finalize_strategy=[finalize_strategy],\n",
    "        period_index=period_index,\n",
    "        location_index=location_index)\n",
    "    mapping_storage_heater = StorageMapping(\n",
    "        element='energy_storage',\n",
    "        element_variable='p_th_mw',\n",
    "        element_index=energy_storage_index,\n",
    "        upper_limit=[100],\n",
    "        lower_limit=[30],\n",
    "        initial_state=[False])\n",
    "    heater = Heater(\n",
    "        element_variable='p_el_mw',\n",
    "        element_index=heater_index,\n",
    "        efficiency_variable='eff_percent',\n",
    "        assigned_element=[[mapping_storage_heater]],\n",
    "        profile_name_t_amb_c=profile_name_t_amb_c,\n",
    "        control_strategy=[control_strategy_store],\n",
    "        finalize_strategy=[finalize_strategy],\n",
    "        period_index=period_index,\n",
    "        location_index=location_index)\n",
    "    mapping_heat_demand = Mapping(\n",
    "        element='heat_demand',\n",
    "        element_index=demand_index)\n",
    "    mapping_energy_storage = Mapping(\n",
    "        element='energy_storage',\n",
    "        element_index=energy_storage_index)\n",
    "    mapping_heat_pump = Mapping(\n",
    "        element='heat_pump',\n",
    "        element_index=heat_pump_index)\n",
    "    mapping_heater = Mapping(\n",
    "        element='heater',\n",
    "        element_index=heater_index)\n",
    "    ext = ExtGrid(\n",
    "        element='ext_grid',\n",
    "        element_index=ext_grid_index,\n",
    "        period_index=period_index,\n",
    "        finalize_time_series_only=False,\n",
    "        assigned_element=[[mapping_heat_demand, mapping_energy_storage, mapping_heat_pump, mapping_heater]])\n",
    "    return demand, storage, hp, heater, ext"
   ],
   "outputs": []
  },
  {
   "cell_type": "code",
   "execution_count": 21,
   "metadata": {},
   "source": [
    "profile_name_demand=['p_demand_mw']\n",
    "profile_name_t_amb_c=['t_amb_c']\n",
    "profile_name_t_source_c=['t_amb_c']\n",
    "profile_name_t_sink_c=['t_sink_c']"
   ],
   "outputs": []
  },
  {
   "cell_type": "code",
   "execution_count": 22,
   "metadata": {
    "scrolled": true
   },
   "source": [
    "demand, store, hp, heater, ext_grid = hp_heater_energy_storage_demand_dataclass(\n",
    "    per, loc, profile_name_demand, profile_name_t_amb_c, profile_name_t_source_c, profile_name_t_sink_c,\n",
    "    *hp_heater_energy_storage_demand_boundaries(prosumer, heat_pump_power_mw, heater_power_mw, storage_e_mwh))"
   ],
   "outputs": []
  },
  {
   "cell_type": "markdown",
   "metadata": {},
   "source": [
    "Adding the controllers:"
   ]
  },
  {
   "cell_type": "code",
   "execution_count": 23,
   "metadata": {},
   "source": [
    "def couple_hp_heater_energy_storage_demand(prosumer, demand_object, energy_storage_object,\n",
    "                                           heat_pump_object, heater_object, ext_grid_object, data_source,\n",
    "                                           order=[0, 1, 2, 3, 4], level=[0, 0, 0, 0, 0]):\n",
    "    ConstProsumerControl(prosumer, demand_object, data_source, order[0], level[0])\n",
    "    EnergyStorageControl(prosumer, energy_storage_object, order[1], level[1])\n",
    "    HeatPumpControl(prosumer, heat_pump_object, data_source, order[2], level[2])\n",
    "    HeaterControl(prosumer, heater_object, data_source, order[3], level[3])\n",
    "    ExtGridControl(prosumer, ext_grid_object, order[4], level[4])\n"
   ],
   "outputs": []
  },
  {
   "cell_type": "code",
   "execution_count": 24,
   "metadata": {},
   "source": [
    "couple_hp_heater_energy_storage_demand(prosumer, demand, store, hp, heater, ext_grid, data_source)"
   ],
   "outputs": []
  },
  {
   "cell_type": "code",
   "execution_count": 25,
   "metadata": {},
   "source": [
    "run_timeseries(prosumer, per, True)"
   ],
   "outputs": []
  },
  {
   "cell_type": "code",
   "execution_count": 26,
   "metadata": {},
   "source": [
    "prosumer"
   ],
   "outputs": []
  },
  {
   "cell_type": "code",
   "execution_count": 27,
   "metadata": {},
   "source": [
    "prosumer.controller"
   ],
   "outputs": []
  },
  {
   "cell_type": "code",
   "execution_count": 28,
   "metadata": {},
   "source": [
    "prosumer.heat_demand"
   ],
   "outputs": []
  },
  {
   "cell_type": "code",
   "execution_count": 29,
   "metadata": {},
   "source": [
    "prosumer.heat_pump"
   ],
   "outputs": []
  },
  {
   "cell_type": "code",
   "execution_count": 30,
   "metadata": {},
   "source": [
    "prosumer.energy_storage"
   ],
   "outputs": []
  },
  {
   "cell_type": "code",
   "execution_count": 31,
   "metadata": {},
   "source": [
    "prosumer.heater"
   ],
   "outputs": []
  },
  {
   "cell_type": "code",
   "execution_count": 32,
   "metadata": {},
   "source": [
    "prosumer.ext_grid"
   ],
   "outputs": []
  },
  {
   "cell_type": "code",
   "execution_count": 33,
   "metadata": {},
   "source": [
    "prosumer.time_series"
   ],
   "outputs": []
  },
  {
   "cell_type": "code",
   "execution_count": 34,
   "metadata": {},
   "source": [
    "prosumer.time_series.loc[1,'data_source'].df.plot()\n"
   ],
   "outputs": []
  },
  {
   "cell_type": "code",
   "execution_count": 35,
   "metadata": {},
   "source": [
    "prosumer.time_series.loc[2,'data_source'].df.plot()\n"
   ],
   "outputs": []
  },
  {
   "cell_type": "code",
   "execution_count": 36,
   "metadata": {
    "scrolled": true
   },
   "source": [
    "prosumer.time_series.loc[3,'data_source'].df.plot()"
   ],
   "outputs": []
  },
  {
   "cell_type": "code",
   "execution_count": 37,
   "metadata": {},
   "source": [
    "prosumer.time_series.loc[4,'data_source'].df.plot()"
   ],
   "outputs": []
  },
  {
   "cell_type": "code",
   "execution_count": 38,
   "metadata": {},
   "source": [
    "df_heat_pump_profiles = pd.DataFrame(index=dur)\n",
    "df_heat_pump_profiles['p_el_mw'] = prosumer.time_series.loc[2,'data_source'].df.p_el_mw+prosumer.time_series.loc[3,'data_source'].df.p_el_mw"
   ],
   "outputs": []
  },
  {
   "cell_type": "code",
   "execution_count": 39,
   "metadata": {},
   "source": [
    "df_heat_pump_profiles.to_csv('hp_profile_workshop.csv')"
   ],
   "outputs": []
  },
  {
   "cell_type": "code",
   "execution_count": null,
   "metadata": {},
   "source": [],
   "outputs": []
  }
 ],
 "metadata": {
  "anaconda-cloud": {},
  "kernelspec": {
   "display_name": "Python 3 (ipykernel)",
   "language": "python",
   "name": "python3"
  },
  "language_info": {
   "codemirror_mode": {
    "name": "ipython",
    "version": 3
   },
   "file_extension": ".py",
   "mimetype": "text/x-python",
   "name": "python",
   "nbconvert_exporter": "python",
   "pygments_lexer": "ipython3",
   "version": "3.9.13"
  }
 },
 "nbformat": 4,
 "nbformat_minor": 1
}
